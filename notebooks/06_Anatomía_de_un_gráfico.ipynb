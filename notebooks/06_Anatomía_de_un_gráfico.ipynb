{
  "nbformat": 4,
  "nbformat_minor": 0,
  "metadata": {
    "kernelspec": {
      "display_name": "Python 3",
      "language": "python",
      "name": "python3"
    },
    "language_info": {
      "codemirror_mode": {
        "name": "ipython",
        "version": 3
      },
      "file_extension": ".py",
      "mimetype": "text/x-python",
      "name": "python",
      "nbconvert_exporter": "python",
      "pygments_lexer": "ipython3",
      "version": "3.8.5"
    },
    "colab": {
      "name": "06-Anatomía-de-un-gráfico.ipynb",
      "provenance": [],
      "collapsed_sections": [],
      "include_colab_link": true
    }
  },
  "cells": [
    {
      "cell_type": "markdown",
      "metadata": {
        "id": "view-in-github",
        "colab_type": "text"
      },
      "source": [
        "<a href=\"https://colab.research.google.com/github/CodeandoMexico/hacking-civico/blob/master/notebooks/06_Anatom%C3%ADa_de_un_gr%C3%A1fico.ipynb\" target=\"_parent\"><img src=\"https://colab.research.google.com/assets/colab-badge.svg\" alt=\"Open In Colab\"/></a>"
      ]
    },
    {
      "cell_type": "markdown",
      "metadata": {
        "id": "El82TDJjVdGc",
        "colab_type": "text"
      },
      "source": [
        "<p align=\"center\">\n",
        "<img src=\"http://codeandomexico.org/resources/img/codeandomexico.png\" width=\"500\" alt=\"Codeando México\"><br>\n",
        "<a href=\"http://www.codeandomexico.org/\" target=\"_blank\"><img src=\"https://img.shields.io/badge/website-CodeandoMexico-00D88E.svg\"></a>\n",
        "<a href=\"http://slack.codeandomexico.org/\" target=\"_blank\"><img src=\"https://img.shields.io/badge/slack-CodeandoMexico-EC0E4F.svg\"></a>\n",
        "</p>\n",
        "<!-- __ -->\n",
        "\n",
        "# Curso de Datos Abiertos y Hacking Cívico\n",
        "\n",
        "Este curso tiene como objetivo habilitar las capacidades de la ciudadanía y los servidores públicos en el uso y generación de datos abiertos para el bien común. Puedes encontrar más información [aquí](https://github.com/CodeandoMexico/hacking-civico)."
      ]
    },
    {
      "cell_type": "markdown",
      "metadata": {
        "id": "47VZa65uFIsY",
        "colab_type": "text"
      },
      "source": [
        "# Anatomía de un Gráfico\n",
        "\n",
        "Cada gráfico en `altair` es compuesto al describir un **mínimo** de tres elementos:\n",
        "* Datos\n",
        "* Marcadores\n",
        "* Codificaciones\n",
        "\n",
        "***"
      ]
    },
    {
      "cell_type": "markdown",
      "metadata": {
        "id": "QNpQyYEHFIsZ",
        "colab_type": "text"
      },
      "source": [
        "## Datos\n",
        "`Altair` acepta __datasets__ de 3 maneras:\n",
        "* un `DataFrame` de `pandas`\n",
        "* un objeto de clase `Data` de `altair` u objetos relacionados (`InLineData`, `NamedData`, `UrlData`)  \n",
        "* datos en formato `JSON` o `csv` de manera directa o una URL\n",
        "* un objeto con la propiedad `__geo_interface__` (`GeoDataFrame` de geopandas, geometrías de `shapely` y objetos GeoJSON)\n",
        "\n",
        "Nosotros trabajaremos con `DataFrames` de `pandas`. \n",
        "\n",
        "`Pandas` es una de las mejores opciones para trabajar con estructuras de datos en `python`. El nombre `pandas` proviene de __Panel Data__. `pandas` esta basada en `numpy` (de __Numeric Python__) la cual provee estructuras de datos (__arrays__ o _matrices_) las cuales `pandas` utiliza para crear __DataFrames__. Un __DataFrame__ es una estructura de datos en la cual se pueden guardar datos de distintos tipos (cadenas de caractéres (__strings__), __integers__, __floats__, y más) en cada columna. Es similar a una tabla o una planilla de Excel o Google Spreadsheets. \n",
        "\n",
        "Como es una estructura de `python` claro que su índice comienza en 0."
      ]
    },
    {
      "cell_type": "markdown",
      "metadata": {
        "id": "Xqu2EeegFIsc",
        "colab_type": "text"
      },
      "source": [
        "## Marcadores\n",
        "\n",
        "El marcador en un gráfico es la representación visual de tus datos. `Altair` ofrece los siguientes marcadores hasta el momento:\n",
        "\n",
        "| Marcador  | Método          | Descripción                                      | Ejemplo                                   |\n",
        "|-----------|-----------------|--------------------------------------------------|-------------------------------------------|\n",
        "| area      | mark_area()     | Un gráfico de area.                              | [Simple Stacked Area Chart](https://altair-viz.github.io/gallery/simple_stacked_area_chart.html#gallery-simple-stacked-area-chart)|\n",
        "| barra     | mark_bar()      | Un gráfico de barras.                            | [Simple Bar Chart](https://altair-viz.github.io/gallery/simple_bar_chart.html#gallery-simple-bar-chart)|\n",
        "| círculo   | mark_circle()   | Un diagrama de dispersión con círculos rellenos. | [One Dot Per Zipcode](https://altair-viz.github.io/gallery/one_dot_per_zipcode.html#gallery-one-dot-per-zipcode)|\n",
        "|_geofigura_| mark_geoshape() | Una fígura geográfica.                           | [Choropleth Map](https://altair-viz.github.io/gallery/choropleth.html#gallery-choropleth)|\n",
        "| imagen    | mark_image()    | Un gráfico de dispersión con imágenes como marcadores | [Image mark](https://altair-viz.github.io/user_guide/marks.html#user-guide-image-mark) |\n",
        "| línea     | mark_line()     | Un gráfico de líneas.                            | [Simple Line Chart](https://altair-viz.github.io/gallery/simple_line_chart.html#gallery-simple-line-chart)|\n",
        "| punto     | mark_point()    | Un diagrama de dispersión con formas de puntos configurables.   | [Faceted Scatter Plot with Linked Brushing](https://altair-viz.github.io/gallery/scatter_linked_brush.html#gallery-scatter-linked-brush)|\n",
        "| rectángulo| mark_rect()     | Un rectángulo relleno, usado para mapas de calor (_heatmaps_).  | [Simple Heatmap](https://altair-viz.github.io/gallery/simple_heatmap.html#gallery-simple-heatmap)|\n",
        "| regla     | mark_rule()     |Una línea vertical u horizontal que abarca el eje.| [Candlestick Chart](https://altair-viz.github.io/gallery/candlestick_chart.html#gallery-candlestick-chart)|\n",
        "| cuadrado  | mark_square()   | Un diagrama de dispersián con cuadrados.         | N/A                                       |\n",
        "| texto     | mark_text()     | Un diagrama de dispersián con los puntos representados con texto.  | [Simple Bar Chart with Labels](https://altair-viz.github.io/gallery/bar_chart_with_labels.html#gallery-bar-chart-with-labels)|\n",
        "| marca     | mark_tick()     | Una marca o línea horizontal o vertical.         | [Strip Plot](https://altair-viz.github.io/gallery/strip_plot.html#gallery-strip-plot)|"
      ]
    },
    {
      "cell_type": "markdown",
      "metadata": {
        "id": "acgBrNnAFIsd",
        "colab_type": "text"
      },
      "source": [
        "## Codificaciones\n",
        "\n",
        "Un gráfico es una representación visual de tus datos. Es esencial conectar tu información a un elemento visual en el gráfico. En `altair` eso se le conoce como __encode__ o _codificar_ tus datos. Es el proceso de asignar valores (en este caso columnas de tu __DataFrame__) a elementos posicionales (como el eje X o Y) o propiedades de tu marcador (como el color o el tamaño). \n",
        "`Altair` es una biblioteca para crear gráficos altamente configurables asi que simplemente enlistar todas las codificaciones posibles sería una manera muy ineficáz de aprender. La mejor manera de aprender es haciendo."
      ]
    },
    {
      "cell_type": "markdown",
      "metadata": {
        "id": "oOO8WsA4FIsf",
        "colab_type": "text"
      },
      "source": [
        "### Tipos de Datos\n",
        "\n",
        "`altair` hace un buen trabajo deduciendo el tipo de datos con el que estas trabajando al igual que `pandas`. Pero también puedes especificar el tipo de datos en tus gráficos. `Altair` reconoce 4 tipos de datos:\n",
        "\n",
        "| Tipo de datos | Código |                Descripción                | \n",
        "|:-------------:|:------:|:------------------------------------------|\n",
        "| cuantitativo  |   `Q`  | una cantidad continua y de números reales | \n",
        "| ordinal       |   `O`  | una cantidad discreta y ordenada          |\n",
        "| nominal       |   `N`  | una cantidad discreta y desordenada       |\n",
        "| temporal      |   `T`  | un valor de tiempo o fecha                |\n",
        "| geojson       |   `G`  | una _geofigura_ en formato GeoJSON        |\n"
      ]
    },
    {
      "cell_type": "markdown",
      "metadata": {
        "id": "u7PUa1FYFIsh",
        "colab_type": "text"
      },
      "source": [
        "<p style=\"text-align:center;\"><img src=\"https://raw.githubusercontent.com/chekos/altair-nb/master/notebooks/anatomia-de-un-grafico.png\"></p>"
      ]
    },
    {
      "cell_type": "code",
      "metadata": {
        "id": "o9TpvCHwFIsi",
        "colab_type": "code",
        "colab": {}
      },
      "source": [
        "import altair as alt\n",
        "import pandas as pd\n",
        "import seaborn as sns"
      ],
      "execution_count": null,
      "outputs": []
    },
    {
      "cell_type": "code",
      "metadata": {
        "id": "bVQfoTPMFIss",
        "colab_type": "code",
        "colab": {}
      },
      "source": [
        "data = sns.utils.load_dataset('penguins')"
      ],
      "execution_count": null,
      "outputs": []
    },
    {
      "cell_type": "code",
      "metadata": {
        "id": "XIAAa6ZUFIsy",
        "colab_type": "code",
        "colab": {},
        "outputId": "3990e6af-a07e-4295-eeee-f87db3c87da1"
      },
      "source": [
        "data.head()"
      ],
      "execution_count": null,
      "outputs": [
        {
          "output_type": "execute_result",
          "data": {
            "text/html": [
              "<div>\n",
              "<style scoped>\n",
              "    .dataframe tbody tr th:only-of-type {\n",
              "        vertical-align: middle;\n",
              "    }\n",
              "\n",
              "    .dataframe tbody tr th {\n",
              "        vertical-align: top;\n",
              "    }\n",
              "\n",
              "    .dataframe thead th {\n",
              "        text-align: right;\n",
              "    }\n",
              "</style>\n",
              "<table border=\"1\" class=\"dataframe\">\n",
              "  <thead>\n",
              "    <tr style=\"text-align: right;\">\n",
              "      <th></th>\n",
              "      <th>species</th>\n",
              "      <th>island</th>\n",
              "      <th>culmen_length_mm</th>\n",
              "      <th>culmen_depth_mm</th>\n",
              "      <th>flipper_length_mm</th>\n",
              "      <th>body_mass_g</th>\n",
              "      <th>sex</th>\n",
              "    </tr>\n",
              "  </thead>\n",
              "  <tbody>\n",
              "    <tr>\n",
              "      <th>0</th>\n",
              "      <td>Adelie</td>\n",
              "      <td>Torgersen</td>\n",
              "      <td>39.1</td>\n",
              "      <td>18.7</td>\n",
              "      <td>181.0</td>\n",
              "      <td>3750.0</td>\n",
              "      <td>MALE</td>\n",
              "    </tr>\n",
              "    <tr>\n",
              "      <th>1</th>\n",
              "      <td>Adelie</td>\n",
              "      <td>Torgersen</td>\n",
              "      <td>39.5</td>\n",
              "      <td>17.4</td>\n",
              "      <td>186.0</td>\n",
              "      <td>3800.0</td>\n",
              "      <td>FEMALE</td>\n",
              "    </tr>\n",
              "    <tr>\n",
              "      <th>2</th>\n",
              "      <td>Adelie</td>\n",
              "      <td>Torgersen</td>\n",
              "      <td>40.3</td>\n",
              "      <td>18.0</td>\n",
              "      <td>195.0</td>\n",
              "      <td>3250.0</td>\n",
              "      <td>FEMALE</td>\n",
              "    </tr>\n",
              "    <tr>\n",
              "      <th>3</th>\n",
              "      <td>Adelie</td>\n",
              "      <td>Torgersen</td>\n",
              "      <td>NaN</td>\n",
              "      <td>NaN</td>\n",
              "      <td>NaN</td>\n",
              "      <td>NaN</td>\n",
              "      <td>NaN</td>\n",
              "    </tr>\n",
              "    <tr>\n",
              "      <th>4</th>\n",
              "      <td>Adelie</td>\n",
              "      <td>Torgersen</td>\n",
              "      <td>36.7</td>\n",
              "      <td>19.3</td>\n",
              "      <td>193.0</td>\n",
              "      <td>3450.0</td>\n",
              "      <td>FEMALE</td>\n",
              "    </tr>\n",
              "  </tbody>\n",
              "</table>\n",
              "</div>"
            ],
            "text/plain": [
              "  species     island  culmen_length_mm  culmen_depth_mm  flipper_length_mm  \\\n",
              "0  Adelie  Torgersen              39.1             18.7              181.0   \n",
              "1  Adelie  Torgersen              39.5             17.4              186.0   \n",
              "2  Adelie  Torgersen              40.3             18.0              195.0   \n",
              "3  Adelie  Torgersen               NaN              NaN                NaN   \n",
              "4  Adelie  Torgersen              36.7             19.3              193.0   \n",
              "\n",
              "   body_mass_g     sex  \n",
              "0       3750.0    MALE  \n",
              "1       3800.0  FEMALE  \n",
              "2       3250.0  FEMALE  \n",
              "3          NaN     NaN  \n",
              "4       3450.0  FEMALE  "
            ]
          },
          "metadata": {
            "tags": []
          },
          "execution_count": 25
        }
      ]
    },
    {
      "cell_type": "code",
      "metadata": {
        "id": "2fA7Om3vFIs5",
        "colab_type": "code",
        "colab": {},
        "outputId": "043d8a5c-843d-43d8-d69b-9a7326ac2bd4"
      },
      "source": [
        "alt.Chart(data).mark_tick().encode(x=\"culmen_length_mm\", y = \"island\")"
      ],
      "execution_count": null,
      "outputs": [
        {
          "output_type": "execute_result",
          "data": {
            "text/html": [
              "\n",
              "<div id=\"altair-viz-69663ee813af496a96d24bfb46f11a1b\"></div>\n",
              "<script type=\"text/javascript\">\n",
              "  (function(spec, embedOpt){\n",
              "    let outputDiv = document.currentScript.previousElementSibling;\n",
              "    if (outputDiv.id !== \"altair-viz-69663ee813af496a96d24bfb46f11a1b\") {\n",
              "      outputDiv = document.getElementById(\"altair-viz-69663ee813af496a96d24bfb46f11a1b\");\n",
              "    }\n",
              "    const paths = {\n",
              "      \"vega\": \"https://cdn.jsdelivr.net/npm//vega@5?noext\",\n",
              "      \"vega-lib\": \"https://cdn.jsdelivr.net/npm//vega-lib?noext\",\n",
              "      \"vega-lite\": \"https://cdn.jsdelivr.net/npm//vega-lite@4.8.1?noext\",\n",
              "      \"vega-embed\": \"https://cdn.jsdelivr.net/npm//vega-embed@6?noext\",\n",
              "    };\n",
              "\n",
              "    function loadScript(lib) {\n",
              "      return new Promise(function(resolve, reject) {\n",
              "        var s = document.createElement('script');\n",
              "        s.src = paths[lib];\n",
              "        s.async = true;\n",
              "        s.onload = () => resolve(paths[lib]);\n",
              "        s.onerror = () => reject(`Error loading script: ${paths[lib]}`);\n",
              "        document.getElementsByTagName(\"head\")[0].appendChild(s);\n",
              "      });\n",
              "    }\n",
              "\n",
              "    function showError(err) {\n",
              "      outputDiv.innerHTML = `<div class=\"error\" style=\"color:red;\">${err}</div>`;\n",
              "      throw err;\n",
              "    }\n",
              "\n",
              "    function displayChart(vegaEmbed) {\n",
              "      vegaEmbed(outputDiv, spec, embedOpt)\n",
              "        .catch(err => showError(`Javascript Error: ${err.message}<br>This usually means there's a typo in your chart specification. See the javascript console for the full traceback.`));\n",
              "    }\n",
              "\n",
              "    if(typeof define === \"function\" && define.amd) {\n",
              "      requirejs.config({paths});\n",
              "      require([\"vega-embed\"], displayChart, err => showError(`Error loading script: ${err.message}`));\n",
              "    } else if (typeof vegaEmbed === \"function\") {\n",
              "      displayChart(vegaEmbed);\n",
              "    } else {\n",
              "      loadScript(\"vega\")\n",
              "        .then(() => loadScript(\"vega-lite\"))\n",
              "        .then(() => loadScript(\"vega-embed\"))\n",
              "        .catch(showError)\n",
              "        .then(() => displayChart(vegaEmbed));\n",
              "    }\n",
              "  })({\"config\": {\"view\": {\"continuousWidth\": 400, \"continuousHeight\": 300}}, \"data\": {\"name\": \"data-9d6b39cc0fec26cfe745a26361892b99\"}, \"mark\": \"tick\", \"encoding\": {\"x\": {\"type\": \"quantitative\", \"field\": \"culmen_length_mm\"}, \"y\": {\"type\": \"nominal\", \"field\": \"island\"}}, \"$schema\": \"https://vega.github.io/schema/vega-lite/v4.8.1.json\", \"datasets\": {\"data-9d6b39cc0fec26cfe745a26361892b99\": [{\"species\": \"Adelie\", \"island\": \"Torgersen\", \"culmen_length_mm\": 39.1, \"culmen_depth_mm\": 18.7, \"flipper_length_mm\": 181.0, \"body_mass_g\": 3750.0, \"sex\": \"MALE\"}, {\"species\": \"Adelie\", \"island\": \"Torgersen\", \"culmen_length_mm\": 39.5, \"culmen_depth_mm\": 17.4, \"flipper_length_mm\": 186.0, \"body_mass_g\": 3800.0, \"sex\": \"FEMALE\"}, {\"species\": \"Adelie\", \"island\": \"Torgersen\", \"culmen_length_mm\": 40.3, \"culmen_depth_mm\": 18.0, \"flipper_length_mm\": 195.0, \"body_mass_g\": 3250.0, \"sex\": \"FEMALE\"}, {\"species\": \"Adelie\", \"island\": \"Torgersen\", \"culmen_length_mm\": null, \"culmen_depth_mm\": null, \"flipper_length_mm\": null, \"body_mass_g\": null, \"sex\": null}, {\"species\": \"Adelie\", \"island\": \"Torgersen\", \"culmen_length_mm\": 36.7, \"culmen_depth_mm\": 19.3, \"flipper_length_mm\": 193.0, \"body_mass_g\": 3450.0, \"sex\": \"FEMALE\"}, {\"species\": \"Adelie\", \"island\": \"Torgersen\", \"culmen_length_mm\": 39.3, \"culmen_depth_mm\": 20.6, \"flipper_length_mm\": 190.0, \"body_mass_g\": 3650.0, \"sex\": \"MALE\"}, {\"species\": \"Adelie\", \"island\": \"Torgersen\", \"culmen_length_mm\": 38.9, \"culmen_depth_mm\": 17.8, \"flipper_length_mm\": 181.0, \"body_mass_g\": 3625.0, \"sex\": \"FEMALE\"}, {\"species\": \"Adelie\", \"island\": \"Torgersen\", \"culmen_length_mm\": 39.2, \"culmen_depth_mm\": 19.6, \"flipper_length_mm\": 195.0, \"body_mass_g\": 4675.0, \"sex\": \"MALE\"}, {\"species\": \"Adelie\", \"island\": \"Torgersen\", \"culmen_length_mm\": 34.1, \"culmen_depth_mm\": 18.1, \"flipper_length_mm\": 193.0, \"body_mass_g\": 3475.0, \"sex\": null}, {\"species\": \"Adelie\", \"island\": \"Torgersen\", \"culmen_length_mm\": 42.0, \"culmen_depth_mm\": 20.2, \"flipper_length_mm\": 190.0, \"body_mass_g\": 4250.0, \"sex\": null}, {\"species\": \"Adelie\", \"island\": \"Torgersen\", \"culmen_length_mm\": 37.8, \"culmen_depth_mm\": 17.1, \"flipper_length_mm\": 186.0, \"body_mass_g\": 3300.0, \"sex\": null}, {\"species\": \"Adelie\", \"island\": \"Torgersen\", \"culmen_length_mm\": 37.8, \"culmen_depth_mm\": 17.3, \"flipper_length_mm\": 180.0, \"body_mass_g\": 3700.0, \"sex\": null}, {\"species\": \"Adelie\", \"island\": \"Torgersen\", \"culmen_length_mm\": 41.1, \"culmen_depth_mm\": 17.6, \"flipper_length_mm\": 182.0, \"body_mass_g\": 3200.0, \"sex\": \"FEMALE\"}, {\"species\": \"Adelie\", \"island\": \"Torgersen\", \"culmen_length_mm\": 38.6, \"culmen_depth_mm\": 21.2, \"flipper_length_mm\": 191.0, \"body_mass_g\": 3800.0, \"sex\": \"MALE\"}, {\"species\": \"Adelie\", \"island\": \"Torgersen\", \"culmen_length_mm\": 34.6, \"culmen_depth_mm\": 21.1, \"flipper_length_mm\": 198.0, \"body_mass_g\": 4400.0, \"sex\": \"MALE\"}, {\"species\": \"Adelie\", \"island\": \"Torgersen\", \"culmen_length_mm\": 36.6, \"culmen_depth_mm\": 17.8, \"flipper_length_mm\": 185.0, \"body_mass_g\": 3700.0, \"sex\": \"FEMALE\"}, {\"species\": \"Adelie\", \"island\": \"Torgersen\", \"culmen_length_mm\": 38.7, \"culmen_depth_mm\": 19.0, \"flipper_length_mm\": 195.0, \"body_mass_g\": 3450.0, \"sex\": \"FEMALE\"}, {\"species\": \"Adelie\", \"island\": \"Torgersen\", \"culmen_length_mm\": 42.5, \"culmen_depth_mm\": 20.7, \"flipper_length_mm\": 197.0, \"body_mass_g\": 4500.0, \"sex\": \"MALE\"}, {\"species\": \"Adelie\", \"island\": \"Torgersen\", \"culmen_length_mm\": 34.4, \"culmen_depth_mm\": 18.4, \"flipper_length_mm\": 184.0, \"body_mass_g\": 3325.0, \"sex\": \"FEMALE\"}, {\"species\": \"Adelie\", \"island\": \"Torgersen\", \"culmen_length_mm\": 46.0, \"culmen_depth_mm\": 21.5, \"flipper_length_mm\": 194.0, \"body_mass_g\": 4200.0, \"sex\": \"MALE\"}, {\"species\": \"Adelie\", \"island\": \"Biscoe\", \"culmen_length_mm\": 37.8, \"culmen_depth_mm\": 18.3, \"flipper_length_mm\": 174.0, \"body_mass_g\": 3400.0, \"sex\": \"FEMALE\"}, {\"species\": \"Adelie\", \"island\": \"Biscoe\", \"culmen_length_mm\": 37.7, \"culmen_depth_mm\": 18.7, \"flipper_length_mm\": 180.0, \"body_mass_g\": 3600.0, \"sex\": \"MALE\"}, {\"species\": \"Adelie\", \"island\": \"Biscoe\", \"culmen_length_mm\": 35.9, \"culmen_depth_mm\": 19.2, \"flipper_length_mm\": 189.0, \"body_mass_g\": 3800.0, \"sex\": \"FEMALE\"}, {\"species\": \"Adelie\", \"island\": \"Biscoe\", \"culmen_length_mm\": 38.2, \"culmen_depth_mm\": 18.1, \"flipper_length_mm\": 185.0, \"body_mass_g\": 3950.0, \"sex\": \"MALE\"}, {\"species\": \"Adelie\", \"island\": \"Biscoe\", \"culmen_length_mm\": 38.8, \"culmen_depth_mm\": 17.2, \"flipper_length_mm\": 180.0, \"body_mass_g\": 3800.0, \"sex\": \"MALE\"}, {\"species\": \"Adelie\", \"island\": \"Biscoe\", \"culmen_length_mm\": 35.3, \"culmen_depth_mm\": 18.9, \"flipper_length_mm\": 187.0, \"body_mass_g\": 3800.0, \"sex\": \"FEMALE\"}, {\"species\": \"Adelie\", \"island\": \"Biscoe\", \"culmen_length_mm\": 40.6, \"culmen_depth_mm\": 18.6, \"flipper_length_mm\": 183.0, \"body_mass_g\": 3550.0, \"sex\": \"MALE\"}, {\"species\": \"Adelie\", \"island\": \"Biscoe\", \"culmen_length_mm\": 40.5, \"culmen_depth_mm\": 17.9, \"flipper_length_mm\": 187.0, \"body_mass_g\": 3200.0, \"sex\": \"FEMALE\"}, {\"species\": \"Adelie\", \"island\": \"Biscoe\", \"culmen_length_mm\": 37.9, \"culmen_depth_mm\": 18.6, \"flipper_length_mm\": 172.0, \"body_mass_g\": 3150.0, \"sex\": \"FEMALE\"}, {\"species\": \"Adelie\", \"island\": \"Biscoe\", \"culmen_length_mm\": 40.5, \"culmen_depth_mm\": 18.9, \"flipper_length_mm\": 180.0, \"body_mass_g\": 3950.0, \"sex\": \"MALE\"}, {\"species\": \"Adelie\", \"island\": \"Dream\", \"culmen_length_mm\": 39.5, \"culmen_depth_mm\": 16.7, \"flipper_length_mm\": 178.0, \"body_mass_g\": 3250.0, \"sex\": \"FEMALE\"}, {\"species\": \"Adelie\", \"island\": \"Dream\", \"culmen_length_mm\": 37.2, \"culmen_depth_mm\": 18.1, \"flipper_length_mm\": 178.0, \"body_mass_g\": 3900.0, \"sex\": \"MALE\"}, {\"species\": \"Adelie\", \"island\": \"Dream\", \"culmen_length_mm\": 39.5, \"culmen_depth_mm\": 17.8, \"flipper_length_mm\": 188.0, \"body_mass_g\": 3300.0, \"sex\": \"FEMALE\"}, {\"species\": \"Adelie\", \"island\": \"Dream\", \"culmen_length_mm\": 40.9, \"culmen_depth_mm\": 18.9, \"flipper_length_mm\": 184.0, \"body_mass_g\": 3900.0, \"sex\": \"MALE\"}, {\"species\": \"Adelie\", \"island\": \"Dream\", \"culmen_length_mm\": 36.4, \"culmen_depth_mm\": 17.0, \"flipper_length_mm\": 195.0, \"body_mass_g\": 3325.0, \"sex\": \"FEMALE\"}, {\"species\": \"Adelie\", \"island\": \"Dream\", \"culmen_length_mm\": 39.2, \"culmen_depth_mm\": 21.1, \"flipper_length_mm\": 196.0, \"body_mass_g\": 4150.0, \"sex\": \"MALE\"}, {\"species\": \"Adelie\", \"island\": \"Dream\", \"culmen_length_mm\": 38.8, \"culmen_depth_mm\": 20.0, \"flipper_length_mm\": 190.0, \"body_mass_g\": 3950.0, \"sex\": \"MALE\"}, {\"species\": \"Adelie\", \"island\": \"Dream\", \"culmen_length_mm\": 42.2, \"culmen_depth_mm\": 18.5, \"flipper_length_mm\": 180.0, \"body_mass_g\": 3550.0, \"sex\": \"FEMALE\"}, {\"species\": \"Adelie\", \"island\": \"Dream\", \"culmen_length_mm\": 37.6, \"culmen_depth_mm\": 19.3, \"flipper_length_mm\": 181.0, \"body_mass_g\": 3300.0, \"sex\": \"FEMALE\"}, {\"species\": \"Adelie\", \"island\": \"Dream\", \"culmen_length_mm\": 39.8, \"culmen_depth_mm\": 19.1, \"flipper_length_mm\": 184.0, \"body_mass_g\": 4650.0, \"sex\": \"MALE\"}, {\"species\": \"Adelie\", \"island\": \"Dream\", \"culmen_length_mm\": 36.5, \"culmen_depth_mm\": 18.0, \"flipper_length_mm\": 182.0, \"body_mass_g\": 3150.0, \"sex\": \"FEMALE\"}, {\"species\": \"Adelie\", \"island\": \"Dream\", \"culmen_length_mm\": 40.8, \"culmen_depth_mm\": 18.4, \"flipper_length_mm\": 195.0, \"body_mass_g\": 3900.0, \"sex\": \"MALE\"}, {\"species\": \"Adelie\", \"island\": \"Dream\", \"culmen_length_mm\": 36.0, \"culmen_depth_mm\": 18.5, \"flipper_length_mm\": 186.0, \"body_mass_g\": 3100.0, \"sex\": \"FEMALE\"}, {\"species\": \"Adelie\", \"island\": \"Dream\", \"culmen_length_mm\": 44.1, \"culmen_depth_mm\": 19.7, \"flipper_length_mm\": 196.0, \"body_mass_g\": 4400.0, \"sex\": \"MALE\"}, {\"species\": \"Adelie\", \"island\": \"Dream\", \"culmen_length_mm\": 37.0, \"culmen_depth_mm\": 16.9, \"flipper_length_mm\": 185.0, \"body_mass_g\": 3000.0, \"sex\": \"FEMALE\"}, {\"species\": \"Adelie\", \"island\": \"Dream\", \"culmen_length_mm\": 39.6, \"culmen_depth_mm\": 18.8, \"flipper_length_mm\": 190.0, \"body_mass_g\": 4600.0, \"sex\": \"MALE\"}, {\"species\": \"Adelie\", \"island\": \"Dream\", \"culmen_length_mm\": 41.1, \"culmen_depth_mm\": 19.0, \"flipper_length_mm\": 182.0, \"body_mass_g\": 3425.0, \"sex\": \"MALE\"}, {\"species\": \"Adelie\", \"island\": \"Dream\", \"culmen_length_mm\": 37.5, \"culmen_depth_mm\": 18.9, \"flipper_length_mm\": 179.0, \"body_mass_g\": 2975.0, \"sex\": null}, {\"species\": \"Adelie\", \"island\": \"Dream\", \"culmen_length_mm\": 36.0, \"culmen_depth_mm\": 17.9, \"flipper_length_mm\": 190.0, \"body_mass_g\": 3450.0, \"sex\": \"FEMALE\"}, {\"species\": \"Adelie\", \"island\": \"Dream\", \"culmen_length_mm\": 42.3, \"culmen_depth_mm\": 21.2, \"flipper_length_mm\": 191.0, \"body_mass_g\": 4150.0, \"sex\": \"MALE\"}, {\"species\": \"Adelie\", \"island\": \"Biscoe\", \"culmen_length_mm\": 39.6, \"culmen_depth_mm\": 17.7, \"flipper_length_mm\": 186.0, \"body_mass_g\": 3500.0, \"sex\": \"FEMALE\"}, {\"species\": \"Adelie\", \"island\": \"Biscoe\", \"culmen_length_mm\": 40.1, \"culmen_depth_mm\": 18.9, \"flipper_length_mm\": 188.0, \"body_mass_g\": 4300.0, \"sex\": \"MALE\"}, {\"species\": \"Adelie\", \"island\": \"Biscoe\", \"culmen_length_mm\": 35.0, \"culmen_depth_mm\": 17.9, \"flipper_length_mm\": 190.0, \"body_mass_g\": 3450.0, \"sex\": \"FEMALE\"}, {\"species\": \"Adelie\", \"island\": \"Biscoe\", \"culmen_length_mm\": 42.0, \"culmen_depth_mm\": 19.5, \"flipper_length_mm\": 200.0, \"body_mass_g\": 4050.0, \"sex\": \"MALE\"}, {\"species\": \"Adelie\", \"island\": \"Biscoe\", \"culmen_length_mm\": 34.5, \"culmen_depth_mm\": 18.1, \"flipper_length_mm\": 187.0, \"body_mass_g\": 2900.0, \"sex\": \"FEMALE\"}, {\"species\": \"Adelie\", \"island\": \"Biscoe\", \"culmen_length_mm\": 41.4, \"culmen_depth_mm\": 18.6, \"flipper_length_mm\": 191.0, \"body_mass_g\": 3700.0, \"sex\": \"MALE\"}, {\"species\": \"Adelie\", \"island\": \"Biscoe\", \"culmen_length_mm\": 39.0, \"culmen_depth_mm\": 17.5, \"flipper_length_mm\": 186.0, \"body_mass_g\": 3550.0, \"sex\": \"FEMALE\"}, {\"species\": \"Adelie\", \"island\": \"Biscoe\", \"culmen_length_mm\": 40.6, \"culmen_depth_mm\": 18.8, \"flipper_length_mm\": 193.0, \"body_mass_g\": 3800.0, \"sex\": \"MALE\"}, {\"species\": \"Adelie\", \"island\": \"Biscoe\", \"culmen_length_mm\": 36.5, \"culmen_depth_mm\": 16.6, \"flipper_length_mm\": 181.0, \"body_mass_g\": 2850.0, \"sex\": \"FEMALE\"}, {\"species\": \"Adelie\", \"island\": \"Biscoe\", \"culmen_length_mm\": 37.6, \"culmen_depth_mm\": 19.1, \"flipper_length_mm\": 194.0, \"body_mass_g\": 3750.0, \"sex\": \"MALE\"}, {\"species\": \"Adelie\", \"island\": \"Biscoe\", \"culmen_length_mm\": 35.7, \"culmen_depth_mm\": 16.9, \"flipper_length_mm\": 185.0, \"body_mass_g\": 3150.0, \"sex\": \"FEMALE\"}, {\"species\": \"Adelie\", \"island\": \"Biscoe\", \"culmen_length_mm\": 41.3, \"culmen_depth_mm\": 21.1, \"flipper_length_mm\": 195.0, \"body_mass_g\": 4400.0, \"sex\": \"MALE\"}, {\"species\": \"Adelie\", \"island\": \"Biscoe\", \"culmen_length_mm\": 37.6, \"culmen_depth_mm\": 17.0, \"flipper_length_mm\": 185.0, \"body_mass_g\": 3600.0, \"sex\": \"FEMALE\"}, {\"species\": \"Adelie\", \"island\": \"Biscoe\", \"culmen_length_mm\": 41.1, \"culmen_depth_mm\": 18.2, \"flipper_length_mm\": 192.0, \"body_mass_g\": 4050.0, \"sex\": \"MALE\"}, {\"species\": \"Adelie\", \"island\": \"Biscoe\", \"culmen_length_mm\": 36.4, \"culmen_depth_mm\": 17.1, \"flipper_length_mm\": 184.0, \"body_mass_g\": 2850.0, \"sex\": \"FEMALE\"}, {\"species\": \"Adelie\", \"island\": \"Biscoe\", \"culmen_length_mm\": 41.6, \"culmen_depth_mm\": 18.0, \"flipper_length_mm\": 192.0, \"body_mass_g\": 3950.0, \"sex\": \"MALE\"}, {\"species\": \"Adelie\", \"island\": \"Biscoe\", \"culmen_length_mm\": 35.5, \"culmen_depth_mm\": 16.2, \"flipper_length_mm\": 195.0, \"body_mass_g\": 3350.0, \"sex\": \"FEMALE\"}, {\"species\": \"Adelie\", \"island\": \"Biscoe\", \"culmen_length_mm\": 41.1, \"culmen_depth_mm\": 19.1, \"flipper_length_mm\": 188.0, \"body_mass_g\": 4100.0, \"sex\": \"MALE\"}, {\"species\": \"Adelie\", \"island\": \"Torgersen\", \"culmen_length_mm\": 35.9, \"culmen_depth_mm\": 16.6, \"flipper_length_mm\": 190.0, \"body_mass_g\": 3050.0, \"sex\": \"FEMALE\"}, {\"species\": \"Adelie\", \"island\": \"Torgersen\", \"culmen_length_mm\": 41.8, \"culmen_depth_mm\": 19.4, \"flipper_length_mm\": 198.0, \"body_mass_g\": 4450.0, \"sex\": \"MALE\"}, {\"species\": \"Adelie\", \"island\": \"Torgersen\", \"culmen_length_mm\": 33.5, \"culmen_depth_mm\": 19.0, \"flipper_length_mm\": 190.0, \"body_mass_g\": 3600.0, \"sex\": \"FEMALE\"}, {\"species\": \"Adelie\", \"island\": \"Torgersen\", \"culmen_length_mm\": 39.7, \"culmen_depth_mm\": 18.4, \"flipper_length_mm\": 190.0, \"body_mass_g\": 3900.0, \"sex\": \"MALE\"}, {\"species\": \"Adelie\", \"island\": \"Torgersen\", \"culmen_length_mm\": 39.6, \"culmen_depth_mm\": 17.2, \"flipper_length_mm\": 196.0, \"body_mass_g\": 3550.0, \"sex\": \"FEMALE\"}, {\"species\": \"Adelie\", \"island\": \"Torgersen\", \"culmen_length_mm\": 45.8, \"culmen_depth_mm\": 18.9, \"flipper_length_mm\": 197.0, \"body_mass_g\": 4150.0, \"sex\": \"MALE\"}, {\"species\": \"Adelie\", \"island\": \"Torgersen\", \"culmen_length_mm\": 35.5, \"culmen_depth_mm\": 17.5, \"flipper_length_mm\": 190.0, \"body_mass_g\": 3700.0, \"sex\": \"FEMALE\"}, {\"species\": \"Adelie\", \"island\": \"Torgersen\", \"culmen_length_mm\": 42.8, \"culmen_depth_mm\": 18.5, \"flipper_length_mm\": 195.0, \"body_mass_g\": 4250.0, \"sex\": \"MALE\"}, {\"species\": \"Adelie\", \"island\": \"Torgersen\", \"culmen_length_mm\": 40.9, \"culmen_depth_mm\": 16.8, \"flipper_length_mm\": 191.0, \"body_mass_g\": 3700.0, \"sex\": \"FEMALE\"}, {\"species\": \"Adelie\", \"island\": \"Torgersen\", \"culmen_length_mm\": 37.2, \"culmen_depth_mm\": 19.4, \"flipper_length_mm\": 184.0, \"body_mass_g\": 3900.0, \"sex\": \"MALE\"}, {\"species\": \"Adelie\", \"island\": \"Torgersen\", \"culmen_length_mm\": 36.2, \"culmen_depth_mm\": 16.1, \"flipper_length_mm\": 187.0, \"body_mass_g\": 3550.0, \"sex\": \"FEMALE\"}, {\"species\": \"Adelie\", \"island\": \"Torgersen\", \"culmen_length_mm\": 42.1, \"culmen_depth_mm\": 19.1, \"flipper_length_mm\": 195.0, \"body_mass_g\": 4000.0, \"sex\": \"MALE\"}, {\"species\": \"Adelie\", \"island\": \"Torgersen\", \"culmen_length_mm\": 34.6, \"culmen_depth_mm\": 17.2, \"flipper_length_mm\": 189.0, \"body_mass_g\": 3200.0, \"sex\": \"FEMALE\"}, {\"species\": \"Adelie\", \"island\": \"Torgersen\", \"culmen_length_mm\": 42.9, \"culmen_depth_mm\": 17.6, \"flipper_length_mm\": 196.0, \"body_mass_g\": 4700.0, \"sex\": \"MALE\"}, {\"species\": \"Adelie\", \"island\": \"Torgersen\", \"culmen_length_mm\": 36.7, \"culmen_depth_mm\": 18.8, \"flipper_length_mm\": 187.0, \"body_mass_g\": 3800.0, \"sex\": \"FEMALE\"}, {\"species\": \"Adelie\", \"island\": \"Torgersen\", \"culmen_length_mm\": 35.1, \"culmen_depth_mm\": 19.4, \"flipper_length_mm\": 193.0, \"body_mass_g\": 4200.0, \"sex\": \"MALE\"}, {\"species\": \"Adelie\", \"island\": \"Dream\", \"culmen_length_mm\": 37.3, \"culmen_depth_mm\": 17.8, \"flipper_length_mm\": 191.0, \"body_mass_g\": 3350.0, \"sex\": \"FEMALE\"}, {\"species\": \"Adelie\", \"island\": \"Dream\", \"culmen_length_mm\": 41.3, \"culmen_depth_mm\": 20.3, \"flipper_length_mm\": 194.0, \"body_mass_g\": 3550.0, \"sex\": \"MALE\"}, {\"species\": \"Adelie\", \"island\": \"Dream\", \"culmen_length_mm\": 36.3, \"culmen_depth_mm\": 19.5, \"flipper_length_mm\": 190.0, \"body_mass_g\": 3800.0, \"sex\": \"MALE\"}, {\"species\": \"Adelie\", \"island\": \"Dream\", \"culmen_length_mm\": 36.9, \"culmen_depth_mm\": 18.6, \"flipper_length_mm\": 189.0, \"body_mass_g\": 3500.0, \"sex\": \"FEMALE\"}, {\"species\": \"Adelie\", \"island\": \"Dream\", \"culmen_length_mm\": 38.3, \"culmen_depth_mm\": 19.2, \"flipper_length_mm\": 189.0, \"body_mass_g\": 3950.0, \"sex\": \"MALE\"}, {\"species\": \"Adelie\", \"island\": \"Dream\", \"culmen_length_mm\": 38.9, \"culmen_depth_mm\": 18.8, \"flipper_length_mm\": 190.0, \"body_mass_g\": 3600.0, \"sex\": \"FEMALE\"}, {\"species\": \"Adelie\", \"island\": \"Dream\", \"culmen_length_mm\": 35.7, \"culmen_depth_mm\": 18.0, \"flipper_length_mm\": 202.0, \"body_mass_g\": 3550.0, \"sex\": \"FEMALE\"}, {\"species\": \"Adelie\", \"island\": \"Dream\", \"culmen_length_mm\": 41.1, \"culmen_depth_mm\": 18.1, \"flipper_length_mm\": 205.0, \"body_mass_g\": 4300.0, \"sex\": \"MALE\"}, {\"species\": \"Adelie\", \"island\": \"Dream\", \"culmen_length_mm\": 34.0, \"culmen_depth_mm\": 17.1, \"flipper_length_mm\": 185.0, \"body_mass_g\": 3400.0, \"sex\": \"FEMALE\"}, {\"species\": \"Adelie\", \"island\": \"Dream\", \"culmen_length_mm\": 39.6, \"culmen_depth_mm\": 18.1, \"flipper_length_mm\": 186.0, \"body_mass_g\": 4450.0, \"sex\": \"MALE\"}, {\"species\": \"Adelie\", \"island\": \"Dream\", \"culmen_length_mm\": 36.2, \"culmen_depth_mm\": 17.3, \"flipper_length_mm\": 187.0, \"body_mass_g\": 3300.0, \"sex\": \"FEMALE\"}, {\"species\": \"Adelie\", \"island\": \"Dream\", \"culmen_length_mm\": 40.8, \"culmen_depth_mm\": 18.9, \"flipper_length_mm\": 208.0, \"body_mass_g\": 4300.0, \"sex\": \"MALE\"}, {\"species\": \"Adelie\", \"island\": \"Dream\", \"culmen_length_mm\": 38.1, \"culmen_depth_mm\": 18.6, \"flipper_length_mm\": 190.0, \"body_mass_g\": 3700.0, \"sex\": \"FEMALE\"}, {\"species\": \"Adelie\", \"island\": \"Dream\", \"culmen_length_mm\": 40.3, \"culmen_depth_mm\": 18.5, \"flipper_length_mm\": 196.0, \"body_mass_g\": 4350.0, \"sex\": \"MALE\"}, {\"species\": \"Adelie\", \"island\": \"Dream\", \"culmen_length_mm\": 33.1, \"culmen_depth_mm\": 16.1, \"flipper_length_mm\": 178.0, \"body_mass_g\": 2900.0, \"sex\": \"FEMALE\"}, {\"species\": \"Adelie\", \"island\": \"Dream\", \"culmen_length_mm\": 43.2, \"culmen_depth_mm\": 18.5, \"flipper_length_mm\": 192.0, \"body_mass_g\": 4100.0, \"sex\": \"MALE\"}, {\"species\": \"Adelie\", \"island\": \"Biscoe\", \"culmen_length_mm\": 35.0, \"culmen_depth_mm\": 17.9, \"flipper_length_mm\": 192.0, \"body_mass_g\": 3725.0, \"sex\": \"FEMALE\"}, {\"species\": \"Adelie\", \"island\": \"Biscoe\", \"culmen_length_mm\": 41.0, \"culmen_depth_mm\": 20.0, \"flipper_length_mm\": 203.0, \"body_mass_g\": 4725.0, \"sex\": \"MALE\"}, {\"species\": \"Adelie\", \"island\": \"Biscoe\", \"culmen_length_mm\": 37.7, \"culmen_depth_mm\": 16.0, \"flipper_length_mm\": 183.0, \"body_mass_g\": 3075.0, \"sex\": \"FEMALE\"}, {\"species\": \"Adelie\", \"island\": \"Biscoe\", \"culmen_length_mm\": 37.8, \"culmen_depth_mm\": 20.0, \"flipper_length_mm\": 190.0, \"body_mass_g\": 4250.0, \"sex\": \"MALE\"}, {\"species\": \"Adelie\", \"island\": \"Biscoe\", \"culmen_length_mm\": 37.9, \"culmen_depth_mm\": 18.6, \"flipper_length_mm\": 193.0, \"body_mass_g\": 2925.0, \"sex\": \"FEMALE\"}, {\"species\": \"Adelie\", \"island\": \"Biscoe\", \"culmen_length_mm\": 39.7, \"culmen_depth_mm\": 18.9, \"flipper_length_mm\": 184.0, \"body_mass_g\": 3550.0, \"sex\": \"MALE\"}, {\"species\": \"Adelie\", \"island\": \"Biscoe\", \"culmen_length_mm\": 38.6, \"culmen_depth_mm\": 17.2, \"flipper_length_mm\": 199.0, \"body_mass_g\": 3750.0, \"sex\": \"FEMALE\"}, {\"species\": \"Adelie\", \"island\": \"Biscoe\", \"culmen_length_mm\": 38.2, \"culmen_depth_mm\": 20.0, \"flipper_length_mm\": 190.0, \"body_mass_g\": 3900.0, \"sex\": \"MALE\"}, {\"species\": \"Adelie\", \"island\": \"Biscoe\", \"culmen_length_mm\": 38.1, \"culmen_depth_mm\": 17.0, \"flipper_length_mm\": 181.0, \"body_mass_g\": 3175.0, \"sex\": \"FEMALE\"}, {\"species\": \"Adelie\", \"island\": \"Biscoe\", \"culmen_length_mm\": 43.2, \"culmen_depth_mm\": 19.0, \"flipper_length_mm\": 197.0, \"body_mass_g\": 4775.0, \"sex\": \"MALE\"}, {\"species\": \"Adelie\", \"island\": \"Biscoe\", \"culmen_length_mm\": 38.1, \"culmen_depth_mm\": 16.5, \"flipper_length_mm\": 198.0, \"body_mass_g\": 3825.0, \"sex\": \"FEMALE\"}, {\"species\": \"Adelie\", \"island\": \"Biscoe\", \"culmen_length_mm\": 45.6, \"culmen_depth_mm\": 20.3, \"flipper_length_mm\": 191.0, \"body_mass_g\": 4600.0, \"sex\": \"MALE\"}, {\"species\": \"Adelie\", \"island\": \"Biscoe\", \"culmen_length_mm\": 39.7, \"culmen_depth_mm\": 17.7, \"flipper_length_mm\": 193.0, \"body_mass_g\": 3200.0, \"sex\": \"FEMALE\"}, {\"species\": \"Adelie\", \"island\": \"Biscoe\", \"culmen_length_mm\": 42.2, \"culmen_depth_mm\": 19.5, \"flipper_length_mm\": 197.0, \"body_mass_g\": 4275.0, \"sex\": \"MALE\"}, {\"species\": \"Adelie\", \"island\": \"Biscoe\", \"culmen_length_mm\": 39.6, \"culmen_depth_mm\": 20.7, \"flipper_length_mm\": 191.0, \"body_mass_g\": 3900.0, \"sex\": \"FEMALE\"}, {\"species\": \"Adelie\", \"island\": \"Biscoe\", \"culmen_length_mm\": 42.7, \"culmen_depth_mm\": 18.3, \"flipper_length_mm\": 196.0, \"body_mass_g\": 4075.0, \"sex\": \"MALE\"}, {\"species\": \"Adelie\", \"island\": \"Torgersen\", \"culmen_length_mm\": 38.6, \"culmen_depth_mm\": 17.0, \"flipper_length_mm\": 188.0, \"body_mass_g\": 2900.0, \"sex\": \"FEMALE\"}, {\"species\": \"Adelie\", \"island\": \"Torgersen\", \"culmen_length_mm\": 37.3, \"culmen_depth_mm\": 20.5, \"flipper_length_mm\": 199.0, \"body_mass_g\": 3775.0, \"sex\": \"MALE\"}, {\"species\": \"Adelie\", \"island\": \"Torgersen\", \"culmen_length_mm\": 35.7, \"culmen_depth_mm\": 17.0, \"flipper_length_mm\": 189.0, \"body_mass_g\": 3350.0, \"sex\": \"FEMALE\"}, {\"species\": \"Adelie\", \"island\": \"Torgersen\", \"culmen_length_mm\": 41.1, \"culmen_depth_mm\": 18.6, \"flipper_length_mm\": 189.0, \"body_mass_g\": 3325.0, \"sex\": \"MALE\"}, {\"species\": \"Adelie\", \"island\": \"Torgersen\", \"culmen_length_mm\": 36.2, \"culmen_depth_mm\": 17.2, \"flipper_length_mm\": 187.0, \"body_mass_g\": 3150.0, \"sex\": \"FEMALE\"}, {\"species\": \"Adelie\", \"island\": \"Torgersen\", \"culmen_length_mm\": 37.7, \"culmen_depth_mm\": 19.8, \"flipper_length_mm\": 198.0, \"body_mass_g\": 3500.0, \"sex\": \"MALE\"}, {\"species\": \"Adelie\", \"island\": \"Torgersen\", \"culmen_length_mm\": 40.2, \"culmen_depth_mm\": 17.0, \"flipper_length_mm\": 176.0, \"body_mass_g\": 3450.0, \"sex\": \"FEMALE\"}, {\"species\": \"Adelie\", \"island\": \"Torgersen\", \"culmen_length_mm\": 41.4, \"culmen_depth_mm\": 18.5, \"flipper_length_mm\": 202.0, \"body_mass_g\": 3875.0, \"sex\": \"MALE\"}, {\"species\": \"Adelie\", \"island\": \"Torgersen\", \"culmen_length_mm\": 35.2, \"culmen_depth_mm\": 15.9, \"flipper_length_mm\": 186.0, \"body_mass_g\": 3050.0, \"sex\": \"FEMALE\"}, {\"species\": \"Adelie\", \"island\": \"Torgersen\", \"culmen_length_mm\": 40.6, \"culmen_depth_mm\": 19.0, \"flipper_length_mm\": 199.0, \"body_mass_g\": 4000.0, \"sex\": \"MALE\"}, {\"species\": \"Adelie\", \"island\": \"Torgersen\", \"culmen_length_mm\": 38.8, \"culmen_depth_mm\": 17.6, \"flipper_length_mm\": 191.0, \"body_mass_g\": 3275.0, \"sex\": \"FEMALE\"}, {\"species\": \"Adelie\", \"island\": \"Torgersen\", \"culmen_length_mm\": 41.5, \"culmen_depth_mm\": 18.3, \"flipper_length_mm\": 195.0, \"body_mass_g\": 4300.0, \"sex\": \"MALE\"}, {\"species\": \"Adelie\", \"island\": \"Torgersen\", \"culmen_length_mm\": 39.0, \"culmen_depth_mm\": 17.1, \"flipper_length_mm\": 191.0, \"body_mass_g\": 3050.0, \"sex\": \"FEMALE\"}, {\"species\": \"Adelie\", \"island\": \"Torgersen\", \"culmen_length_mm\": 44.1, \"culmen_depth_mm\": 18.0, \"flipper_length_mm\": 210.0, \"body_mass_g\": 4000.0, \"sex\": \"MALE\"}, {\"species\": \"Adelie\", \"island\": \"Torgersen\", \"culmen_length_mm\": 38.5, \"culmen_depth_mm\": 17.9, \"flipper_length_mm\": 190.0, \"body_mass_g\": 3325.0, \"sex\": \"FEMALE\"}, {\"species\": \"Adelie\", \"island\": \"Torgersen\", \"culmen_length_mm\": 43.1, \"culmen_depth_mm\": 19.2, \"flipper_length_mm\": 197.0, \"body_mass_g\": 3500.0, \"sex\": \"MALE\"}, {\"species\": \"Adelie\", \"island\": \"Dream\", \"culmen_length_mm\": 36.8, \"culmen_depth_mm\": 18.5, \"flipper_length_mm\": 193.0, \"body_mass_g\": 3500.0, \"sex\": \"FEMALE\"}, {\"species\": \"Adelie\", \"island\": \"Dream\", \"culmen_length_mm\": 37.5, \"culmen_depth_mm\": 18.5, \"flipper_length_mm\": 199.0, \"body_mass_g\": 4475.0, \"sex\": \"MALE\"}, {\"species\": \"Adelie\", \"island\": \"Dream\", \"culmen_length_mm\": 38.1, \"culmen_depth_mm\": 17.6, \"flipper_length_mm\": 187.0, \"body_mass_g\": 3425.0, \"sex\": \"FEMALE\"}, {\"species\": \"Adelie\", \"island\": \"Dream\", \"culmen_length_mm\": 41.1, \"culmen_depth_mm\": 17.5, \"flipper_length_mm\": 190.0, \"body_mass_g\": 3900.0, \"sex\": \"MALE\"}, {\"species\": \"Adelie\", \"island\": \"Dream\", \"culmen_length_mm\": 35.6, \"culmen_depth_mm\": 17.5, \"flipper_length_mm\": 191.0, \"body_mass_g\": 3175.0, \"sex\": \"FEMALE\"}, {\"species\": \"Adelie\", \"island\": \"Dream\", \"culmen_length_mm\": 40.2, \"culmen_depth_mm\": 20.1, \"flipper_length_mm\": 200.0, \"body_mass_g\": 3975.0, \"sex\": \"MALE\"}, {\"species\": \"Adelie\", \"island\": \"Dream\", \"culmen_length_mm\": 37.0, \"culmen_depth_mm\": 16.5, \"flipper_length_mm\": 185.0, \"body_mass_g\": 3400.0, \"sex\": \"FEMALE\"}, {\"species\": \"Adelie\", \"island\": \"Dream\", \"culmen_length_mm\": 39.7, \"culmen_depth_mm\": 17.9, \"flipper_length_mm\": 193.0, \"body_mass_g\": 4250.0, \"sex\": \"MALE\"}, {\"species\": \"Adelie\", \"island\": \"Dream\", \"culmen_length_mm\": 40.2, \"culmen_depth_mm\": 17.1, \"flipper_length_mm\": 193.0, \"body_mass_g\": 3400.0, \"sex\": \"FEMALE\"}, {\"species\": \"Adelie\", \"island\": \"Dream\", \"culmen_length_mm\": 40.6, \"culmen_depth_mm\": 17.2, \"flipper_length_mm\": 187.0, \"body_mass_g\": 3475.0, \"sex\": \"MALE\"}, {\"species\": \"Adelie\", \"island\": \"Dream\", \"culmen_length_mm\": 32.1, \"culmen_depth_mm\": 15.5, \"flipper_length_mm\": 188.0, \"body_mass_g\": 3050.0, \"sex\": \"FEMALE\"}, {\"species\": \"Adelie\", \"island\": \"Dream\", \"culmen_length_mm\": 40.7, \"culmen_depth_mm\": 17.0, \"flipper_length_mm\": 190.0, \"body_mass_g\": 3725.0, \"sex\": \"MALE\"}, {\"species\": \"Adelie\", \"island\": \"Dream\", \"culmen_length_mm\": 37.3, \"culmen_depth_mm\": 16.8, \"flipper_length_mm\": 192.0, \"body_mass_g\": 3000.0, \"sex\": \"FEMALE\"}, {\"species\": \"Adelie\", \"island\": \"Dream\", \"culmen_length_mm\": 39.0, \"culmen_depth_mm\": 18.7, \"flipper_length_mm\": 185.0, \"body_mass_g\": 3650.0, \"sex\": \"MALE\"}, {\"species\": \"Adelie\", \"island\": \"Dream\", \"culmen_length_mm\": 39.2, \"culmen_depth_mm\": 18.6, \"flipper_length_mm\": 190.0, \"body_mass_g\": 4250.0, \"sex\": \"MALE\"}, {\"species\": \"Adelie\", \"island\": \"Dream\", \"culmen_length_mm\": 36.6, \"culmen_depth_mm\": 18.4, \"flipper_length_mm\": 184.0, \"body_mass_g\": 3475.0, \"sex\": \"FEMALE\"}, {\"species\": \"Adelie\", \"island\": \"Dream\", \"culmen_length_mm\": 36.0, \"culmen_depth_mm\": 17.8, \"flipper_length_mm\": 195.0, \"body_mass_g\": 3450.0, \"sex\": \"FEMALE\"}, {\"species\": \"Adelie\", \"island\": \"Dream\", \"culmen_length_mm\": 37.8, \"culmen_depth_mm\": 18.1, \"flipper_length_mm\": 193.0, \"body_mass_g\": 3750.0, \"sex\": \"MALE\"}, {\"species\": \"Adelie\", \"island\": \"Dream\", \"culmen_length_mm\": 36.0, \"culmen_depth_mm\": 17.1, \"flipper_length_mm\": 187.0, \"body_mass_g\": 3700.0, \"sex\": \"FEMALE\"}, {\"species\": \"Adelie\", \"island\": \"Dream\", \"culmen_length_mm\": 41.5, \"culmen_depth_mm\": 18.5, \"flipper_length_mm\": 201.0, \"body_mass_g\": 4000.0, \"sex\": \"MALE\"}, {\"species\": \"Chinstrap\", \"island\": \"Dream\", \"culmen_length_mm\": 46.5, \"culmen_depth_mm\": 17.9, \"flipper_length_mm\": 192.0, \"body_mass_g\": 3500.0, \"sex\": \"FEMALE\"}, {\"species\": \"Chinstrap\", \"island\": \"Dream\", \"culmen_length_mm\": 50.0, \"culmen_depth_mm\": 19.5, \"flipper_length_mm\": 196.0, \"body_mass_g\": 3900.0, \"sex\": \"MALE\"}, {\"species\": \"Chinstrap\", \"island\": \"Dream\", \"culmen_length_mm\": 51.3, \"culmen_depth_mm\": 19.2, \"flipper_length_mm\": 193.0, \"body_mass_g\": 3650.0, \"sex\": \"MALE\"}, {\"species\": \"Chinstrap\", \"island\": \"Dream\", \"culmen_length_mm\": 45.4, \"culmen_depth_mm\": 18.7, \"flipper_length_mm\": 188.0, \"body_mass_g\": 3525.0, \"sex\": \"FEMALE\"}, {\"species\": \"Chinstrap\", \"island\": \"Dream\", \"culmen_length_mm\": 52.7, \"culmen_depth_mm\": 19.8, \"flipper_length_mm\": 197.0, \"body_mass_g\": 3725.0, \"sex\": \"MALE\"}, {\"species\": \"Chinstrap\", \"island\": \"Dream\", \"culmen_length_mm\": 45.2, \"culmen_depth_mm\": 17.8, \"flipper_length_mm\": 198.0, \"body_mass_g\": 3950.0, \"sex\": \"FEMALE\"}, {\"species\": \"Chinstrap\", \"island\": \"Dream\", \"culmen_length_mm\": 46.1, \"culmen_depth_mm\": 18.2, \"flipper_length_mm\": 178.0, \"body_mass_g\": 3250.0, \"sex\": \"FEMALE\"}, {\"species\": \"Chinstrap\", \"island\": \"Dream\", \"culmen_length_mm\": 51.3, \"culmen_depth_mm\": 18.2, \"flipper_length_mm\": 197.0, \"body_mass_g\": 3750.0, \"sex\": \"MALE\"}, {\"species\": \"Chinstrap\", \"island\": \"Dream\", \"culmen_length_mm\": 46.0, \"culmen_depth_mm\": 18.9, \"flipper_length_mm\": 195.0, \"body_mass_g\": 4150.0, \"sex\": \"FEMALE\"}, {\"species\": \"Chinstrap\", \"island\": \"Dream\", \"culmen_length_mm\": 51.3, \"culmen_depth_mm\": 19.9, \"flipper_length_mm\": 198.0, \"body_mass_g\": 3700.0, \"sex\": \"MALE\"}, {\"species\": \"Chinstrap\", \"island\": \"Dream\", \"culmen_length_mm\": 46.6, \"culmen_depth_mm\": 17.8, \"flipper_length_mm\": 193.0, \"body_mass_g\": 3800.0, \"sex\": \"FEMALE\"}, {\"species\": \"Chinstrap\", \"island\": \"Dream\", \"culmen_length_mm\": 51.7, \"culmen_depth_mm\": 20.3, \"flipper_length_mm\": 194.0, \"body_mass_g\": 3775.0, \"sex\": \"MALE\"}, {\"species\": \"Chinstrap\", \"island\": \"Dream\", \"culmen_length_mm\": 47.0, \"culmen_depth_mm\": 17.3, \"flipper_length_mm\": 185.0, \"body_mass_g\": 3700.0, \"sex\": \"FEMALE\"}, {\"species\": \"Chinstrap\", \"island\": \"Dream\", \"culmen_length_mm\": 52.0, \"culmen_depth_mm\": 18.1, \"flipper_length_mm\": 201.0, \"body_mass_g\": 4050.0, \"sex\": \"MALE\"}, {\"species\": \"Chinstrap\", \"island\": \"Dream\", \"culmen_length_mm\": 45.9, \"culmen_depth_mm\": 17.1, \"flipper_length_mm\": 190.0, \"body_mass_g\": 3575.0, \"sex\": \"FEMALE\"}, {\"species\": \"Chinstrap\", \"island\": \"Dream\", \"culmen_length_mm\": 50.5, \"culmen_depth_mm\": 19.6, \"flipper_length_mm\": 201.0, \"body_mass_g\": 4050.0, \"sex\": \"MALE\"}, {\"species\": \"Chinstrap\", \"island\": \"Dream\", \"culmen_length_mm\": 50.3, \"culmen_depth_mm\": 20.0, \"flipper_length_mm\": 197.0, \"body_mass_g\": 3300.0, \"sex\": \"MALE\"}, {\"species\": \"Chinstrap\", \"island\": \"Dream\", \"culmen_length_mm\": 58.0, \"culmen_depth_mm\": 17.8, \"flipper_length_mm\": 181.0, \"body_mass_g\": 3700.0, \"sex\": \"FEMALE\"}, {\"species\": \"Chinstrap\", \"island\": \"Dream\", \"culmen_length_mm\": 46.4, \"culmen_depth_mm\": 18.6, \"flipper_length_mm\": 190.0, \"body_mass_g\": 3450.0, \"sex\": \"FEMALE\"}, {\"species\": \"Chinstrap\", \"island\": \"Dream\", \"culmen_length_mm\": 49.2, \"culmen_depth_mm\": 18.2, \"flipper_length_mm\": 195.0, \"body_mass_g\": 4400.0, \"sex\": \"MALE\"}, {\"species\": \"Chinstrap\", \"island\": \"Dream\", \"culmen_length_mm\": 42.4, \"culmen_depth_mm\": 17.3, \"flipper_length_mm\": 181.0, \"body_mass_g\": 3600.0, \"sex\": \"FEMALE\"}, {\"species\": \"Chinstrap\", \"island\": \"Dream\", \"culmen_length_mm\": 48.5, \"culmen_depth_mm\": 17.5, \"flipper_length_mm\": 191.0, \"body_mass_g\": 3400.0, \"sex\": \"MALE\"}, {\"species\": \"Chinstrap\", \"island\": \"Dream\", \"culmen_length_mm\": 43.2, \"culmen_depth_mm\": 16.6, \"flipper_length_mm\": 187.0, \"body_mass_g\": 2900.0, \"sex\": \"FEMALE\"}, {\"species\": \"Chinstrap\", \"island\": \"Dream\", \"culmen_length_mm\": 50.6, \"culmen_depth_mm\": 19.4, \"flipper_length_mm\": 193.0, \"body_mass_g\": 3800.0, \"sex\": \"MALE\"}, {\"species\": \"Chinstrap\", \"island\": \"Dream\", \"culmen_length_mm\": 46.7, \"culmen_depth_mm\": 17.9, \"flipper_length_mm\": 195.0, \"body_mass_g\": 3300.0, \"sex\": \"FEMALE\"}, {\"species\": \"Chinstrap\", \"island\": \"Dream\", \"culmen_length_mm\": 52.0, \"culmen_depth_mm\": 19.0, \"flipper_length_mm\": 197.0, \"body_mass_g\": 4150.0, \"sex\": \"MALE\"}, {\"species\": \"Chinstrap\", \"island\": \"Dream\", \"culmen_length_mm\": 50.5, \"culmen_depth_mm\": 18.4, \"flipper_length_mm\": 200.0, \"body_mass_g\": 3400.0, \"sex\": \"FEMALE\"}, {\"species\": \"Chinstrap\", \"island\": \"Dream\", \"culmen_length_mm\": 49.5, \"culmen_depth_mm\": 19.0, \"flipper_length_mm\": 200.0, \"body_mass_g\": 3800.0, \"sex\": \"MALE\"}, {\"species\": \"Chinstrap\", \"island\": \"Dream\", \"culmen_length_mm\": 46.4, \"culmen_depth_mm\": 17.8, \"flipper_length_mm\": 191.0, \"body_mass_g\": 3700.0, \"sex\": \"FEMALE\"}, {\"species\": \"Chinstrap\", \"island\": \"Dream\", \"culmen_length_mm\": 52.8, \"culmen_depth_mm\": 20.0, \"flipper_length_mm\": 205.0, \"body_mass_g\": 4550.0, \"sex\": \"MALE\"}, {\"species\": \"Chinstrap\", \"island\": \"Dream\", \"culmen_length_mm\": 40.9, \"culmen_depth_mm\": 16.6, \"flipper_length_mm\": 187.0, \"body_mass_g\": 3200.0, \"sex\": \"FEMALE\"}, {\"species\": \"Chinstrap\", \"island\": \"Dream\", \"culmen_length_mm\": 54.2, \"culmen_depth_mm\": 20.8, \"flipper_length_mm\": 201.0, \"body_mass_g\": 4300.0, \"sex\": \"MALE\"}, {\"species\": \"Chinstrap\", \"island\": \"Dream\", \"culmen_length_mm\": 42.5, \"culmen_depth_mm\": 16.7, \"flipper_length_mm\": 187.0, \"body_mass_g\": 3350.0, \"sex\": \"FEMALE\"}, {\"species\": \"Chinstrap\", \"island\": \"Dream\", \"culmen_length_mm\": 51.0, \"culmen_depth_mm\": 18.8, \"flipper_length_mm\": 203.0, \"body_mass_g\": 4100.0, \"sex\": \"MALE\"}, {\"species\": \"Chinstrap\", \"island\": \"Dream\", \"culmen_length_mm\": 49.7, \"culmen_depth_mm\": 18.6, \"flipper_length_mm\": 195.0, \"body_mass_g\": 3600.0, \"sex\": \"MALE\"}, {\"species\": \"Chinstrap\", \"island\": \"Dream\", \"culmen_length_mm\": 47.5, \"culmen_depth_mm\": 16.8, \"flipper_length_mm\": 199.0, \"body_mass_g\": 3900.0, \"sex\": \"FEMALE\"}, {\"species\": \"Chinstrap\", \"island\": \"Dream\", \"culmen_length_mm\": 47.6, \"culmen_depth_mm\": 18.3, \"flipper_length_mm\": 195.0, \"body_mass_g\": 3850.0, \"sex\": \"FEMALE\"}, {\"species\": \"Chinstrap\", \"island\": \"Dream\", \"culmen_length_mm\": 52.0, \"culmen_depth_mm\": 20.7, \"flipper_length_mm\": 210.0, \"body_mass_g\": 4800.0, \"sex\": \"MALE\"}, {\"species\": \"Chinstrap\", \"island\": \"Dream\", \"culmen_length_mm\": 46.9, \"culmen_depth_mm\": 16.6, \"flipper_length_mm\": 192.0, \"body_mass_g\": 2700.0, \"sex\": \"FEMALE\"}, {\"species\": \"Chinstrap\", \"island\": \"Dream\", \"culmen_length_mm\": 53.5, \"culmen_depth_mm\": 19.9, \"flipper_length_mm\": 205.0, \"body_mass_g\": 4500.0, \"sex\": \"MALE\"}, {\"species\": \"Chinstrap\", \"island\": \"Dream\", \"culmen_length_mm\": 49.0, \"culmen_depth_mm\": 19.5, \"flipper_length_mm\": 210.0, \"body_mass_g\": 3950.0, \"sex\": \"MALE\"}, {\"species\": \"Chinstrap\", \"island\": \"Dream\", \"culmen_length_mm\": 46.2, \"culmen_depth_mm\": 17.5, \"flipper_length_mm\": 187.0, \"body_mass_g\": 3650.0, \"sex\": \"FEMALE\"}, {\"species\": \"Chinstrap\", \"island\": \"Dream\", \"culmen_length_mm\": 50.9, \"culmen_depth_mm\": 19.1, \"flipper_length_mm\": 196.0, \"body_mass_g\": 3550.0, \"sex\": \"MALE\"}, {\"species\": \"Chinstrap\", \"island\": \"Dream\", \"culmen_length_mm\": 45.5, \"culmen_depth_mm\": 17.0, \"flipper_length_mm\": 196.0, \"body_mass_g\": 3500.0, \"sex\": \"FEMALE\"}, {\"species\": \"Chinstrap\", \"island\": \"Dream\", \"culmen_length_mm\": 50.9, \"culmen_depth_mm\": 17.9, \"flipper_length_mm\": 196.0, \"body_mass_g\": 3675.0, \"sex\": \"FEMALE\"}, {\"species\": \"Chinstrap\", \"island\": \"Dream\", \"culmen_length_mm\": 50.8, \"culmen_depth_mm\": 18.5, \"flipper_length_mm\": 201.0, \"body_mass_g\": 4450.0, \"sex\": \"MALE\"}, {\"species\": \"Chinstrap\", \"island\": \"Dream\", \"culmen_length_mm\": 50.1, \"culmen_depth_mm\": 17.9, \"flipper_length_mm\": 190.0, \"body_mass_g\": 3400.0, \"sex\": \"FEMALE\"}, {\"species\": \"Chinstrap\", \"island\": \"Dream\", \"culmen_length_mm\": 49.0, \"culmen_depth_mm\": 19.6, \"flipper_length_mm\": 212.0, \"body_mass_g\": 4300.0, \"sex\": \"MALE\"}, {\"species\": \"Chinstrap\", \"island\": \"Dream\", \"culmen_length_mm\": 51.5, \"culmen_depth_mm\": 18.7, \"flipper_length_mm\": 187.0, \"body_mass_g\": 3250.0, \"sex\": \"MALE\"}, {\"species\": \"Chinstrap\", \"island\": \"Dream\", \"culmen_length_mm\": 49.8, \"culmen_depth_mm\": 17.3, \"flipper_length_mm\": 198.0, \"body_mass_g\": 3675.0, \"sex\": \"FEMALE\"}, {\"species\": \"Chinstrap\", \"island\": \"Dream\", \"culmen_length_mm\": 48.1, \"culmen_depth_mm\": 16.4, \"flipper_length_mm\": 199.0, \"body_mass_g\": 3325.0, \"sex\": \"FEMALE\"}, {\"species\": \"Chinstrap\", \"island\": \"Dream\", \"culmen_length_mm\": 51.4, \"culmen_depth_mm\": 19.0, \"flipper_length_mm\": 201.0, \"body_mass_g\": 3950.0, \"sex\": \"MALE\"}, {\"species\": \"Chinstrap\", \"island\": \"Dream\", \"culmen_length_mm\": 45.7, \"culmen_depth_mm\": 17.3, \"flipper_length_mm\": 193.0, \"body_mass_g\": 3600.0, \"sex\": \"FEMALE\"}, {\"species\": \"Chinstrap\", \"island\": \"Dream\", \"culmen_length_mm\": 50.7, \"culmen_depth_mm\": 19.7, \"flipper_length_mm\": 203.0, \"body_mass_g\": 4050.0, \"sex\": \"MALE\"}, {\"species\": \"Chinstrap\", \"island\": \"Dream\", \"culmen_length_mm\": 42.5, \"culmen_depth_mm\": 17.3, \"flipper_length_mm\": 187.0, \"body_mass_g\": 3350.0, \"sex\": \"FEMALE\"}, {\"species\": \"Chinstrap\", \"island\": \"Dream\", \"culmen_length_mm\": 52.2, \"culmen_depth_mm\": 18.8, \"flipper_length_mm\": 197.0, \"body_mass_g\": 3450.0, \"sex\": \"MALE\"}, {\"species\": \"Chinstrap\", \"island\": \"Dream\", \"culmen_length_mm\": 45.2, \"culmen_depth_mm\": 16.6, \"flipper_length_mm\": 191.0, \"body_mass_g\": 3250.0, \"sex\": \"FEMALE\"}, {\"species\": \"Chinstrap\", \"island\": \"Dream\", \"culmen_length_mm\": 49.3, \"culmen_depth_mm\": 19.9, \"flipper_length_mm\": 203.0, \"body_mass_g\": 4050.0, \"sex\": \"MALE\"}, {\"species\": \"Chinstrap\", \"island\": \"Dream\", \"culmen_length_mm\": 50.2, \"culmen_depth_mm\": 18.8, \"flipper_length_mm\": 202.0, \"body_mass_g\": 3800.0, \"sex\": \"MALE\"}, {\"species\": \"Chinstrap\", \"island\": \"Dream\", \"culmen_length_mm\": 45.6, \"culmen_depth_mm\": 19.4, \"flipper_length_mm\": 194.0, \"body_mass_g\": 3525.0, \"sex\": \"FEMALE\"}, {\"species\": \"Chinstrap\", \"island\": \"Dream\", \"culmen_length_mm\": 51.9, \"culmen_depth_mm\": 19.5, \"flipper_length_mm\": 206.0, \"body_mass_g\": 3950.0, \"sex\": \"MALE\"}, {\"species\": \"Chinstrap\", \"island\": \"Dream\", \"culmen_length_mm\": 46.8, \"culmen_depth_mm\": 16.5, \"flipper_length_mm\": 189.0, \"body_mass_g\": 3650.0, \"sex\": \"FEMALE\"}, {\"species\": \"Chinstrap\", \"island\": \"Dream\", \"culmen_length_mm\": 45.7, \"culmen_depth_mm\": 17.0, \"flipper_length_mm\": 195.0, \"body_mass_g\": 3650.0, \"sex\": \"FEMALE\"}, {\"species\": \"Chinstrap\", \"island\": \"Dream\", \"culmen_length_mm\": 55.8, \"culmen_depth_mm\": 19.8, \"flipper_length_mm\": 207.0, \"body_mass_g\": 4000.0, \"sex\": \"MALE\"}, {\"species\": \"Chinstrap\", \"island\": \"Dream\", \"culmen_length_mm\": 43.5, \"culmen_depth_mm\": 18.1, \"flipper_length_mm\": 202.0, \"body_mass_g\": 3400.0, \"sex\": \"FEMALE\"}, {\"species\": \"Chinstrap\", \"island\": \"Dream\", \"culmen_length_mm\": 49.6, \"culmen_depth_mm\": 18.2, \"flipper_length_mm\": 193.0, \"body_mass_g\": 3775.0, \"sex\": \"MALE\"}, {\"species\": \"Chinstrap\", \"island\": \"Dream\", \"culmen_length_mm\": 50.8, \"culmen_depth_mm\": 19.0, \"flipper_length_mm\": 210.0, \"body_mass_g\": 4100.0, \"sex\": \"MALE\"}, {\"species\": \"Chinstrap\", \"island\": \"Dream\", \"culmen_length_mm\": 50.2, \"culmen_depth_mm\": 18.7, \"flipper_length_mm\": 198.0, \"body_mass_g\": 3775.0, \"sex\": \"FEMALE\"}, {\"species\": \"Gentoo\", \"island\": \"Biscoe\", \"culmen_length_mm\": 46.1, \"culmen_depth_mm\": 13.2, \"flipper_length_mm\": 211.0, \"body_mass_g\": 4500.0, \"sex\": \"FEMALE\"}, {\"species\": \"Gentoo\", \"island\": \"Biscoe\", \"culmen_length_mm\": 50.0, \"culmen_depth_mm\": 16.3, \"flipper_length_mm\": 230.0, \"body_mass_g\": 5700.0, \"sex\": \"MALE\"}, {\"species\": \"Gentoo\", \"island\": \"Biscoe\", \"culmen_length_mm\": 48.7, \"culmen_depth_mm\": 14.1, \"flipper_length_mm\": 210.0, \"body_mass_g\": 4450.0, \"sex\": \"FEMALE\"}, {\"species\": \"Gentoo\", \"island\": \"Biscoe\", \"culmen_length_mm\": 50.0, \"culmen_depth_mm\": 15.2, \"flipper_length_mm\": 218.0, \"body_mass_g\": 5700.0, \"sex\": \"MALE\"}, {\"species\": \"Gentoo\", \"island\": \"Biscoe\", \"culmen_length_mm\": 47.6, \"culmen_depth_mm\": 14.5, \"flipper_length_mm\": 215.0, \"body_mass_g\": 5400.0, \"sex\": \"MALE\"}, {\"species\": \"Gentoo\", \"island\": \"Biscoe\", \"culmen_length_mm\": 46.5, \"culmen_depth_mm\": 13.5, \"flipper_length_mm\": 210.0, \"body_mass_g\": 4550.0, \"sex\": \"FEMALE\"}, {\"species\": \"Gentoo\", \"island\": \"Biscoe\", \"culmen_length_mm\": 45.4, \"culmen_depth_mm\": 14.6, \"flipper_length_mm\": 211.0, \"body_mass_g\": 4800.0, \"sex\": \"FEMALE\"}, {\"species\": \"Gentoo\", \"island\": \"Biscoe\", \"culmen_length_mm\": 46.7, \"culmen_depth_mm\": 15.3, \"flipper_length_mm\": 219.0, \"body_mass_g\": 5200.0, \"sex\": \"MALE\"}, {\"species\": \"Gentoo\", \"island\": \"Biscoe\", \"culmen_length_mm\": 43.3, \"culmen_depth_mm\": 13.4, \"flipper_length_mm\": 209.0, \"body_mass_g\": 4400.0, \"sex\": \"FEMALE\"}, {\"species\": \"Gentoo\", \"island\": \"Biscoe\", \"culmen_length_mm\": 46.8, \"culmen_depth_mm\": 15.4, \"flipper_length_mm\": 215.0, \"body_mass_g\": 5150.0, \"sex\": \"MALE\"}, {\"species\": \"Gentoo\", \"island\": \"Biscoe\", \"culmen_length_mm\": 40.9, \"culmen_depth_mm\": 13.7, \"flipper_length_mm\": 214.0, \"body_mass_g\": 4650.0, \"sex\": \"FEMALE\"}, {\"species\": \"Gentoo\", \"island\": \"Biscoe\", \"culmen_length_mm\": 49.0, \"culmen_depth_mm\": 16.1, \"flipper_length_mm\": 216.0, \"body_mass_g\": 5550.0, \"sex\": \"MALE\"}, {\"species\": \"Gentoo\", \"island\": \"Biscoe\", \"culmen_length_mm\": 45.5, \"culmen_depth_mm\": 13.7, \"flipper_length_mm\": 214.0, \"body_mass_g\": 4650.0, \"sex\": \"FEMALE\"}, {\"species\": \"Gentoo\", \"island\": \"Biscoe\", \"culmen_length_mm\": 48.4, \"culmen_depth_mm\": 14.6, \"flipper_length_mm\": 213.0, \"body_mass_g\": 5850.0, \"sex\": \"MALE\"}, {\"species\": \"Gentoo\", \"island\": \"Biscoe\", \"culmen_length_mm\": 45.8, \"culmen_depth_mm\": 14.6, \"flipper_length_mm\": 210.0, \"body_mass_g\": 4200.0, \"sex\": \"FEMALE\"}, {\"species\": \"Gentoo\", \"island\": \"Biscoe\", \"culmen_length_mm\": 49.3, \"culmen_depth_mm\": 15.7, \"flipper_length_mm\": 217.0, \"body_mass_g\": 5850.0, \"sex\": \"MALE\"}, {\"species\": \"Gentoo\", \"island\": \"Biscoe\", \"culmen_length_mm\": 42.0, \"culmen_depth_mm\": 13.5, \"flipper_length_mm\": 210.0, \"body_mass_g\": 4150.0, \"sex\": \"FEMALE\"}, {\"species\": \"Gentoo\", \"island\": \"Biscoe\", \"culmen_length_mm\": 49.2, \"culmen_depth_mm\": 15.2, \"flipper_length_mm\": 221.0, \"body_mass_g\": 6300.0, \"sex\": \"MALE\"}, {\"species\": \"Gentoo\", \"island\": \"Biscoe\", \"culmen_length_mm\": 46.2, \"culmen_depth_mm\": 14.5, \"flipper_length_mm\": 209.0, \"body_mass_g\": 4800.0, \"sex\": \"FEMALE\"}, {\"species\": \"Gentoo\", \"island\": \"Biscoe\", \"culmen_length_mm\": 48.7, \"culmen_depth_mm\": 15.1, \"flipper_length_mm\": 222.0, \"body_mass_g\": 5350.0, \"sex\": \"MALE\"}, {\"species\": \"Gentoo\", \"island\": \"Biscoe\", \"culmen_length_mm\": 50.2, \"culmen_depth_mm\": 14.3, \"flipper_length_mm\": 218.0, \"body_mass_g\": 5700.0, \"sex\": \"MALE\"}, {\"species\": \"Gentoo\", \"island\": \"Biscoe\", \"culmen_length_mm\": 45.1, \"culmen_depth_mm\": 14.5, \"flipper_length_mm\": 215.0, \"body_mass_g\": 5000.0, \"sex\": \"FEMALE\"}, {\"species\": \"Gentoo\", \"island\": \"Biscoe\", \"culmen_length_mm\": 46.5, \"culmen_depth_mm\": 14.5, \"flipper_length_mm\": 213.0, \"body_mass_g\": 4400.0, \"sex\": \"FEMALE\"}, {\"species\": \"Gentoo\", \"island\": \"Biscoe\", \"culmen_length_mm\": 46.3, \"culmen_depth_mm\": 15.8, \"flipper_length_mm\": 215.0, \"body_mass_g\": 5050.0, \"sex\": \"MALE\"}, {\"species\": \"Gentoo\", \"island\": \"Biscoe\", \"culmen_length_mm\": 42.9, \"culmen_depth_mm\": 13.1, \"flipper_length_mm\": 215.0, \"body_mass_g\": 5000.0, \"sex\": \"FEMALE\"}, {\"species\": \"Gentoo\", \"island\": \"Biscoe\", \"culmen_length_mm\": 46.1, \"culmen_depth_mm\": 15.1, \"flipper_length_mm\": 215.0, \"body_mass_g\": 5100.0, \"sex\": \"MALE\"}, {\"species\": \"Gentoo\", \"island\": \"Biscoe\", \"culmen_length_mm\": 44.5, \"culmen_depth_mm\": 14.3, \"flipper_length_mm\": 216.0, \"body_mass_g\": 4100.0, \"sex\": null}, {\"species\": \"Gentoo\", \"island\": \"Biscoe\", \"culmen_length_mm\": 47.8, \"culmen_depth_mm\": 15.0, \"flipper_length_mm\": 215.0, \"body_mass_g\": 5650.0, \"sex\": \"MALE\"}, {\"species\": \"Gentoo\", \"island\": \"Biscoe\", \"culmen_length_mm\": 48.2, \"culmen_depth_mm\": 14.3, \"flipper_length_mm\": 210.0, \"body_mass_g\": 4600.0, \"sex\": \"FEMALE\"}, {\"species\": \"Gentoo\", \"island\": \"Biscoe\", \"culmen_length_mm\": 50.0, \"culmen_depth_mm\": 15.3, \"flipper_length_mm\": 220.0, \"body_mass_g\": 5550.0, \"sex\": \"MALE\"}, {\"species\": \"Gentoo\", \"island\": \"Biscoe\", \"culmen_length_mm\": 47.3, \"culmen_depth_mm\": 15.3, \"flipper_length_mm\": 222.0, \"body_mass_g\": 5250.0, \"sex\": \"MALE\"}, {\"species\": \"Gentoo\", \"island\": \"Biscoe\", \"culmen_length_mm\": 42.8, \"culmen_depth_mm\": 14.2, \"flipper_length_mm\": 209.0, \"body_mass_g\": 4700.0, \"sex\": \"FEMALE\"}, {\"species\": \"Gentoo\", \"island\": \"Biscoe\", \"culmen_length_mm\": 45.1, \"culmen_depth_mm\": 14.5, \"flipper_length_mm\": 207.0, \"body_mass_g\": 5050.0, \"sex\": \"FEMALE\"}, {\"species\": \"Gentoo\", \"island\": \"Biscoe\", \"culmen_length_mm\": 59.6, \"culmen_depth_mm\": 17.0, \"flipper_length_mm\": 230.0, \"body_mass_g\": 6050.0, \"sex\": \"MALE\"}, {\"species\": \"Gentoo\", \"island\": \"Biscoe\", \"culmen_length_mm\": 49.1, \"culmen_depth_mm\": 14.8, \"flipper_length_mm\": 220.0, \"body_mass_g\": 5150.0, \"sex\": \"FEMALE\"}, {\"species\": \"Gentoo\", \"island\": \"Biscoe\", \"culmen_length_mm\": 48.4, \"culmen_depth_mm\": 16.3, \"flipper_length_mm\": 220.0, \"body_mass_g\": 5400.0, \"sex\": \"MALE\"}, {\"species\": \"Gentoo\", \"island\": \"Biscoe\", \"culmen_length_mm\": 42.6, \"culmen_depth_mm\": 13.7, \"flipper_length_mm\": 213.0, \"body_mass_g\": 4950.0, \"sex\": \"FEMALE\"}, {\"species\": \"Gentoo\", \"island\": \"Biscoe\", \"culmen_length_mm\": 44.4, \"culmen_depth_mm\": 17.3, \"flipper_length_mm\": 219.0, \"body_mass_g\": 5250.0, \"sex\": \"MALE\"}, {\"species\": \"Gentoo\", \"island\": \"Biscoe\", \"culmen_length_mm\": 44.0, \"culmen_depth_mm\": 13.6, \"flipper_length_mm\": 208.0, \"body_mass_g\": 4350.0, \"sex\": \"FEMALE\"}, {\"species\": \"Gentoo\", \"island\": \"Biscoe\", \"culmen_length_mm\": 48.7, \"culmen_depth_mm\": 15.7, \"flipper_length_mm\": 208.0, \"body_mass_g\": 5350.0, \"sex\": \"MALE\"}, {\"species\": \"Gentoo\", \"island\": \"Biscoe\", \"culmen_length_mm\": 42.7, \"culmen_depth_mm\": 13.7, \"flipper_length_mm\": 208.0, \"body_mass_g\": 3950.0, \"sex\": \"FEMALE\"}, {\"species\": \"Gentoo\", \"island\": \"Biscoe\", \"culmen_length_mm\": 49.6, \"culmen_depth_mm\": 16.0, \"flipper_length_mm\": 225.0, \"body_mass_g\": 5700.0, \"sex\": \"MALE\"}, {\"species\": \"Gentoo\", \"island\": \"Biscoe\", \"culmen_length_mm\": 45.3, \"culmen_depth_mm\": 13.7, \"flipper_length_mm\": 210.0, \"body_mass_g\": 4300.0, \"sex\": \"FEMALE\"}, {\"species\": \"Gentoo\", \"island\": \"Biscoe\", \"culmen_length_mm\": 49.6, \"culmen_depth_mm\": 15.0, \"flipper_length_mm\": 216.0, \"body_mass_g\": 4750.0, \"sex\": \"MALE\"}, {\"species\": \"Gentoo\", \"island\": \"Biscoe\", \"culmen_length_mm\": 50.5, \"culmen_depth_mm\": 15.9, \"flipper_length_mm\": 222.0, \"body_mass_g\": 5550.0, \"sex\": \"MALE\"}, {\"species\": \"Gentoo\", \"island\": \"Biscoe\", \"culmen_length_mm\": 43.6, \"culmen_depth_mm\": 13.9, \"flipper_length_mm\": 217.0, \"body_mass_g\": 4900.0, \"sex\": \"FEMALE\"}, {\"species\": \"Gentoo\", \"island\": \"Biscoe\", \"culmen_length_mm\": 45.5, \"culmen_depth_mm\": 13.9, \"flipper_length_mm\": 210.0, \"body_mass_g\": 4200.0, \"sex\": \"FEMALE\"}, {\"species\": \"Gentoo\", \"island\": \"Biscoe\", \"culmen_length_mm\": 50.5, \"culmen_depth_mm\": 15.9, \"flipper_length_mm\": 225.0, \"body_mass_g\": 5400.0, \"sex\": \"MALE\"}, {\"species\": \"Gentoo\", \"island\": \"Biscoe\", \"culmen_length_mm\": 44.9, \"culmen_depth_mm\": 13.3, \"flipper_length_mm\": 213.0, \"body_mass_g\": 5100.0, \"sex\": \"FEMALE\"}, {\"species\": \"Gentoo\", \"island\": \"Biscoe\", \"culmen_length_mm\": 45.2, \"culmen_depth_mm\": 15.8, \"flipper_length_mm\": 215.0, \"body_mass_g\": 5300.0, \"sex\": \"MALE\"}, {\"species\": \"Gentoo\", \"island\": \"Biscoe\", \"culmen_length_mm\": 46.6, \"culmen_depth_mm\": 14.2, \"flipper_length_mm\": 210.0, \"body_mass_g\": 4850.0, \"sex\": \"FEMALE\"}, {\"species\": \"Gentoo\", \"island\": \"Biscoe\", \"culmen_length_mm\": 48.5, \"culmen_depth_mm\": 14.1, \"flipper_length_mm\": 220.0, \"body_mass_g\": 5300.0, \"sex\": \"MALE\"}, {\"species\": \"Gentoo\", \"island\": \"Biscoe\", \"culmen_length_mm\": 45.1, \"culmen_depth_mm\": 14.4, \"flipper_length_mm\": 210.0, \"body_mass_g\": 4400.0, \"sex\": \"FEMALE\"}, {\"species\": \"Gentoo\", \"island\": \"Biscoe\", \"culmen_length_mm\": 50.1, \"culmen_depth_mm\": 15.0, \"flipper_length_mm\": 225.0, \"body_mass_g\": 5000.0, \"sex\": \"MALE\"}, {\"species\": \"Gentoo\", \"island\": \"Biscoe\", \"culmen_length_mm\": 46.5, \"culmen_depth_mm\": 14.4, \"flipper_length_mm\": 217.0, \"body_mass_g\": 4900.0, \"sex\": \"FEMALE\"}, {\"species\": \"Gentoo\", \"island\": \"Biscoe\", \"culmen_length_mm\": 45.0, \"culmen_depth_mm\": 15.4, \"flipper_length_mm\": 220.0, \"body_mass_g\": 5050.0, \"sex\": \"MALE\"}, {\"species\": \"Gentoo\", \"island\": \"Biscoe\", \"culmen_length_mm\": 43.8, \"culmen_depth_mm\": 13.9, \"flipper_length_mm\": 208.0, \"body_mass_g\": 4300.0, \"sex\": \"FEMALE\"}, {\"species\": \"Gentoo\", \"island\": \"Biscoe\", \"culmen_length_mm\": 45.5, \"culmen_depth_mm\": 15.0, \"flipper_length_mm\": 220.0, \"body_mass_g\": 5000.0, \"sex\": \"MALE\"}, {\"species\": \"Gentoo\", \"island\": \"Biscoe\", \"culmen_length_mm\": 43.2, \"culmen_depth_mm\": 14.5, \"flipper_length_mm\": 208.0, \"body_mass_g\": 4450.0, \"sex\": \"FEMALE\"}, {\"species\": \"Gentoo\", \"island\": \"Biscoe\", \"culmen_length_mm\": 50.4, \"culmen_depth_mm\": 15.3, \"flipper_length_mm\": 224.0, \"body_mass_g\": 5550.0, \"sex\": \"MALE\"}, {\"species\": \"Gentoo\", \"island\": \"Biscoe\", \"culmen_length_mm\": 45.3, \"culmen_depth_mm\": 13.8, \"flipper_length_mm\": 208.0, \"body_mass_g\": 4200.0, \"sex\": \"FEMALE\"}, {\"species\": \"Gentoo\", \"island\": \"Biscoe\", \"culmen_length_mm\": 46.2, \"culmen_depth_mm\": 14.9, \"flipper_length_mm\": 221.0, \"body_mass_g\": 5300.0, \"sex\": \"MALE\"}, {\"species\": \"Gentoo\", \"island\": \"Biscoe\", \"culmen_length_mm\": 45.7, \"culmen_depth_mm\": 13.9, \"flipper_length_mm\": 214.0, \"body_mass_g\": 4400.0, \"sex\": \"FEMALE\"}, {\"species\": \"Gentoo\", \"island\": \"Biscoe\", \"culmen_length_mm\": 54.3, \"culmen_depth_mm\": 15.7, \"flipper_length_mm\": 231.0, \"body_mass_g\": 5650.0, \"sex\": \"MALE\"}, {\"species\": \"Gentoo\", \"island\": \"Biscoe\", \"culmen_length_mm\": 45.8, \"culmen_depth_mm\": 14.2, \"flipper_length_mm\": 219.0, \"body_mass_g\": 4700.0, \"sex\": \"FEMALE\"}, {\"species\": \"Gentoo\", \"island\": \"Biscoe\", \"culmen_length_mm\": 49.8, \"culmen_depth_mm\": 16.8, \"flipper_length_mm\": 230.0, \"body_mass_g\": 5700.0, \"sex\": \"MALE\"}, {\"species\": \"Gentoo\", \"island\": \"Biscoe\", \"culmen_length_mm\": 46.2, \"culmen_depth_mm\": 14.4, \"flipper_length_mm\": 214.0, \"body_mass_g\": 4650.0, \"sex\": null}, {\"species\": \"Gentoo\", \"island\": \"Biscoe\", \"culmen_length_mm\": 49.5, \"culmen_depth_mm\": 16.2, \"flipper_length_mm\": 229.0, \"body_mass_g\": 5800.0, \"sex\": \"MALE\"}, {\"species\": \"Gentoo\", \"island\": \"Biscoe\", \"culmen_length_mm\": 43.5, \"culmen_depth_mm\": 14.2, \"flipper_length_mm\": 220.0, \"body_mass_g\": 4700.0, \"sex\": \"FEMALE\"}, {\"species\": \"Gentoo\", \"island\": \"Biscoe\", \"culmen_length_mm\": 50.7, \"culmen_depth_mm\": 15.0, \"flipper_length_mm\": 223.0, \"body_mass_g\": 5550.0, \"sex\": \"MALE\"}, {\"species\": \"Gentoo\", \"island\": \"Biscoe\", \"culmen_length_mm\": 47.7, \"culmen_depth_mm\": 15.0, \"flipper_length_mm\": 216.0, \"body_mass_g\": 4750.0, \"sex\": \"FEMALE\"}, {\"species\": \"Gentoo\", \"island\": \"Biscoe\", \"culmen_length_mm\": 46.4, \"culmen_depth_mm\": 15.6, \"flipper_length_mm\": 221.0, \"body_mass_g\": 5000.0, \"sex\": \"MALE\"}, {\"species\": \"Gentoo\", \"island\": \"Biscoe\", \"culmen_length_mm\": 48.2, \"culmen_depth_mm\": 15.6, \"flipper_length_mm\": 221.0, \"body_mass_g\": 5100.0, \"sex\": \"MALE\"}, {\"species\": \"Gentoo\", \"island\": \"Biscoe\", \"culmen_length_mm\": 46.5, \"culmen_depth_mm\": 14.8, \"flipper_length_mm\": 217.0, \"body_mass_g\": 5200.0, \"sex\": \"FEMALE\"}, {\"species\": \"Gentoo\", \"island\": \"Biscoe\", \"culmen_length_mm\": 46.4, \"culmen_depth_mm\": 15.0, \"flipper_length_mm\": 216.0, \"body_mass_g\": 4700.0, \"sex\": \"FEMALE\"}, {\"species\": \"Gentoo\", \"island\": \"Biscoe\", \"culmen_length_mm\": 48.6, \"culmen_depth_mm\": 16.0, \"flipper_length_mm\": 230.0, \"body_mass_g\": 5800.0, \"sex\": \"MALE\"}, {\"species\": \"Gentoo\", \"island\": \"Biscoe\", \"culmen_length_mm\": 47.5, \"culmen_depth_mm\": 14.2, \"flipper_length_mm\": 209.0, \"body_mass_g\": 4600.0, \"sex\": \"FEMALE\"}, {\"species\": \"Gentoo\", \"island\": \"Biscoe\", \"culmen_length_mm\": 51.1, \"culmen_depth_mm\": 16.3, \"flipper_length_mm\": 220.0, \"body_mass_g\": 6000.0, \"sex\": \"MALE\"}, {\"species\": \"Gentoo\", \"island\": \"Biscoe\", \"culmen_length_mm\": 45.2, \"culmen_depth_mm\": 13.8, \"flipper_length_mm\": 215.0, \"body_mass_g\": 4750.0, \"sex\": \"FEMALE\"}, {\"species\": \"Gentoo\", \"island\": \"Biscoe\", \"culmen_length_mm\": 45.2, \"culmen_depth_mm\": 16.4, \"flipper_length_mm\": 223.0, \"body_mass_g\": 5950.0, \"sex\": \"MALE\"}, {\"species\": \"Gentoo\", \"island\": \"Biscoe\", \"culmen_length_mm\": 49.1, \"culmen_depth_mm\": 14.5, \"flipper_length_mm\": 212.0, \"body_mass_g\": 4625.0, \"sex\": \"FEMALE\"}, {\"species\": \"Gentoo\", \"island\": \"Biscoe\", \"culmen_length_mm\": 52.5, \"culmen_depth_mm\": 15.6, \"flipper_length_mm\": 221.0, \"body_mass_g\": 5450.0, \"sex\": \"MALE\"}, {\"species\": \"Gentoo\", \"island\": \"Biscoe\", \"culmen_length_mm\": 47.4, \"culmen_depth_mm\": 14.6, \"flipper_length_mm\": 212.0, \"body_mass_g\": 4725.0, \"sex\": \"FEMALE\"}, {\"species\": \"Gentoo\", \"island\": \"Biscoe\", \"culmen_length_mm\": 50.0, \"culmen_depth_mm\": 15.9, \"flipper_length_mm\": 224.0, \"body_mass_g\": 5350.0, \"sex\": \"MALE\"}, {\"species\": \"Gentoo\", \"island\": \"Biscoe\", \"culmen_length_mm\": 44.9, \"culmen_depth_mm\": 13.8, \"flipper_length_mm\": 212.0, \"body_mass_g\": 4750.0, \"sex\": \"FEMALE\"}, {\"species\": \"Gentoo\", \"island\": \"Biscoe\", \"culmen_length_mm\": 50.8, \"culmen_depth_mm\": 17.3, \"flipper_length_mm\": 228.0, \"body_mass_g\": 5600.0, \"sex\": \"MALE\"}, {\"species\": \"Gentoo\", \"island\": \"Biscoe\", \"culmen_length_mm\": 43.4, \"culmen_depth_mm\": 14.4, \"flipper_length_mm\": 218.0, \"body_mass_g\": 4600.0, \"sex\": \"FEMALE\"}, {\"species\": \"Gentoo\", \"island\": \"Biscoe\", \"culmen_length_mm\": 51.3, \"culmen_depth_mm\": 14.2, \"flipper_length_mm\": 218.0, \"body_mass_g\": 5300.0, \"sex\": \"MALE\"}, {\"species\": \"Gentoo\", \"island\": \"Biscoe\", \"culmen_length_mm\": 47.5, \"culmen_depth_mm\": 14.0, \"flipper_length_mm\": 212.0, \"body_mass_g\": 4875.0, \"sex\": \"FEMALE\"}, {\"species\": \"Gentoo\", \"island\": \"Biscoe\", \"culmen_length_mm\": 52.1, \"culmen_depth_mm\": 17.0, \"flipper_length_mm\": 230.0, \"body_mass_g\": 5550.0, \"sex\": \"MALE\"}, {\"species\": \"Gentoo\", \"island\": \"Biscoe\", \"culmen_length_mm\": 47.5, \"culmen_depth_mm\": 15.0, \"flipper_length_mm\": 218.0, \"body_mass_g\": 4950.0, \"sex\": \"FEMALE\"}, {\"species\": \"Gentoo\", \"island\": \"Biscoe\", \"culmen_length_mm\": 52.2, \"culmen_depth_mm\": 17.1, \"flipper_length_mm\": 228.0, \"body_mass_g\": 5400.0, \"sex\": \"MALE\"}, {\"species\": \"Gentoo\", \"island\": \"Biscoe\", \"culmen_length_mm\": 45.5, \"culmen_depth_mm\": 14.5, \"flipper_length_mm\": 212.0, \"body_mass_g\": 4750.0, \"sex\": \"FEMALE\"}, {\"species\": \"Gentoo\", \"island\": \"Biscoe\", \"culmen_length_mm\": 49.5, \"culmen_depth_mm\": 16.1, \"flipper_length_mm\": 224.0, \"body_mass_g\": 5650.0, \"sex\": \"MALE\"}, {\"species\": \"Gentoo\", \"island\": \"Biscoe\", \"culmen_length_mm\": 44.5, \"culmen_depth_mm\": 14.7, \"flipper_length_mm\": 214.0, \"body_mass_g\": 4850.0, \"sex\": \"FEMALE\"}, {\"species\": \"Gentoo\", \"island\": \"Biscoe\", \"culmen_length_mm\": 50.8, \"culmen_depth_mm\": 15.7, \"flipper_length_mm\": 226.0, \"body_mass_g\": 5200.0, \"sex\": \"MALE\"}, {\"species\": \"Gentoo\", \"island\": \"Biscoe\", \"culmen_length_mm\": 49.4, \"culmen_depth_mm\": 15.8, \"flipper_length_mm\": 216.0, \"body_mass_g\": 4925.0, \"sex\": \"MALE\"}, {\"species\": \"Gentoo\", \"island\": \"Biscoe\", \"culmen_length_mm\": 46.9, \"culmen_depth_mm\": 14.6, \"flipper_length_mm\": 222.0, \"body_mass_g\": 4875.0, \"sex\": \"FEMALE\"}, {\"species\": \"Gentoo\", \"island\": \"Biscoe\", \"culmen_length_mm\": 48.4, \"culmen_depth_mm\": 14.4, \"flipper_length_mm\": 203.0, \"body_mass_g\": 4625.0, \"sex\": \"FEMALE\"}, {\"species\": \"Gentoo\", \"island\": \"Biscoe\", \"culmen_length_mm\": 51.1, \"culmen_depth_mm\": 16.5, \"flipper_length_mm\": 225.0, \"body_mass_g\": 5250.0, \"sex\": \"MALE\"}, {\"species\": \"Gentoo\", \"island\": \"Biscoe\", \"culmen_length_mm\": 48.5, \"culmen_depth_mm\": 15.0, \"flipper_length_mm\": 219.0, \"body_mass_g\": 4850.0, \"sex\": \"FEMALE\"}, {\"species\": \"Gentoo\", \"island\": \"Biscoe\", \"culmen_length_mm\": 55.9, \"culmen_depth_mm\": 17.0, \"flipper_length_mm\": 228.0, \"body_mass_g\": 5600.0, \"sex\": \"MALE\"}, {\"species\": \"Gentoo\", \"island\": \"Biscoe\", \"culmen_length_mm\": 47.2, \"culmen_depth_mm\": 15.5, \"flipper_length_mm\": 215.0, \"body_mass_g\": 4975.0, \"sex\": \"FEMALE\"}, {\"species\": \"Gentoo\", \"island\": \"Biscoe\", \"culmen_length_mm\": 49.1, \"culmen_depth_mm\": 15.0, \"flipper_length_mm\": 228.0, \"body_mass_g\": 5500.0, \"sex\": \"MALE\"}, {\"species\": \"Gentoo\", \"island\": \"Biscoe\", \"culmen_length_mm\": 47.3, \"culmen_depth_mm\": 13.8, \"flipper_length_mm\": 216.0, \"body_mass_g\": 4725.0, \"sex\": null}, {\"species\": \"Gentoo\", \"island\": \"Biscoe\", \"culmen_length_mm\": 46.8, \"culmen_depth_mm\": 16.1, \"flipper_length_mm\": 215.0, \"body_mass_g\": 5500.0, \"sex\": \"MALE\"}, {\"species\": \"Gentoo\", \"island\": \"Biscoe\", \"culmen_length_mm\": 41.7, \"culmen_depth_mm\": 14.7, \"flipper_length_mm\": 210.0, \"body_mass_g\": 4700.0, \"sex\": \"FEMALE\"}, {\"species\": \"Gentoo\", \"island\": \"Biscoe\", \"culmen_length_mm\": 53.4, \"culmen_depth_mm\": 15.8, \"flipper_length_mm\": 219.0, \"body_mass_g\": 5500.0, \"sex\": \"MALE\"}, {\"species\": \"Gentoo\", \"island\": \"Biscoe\", \"culmen_length_mm\": 43.3, \"culmen_depth_mm\": 14.0, \"flipper_length_mm\": 208.0, \"body_mass_g\": 4575.0, \"sex\": \"FEMALE\"}, {\"species\": \"Gentoo\", \"island\": \"Biscoe\", \"culmen_length_mm\": 48.1, \"culmen_depth_mm\": 15.1, \"flipper_length_mm\": 209.0, \"body_mass_g\": 5500.0, \"sex\": \"MALE\"}, {\"species\": \"Gentoo\", \"island\": \"Biscoe\", \"culmen_length_mm\": 50.5, \"culmen_depth_mm\": 15.2, \"flipper_length_mm\": 216.0, \"body_mass_g\": 5000.0, \"sex\": \"FEMALE\"}, {\"species\": \"Gentoo\", \"island\": \"Biscoe\", \"culmen_length_mm\": 49.8, \"culmen_depth_mm\": 15.9, \"flipper_length_mm\": 229.0, \"body_mass_g\": 5950.0, \"sex\": \"MALE\"}, {\"species\": \"Gentoo\", \"island\": \"Biscoe\", \"culmen_length_mm\": 43.5, \"culmen_depth_mm\": 15.2, \"flipper_length_mm\": 213.0, \"body_mass_g\": 4650.0, \"sex\": \"FEMALE\"}, {\"species\": \"Gentoo\", \"island\": \"Biscoe\", \"culmen_length_mm\": 51.5, \"culmen_depth_mm\": 16.3, \"flipper_length_mm\": 230.0, \"body_mass_g\": 5500.0, \"sex\": \"MALE\"}, {\"species\": \"Gentoo\", \"island\": \"Biscoe\", \"culmen_length_mm\": 46.2, \"culmen_depth_mm\": 14.1, \"flipper_length_mm\": 217.0, \"body_mass_g\": 4375.0, \"sex\": \"FEMALE\"}, {\"species\": \"Gentoo\", \"island\": \"Biscoe\", \"culmen_length_mm\": 55.1, \"culmen_depth_mm\": 16.0, \"flipper_length_mm\": 230.0, \"body_mass_g\": 5850.0, \"sex\": \"MALE\"}, {\"species\": \"Gentoo\", \"island\": \"Biscoe\", \"culmen_length_mm\": 44.5, \"culmen_depth_mm\": 15.7, \"flipper_length_mm\": 217.0, \"body_mass_g\": 4875.0, \"sex\": null}, {\"species\": \"Gentoo\", \"island\": \"Biscoe\", \"culmen_length_mm\": 48.8, \"culmen_depth_mm\": 16.2, \"flipper_length_mm\": 222.0, \"body_mass_g\": 6000.0, \"sex\": \"MALE\"}, {\"species\": \"Gentoo\", \"island\": \"Biscoe\", \"culmen_length_mm\": 47.2, \"culmen_depth_mm\": 13.7, \"flipper_length_mm\": 214.0, \"body_mass_g\": 4925.0, \"sex\": \"FEMALE\"}, {\"species\": \"Gentoo\", \"island\": \"Biscoe\", \"culmen_length_mm\": null, \"culmen_depth_mm\": null, \"flipper_length_mm\": null, \"body_mass_g\": null, \"sex\": null}, {\"species\": \"Gentoo\", \"island\": \"Biscoe\", \"culmen_length_mm\": 46.8, \"culmen_depth_mm\": 14.3, \"flipper_length_mm\": 215.0, \"body_mass_g\": 4850.0, \"sex\": \"FEMALE\"}, {\"species\": \"Gentoo\", \"island\": \"Biscoe\", \"culmen_length_mm\": 50.4, \"culmen_depth_mm\": 15.7, \"flipper_length_mm\": 222.0, \"body_mass_g\": 5750.0, \"sex\": \"MALE\"}, {\"species\": \"Gentoo\", \"island\": \"Biscoe\", \"culmen_length_mm\": 45.2, \"culmen_depth_mm\": 14.8, \"flipper_length_mm\": 212.0, \"body_mass_g\": 5200.0, \"sex\": \"FEMALE\"}, {\"species\": \"Gentoo\", \"island\": \"Biscoe\", \"culmen_length_mm\": 49.9, \"culmen_depth_mm\": 16.1, \"flipper_length_mm\": 213.0, \"body_mass_g\": 5400.0, \"sex\": \"MALE\"}]}}, {\"mode\": \"vega-lite\"});\n",
              "</script>"
            ],
            "text/plain": [
              "alt.Chart(...)"
            ]
          },
          "metadata": {
            "tags": []
          },
          "execution_count": 38
        }
      ]
    },
    {
      "cell_type": "code",
      "metadata": {
        "id": "c13EttKVFItD",
        "colab_type": "code",
        "colab": {}
      },
      "source": [
        ""
      ],
      "execution_count": null,
      "outputs": []
    }
  ]
}