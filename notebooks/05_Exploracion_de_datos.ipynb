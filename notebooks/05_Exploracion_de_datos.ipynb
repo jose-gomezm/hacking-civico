{
  "nbformat": 4,
  "nbformat_minor": 0,
  "metadata": {
    "colab": {
      "name": "05_Exploracion_de_datos.ipynb",
      "provenance": [],
      "collapsed_sections": [],
      "include_colab_link": true
    },
    "kernelspec": {
      "name": "python3",
      "display_name": "Python 3"
    }
  },
  "cells": [
    {
      "cell_type": "markdown",
      "metadata": {
        "id": "view-in-github",
        "colab_type": "text"
      },
      "source": [
        "<a href=\"https://colab.research.google.com/github/jose-gomezm/hacking-civico/blob/master/notebooks/05_Exploracion_de_datos.ipynb\" target=\"_parent\"><img src=\"https://colab.research.google.com/assets/colab-badge.svg\" alt=\"Open In Colab\"/></a>"
      ]
    },
    {
      "cell_type": "markdown",
      "metadata": {
        "id": "T7NS_uk_pUK6",
        "colab_type": "text"
      },
      "source": [
        "<p align=\"center\">\n",
        "<img src=\"http://codeandomexico.org/resources/img/codeandomexico.png\" width=\"500\" alt=\"Codeando México\"><br>\n",
        "<a href=\"http://www.codeandomexico.org/\" target=\"_blank\"><img src=\"https://img.shields.io/badge/website-CodeandoMexico-00D88E.svg\"></a>\n",
        "<a href=\"http://slack.codeandomexico.org/\" target=\"_blank\"><img src=\"https://img.shields.io/badge/slack-CodeandoMexico-EC0E4F.svg\"></a>\n",
        "</p>\n",
        "<!-- __ -->\n",
        "\n",
        "# Curso de Datos Abiertos y Hacking Cívico\n",
        "\n",
        "Este curso tiene como objetivo habilitar las capacidades de la ciudadanía y los servidores públicos en el uso y generación de datos abiertos para el bien común. Puedes encontrar más información [aquí](https://github.com/CodeandoMexico/hacking-civico)."
      ]
    },
    {
      "cell_type": "markdown",
      "metadata": {
        "id": "azfLcEkBR9jv",
        "colab_type": "text"
      },
      "source": [
        "# Exploración de datos: COVID-19 en México\n",
        "\n",
        "En este cuaderno aprenderemos algunas bases de exploración de datos. Los datos a utilizar son los datos abiertos sobre COVID-19 en México, los cuales pueden ser accedidos directamente desde el portal: https://www.gob.mx/salud/documentos/datos-abiertos-152127\n",
        "\n",
        "Del portal de datos abiertos podemos encontrar dos enlaces, uno para descargar el conjunto de datos y otro para descargar el diccionario; así que podemos automatizar el proceso de descarga y descompresión de la información.\n",
        "\n",
        "Para obtener los datos, sólo basta que ejecutes la siguiente línea de código, que contiene el comando de descarga de la información."
      ]
    },
    {
      "cell_type": "code",
      "metadata": {
        "id": "yPNA6QJjqFZg",
        "colab_type": "code",
        "colab": {
          "base_uri": "https://localhost:8080/",
<<<<<<< HEAD
          "height": 538
        },
        "outputId": "513cb18b-671b-4364-9831-a307cb7c6ca4"
=======
          "height": 553
        },
        "outputId": "0d2f762f-30b4-400a-dd1b-c15b5f47ea4a"
>>>>>>> aa312e54162503d558ce67a1e6f38bac0e0ba1ce
      },
      "source": [
        "# Para descargar el conjunto de datos\n",
        "!wget http://datosabiertos.salud.gob.mx/gobmx/salud/datos_abiertos/datos_abiertos_covid19.zip\n",
        "\n",
        "# Para descargar el diccionario de los datos\n",
        "!wget http://epidemiologia.salud.gob.mx/gobmx/salud/datos_abiertos/diccionario_datos_covid19.zip\n",
        "\n",
        "# Descomprimimos ambas carpetas y movemos archivos\n",
        "!unzip datos_abiertos_covid19.zip\n",
        "!unzip diccionario_datos_covid19.zip\n",
        "!mv ./diccionario_datos_covid19/*.xlsx .\n",
        "!mv *COVID19MEXICO.csv COVID19MEXICO.csv\n",
        "\n",
        "# Eliminamos las carpetas comprimidas\n",
        "!rm -rf diccionario_datos_covid19\n",
        "!rm datos_abiertos_covid19.zip\n",
        "!rm diccionario_datos_covid19.zip"
      ],
      "execution_count": 1,
      "outputs": [
        {
          "output_type": "stream",
          "text": [
<<<<<<< HEAD
            "--2020-09-02 21:46:03--  http://datosabiertos.salud.gob.mx/gobmx/salud/datos_abiertos/datos_abiertos_covid19.zip\n",
            "Resolving datosabiertos.salud.gob.mx (datosabiertos.salud.gob.mx)... 187.210.186.146\n",
            "Connecting to datosabiertos.salud.gob.mx (datosabiertos.salud.gob.mx)|187.210.186.146|:80... connected.\n",
            "HTTP request sent, awaiting response... 200 OK\n",
            "Length: 28812370 (27M) [application/x-zip-compressed]\n",
            "Saving to: ‘datos_abiertos_covid19.zip’\n",
            "\n",
            "datos_abiertos_covi 100%[===================>]  27.48M  17.8MB/s    in 1.5s    \n",
            "\n",
            "2020-09-02 21:46:05 (17.8 MB/s) - ‘datos_abiertos_covid19.zip’ saved [28812370/28812370]\n",
            "\n",
            "--2020-09-02 21:46:05--  http://epidemiologia.salud.gob.mx/gobmx/salud/datos_abiertos/diccionario_datos_covid19.zip\n",
=======
            "--2020-09-05 00:46:26--  http://datosabiertos.salud.gob.mx/gobmx/salud/datos_abiertos/datos_abiertos_covid19.zip\n",
            "Resolving datosabiertos.salud.gob.mx (datosabiertos.salud.gob.mx)... 187.210.186.146\n",
            "Connecting to datosabiertos.salud.gob.mx (datosabiertos.salud.gob.mx)|187.210.186.146|:80... connected.\n",
            "HTTP request sent, awaiting response... 200 OK\n",
            "Length: 29451718 (28M) [application/x-zip-compressed]\n",
            "Saving to: ‘datos_abiertos_covid19.zip’\n",
            "\n",
            "datos_abiertos_covi 100%[===================>]  28.09M  19.9MB/s    in 1.4s    \n",
            "\n",
            "2020-09-05 00:46:27 (19.9 MB/s) - ‘datos_abiertos_covid19.zip’ saved [29451718/29451718]\n",
            "\n",
            "--2020-09-05 00:46:28--  http://epidemiologia.salud.gob.mx/gobmx/salud/datos_abiertos/diccionario_datos_covid19.zip\n",
>>>>>>> aa312e54162503d558ce67a1e6f38bac0e0ba1ce
            "Resolving epidemiologia.salud.gob.mx (epidemiologia.salud.gob.mx)... 187.191.75.207\n",
            "Connecting to epidemiologia.salud.gob.mx (epidemiologia.salud.gob.mx)|187.191.75.207|:80... connected.\n",
            "HTTP request sent, awaiting response... 301 Moved Permanently\n",
            "Location: https://epidemiologia.salud.gob.mx/gobmx/salud/datos_abiertos/diccionario_datos_covid19.zip [following]\n",
<<<<<<< HEAD
            "--2020-09-02 21:46:05--  https://epidemiologia.salud.gob.mx/gobmx/salud/datos_abiertos/diccionario_datos_covid19.zip\n",
=======
            "--2020-09-05 00:46:28--  https://epidemiologia.salud.gob.mx/gobmx/salud/datos_abiertos/diccionario_datos_covid19.zip\n",
>>>>>>> aa312e54162503d558ce67a1e6f38bac0e0ba1ce
            "Connecting to epidemiologia.salud.gob.mx (epidemiologia.salud.gob.mx)|187.191.75.207|:443... connected.\n",
            "HTTP request sent, awaiting response... 200 OK\n",
            "Length: 81416 (80K) [application/x-zip-compressed]\n",
            "Saving to: ‘diccionario_datos_covid19.zip’\n",
            "\n",
            "diccionario_datos_c 100%[===================>]  79.51K  --.-KB/s    in 0.07s   \n",
            "\n",
<<<<<<< HEAD
            "2020-09-02 21:46:06 (1.16 MB/s) - ‘diccionario_datos_covid19.zip’ saved [81416/81416]\n",
            "\n",
            "Archive:  datos_abiertos_covid19.zip\n",
            "  inflating: 200901COVID19MEXICO.csv  \n",
=======
            "2020-09-05 00:46:28 (1.19 MB/s) - ‘diccionario_datos_covid19.zip’ saved [81416/81416]\n",
            "\n",
            "Archive:  datos_abiertos_covid19.zip\n",
            "  inflating: 200903COVID19MEXICO.csv  \n",
>>>>>>> aa312e54162503d558ce67a1e6f38bac0e0ba1ce
            "Archive:  diccionario_datos_covid19.zip\n",
            "  inflating: diccionario_datos_covid19/Catalogos_0412.xlsx  \n",
            "  inflating: diccionario_datos_covid19/Descriptores_0419.xlsx  \n"
          ],
          "name": "stdout"
        }
      ]
    },
    {
      "cell_type": "markdown",
      "metadata": {
        "id": "tt5KIbXgsc4q",
        "colab_type": "text"
      },
      "source": [
        "Hasta este punto, si abres la barra lateral izaquiera, deberías ser capaz de encontrar los datos:\n",
        "\n",
        "- `COVID19MEXICO.csv`\n",
        "- `Catalogos_0412.xlsx`\n",
        "- `Descriptores_0419.xlsx`\n",
        "\n",
        "👈🏼"
      ]
    },
    {
      "cell_type": "markdown",
      "metadata": {
        "id": "0CfIFLH7YHXE",
        "colab_type": "text"
      },
      "source": [
        "## Carga\n",
        "\n",
        "Ahora que tenemos los datos, procederemos a cargarlos. Para cargar los datos, primero importaremos algunos paquetes de Python, pues su funcionalidad nos será muy util."
      ]
    },
    {
      "cell_type": "code",
      "metadata": {
        "id": "M09sjPpIYLOZ",
        "colab_type": "code",
        "colab": {}
      },
      "source": [
        "import statistics\n",
        "\n",
        "import pandas as pd\n",
        "import numpy as np"
      ],
      "execution_count": 2,
      "outputs": []
    },
    {
      "cell_type": "code",
      "metadata": {
        "id": "LzZRHpnclPvj",
        "colab_type": "code",
        "colab": {
          "base_uri": "https://localhost:8080/",
<<<<<<< HEAD
          "height": 50
        },
        "outputId": "e6030c24-61f3-4f77-d9a8-3fb6d163e6f4"
=======
          "height": 52
        },
        "outputId": "7a9fbb0a-7837-405e-b633-0e7d4bb0da64"
>>>>>>> aa312e54162503d558ce67a1e6f38bac0e0ba1ce
      },
      "source": [
        "# Especificamos el nombre del archivo por abrir\n",
        "nombre_archivo = 'COVID19MEXICO.csv'\n",
        "\n",
        "# Utilizamos la función de Pandas para cargar un archivo CSV\n",
        "data = pd.read_csv(nombre_archivo, encoding='latin-1')"
      ],
<<<<<<< HEAD
      "execution_count": 64,
=======
      "execution_count": 3,
>>>>>>> aa312e54162503d558ce67a1e6f38bac0e0ba1ce
      "outputs": [
        {
          "output_type": "stream",
          "text": [
            "/usr/local/lib/python3.6/dist-packages/IPython/core/interactiveshell.py:2718: DtypeWarning: Columns (33) have mixed types.Specify dtype option on import or set low_memory=False.\n",
            "  interactivity=interactivity, compiler=compiler, result=result)\n"
          ],
          "name": "stderr"
        }
      ]
    },
    {
      "cell_type": "markdown",
      "metadata": {
        "id": "lyEfLDYKtibj",
        "colab_type": "text"
      },
      "source": [
        "Mostramos la cabeza (primeros elementos del archivo)."
      ]
    },
    {
      "cell_type": "code",
      "metadata": {
        "id": "PNeCAgfQqMf6",
        "colab_type": "code",
        "colab": {
          "base_uri": "https://localhost:8080/",
          "height": 299
        },
<<<<<<< HEAD
        "outputId": "5088c62a-7b7b-4c81-eb76-191356c3e461"
=======
        "outputId": "c18dd9c0-ef6d-476c-8c93-132032281ebf"
>>>>>>> aa312e54162503d558ce67a1e6f38bac0e0ba1ce
      },
      "source": [
        "data.head()"
      ],
      "execution_count": 65,
      "outputs": [
        {
          "output_type": "execute_result",
          "data": {
            "text/html": [
              "<div>\n",
              "<style scoped>\n",
              "    .dataframe tbody tr th:only-of-type {\n",
              "        vertical-align: middle;\n",
              "    }\n",
              "\n",
              "    .dataframe tbody tr th {\n",
              "        vertical-align: top;\n",
              "    }\n",
              "\n",
              "    .dataframe thead th {\n",
              "        text-align: right;\n",
              "    }\n",
              "</style>\n",
              "<table border=\"1\" class=\"dataframe\">\n",
              "  <thead>\n",
              "    <tr style=\"text-align: right;\">\n",
              "      <th></th>\n",
              "      <th>FECHA_ACTUALIZACION</th>\n",
              "      <th>ID_REGISTRO</th>\n",
              "      <th>ORIGEN</th>\n",
              "      <th>SECTOR</th>\n",
              "      <th>ENTIDAD_UM</th>\n",
              "      <th>SEXO</th>\n",
              "      <th>ENTIDAD_NAC</th>\n",
              "      <th>ENTIDAD_RES</th>\n",
              "      <th>MUNICIPIO_RES</th>\n",
              "      <th>TIPO_PACIENTE</th>\n",
              "      <th>FECHA_INGRESO</th>\n",
              "      <th>FECHA_SINTOMAS</th>\n",
              "      <th>FECHA_DEF</th>\n",
              "      <th>INTUBADO</th>\n",
              "      <th>NEUMONIA</th>\n",
              "      <th>EDAD</th>\n",
              "      <th>NACIONALIDAD</th>\n",
              "      <th>EMBARAZO</th>\n",
              "      <th>HABLA_LENGUA_INDIG</th>\n",
              "      <th>DIABETES</th>\n",
              "      <th>EPOC</th>\n",
              "      <th>ASMA</th>\n",
              "      <th>INMUSUPR</th>\n",
              "      <th>HIPERTENSION</th>\n",
              "      <th>OTRA_COM</th>\n",
              "      <th>CARDIOVASCULAR</th>\n",
              "      <th>OBESIDAD</th>\n",
              "      <th>RENAL_CRONICA</th>\n",
              "      <th>TABAQUISMO</th>\n",
              "      <th>OTRO_CASO</th>\n",
              "      <th>RESULTADO</th>\n",
              "      <th>MIGRANTE</th>\n",
              "      <th>PAIS_NACIONALIDAD</th>\n",
              "      <th>PAIS_ORIGEN</th>\n",
              "      <th>UCI</th>\n",
              "    </tr>\n",
              "  </thead>\n",
              "  <tbody>\n",
              "    <tr>\n",
              "      <th>0</th>\n",
<<<<<<< HEAD
              "      <td>2020-09-01</td>\n",
              "      <td>0b79a6</td>\n",
              "      <td>2</td>\n",
              "      <td>3</td>\n",
              "      <td>15</td>\n",
              "      <td>1</td>\n",
              "      <td>9</td>\n",
              "      <td>15</td>\n",
              "      <td>106</td>\n",
              "      <td>1</td>\n",
              "      <td>2020-07-01</td>\n",
              "      <td>2020-06-28</td>\n",
              "      <td>9999-99-99</td>\n",
              "      <td>97</td>\n",
              "      <td>2</td>\n",
              "      <td>30</td>\n",
=======
              "      <td>2020-09-03</td>\n",
              "      <td>097d14</td>\n",
              "      <td>2</td>\n",
              "      <td>3</td>\n",
              "      <td>2</td>\n",
              "      <td>2</td>\n",
              "      <td>2</td>\n",
              "      <td>2</td>\n",
              "      <td>2</td>\n",
              "      <td>1</td>\n",
              "      <td>2020-06-10</td>\n",
              "      <td>2020-06-10</td>\n",
              "      <td>9999-99-99</td>\n",
              "      <td>97</td>\n",
              "      <td>2</td>\n",
              "      <td>27</td>\n",
>>>>>>> aa312e54162503d558ce67a1e6f38bac0e0ba1ce
              "      <td>1</td>\n",
              "      <td>2</td>\n",
              "      <td>2</td>\n",
              "      <td>2</td>\n",
              "      <td>2</td>\n",
              "      <td>2</td>\n",
              "      <td>2</td>\n",
              "      <td>2</td>\n",
              "      <td>2</td>\n",
              "      <td>2</td>\n",
              "      <td>1</td>\n",
              "      <td>2</td>\n",
              "      <td>2</td>\n",
              "      <td>1</td>\n",
              "      <td>1</td>\n",
              "      <td>99</td>\n",
              "      <td>MÃ©xico</td>\n",
              "      <td>99</td>\n",
              "      <td>97</td>\n",
              "    </tr>\n",
              "    <tr>\n",
              "      <th>1</th>\n",
<<<<<<< HEAD
              "      <td>2020-09-01</td>\n",
              "      <td>1b0c85</td>\n",
              "      <td>2</td>\n",
              "      <td>4</td>\n",
              "      <td>5</td>\n",
              "      <td>1</td>\n",
              "      <td>24</td>\n",
              "      <td>5</td>\n",
              "      <td>30</td>\n",
              "      <td>1</td>\n",
              "      <td>2020-04-03</td>\n",
              "      <td>2020-03-30</td>\n",
              "      <td>9999-99-99</td>\n",
              "      <td>97</td>\n",
              "      <td>2</td>\n",
              "      <td>64</td>\n",
=======
              "      <td>2020-09-03</td>\n",
              "      <td>1b7adb</td>\n",
              "      <td>2</td>\n",
              "      <td>4</td>\n",
              "      <td>2</td>\n",
              "      <td>2</td>\n",
              "      <td>12</td>\n",
              "      <td>2</td>\n",
              "      <td>4</td>\n",
              "      <td>2</td>\n",
              "      <td>2020-04-29</td>\n",
              "      <td>2020-04-15</td>\n",
              "      <td>2020-04-30</td>\n",
              "      <td>2</td>\n",
              "      <td>1</td>\n",
              "      <td>64</td>\n",
              "      <td>1</td>\n",
              "      <td>97</td>\n",
              "      <td>2</td>\n",
>>>>>>> aa312e54162503d558ce67a1e6f38bac0e0ba1ce
              "      <td>1</td>\n",
              "      <td>2</td>\n",
              "      <td>2</td>\n",
              "      <td>2</td>\n",
<<<<<<< HEAD
              "      <td>2</td>\n",
              "      <td>2</td>\n",
=======
              "      <td>1</td>\n",
>>>>>>> aa312e54162503d558ce67a1e6f38bac0e0ba1ce
              "      <td>2</td>\n",
              "      <td>2</td>\n",
              "      <td>2</td>\n",
              "      <td>2</td>\n",
              "      <td>2</td>\n",
              "      <td>2</td>\n",
              "      <td>2</td>\n",
              "      <td>1</td>\n",
              "      <td>1</td>\n",
              "      <td>99</td>\n",
              "      <td>MÃ©xico</td>\n",
              "      <td>99</td>\n",
              "      <td>2</td>\n",
              "    </tr>\n",
              "    <tr>\n",
              "      <th>2</th>\n",
<<<<<<< HEAD
              "      <td>2020-09-01</td>\n",
              "      <td>17ae86</td>\n",
              "      <td>2</td>\n",
              "      <td>4</td>\n",
              "      <td>2</td>\n",
              "      <td>1</td>\n",
              "      <td>30</td>\n",
              "      <td>2</td>\n",
              "      <td>3</td>\n",
              "      <td>2</td>\n",
              "      <td>2020-04-14</td>\n",
              "      <td>2020-04-14</td>\n",
              "      <td>2020-04-24</td>\n",
              "      <td>2</td>\n",
              "      <td>1</td>\n",
              "      <td>50</td>\n",
              "      <td>1</td>\n",
=======
              "      <td>2020-09-03</td>\n",
              "      <td>11daaa</td>\n",
              "      <td>2</td>\n",
              "      <td>3</td>\n",
              "      <td>27</td>\n",
              "      <td>1</td>\n",
              "      <td>27</td>\n",
              "      <td>27</td>\n",
              "      <td>15</td>\n",
              "      <td>1</td>\n",
              "      <td>2020-05-26</td>\n",
              "      <td>2020-05-26</td>\n",
              "      <td>9999-99-99</td>\n",
              "      <td>97</td>\n",
              "      <td>2</td>\n",
              "      <td>32</td>\n",
              "      <td>1</td>\n",
              "      <td>2</td>\n",
              "      <td>99</td>\n",
              "      <td>2</td>\n",
>>>>>>> aa312e54162503d558ce67a1e6f38bac0e0ba1ce
              "      <td>2</td>\n",
              "      <td>2</td>\n",
              "      <td>1</td>\n",
              "      <td>2</td>\n",
              "      <td>2</td>\n",
              "      <td>2</td>\n",
              "      <td>2</td>\n",
              "      <td>2</td>\n",
              "      <td>2</td>\n",
              "      <td>2</td>\n",
              "      <td>99</td>\n",
              "      <td>1</td>\n",
              "      <td>99</td>\n",
              "      <td>MÃ©xico</td>\n",
              "      <td>99</td>\n",
              "      <td>2</td>\n",
              "    </tr>\n",
              "    <tr>\n",
              "      <th>3</th>\n",
<<<<<<< HEAD
              "      <td>2020-09-01</td>\n",
              "      <td>14df1c</td>\n",
              "      <td>2</td>\n",
              "      <td>4</td>\n",
              "      <td>31</td>\n",
              "      <td>2</td>\n",
              "      <td>31</td>\n",
              "      <td>31</td>\n",
              "      <td>101</td>\n",
              "      <td>1</td>\n",
              "      <td>2020-04-23</td>\n",
              "      <td>2020-04-22</td>\n",
              "      <td>9999-99-99</td>\n",
              "      <td>97</td>\n",
              "      <td>2</td>\n",
              "      <td>27</td>\n",
=======
              "      <td>2020-09-03</td>\n",
              "      <td>17c9eb</td>\n",
              "      <td>2</td>\n",
              "      <td>3</td>\n",
              "      <td>27</td>\n",
              "      <td>1</td>\n",
              "      <td>27</td>\n",
              "      <td>27</td>\n",
              "      <td>13</td>\n",
              "      <td>1</td>\n",
              "      <td>2020-06-05</td>\n",
              "      <td>2020-05-31</td>\n",
              "      <td>9999-99-99</td>\n",
              "      <td>97</td>\n",
              "      <td>2</td>\n",
              "      <td>54</td>\n",
>>>>>>> aa312e54162503d558ce67a1e6f38bac0e0ba1ce
              "      <td>1</td>\n",
              "      <td>97</td>\n",
              "      <td>2</td>\n",
              "      <td>1</td>\n",
              "      <td>2</td>\n",
              "      <td>2</td>\n",
              "      <td>2</td>\n",
              "      <td>1</td>\n",
              "      <td>2</td>\n",
              "      <td>2</td>\n",
              "      <td>2</td>\n",
              "      <td>2</td>\n",
              "      <td>2</td>\n",
              "      <td>1</td>\n",
              "      <td>1</td>\n",
              "      <td>99</td>\n",
              "      <td>MÃ©xico</td>\n",
              "      <td>99</td>\n",
              "      <td>97</td>\n",
              "    </tr>\n",
              "    <tr>\n",
              "      <th>4</th>\n",
<<<<<<< HEAD
              "      <td>2020-09-01</td>\n",
              "      <td>0f3272</td>\n",
              "      <td>2</td>\n",
              "      <td>4</td>\n",
              "      <td>1</td>\n",
              "      <td>2</td>\n",
              "      <td>1</td>\n",
              "      <td>1</td>\n",
              "      <td>5</td>\n",
              "      <td>1</td>\n",
              "      <td>2020-04-26</td>\n",
              "      <td>2020-04-23</td>\n",
              "      <td>9999-99-99</td>\n",
              "      <td>97</td>\n",
              "      <td>2</td>\n",
              "      <td>53</td>\n",
              "      <td>1</td>\n",
              "      <td>97</td>\n",
=======
              "      <td>2020-09-03</td>\n",
              "      <td>14f12c</td>\n",
              "      <td>2</td>\n",
              "      <td>4</td>\n",
              "      <td>17</td>\n",
              "      <td>1</td>\n",
              "      <td>3</td>\n",
              "      <td>17</td>\n",
              "      <td>7</td>\n",
              "      <td>1</td>\n",
              "      <td>2020-04-02</td>\n",
              "      <td>2020-04-01</td>\n",
              "      <td>9999-99-99</td>\n",
              "      <td>97</td>\n",
              "      <td>2</td>\n",
              "      <td>44</td>\n",
              "      <td>1</td>\n",
>>>>>>> aa312e54162503d558ce67a1e6f38bac0e0ba1ce
              "      <td>2</td>\n",
              "      <td>2</td>\n",
              "      <td>2</td>\n",
              "      <td>2</td>\n",
              "      <td>2</td>\n",
              "      <td>2</td>\n",
              "      <td>2</td>\n",
              "      <td>1</td>\n",
              "      <td>2</td>\n",
              "      <td>2</td>\n",
              "      <td>2</td>\n",
              "      <td>2</td>\n",
              "      <td>99</td>\n",
              "      <td>1</td>\n",
              "      <td>99</td>\n",
              "      <td>MÃ©xico</td>\n",
              "      <td>99</td>\n",
              "      <td>97</td>\n",
              "    </tr>\n",
              "  </tbody>\n",
              "</table>\n",
              "</div>"
            ],
            "text/plain": [
              "  FECHA_ACTUALIZACION ID_REGISTRO  ORIGEN  ...  PAIS_NACIONALIDAD  PAIS_ORIGEN  UCI\n",
<<<<<<< HEAD
              "0          2020-09-01      0b79a6       2  ...            MÃ©xico           99   97\n",
              "1          2020-09-01      1b0c85       2  ...            MÃ©xico           99   97\n",
              "2          2020-09-01      17ae86       2  ...            MÃ©xico           99    2\n",
              "3          2020-09-01      14df1c       2  ...            MÃ©xico           99   97\n",
              "4          2020-09-01      0f3272       2  ...            MÃ©xico           99   97\n",
=======
              "0          2020-09-03      097d14       2  ...            MÃ©xico           99   97\n",
              "1          2020-09-03      1b7adb       2  ...            MÃ©xico           99    2\n",
              "2          2020-09-03      11daaa       2  ...            MÃ©xico           99   97\n",
              "3          2020-09-03      17c9eb       2  ...            MÃ©xico           99   97\n",
              "4          2020-09-03      14f12c       2  ...            MÃ©xico           99   97\n",
>>>>>>> aa312e54162503d558ce67a1e6f38bac0e0ba1ce
              "\n",
              "[5 rows x 35 columns]"
            ]
          },
          "metadata": {
            "tags": []
          },
          "execution_count": 65
        }
      ]
    },
    {
      "cell_type": "markdown",
      "metadata": {
        "id": "oPbuQM-3t5fA",
        "colab_type": "text"
      },
      "source": [
        "Ahora procedemos a cargar el archivo con los descriptores."
      ]
    },
    {
      "cell_type": "code",
      "metadata": {
        "id": "gO6XRvTcltp0",
        "colab_type": "code",
        "colab": {}
      },
      "source": [
        "nombre_diccionario = 'Descriptores_0419.xlsx'\n",
        "diccionario = pd.read_excel(nombre_diccionario)"
      ],
      "execution_count": 66,
      "outputs": []
    },
    {
      "cell_type": "code",
      "metadata": {
        "id": "xLsgKwYWl8vX",
        "colab_type": "code",
        "colab": {
          "base_uri": "https://localhost:8080/",
          "height": 1000
        },
<<<<<<< HEAD
        "outputId": "66768723-cbe7-44e5-d75c-7eaeba6f44f2"
=======
        "outputId": "c9d1ee61-668d-4f80-d4b8-d036fc755337"
>>>>>>> aa312e54162503d558ce67a1e6f38bac0e0ba1ce
      },
      "source": [
        "diccionario"
      ],
      "execution_count": 67,
      "outputs": [
        {
          "output_type": "execute_result",
          "data": {
            "text/html": [
              "<div>\n",
              "<style scoped>\n",
              "    .dataframe tbody tr th:only-of-type {\n",
              "        vertical-align: middle;\n",
              "    }\n",
              "\n",
              "    .dataframe tbody tr th {\n",
              "        vertical-align: top;\n",
              "    }\n",
              "\n",
              "    .dataframe thead th {\n",
              "        text-align: right;\n",
              "    }\n",
              "</style>\n",
              "<table border=\"1\" class=\"dataframe\">\n",
              "  <thead>\n",
              "    <tr style=\"text-align: right;\">\n",
              "      <th></th>\n",
              "      <th>Nº</th>\n",
              "      <th>NOMBRE DE VARIABLE</th>\n",
              "      <th>DESCRIPCIÓN DE VARIABLE</th>\n",
              "      <th>FORMATO O FUENTE</th>\n",
              "    </tr>\n",
              "  </thead>\n",
              "  <tbody>\n",
              "    <tr>\n",
              "      <th>0</th>\n",
              "      <td>1</td>\n",
              "      <td>FECHA_ACTUALIZACION</td>\n",
              "      <td>La base de datos se alimenta diariamente, esta...</td>\n",
              "      <td>AAAA-MM-DD</td>\n",
              "    </tr>\n",
              "    <tr>\n",
              "      <th>1</th>\n",
              "      <td>2</td>\n",
              "      <td>ID_REGISTRO</td>\n",
              "      <td>Número identificador del caso</td>\n",
              "      <td>TEXTO</td>\n",
              "    </tr>\n",
              "    <tr>\n",
              "      <th>2</th>\n",
              "      <td>3</td>\n",
              "      <td>ORIGEN</td>\n",
              "      <td>La vigilancia centinela se realiza a través de...</td>\n",
              "      <td>CATÁLOGO: ORIGEN                              ...</td>\n",
              "    </tr>\n",
              "    <tr>\n",
              "      <th>3</th>\n",
              "      <td>4</td>\n",
              "      <td>SECTOR</td>\n",
              "      <td>Identifica el tipo de institución del Sistema ...</td>\n",
              "      <td>CATÁLOGO: SECTOR                              ...</td>\n",
              "    </tr>\n",
              "    <tr>\n",
              "      <th>4</th>\n",
              "      <td>5</td>\n",
              "      <td>ENTIDAD_UM</td>\n",
              "      <td>Identifica la entidad donde se ubica la unidad...</td>\n",
              "      <td>CATALÓGO: ENTIDADES</td>\n",
              "    </tr>\n",
              "    <tr>\n",
              "      <th>5</th>\n",
              "      <td>6</td>\n",
              "      <td>SEXO</td>\n",
              "      <td>Identifica al sexo del paciente.</td>\n",
              "      <td>CATÁLOGO: SEXO</td>\n",
              "    </tr>\n",
              "    <tr>\n",
              "      <th>6</th>\n",
              "      <td>7</td>\n",
              "      <td>ENTIDAD_NAC</td>\n",
              "      <td>Identifica la entidad de nacimiento del paciente.</td>\n",
              "      <td>CATALÓGO: ENTIDADES</td>\n",
              "    </tr>\n",
              "    <tr>\n",
              "      <th>7</th>\n",
              "      <td>8</td>\n",
              "      <td>ENTIDAD_RES</td>\n",
              "      <td>Identifica la entidad de residencia del paciente.</td>\n",
              "      <td>CATALÓGO: ENTIDADES</td>\n",
              "    </tr>\n",
              "    <tr>\n",
              "      <th>8</th>\n",
              "      <td>9</td>\n",
              "      <td>MUNICIPIO_RES</td>\n",
              "      <td>Identifica el municipio de residencia del paci...</td>\n",
              "      <td>CATALÓGO: MUNICIPIOS</td>\n",
              "    </tr>\n",
              "    <tr>\n",
              "      <th>9</th>\n",
              "      <td>10</td>\n",
              "      <td>TIPO_PACIENTE</td>\n",
              "      <td>Identifica el tipo de atención que recibió el ...</td>\n",
              "      <td>CATÁLOGO: TIPO_PACIENTE</td>\n",
              "    </tr>\n",
              "    <tr>\n",
              "      <th>10</th>\n",
              "      <td>11</td>\n",
              "      <td>FECHA_INGRESO</td>\n",
              "      <td>Identifica la fecha de ingreso del paciente a ...</td>\n",
              "      <td>AAAA-MM-DD</td>\n",
              "    </tr>\n",
              "    <tr>\n",
              "      <th>11</th>\n",
              "      <td>12</td>\n",
              "      <td>FECHA_SINTOMAS</td>\n",
              "      <td>Idenitifica la fecha en que inició la sintomat...</td>\n",
              "      <td>AAAA-MM-DD</td>\n",
              "    </tr>\n",
              "    <tr>\n",
              "      <th>12</th>\n",
              "      <td>13</td>\n",
              "      <td>FECHA_DEF</td>\n",
              "      <td>Identifica la fecha en que el paciente falleció.</td>\n",
              "      <td>AAAA-MM-DD</td>\n",
              "    </tr>\n",
              "    <tr>\n",
              "      <th>13</th>\n",
              "      <td>14</td>\n",
              "      <td>INTUBADO</td>\n",
              "      <td>Identifica si el paciente requirió de intubación.</td>\n",
              "      <td>CATÁLOGO: SI_ NO                              ...</td>\n",
              "    </tr>\n",
              "    <tr>\n",
              "      <th>14</th>\n",
              "      <td>15</td>\n",
              "      <td>NEUMONIA</td>\n",
              "      <td>Identifica si al paciente se le diagnosticó co...</td>\n",
              "      <td>CATÁLOGO: SI_ NO                              ...</td>\n",
              "    </tr>\n",
              "    <tr>\n",
              "      <th>15</th>\n",
              "      <td>16</td>\n",
              "      <td>EDAD</td>\n",
              "      <td>Identifica la edad del paciente.</td>\n",
              "      <td>NÚMERICA EN AÑOS</td>\n",
              "    </tr>\n",
              "    <tr>\n",
              "      <th>16</th>\n",
              "      <td>17</td>\n",
              "      <td>NACIONALIDAD</td>\n",
              "      <td>Identifica si el paciente es mexicano o extran...</td>\n",
              "      <td>CATÁLOGO: NACIONALIDAD</td>\n",
              "    </tr>\n",
              "    <tr>\n",
              "      <th>17</th>\n",
              "      <td>18</td>\n",
              "      <td>EMBARAZO</td>\n",
              "      <td>Identifica si la paciente está embarazada.</td>\n",
              "      <td>CATÁLOGO: SI_ NO                              ...</td>\n",
              "    </tr>\n",
              "    <tr>\n",
              "      <th>18</th>\n",
              "      <td>19</td>\n",
              "      <td>HABLA_LENGUA_INDIG</td>\n",
              "      <td>Identifica si el paciente habla lengua índigena.</td>\n",
              "      <td>CATÁLOGO: SI_ NO                              ...</td>\n",
              "    </tr>\n",
              "    <tr>\n",
              "      <th>19</th>\n",
              "      <td>20</td>\n",
              "      <td>DIABETES</td>\n",
              "      <td>Identifica si el paciente tiene un diagnóstico...</td>\n",
              "      <td>CATÁLOGO: SI_ NO                              ...</td>\n",
              "    </tr>\n",
              "    <tr>\n",
              "      <th>20</th>\n",
              "      <td>21</td>\n",
              "      <td>EPOC</td>\n",
              "      <td>Identifica si el paciente tiene un diagnóstico...</td>\n",
              "      <td>CATÁLOGO: SI_ NO                              ...</td>\n",
              "    </tr>\n",
              "    <tr>\n",
              "      <th>21</th>\n",
              "      <td>22</td>\n",
              "      <td>ASMA</td>\n",
              "      <td>Identifica si el paciente tiene un diagnóstico...</td>\n",
              "      <td>CATÁLOGO: SI_ NO                              ...</td>\n",
              "    </tr>\n",
              "    <tr>\n",
              "      <th>22</th>\n",
              "      <td>23</td>\n",
              "      <td>INMUSUPR</td>\n",
              "      <td>Identifica si el paciente presenta inmunosupre...</td>\n",
              "      <td>CATÁLOGO: SI_ NO                              ...</td>\n",
              "    </tr>\n",
              "    <tr>\n",
              "      <th>23</th>\n",
              "      <td>24</td>\n",
              "      <td>HIPERTENSION</td>\n",
              "      <td>Identifica si el paciente tiene un diagnóstico...</td>\n",
              "      <td>CATÁLOGO: SI_ NO                              ...</td>\n",
              "    </tr>\n",
              "    <tr>\n",
              "      <th>24</th>\n",
              "      <td>25</td>\n",
              "      <td>OTRAS_COM</td>\n",
              "      <td>Identifica si el paciente tiene diagnóstico de...</td>\n",
              "      <td>CATÁLOGO: SI_ NO                              ...</td>\n",
              "    </tr>\n",
              "    <tr>\n",
              "      <th>25</th>\n",
              "      <td>26</td>\n",
              "      <td>CARDIOVASCULAR</td>\n",
              "      <td>Identifica si el paciente tiene un diagnóstico...</td>\n",
              "      <td>CATÁLOGO: SI_ NO                              ...</td>\n",
              "    </tr>\n",
              "    <tr>\n",
              "      <th>26</th>\n",
              "      <td>27</td>\n",
              "      <td>OBESIDAD</td>\n",
              "      <td>Identifica si el paciente tiene diagnóstico de...</td>\n",
              "      <td>CATÁLOGO: SI_ NO                              ...</td>\n",
              "    </tr>\n",
              "    <tr>\n",
              "      <th>27</th>\n",
              "      <td>28</td>\n",
              "      <td>RENAL_CRONICA</td>\n",
              "      <td>Identifica si el paciente tiene diagnóstico de...</td>\n",
              "      <td>CATÁLOGO: SI_ NO                              ...</td>\n",
              "    </tr>\n",
              "    <tr>\n",
              "      <th>28</th>\n",
              "      <td>29</td>\n",
              "      <td>TABAQUISMO</td>\n",
              "      <td>Identifica si el paciente tiene hábito de taba...</td>\n",
              "      <td>CATÁLOGO: SI_ NO                              ...</td>\n",
              "    </tr>\n",
              "    <tr>\n",
              "      <th>29</th>\n",
              "      <td>30</td>\n",
              "      <td>OTRO_CASO</td>\n",
              "      <td>Identifica si el paciente tuvo contacto con al...</td>\n",
              "      <td>CATÁLOGO: SI_ NO                              ...</td>\n",
              "    </tr>\n",
              "    <tr>\n",
              "      <th>30</th>\n",
              "      <td>31</td>\n",
              "      <td>RESULTADO</td>\n",
              "      <td>Identifica el resultado del análisis de la mue...</td>\n",
              "      <td>CATÁLOGO: RESULTADO</td>\n",
              "    </tr>\n",
              "    <tr>\n",
              "      <th>31</th>\n",
              "      <td>32</td>\n",
              "      <td>MIGRANTE</td>\n",
              "      <td>Identifica si el paciente es una persona migra...</td>\n",
              "      <td>CATÁLOGO: SI_ NO                              ...</td>\n",
              "    </tr>\n",
              "    <tr>\n",
              "      <th>32</th>\n",
              "      <td>33</td>\n",
              "      <td>PAIS_NACIONALIDAD</td>\n",
              "      <td>Identifica la nacionalidad del paciente.</td>\n",
              "      <td>TEXTO, 99= SE IGNORA</td>\n",
              "    </tr>\n",
              "    <tr>\n",
              "      <th>33</th>\n",
              "      <td>34</td>\n",
              "      <td>PAIS_ORIGEN</td>\n",
              "      <td>Identifica el país del que partió el paciente ...</td>\n",
              "      <td>TEXTO, 97= NO APLICA</td>\n",
              "    </tr>\n",
              "    <tr>\n",
              "      <th>34</th>\n",
              "      <td>35</td>\n",
              "      <td>UCI</td>\n",
              "      <td>Identifica si el paciente requirió ingresar a ...</td>\n",
              "      <td>CATÁLOGO: SI_ NO                              ...</td>\n",
              "    </tr>\n",
              "  </tbody>\n",
              "</table>\n",
              "</div>"
            ],
            "text/plain": [
              "    Nº  ...                                   FORMATO O FUENTE\n",
              "0    1  ...                                         AAAA-MM-DD\n",
              "1    2  ...                                             TEXTO \n",
              "2    3  ...  CATÁLOGO: ORIGEN                              ...\n",
              "3    4  ...  CATÁLOGO: SECTOR                              ...\n",
              "4    5  ...                                CATALÓGO: ENTIDADES\n",
              "5    6  ...       CATÁLOGO: SEXO                              \n",
              "6    7  ...                                CATALÓGO: ENTIDADES\n",
              "7    8  ...                                CATALÓGO: ENTIDADES\n",
              "8    9  ...                               CATALÓGO: MUNICIPIOS\n",
              "9   10  ...                           CATÁLOGO: TIPO_PACIENTE \n",
              "10  11  ...                                         AAAA-MM-DD\n",
              "11  12  ...                                         AAAA-MM-DD\n",
              "12  13  ...                                         AAAA-MM-DD\n",
              "13  14  ...  CATÁLOGO: SI_ NO                              ...\n",
              "14  15  ...  CATÁLOGO: SI_ NO                              ...\n",
              "15  16  ...                                   NÚMERICA EN AÑOS\n",
              "16  17  ...                            CATÁLOGO: NACIONALIDAD \n",
              "17  18  ...  CATÁLOGO: SI_ NO                              ...\n",
              "18  19  ...  CATÁLOGO: SI_ NO                              ...\n",
              "19  20  ...  CATÁLOGO: SI_ NO                              ...\n",
              "20  21  ...  CATÁLOGO: SI_ NO                              ...\n",
              "21  22  ...  CATÁLOGO: SI_ NO                              ...\n",
              "22  23  ...  CATÁLOGO: SI_ NO                              ...\n",
              "23  24  ...  CATÁLOGO: SI_ NO                              ...\n",
              "24  25  ...  CATÁLOGO: SI_ NO                              ...\n",
              "25  26  ...  CATÁLOGO: SI_ NO                              ...\n",
              "26  27  ...  CATÁLOGO: SI_ NO                              ...\n",
              "27  28  ...  CATÁLOGO: SI_ NO                              ...\n",
              "28  29  ...  CATÁLOGO: SI_ NO                              ...\n",
              "29  30  ...  CATÁLOGO: SI_ NO                              ...\n",
              "30  31  ...                                CATÁLOGO: RESULTADO\n",
              "31  32  ...  CATÁLOGO: SI_ NO                              ...\n",
              "32  33  ...                               TEXTO, 99= SE IGNORA\n",
              "33  34  ...                               TEXTO, 97= NO APLICA\n",
              "34  35  ...  CATÁLOGO: SI_ NO                              ...\n",
              "\n",
              "[35 rows x 4 columns]"
            ]
          },
          "metadata": {
            "tags": []
          },
          "execution_count": 67
        }
      ]
    },
    {
      "cell_type": "markdown",
      "metadata": {
        "id": "vpXR83GDuE8H",
        "colab_type": "text"
      },
      "source": [
        "Finalmente, cargamos el archivo de catálogos."
      ]
    },
    {
      "cell_type": "code",
      "metadata": {
        "id": "LeK0_2pjog0Z",
        "colab_type": "code",
        "colab": {}
      },
      "source": [
        "nombre_cat = 'Catalogos_0412.xlsx'\n",
        "sheets = ['ORIGEN', 'SECTOR', 'SEXO', 'TIPO_PACIENTE', 'SI_NO', 'NACIONALIDAD', 'RESULTADO', 'de ENTIDADES', 'MUNICIPIOS']\n",
        "catalogues = {}\n",
        "for sheet in sheets:\n",
        "  catalogue = pd.read_excel(nombre_cat, sheet_name='Catálogo ' + sheet)\n",
        "  catalogue.columns = catalogue.columns.str.replace(' ', '_')\n",
        "  catalogue.columns = catalogue.columns.str.replace('.', '')\n",
        "  catalogue.columns = catalogue.columns.str.lower()\n",
        "  new_catalogue = {sheet: catalogue}\n",
        "  catalogues.update(new_catalogue)"
      ],
      "execution_count": 68,
      "outputs": []
    },
    {
      "cell_type": "code",
      "metadata": {
        "id": "IULUsvUPbAdw",
        "colab_type": "code",
        "colab": {
          "base_uri": "https://localhost:8080/",
          "height": 1000
        },
<<<<<<< HEAD
        "outputId": "9724de55-f20b-4761-ec6d-7dbe86f6277d"
=======
        "outputId": "741d21ce-6d8e-4d77-e092-355c3f6fc291"
>>>>>>> aa312e54162503d558ce67a1e6f38bac0e0ba1ce
      },
      "source": [
        "catalogues"
      ],
      "execution_count": 69,
      "outputs": [
        {
          "output_type": "execute_result",
          "data": {
            "text/plain": [
              "{'MUNICIPIOS':       clave_municipio        municipio  clave_entidad\n",
              " 0                   1   AGUASCALIENTES              1\n",
              " 1                   2         ASIENTOS              1\n",
              " 2                   3         CALVILLO              1\n",
              " 3                   4            COSÍO              1\n",
              " 4                   5      JESÚS MARÍA              1\n",
              " ...               ...              ...            ...\n",
              " 2496              999  NO ESPECIFICADO             32\n",
              " 2497              999  NO ESPECIFICADO             36\n",
              " 2498              997        NO APLICA             97\n",
              " 2499              998        SE IGNORA             98\n",
              " 2500              999  NO ESPECIFICADO             99\n",
              " \n",
              " [2501 rows x 3 columns], 'NACIONALIDAD':    clave      descripción\n",
              " 0      1         MEXICANA\n",
              " 1      2       EXTRANJERA\n",
              " 2     99  NO ESPECIFICADO, 'ORIGEN':    clave      descripción\n",
              " 0      1            USMER\n",
              " 1      2   FUERA DE USMER\n",
              " 2     99  NO ESPECIFICADO, 'RESULTADO':    clave             descripción\n",
              " 0      1     Positivo SARS-CoV-2\n",
              " 1      2  No positivo SARS-CoV-2\n",
              " 2      3     Resultado pendiente, 'SECTOR':     clave      descripción\n",
              " 0       1        CRUZ ROJA\n",
              " 1       2              DIF\n",
              " 2       3          ESTATAL\n",
              " 3       4             IMSS\n",
              " 4       5   IMSS-BIENESTAR\n",
              " 5       6           ISSSTE\n",
              " 6       7        MUNICIPAL\n",
              " 7       8            PEMEX\n",
              " 8       9          PRIVADA\n",
              " 9      10           SEDENA\n",
              " 10     11            SEMAR\n",
              " 11     12              SSA\n",
              " 12     13    UNIVERSITARIO\n",
              " 13     99  NO ESPECIFICADO, 'SEXO':    clave      descripción\n",
              " 0      1            MUJER\n",
              " 1      2           HOMBRE\n",
              " 2     99  NO ESPECIFICADO, 'SI_NO':    clave      descripción\n",
              " 0      1              SI \n",
              " 1      2              NO \n",
              " 2     97        NO APLICA\n",
              " 3     98        SE IGNORA\n",
              " 4     99  NO ESPECIFICADO, 'TIPO_PACIENTE':    clave      descripción\n",
              " 0      1      AMBULATORIO\n",
              " 1      2    HOSPITALIZADO\n",
              " 2     99  NO ESPECIFICADO, 'de ENTIDADES':     clave_entidad               entidad_federativa abreviatura\n",
              " 0               1                   AGUASCALIENTES          AS\n",
              " 1               2                  BAJA CALIFORNIA          BC\n",
              " 2               3              BAJA CALIFORNIA SUR          BS\n",
              " 3               4                         CAMPECHE          CC\n",
              " 4               5             COAHUILA DE ZARAGOZA          CL\n",
              " 5               6                           COLIMA          CM\n",
              " 6               7                          CHIAPAS          CS\n",
              " 7               8                        CHIHUAHUA          CH\n",
              " 8               9                 CIUDAD DE MÉXICO          DF\n",
              " 9              10                          DURANGO          DG\n",
              " 10             11                       GUANAJUATO          GT\n",
              " 11             12                         GUERRERO          GR\n",
              " 12             13                          HIDALGO          HG\n",
              " 13             14                          JALISCO          JC\n",
              " 14             15                           MÉXICO          MC\n",
              " 15             16              MICHOACÁN DE OCAMPO          MN\n",
              " 16             17                          MORELOS          MS\n",
              " 17             18                          NAYARIT          NT\n",
              " 18             19                       NUEVO LEÓN          NL\n",
              " 19             20                           OAXACA          OC\n",
              " 20             21                           PUEBLA          PL\n",
              " 21             22                        QUERÉTARO          QT\n",
              " 22             23                     QUINTANA ROO          QR\n",
              " 23             24                  SAN LUIS POTOSÍ          SP\n",
              " 24             25                          SINALOA          SL\n",
              " 25             26                           SONORA          SR\n",
              " 26             27                          TABASCO          TC\n",
              " 27             28                       TAMAULIPAS          TS\n",
              " 28             29                         TLAXCALA          TL\n",
              " 29             30  VERACRUZ DE IGNACIO DE LA LLAVE          VZ\n",
              " 30             31                          YUCATÁN          YN\n",
              " 31             32                        ZACATECAS          ZS\n",
              " 32             36         ESTADOS UNIDOS MEXICANOS         EUM\n",
              " 33             97                        NO APLICA         NaN\n",
              " 34             98                        SE IGNORA          SI\n",
              " 35             99                  NO ESPECIFICADO          NE}"
            ]
          },
          "metadata": {
            "tags": []
          },
          "execution_count": 69
        }
      ]
    },
    {
      "cell_type": "code",
      "metadata": {
        "id": "NgM1QoTJrH7L",
        "colab_type": "code",
        "colab": {
          "base_uri": "https://localhost:8080/",
          "height": 136
        },
<<<<<<< HEAD
        "outputId": "260aa21b-2d55-405b-eda8-6cd860667796"
=======
        "outputId": "17829da6-5c8e-4114-8b73-b14e69fedaad"
>>>>>>> aa312e54162503d558ce67a1e6f38bac0e0ba1ce
      },
      "source": [
        "catalogues['RESULTADO']"
      ],
      "execution_count": 70,
      "outputs": [
        {
          "output_type": "execute_result",
          "data": {
            "text/html": [
              "<div>\n",
              "<style scoped>\n",
              "    .dataframe tbody tr th:only-of-type {\n",
              "        vertical-align: middle;\n",
              "    }\n",
              "\n",
              "    .dataframe tbody tr th {\n",
              "        vertical-align: top;\n",
              "    }\n",
              "\n",
              "    .dataframe thead th {\n",
              "        text-align: right;\n",
              "    }\n",
              "</style>\n",
              "<table border=\"1\" class=\"dataframe\">\n",
              "  <thead>\n",
              "    <tr style=\"text-align: right;\">\n",
              "      <th></th>\n",
              "      <th>clave</th>\n",
              "      <th>descripción</th>\n",
              "    </tr>\n",
              "  </thead>\n",
              "  <tbody>\n",
              "    <tr>\n",
              "      <th>0</th>\n",
              "      <td>1</td>\n",
              "      <td>Positivo SARS-CoV-2</td>\n",
              "    </tr>\n",
              "    <tr>\n",
              "      <th>1</th>\n",
              "      <td>2</td>\n",
              "      <td>No positivo SARS-CoV-2</td>\n",
              "    </tr>\n",
              "    <tr>\n",
              "      <th>2</th>\n",
              "      <td>3</td>\n",
              "      <td>Resultado pendiente</td>\n",
              "    </tr>\n",
              "  </tbody>\n",
              "</table>\n",
              "</div>"
            ],
            "text/plain": [
              "   clave             descripción\n",
              "0      1     Positivo SARS-CoV-2\n",
              "1      2  No positivo SARS-CoV-2\n",
              "2      3     Resultado pendiente"
            ]
          },
          "metadata": {
            "tags": []
          },
          "execution_count": 70
        }
      ]
    },
    {
      "cell_type": "markdown",
      "metadata": {
        "id": "k7GdBenHYvEP",
        "colab_type": "text"
      },
      "source": [
        "##Perfilamiento"
      ]
    },
    {
      "cell_type": "markdown",
      "metadata": {
        "id": "wNIz4rIPthlT",
        "colab_type": "text"
      },
      "source": [
        "###Descripción General"
      ]
    },
    {
      "cell_type": "code",
      "metadata": {
        "id": "8Z0yG6NpYuQf",
        "colab_type": "code",
        "colab": {
          "base_uri": "https://localhost:8080/",
          "height": 50
        },
<<<<<<< HEAD
        "outputId": "9ab8e807-ada7-4b95-8240-b0302a2a2dde"
=======
        "outputId": "fff69e4c-3178-40ac-af6e-62b397730415"
>>>>>>> aa312e54162503d558ce67a1e6f38bac0e0ba1ce
      },
      "source": [
        "# dimensión de los datos\n",
        "print('Número de filas: {}'.format(data.shape[0]))\n",
        "print('Número de columnas: {}'.format(data.shape[1]))"
      ],
      "execution_count": 71,
      "outputs": [
        {
          "output_type": "stream",
          "text": [
<<<<<<< HEAD
            "Número de filas: 1360123\n",
=======
            "Número de filas: 1393033\n",
>>>>>>> aa312e54162503d558ce67a1e6f38bac0e0ba1ce
            "Número de columnas: 35\n"
          ],
          "name": "stdout"
        }
      ]
    },
    {
      "cell_type": "code",
      "metadata": {
        "id": "A6qtrLh6jtyG",
        "colab_type": "code",
        "colab": {
          "base_uri": "https://localhost:8080/",
          "height": 168
        },
<<<<<<< HEAD
        "outputId": "052f417b-407b-484f-b5e2-0c63905e314c"
=======
        "outputId": "fe4f7ba8-9a34-413d-a786-df59c663de81"
>>>>>>> aa312e54162503d558ce67a1e6f38bac0e0ba1ce
      },
      "source": [
        "# columnas (variables)\n",
        "data.columns"
      ],
      "execution_count": 72,
      "outputs": [
        {
          "output_type": "execute_result",
          "data": {
            "text/plain": [
              "Index(['FECHA_ACTUALIZACION', 'ID_REGISTRO', 'ORIGEN', 'SECTOR', 'ENTIDAD_UM',\n",
              "       'SEXO', 'ENTIDAD_NAC', 'ENTIDAD_RES', 'MUNICIPIO_RES', 'TIPO_PACIENTE',\n",
              "       'FECHA_INGRESO', 'FECHA_SINTOMAS', 'FECHA_DEF', 'INTUBADO', 'NEUMONIA',\n",
              "       'EDAD', 'NACIONALIDAD', 'EMBARAZO', 'HABLA_LENGUA_INDIG', 'DIABETES',\n",
              "       'EPOC', 'ASMA', 'INMUSUPR', 'HIPERTENSION', 'OTRA_COM',\n",
              "       'CARDIOVASCULAR', 'OBESIDAD', 'RENAL_CRONICA', 'TABAQUISMO',\n",
              "       'OTRO_CASO', 'RESULTADO', 'MIGRANTE', 'PAIS_NACIONALIDAD',\n",
              "       'PAIS_ORIGEN', 'UCI'],\n",
              "      dtype='object')"
            ]
          },
          "metadata": {
            "tags": []
          },
          "execution_count": 72
        }
      ]
    },
    {
      "cell_type": "code",
      "metadata": {
        "id": "VQ2HbSGq2R9N",
        "colab_type": "code",
        "colab": {}
      },
      "source": [
        "# limpieza del nombre de las columnas, remover espacios, carácteres especiales y pasar a minúsculas\n",
        "data.columns = data.columns.str.replace(' ', '_')\n",
        "data.columns = data.columns.str.replace('.', '')\n",
        "data.columns = data.columns.str.lower()"
      ],
      "execution_count": 73,
      "outputs": []
    },
    {
      "cell_type": "code",
      "metadata": {
        "id": "hrkEFAj-AE9r",
        "colab_type": "code",
        "colab": {
          "base_uri": "https://localhost:8080/",
          "height": 605
        },
<<<<<<< HEAD
        "outputId": "a41c6e11-3bdb-4268-bf28-c90b3dc561f4"
=======
        "outputId": "b3f5e2b7-004a-46eb-f037-d2c49b9f6a98"
>>>>>>> aa312e54162503d558ce67a1e6f38bac0e0ba1ce
      },
      "source": [
        "# calcular número de valores nulos por columna\n",
        "for col in data.columns:\n",
        "  print('Valores nulos en \"{}\": {}'.format(col,data[col].isna().sum()))"
      ],
      "execution_count": 74,
      "outputs": [
        {
          "output_type": "stream",
          "text": [
            "Valores nulos en \"fecha_actualizacion\": 0\n",
            "Valores nulos en \"id_registro\": 0\n",
            "Valores nulos en \"origen\": 0\n",
            "Valores nulos en \"sector\": 0\n",
            "Valores nulos en \"entidad_um\": 0\n",
            "Valores nulos en \"sexo\": 0\n",
            "Valores nulos en \"entidad_nac\": 0\n",
            "Valores nulos en \"entidad_res\": 0\n",
            "Valores nulos en \"municipio_res\": 0\n",
            "Valores nulos en \"tipo_paciente\": 0\n",
            "Valores nulos en \"fecha_ingreso\": 0\n",
            "Valores nulos en \"fecha_sintomas\": 0\n",
            "Valores nulos en \"fecha_def\": 0\n",
            "Valores nulos en \"intubado\": 0\n",
            "Valores nulos en \"neumonia\": 0\n",
            "Valores nulos en \"edad\": 0\n",
            "Valores nulos en \"nacionalidad\": 0\n",
            "Valores nulos en \"embarazo\": 0\n",
            "Valores nulos en \"habla_lengua_indig\": 0\n",
            "Valores nulos en \"diabetes\": 0\n",
            "Valores nulos en \"epoc\": 0\n",
            "Valores nulos en \"asma\": 0\n",
            "Valores nulos en \"inmusupr\": 0\n",
            "Valores nulos en \"hipertension\": 0\n",
            "Valores nulos en \"otra_com\": 0\n",
            "Valores nulos en \"cardiovascular\": 0\n",
            "Valores nulos en \"obesidad\": 0\n",
            "Valores nulos en \"renal_cronica\": 0\n",
            "Valores nulos en \"tabaquismo\": 0\n",
            "Valores nulos en \"otro_caso\": 0\n",
            "Valores nulos en \"resultado\": 0\n",
            "Valores nulos en \"migrante\": 0\n",
            "Valores nulos en \"pais_nacionalidad\": 0\n",
            "Valores nulos en \"pais_origen\": 0\n",
            "Valores nulos en \"uci\": 0\n"
          ],
          "name": "stdout"
        }
      ]
    },
    {
      "cell_type": "code",
      "metadata": {
        "id": "Qy-R4MkOkz7G",
        "colab_type": "code",
        "colab": {
          "base_uri": "https://localhost:8080/",
          "height": 622
        },
<<<<<<< HEAD
        "outputId": "efd26e8f-370e-4839-a3fb-56a1a576788c"
=======
        "outputId": "5f54cacf-cb4e-43d6-dd7a-7f36d0daf5d5"
>>>>>>> aa312e54162503d558ce67a1e6f38bac0e0ba1ce
      },
      "source": [
        "# tipos de datos\n",
        "data.dtypes"
      ],
      "execution_count": 75,
      "outputs": [
        {
          "output_type": "execute_result",
          "data": {
            "text/plain": [
              "fecha_actualizacion    object\n",
              "id_registro            object\n",
              "origen                  int64\n",
              "sector                  int64\n",
              "entidad_um              int64\n",
              "sexo                    int64\n",
              "entidad_nac             int64\n",
              "entidad_res             int64\n",
              "municipio_res           int64\n",
              "tipo_paciente           int64\n",
              "fecha_ingreso          object\n",
              "fecha_sintomas         object\n",
              "fecha_def              object\n",
              "intubado                int64\n",
              "neumonia                int64\n",
              "edad                    int64\n",
              "nacionalidad            int64\n",
              "embarazo                int64\n",
              "habla_lengua_indig      int64\n",
              "diabetes                int64\n",
              "epoc                    int64\n",
              "asma                    int64\n",
              "inmusupr                int64\n",
              "hipertension            int64\n",
              "otra_com                int64\n",
              "cardiovascular          int64\n",
              "obesidad                int64\n",
              "renal_cronica           int64\n",
              "tabaquismo              int64\n",
              "otro_caso               int64\n",
              "resultado               int64\n",
              "migrante                int64\n",
              "pais_nacionalidad      object\n",
              "pais_origen            object\n",
              "uci                     int64\n",
              "dtype: object"
            ]
          },
          "metadata": {
            "tags": []
          },
          "execution_count": 75
        }
      ]
    },
    {
      "cell_type": "markdown",
      "metadata": {
        "id": "7ckFUUobuRH2",
        "colab_type": "text"
      },
      "source": [
        "###Limpieza"
      ]
    },
    {
      "cell_type": "code",
      "metadata": {
        "id": "4ISn-U85uWLn",
        "colab_type": "code",
        "colab": {}
      },
      "source": [
        "# convertimos a fecha algunas columnas\n",
        "def cast_datetime_cols(df):\n",
        "    timestamp_cols = [col for col in df.columns if \"fecha\" in col]\n",
        "    df[timestamp_cols] = df[timestamp_cols].apply(lambda date_col: pd.to_datetime(date_col, errors=\"coerce\"), axis=0)\n",
        "    return df\n",
        "\n",
        "data = cast_datetime_cols(data)"
      ],
      "execution_count": 76,
      "outputs": []
    },
    {
      "cell_type": "code",
      "metadata": {
        "id": "xU9ymprGxJ7r",
        "colab_type": "code",
        "colab": {
          "base_uri": "https://localhost:8080/",
          "height": 232
        },
<<<<<<< HEAD
        "outputId": "bf153678-f484-4d25-bebb-eb04f094b081"
=======
        "outputId": "515794e2-9b1c-4732-b0f2-ea0531b88fc8"
>>>>>>> aa312e54162503d558ce67a1e6f38bac0e0ba1ce
      },
      "source": [
        "data.head()"
      ],
      "execution_count": 77,
      "outputs": [
        {
          "output_type": "execute_result",
          "data": {
            "text/html": [
              "<div>\n",
              "<style scoped>\n",
              "    .dataframe tbody tr th:only-of-type {\n",
              "        vertical-align: middle;\n",
              "    }\n",
              "\n",
              "    .dataframe tbody tr th {\n",
              "        vertical-align: top;\n",
              "    }\n",
              "\n",
              "    .dataframe thead th {\n",
              "        text-align: right;\n",
              "    }\n",
              "</style>\n",
              "<table border=\"1\" class=\"dataframe\">\n",
              "  <thead>\n",
              "    <tr style=\"text-align: right;\">\n",
              "      <th></th>\n",
              "      <th>fecha_actualizacion</th>\n",
              "      <th>id_registro</th>\n",
              "      <th>origen</th>\n",
              "      <th>sector</th>\n",
              "      <th>entidad_um</th>\n",
              "      <th>sexo</th>\n",
              "      <th>entidad_nac</th>\n",
              "      <th>entidad_res</th>\n",
              "      <th>municipio_res</th>\n",
              "      <th>tipo_paciente</th>\n",
              "      <th>fecha_ingreso</th>\n",
              "      <th>fecha_sintomas</th>\n",
              "      <th>fecha_def</th>\n",
              "      <th>intubado</th>\n",
              "      <th>neumonia</th>\n",
              "      <th>edad</th>\n",
              "      <th>nacionalidad</th>\n",
              "      <th>embarazo</th>\n",
              "      <th>habla_lengua_indig</th>\n",
              "      <th>diabetes</th>\n",
              "      <th>epoc</th>\n",
              "      <th>asma</th>\n",
              "      <th>inmusupr</th>\n",
              "      <th>hipertension</th>\n",
              "      <th>otra_com</th>\n",
              "      <th>cardiovascular</th>\n",
              "      <th>obesidad</th>\n",
              "      <th>renal_cronica</th>\n",
              "      <th>tabaquismo</th>\n",
              "      <th>otro_caso</th>\n",
              "      <th>resultado</th>\n",
              "      <th>migrante</th>\n",
              "      <th>pais_nacionalidad</th>\n",
              "      <th>pais_origen</th>\n",
              "      <th>uci</th>\n",
              "    </tr>\n",
              "  </thead>\n",
              "  <tbody>\n",
              "    <tr>\n",
              "      <th>0</th>\n",
<<<<<<< HEAD
              "      <td>2020-09-01</td>\n",
              "      <td>0b79a6</td>\n",
              "      <td>2</td>\n",
              "      <td>3</td>\n",
              "      <td>15</td>\n",
              "      <td>1</td>\n",
              "      <td>9</td>\n",
              "      <td>15</td>\n",
              "      <td>106</td>\n",
              "      <td>1</td>\n",
              "      <td>2020-07-01</td>\n",
              "      <td>2020-06-28</td>\n",
              "      <td>NaT</td>\n",
              "      <td>97</td>\n",
              "      <td>2</td>\n",
              "      <td>30</td>\n",
=======
              "      <td>2020-09-03</td>\n",
              "      <td>097d14</td>\n",
              "      <td>2</td>\n",
              "      <td>3</td>\n",
              "      <td>2</td>\n",
              "      <td>2</td>\n",
              "      <td>2</td>\n",
              "      <td>2</td>\n",
              "      <td>2</td>\n",
              "      <td>1</td>\n",
              "      <td>2020-06-10</td>\n",
              "      <td>2020-06-10</td>\n",
              "      <td>NaT</td>\n",
              "      <td>97</td>\n",
              "      <td>2</td>\n",
              "      <td>27</td>\n",
>>>>>>> aa312e54162503d558ce67a1e6f38bac0e0ba1ce
              "      <td>1</td>\n",
              "      <td>2</td>\n",
              "      <td>2</td>\n",
              "      <td>2</td>\n",
              "      <td>2</td>\n",
              "      <td>2</td>\n",
              "      <td>2</td>\n",
              "      <td>2</td>\n",
              "      <td>2</td>\n",
              "      <td>2</td>\n",
              "      <td>1</td>\n",
              "      <td>2</td>\n",
              "      <td>2</td>\n",
              "      <td>1</td>\n",
              "      <td>1</td>\n",
              "      <td>99</td>\n",
              "      <td>MÃ©xico</td>\n",
              "      <td>99</td>\n",
              "      <td>97</td>\n",
              "    </tr>\n",
              "    <tr>\n",
              "      <th>1</th>\n",
<<<<<<< HEAD
              "      <td>2020-09-01</td>\n",
              "      <td>1b0c85</td>\n",
              "      <td>2</td>\n",
              "      <td>4</td>\n",
              "      <td>5</td>\n",
              "      <td>1</td>\n",
              "      <td>24</td>\n",
              "      <td>5</td>\n",
              "      <td>30</td>\n",
              "      <td>1</td>\n",
              "      <td>2020-04-03</td>\n",
              "      <td>2020-03-30</td>\n",
              "      <td>NaT</td>\n",
              "      <td>97</td>\n",
              "      <td>2</td>\n",
              "      <td>64</td>\n",
=======
              "      <td>2020-09-03</td>\n",
              "      <td>1b7adb</td>\n",
              "      <td>2</td>\n",
              "      <td>4</td>\n",
              "      <td>2</td>\n",
              "      <td>2</td>\n",
              "      <td>12</td>\n",
              "      <td>2</td>\n",
              "      <td>4</td>\n",
              "      <td>2</td>\n",
              "      <td>2020-04-29</td>\n",
              "      <td>2020-04-15</td>\n",
              "      <td>2020-04-30</td>\n",
              "      <td>2</td>\n",
              "      <td>1</td>\n",
              "      <td>64</td>\n",
              "      <td>1</td>\n",
              "      <td>97</td>\n",
              "      <td>2</td>\n",
>>>>>>> aa312e54162503d558ce67a1e6f38bac0e0ba1ce
              "      <td>1</td>\n",
              "      <td>2</td>\n",
              "      <td>2</td>\n",
              "      <td>2</td>\n",
<<<<<<< HEAD
              "      <td>2</td>\n",
              "      <td>2</td>\n",
=======
              "      <td>1</td>\n",
>>>>>>> aa312e54162503d558ce67a1e6f38bac0e0ba1ce
              "      <td>2</td>\n",
              "      <td>2</td>\n",
              "      <td>2</td>\n",
              "      <td>2</td>\n",
              "      <td>2</td>\n",
              "      <td>2</td>\n",
              "      <td>2</td>\n",
              "      <td>1</td>\n",
              "      <td>1</td>\n",
              "      <td>99</td>\n",
              "      <td>MÃ©xico</td>\n",
              "      <td>99</td>\n",
              "      <td>2</td>\n",
              "    </tr>\n",
              "    <tr>\n",
              "      <th>2</th>\n",
<<<<<<< HEAD
              "      <td>2020-09-01</td>\n",
              "      <td>17ae86</td>\n",
              "      <td>2</td>\n",
              "      <td>4</td>\n",
              "      <td>2</td>\n",
              "      <td>1</td>\n",
              "      <td>30</td>\n",
              "      <td>2</td>\n",
              "      <td>3</td>\n",
              "      <td>2</td>\n",
              "      <td>2020-04-14</td>\n",
              "      <td>2020-04-14</td>\n",
              "      <td>2020-04-24</td>\n",
              "      <td>2</td>\n",
              "      <td>1</td>\n",
              "      <td>50</td>\n",
              "      <td>1</td>\n",
=======
              "      <td>2020-09-03</td>\n",
              "      <td>11daaa</td>\n",
              "      <td>2</td>\n",
              "      <td>3</td>\n",
              "      <td>27</td>\n",
              "      <td>1</td>\n",
              "      <td>27</td>\n",
              "      <td>27</td>\n",
              "      <td>15</td>\n",
              "      <td>1</td>\n",
              "      <td>2020-05-26</td>\n",
              "      <td>2020-05-26</td>\n",
              "      <td>NaT</td>\n",
              "      <td>97</td>\n",
              "      <td>2</td>\n",
              "      <td>32</td>\n",
              "      <td>1</td>\n",
              "      <td>2</td>\n",
              "      <td>99</td>\n",
              "      <td>2</td>\n",
>>>>>>> aa312e54162503d558ce67a1e6f38bac0e0ba1ce
              "      <td>2</td>\n",
              "      <td>2</td>\n",
              "      <td>1</td>\n",
              "      <td>2</td>\n",
              "      <td>2</td>\n",
              "      <td>2</td>\n",
              "      <td>2</td>\n",
              "      <td>2</td>\n",
              "      <td>2</td>\n",
              "      <td>2</td>\n",
              "      <td>99</td>\n",
              "      <td>1</td>\n",
              "      <td>99</td>\n",
              "      <td>MÃ©xico</td>\n",
              "      <td>99</td>\n",
              "      <td>2</td>\n",
              "    </tr>\n",
              "    <tr>\n",
              "      <th>3</th>\n",
<<<<<<< HEAD
              "      <td>2020-09-01</td>\n",
              "      <td>14df1c</td>\n",
              "      <td>2</td>\n",
              "      <td>4</td>\n",
              "      <td>31</td>\n",
              "      <td>2</td>\n",
              "      <td>31</td>\n",
              "      <td>31</td>\n",
              "      <td>101</td>\n",
              "      <td>1</td>\n",
              "      <td>2020-04-23</td>\n",
              "      <td>2020-04-22</td>\n",
              "      <td>NaT</td>\n",
              "      <td>97</td>\n",
              "      <td>2</td>\n",
              "      <td>27</td>\n",
=======
              "      <td>2020-09-03</td>\n",
              "      <td>17c9eb</td>\n",
              "      <td>2</td>\n",
              "      <td>3</td>\n",
              "      <td>27</td>\n",
              "      <td>1</td>\n",
              "      <td>27</td>\n",
              "      <td>27</td>\n",
              "      <td>13</td>\n",
              "      <td>1</td>\n",
              "      <td>2020-06-05</td>\n",
              "      <td>2020-05-31</td>\n",
              "      <td>NaT</td>\n",
              "      <td>97</td>\n",
              "      <td>2</td>\n",
              "      <td>54</td>\n",
>>>>>>> aa312e54162503d558ce67a1e6f38bac0e0ba1ce
              "      <td>1</td>\n",
              "      <td>97</td>\n",
              "      <td>2</td>\n",
              "      <td>1</td>\n",
              "      <td>2</td>\n",
              "      <td>2</td>\n",
              "      <td>2</td>\n",
              "      <td>1</td>\n",
              "      <td>2</td>\n",
              "      <td>2</td>\n",
              "      <td>2</td>\n",
              "      <td>2</td>\n",
              "      <td>2</td>\n",
              "      <td>1</td>\n",
              "      <td>1</td>\n",
              "      <td>99</td>\n",
              "      <td>MÃ©xico</td>\n",
              "      <td>99</td>\n",
              "      <td>97</td>\n",
              "    </tr>\n",
              "    <tr>\n",
              "      <th>4</th>\n",
<<<<<<< HEAD
              "      <td>2020-09-01</td>\n",
              "      <td>0f3272</td>\n",
              "      <td>2</td>\n",
              "      <td>4</td>\n",
              "      <td>1</td>\n",
              "      <td>2</td>\n",
              "      <td>1</td>\n",
              "      <td>1</td>\n",
              "      <td>5</td>\n",
              "      <td>1</td>\n",
              "      <td>2020-04-26</td>\n",
              "      <td>2020-04-23</td>\n",
              "      <td>NaT</td>\n",
              "      <td>97</td>\n",
              "      <td>2</td>\n",
              "      <td>53</td>\n",
              "      <td>1</td>\n",
              "      <td>97</td>\n",
=======
              "      <td>2020-09-03</td>\n",
              "      <td>14f12c</td>\n",
              "      <td>2</td>\n",
              "      <td>4</td>\n",
              "      <td>17</td>\n",
              "      <td>1</td>\n",
              "      <td>3</td>\n",
              "      <td>17</td>\n",
              "      <td>7</td>\n",
              "      <td>1</td>\n",
              "      <td>2020-04-02</td>\n",
              "      <td>2020-04-01</td>\n",
              "      <td>NaT</td>\n",
              "      <td>97</td>\n",
              "      <td>2</td>\n",
              "      <td>44</td>\n",
              "      <td>1</td>\n",
>>>>>>> aa312e54162503d558ce67a1e6f38bac0e0ba1ce
              "      <td>2</td>\n",
              "      <td>2</td>\n",
              "      <td>2</td>\n",
              "      <td>2</td>\n",
              "      <td>2</td>\n",
              "      <td>2</td>\n",
              "      <td>2</td>\n",
              "      <td>1</td>\n",
              "      <td>2</td>\n",
              "      <td>2</td>\n",
              "      <td>2</td>\n",
              "      <td>2</td>\n",
              "      <td>99</td>\n",
              "      <td>1</td>\n",
              "      <td>99</td>\n",
              "      <td>MÃ©xico</td>\n",
              "      <td>99</td>\n",
              "      <td>97</td>\n",
              "    </tr>\n",
              "  </tbody>\n",
              "</table>\n",
              "</div>"
            ],
            "text/plain": [
              "  fecha_actualizacion id_registro  origen  ...  pais_nacionalidad  pais_origen  uci\n",
<<<<<<< HEAD
              "0          2020-09-01      0b79a6       2  ...            MÃ©xico           99   97\n",
              "1          2020-09-01      1b0c85       2  ...            MÃ©xico           99   97\n",
              "2          2020-09-01      17ae86       2  ...            MÃ©xico           99    2\n",
              "3          2020-09-01      14df1c       2  ...            MÃ©xico           99   97\n",
              "4          2020-09-01      0f3272       2  ...            MÃ©xico           99   97\n",
=======
              "0          2020-09-03      097d14       2  ...            MÃ©xico           99   97\n",
              "1          2020-09-03      1b7adb       2  ...            MÃ©xico           99    2\n",
              "2          2020-09-03      11daaa       2  ...            MÃ©xico           99   97\n",
              "3          2020-09-03      17c9eb       2  ...            MÃ©xico           99   97\n",
              "4          2020-09-03      14f12c       2  ...            MÃ©xico           99   97\n",
>>>>>>> aa312e54162503d558ce67a1e6f38bac0e0ba1ce
              "\n",
              "[5 rows x 35 columns]"
            ]
          },
          "metadata": {
            "tags": []
          },
          "execution_count": 77
        }
      ]
    },
    {
      "cell_type": "code",
      "metadata": {
        "id": "s111F6_T1sVs",
        "colab_type": "code",
        "colab": {
          "base_uri": "https://localhost:8080/",
          "height": 622
        },
        "outputId": "d626c68c-45ad-4504-ada0-7f6132da1f6d"
      },
      "source": [
        "data.dtypes"
      ],
      "execution_count": 78,
      "outputs": [
        {
          "output_type": "execute_result",
          "data": {
            "text/plain": [
              "fecha_actualizacion    datetime64[ns]\n",
              "id_registro                    object\n",
              "origen                          int64\n",
              "sector                          int64\n",
              "entidad_um                      int64\n",
              "sexo                            int64\n",
              "entidad_nac                     int64\n",
              "entidad_res                     int64\n",
              "municipio_res                   int64\n",
              "tipo_paciente                   int64\n",
              "fecha_ingreso          datetime64[ns]\n",
              "fecha_sintomas         datetime64[ns]\n",
              "fecha_def              datetime64[ns]\n",
              "intubado                        int64\n",
              "neumonia                        int64\n",
              "edad                            int64\n",
              "nacionalidad                    int64\n",
              "embarazo                        int64\n",
              "habla_lengua_indig              int64\n",
              "diabetes                        int64\n",
              "epoc                            int64\n",
              "asma                            int64\n",
              "inmusupr                        int64\n",
              "hipertension                    int64\n",
              "otra_com                        int64\n",
              "cardiovascular                  int64\n",
              "obesidad                        int64\n",
              "renal_cronica                   int64\n",
              "tabaquismo                      int64\n",
              "otro_caso                       int64\n",
              "resultado                       int64\n",
              "migrante                        int64\n",
              "pais_nacionalidad              object\n",
              "pais_origen                    object\n",
              "uci                             int64\n",
              "dtype: object"
            ]
          },
          "metadata": {
            "tags": []
          },
          "execution_count": 78
        }
      ]
    },
    {
      "cell_type": "code",
      "metadata": {
        "id": "D8KhfZhKu9wf",
        "colab_type": "code",
        "colab": {}
      },
      "source": [
        "# unimos los datos con los catalogos para tener mejor entendimiento de ellos\n",
        "data = (\n",
        "    # unimos con el catálogo MUNICIPIOS y ENTIDADES\n",
        "    data.merge(catalogues['de ENTIDADES'], how='left', left_on='entidad_res', right_on='clave_entidad').\n",
        "    drop(columns=['entidad_res', 'abreviatura']).\n",
        "    rename(columns={'entidad_federativa':'entidad_res'}).\n",
        "    merge(catalogues['MUNICIPIOS'], how='left', left_on=['clave_entidad','municipio_res'], right_on=['clave_entidad','clave_municipio']).\n",
        "    drop(columns=['municipio_res', 'clave_entidad', 'clave_municipio']).\n",
        "    rename(columns={'municipio':'municipio_res'})\n",
        ")"
      ],
      "execution_count": 79,
      "outputs": []
    },
    {
      "cell_type": "code",
      "metadata": {
        "id": "BrRuJFZZCVdt",
        "colab_type": "code",
        "colab": {}
      },
      "source": [
        "# unimos con el catálogo de ENTIDADES\n",
        "entidades_cols = [col for col in data.columns if \"entidad\" in col and col != 'entidad_res']\n",
        "for col in entidades_cols:\n",
        "    data = (\n",
        "        data.merge(catalogues['de ENTIDADES'], how='left', left_on=col, right_on='clave_entidad').\n",
        "        drop(columns=[col, 'abreviatura', 'clave_entidad']).\n",
        "        rename(columns={'entidad_federativa':col})\n",
        "    )"
      ],
      "execution_count": 80,
      "outputs": []
    },
    {
      "cell_type": "code",
      "metadata": {
        "id": "lc4J3ufC9z7c",
        "colab_type": "code",
        "colab": {}
      },
      "source": [
        "# unimos con el catálogo SI_NO\n",
        "sino_cols = ['intubado', 'neumonia', 'embarazo', 'habla_lengua_indig', 'diabetes', 'epoc', 'asma', 'inmusupr',\n",
        "             'hipertension', 'otra_com', 'cardiovascular', 'obesidad', 'renal_cronica', 'tabaquismo', \n",
        "             'otro_caso', 'migrante', 'uci']\n",
        "for col in sino_cols:\n",
        "    data = (\n",
        "        data.merge(catalogues['SI_NO'], how='left', left_on=col, right_on='clave').\n",
        "        drop(columns=[col, 'clave']).\n",
        "        rename(columns={'descripción':col})\n",
        "    )"
      ],
      "execution_count": 81,
      "outputs": []
    },
    {
      "cell_type": "markdown",
      "metadata": {
<<<<<<< HEAD
        "id": "sTqV6pDE9x0Y",
        "colab_type": "code",
        "colab": {
          "base_uri": "https://localhost:8080/",
          "height": 383
        },
        "outputId": "798f4cd0-d1d1-43db-d107-3383aabeccdd"
      },
      "source": [
        "# unimos otras columnnas que comparten lógica\n",
        "other_cols = ['origen', 'sector', 'sexo', 'tipo_paciente', 'nacionalidad', 'resultado']\n",
        "for col, cat in zip(other_cols, [x.upper() for x in other_cols]):\n",
        "    data = (\n",
        "        data.merge(catalogues[cat], how='left', left_on=col, right_on='clave').\n",
        "        drop(columns=[col, 'clave']).\n",
        "        rename(columns={'descripción':col})\n",
        "    )\n",
        "data.head()"
      ],
      "execution_count": 82,
=======
        "id": "Es0J05jBu3Zh",
        "colab_type": "text"
      },
      "source": [
        "> **Nota:**\n",
        ">\n",
        "> Si ejecutaste una versión previa del cuaderno, notarás que en la siguiente sección aparecía un error. A continuación dejamos como un pequeño paréntesis un poco más de limpieza sobre el cuaderno.\n",
        "\n",
        "1. Corregimos el nombre de las columnas:"
      ]
    },
    {
      "cell_type": "code",
      "metadata": {
        "id": "H2qOV3QGi6pp",
        "colab_type": "code",
        "colab": {
          "base_uri": "https://localhost:8080/",
          "height": 35
        },
        "outputId": "34a76c40-f36d-4454-d0a3-fcb04290804a"
      },
      "source": [
        "catalogues['RESULTADO'].columns"
      ],
      "execution_count": 20,
      "outputs": [
        {
          "output_type": "execute_result",
          "data": {
            "text/plain": [
              "Index(['unnamed:_0', 'unnamed:_1'], dtype='object')"
            ]
          },
          "metadata": {
            "tags": []
          },
          "execution_count": 20
        }
      ]
    },
    {
      "cell_type": "code",
      "metadata": {
        "id": "5SRGGO_QhgAr",
        "colab_type": "code",
        "colab": {
          "base_uri": "https://localhost:8080/",
          "height": 35
        },
        "outputId": "8616a6f7-28b4-4b7f-b206-e993a2cbaed7"
      },
      "source": [
        "catalogues['RESULTADO'].columns = ['clave', 'descripción']\n",
        "catalogues['RESULTADO'].columns"
      ],
      "execution_count": 21,
>>>>>>> aa312e54162503d558ce67a1e6f38bac0e0ba1ce
      "outputs": [
        {
          "output_type": "execute_result",
          "data": {
            "text/plain": [
              "Index(['clave', 'descripción'], dtype='object')"
            ]
          },
          "metadata": {
            "tags": []
          },
          "execution_count": 21
        }
      ]
    },
    {
      "cell_type": "markdown",
      "metadata": {
        "id": "N2L94Ft4wFlT",
        "colab_type": "text"
      },
      "source": [
        "2. Removemos la (primera) fila que no nos es útil."
      ]
    },
    {
      "cell_type": "code",
      "metadata": {
        "id": "OexEfsUnjRMp",
        "colab_type": "code",
        "colab": {}
      },
      "source": [
        "catalogues['RESULTADO'] = catalogues['RESULTADO'].drop(index=0)"
      ],
      "execution_count": 22,
      "outputs": []
    },
    {
      "cell_type": "markdown",
      "metadata": {
        "id": "7m8TvocZ0Zxn",
        "colab_type": "text"
      },
      "source": [
        "3. Convertimos el tipo de dato."
      ]
    },
    {
      "cell_type": "code",
      "metadata": {
        "id": "AyLbq461kDX_",
        "colab_type": "code",
        "colab": {}
      },
      "source": [
        "catalogues['RESULTADO']['clave'] = catalogues['RESULTADO']['clave'].astype(int)"
      ],
      "execution_count": 23,
      "outputs": []
    },
    {
      "cell_type": "markdown",
      "metadata": {
        "id": "2oPUF3VI0dWV",
        "colab_type": "text"
      },
      "source": [
        "> Fin del paréntesis. Hasta esta sección, esta parte de limpieza permite continuar con el proceso de manera normal."
      ]
    },
    {
      "cell_type": "code",
      "metadata": {
        "id": "sTqV6pDE9x0Y",
        "colab_type": "code",
        "colab": {}
      },
      "source": [
        "# unimos otras columnnas que comparten lógica\n",
        "other_cols = ['origen', 'sector', 'sexo', 'tipo_paciente', 'nacionalidad', 'resultado']\n",
        "for col, cat in zip(other_cols, [x.upper() for x in other_cols]):\n",
        "    data = (\n",
        "        data.merge(catalogues[cat], how='left', left_on=col, right_on='clave').\n",
        "        drop(columns=[col, 'clave']).\n",
        "        rename(columns={'descripción':col})\n",
        "    )"
      ],
      "execution_count": 24,
      "outputs": []
    },
    {
      "cell_type": "code",
      "metadata": {
        "id": "y9SwccZAEt8i",
        "colab_type": "code",
        "colab": {}
      },
      "source": [
        "# creamos algunas variables que podrían ser útiles después\n",
        "data['defuncion'] = ~data.fecha_def.isna()\n",
        "data['mes_def'] = data.fecha_def.dt.month\n",
        "data['año_def'] = data.fecha_def.dt.year\n",
        "data['mes_ingreso'] = data.fecha_ingreso.dt.month\n",
        "data['año_ingreso'] = data.fecha_ingreso.dt.year"
      ],
      "execution_count": 25,
      "outputs": []
    },
    {
      "cell_type": "code",
      "metadata": {
        "id": "mREmwT8g0qys",
        "colab_type": "code",
        "colab": {
          "base_uri": "https://localhost:8080/",
          "height": 391
        },
        "outputId": "e51a7ae4-120d-4b96-a05b-7170180b3c75"
      },
      "source": [
        "data.head()"
      ],
      "execution_count": 27,
      "outputs": [
        {
          "output_type": "execute_result",
          "data": {
            "text/html": [
              "<div>\n",
              "<style scoped>\n",
              "    .dataframe tbody tr th:only-of-type {\n",
              "        vertical-align: middle;\n",
              "    }\n",
              "\n",
              "    .dataframe tbody tr th {\n",
              "        vertical-align: top;\n",
              "    }\n",
              "\n",
              "    .dataframe thead th {\n",
              "        text-align: right;\n",
              "    }\n",
              "</style>\n",
              "<table border=\"1\" class=\"dataframe\">\n",
              "  <thead>\n",
              "    <tr style=\"text-align: right;\">\n",
              "      <th></th>\n",
              "      <th>fecha_actualizacion</th>\n",
              "      <th>id_registro</th>\n",
              "      <th>fecha_ingreso</th>\n",
              "      <th>fecha_sintomas</th>\n",
              "      <th>fecha_def</th>\n",
              "      <th>edad</th>\n",
              "      <th>pais_nacionalidad</th>\n",
              "      <th>pais_origen</th>\n",
              "      <th>entidad_res</th>\n",
              "      <th>municipio_res</th>\n",
              "      <th>entidad_um</th>\n",
              "      <th>entidad_nac</th>\n",
              "      <th>intubado</th>\n",
              "      <th>neumonia</th>\n",
              "      <th>embarazo</th>\n",
              "      <th>habla_lengua_indig</th>\n",
              "      <th>diabetes</th>\n",
              "      <th>epoc</th>\n",
              "      <th>asma</th>\n",
              "      <th>inmusupr</th>\n",
              "      <th>hipertension</th>\n",
              "      <th>otra_com</th>\n",
              "      <th>cardiovascular</th>\n",
              "      <th>obesidad</th>\n",
              "      <th>renal_cronica</th>\n",
              "      <th>tabaquismo</th>\n",
              "      <th>otro_caso</th>\n",
              "      <th>migrante</th>\n",
              "      <th>uci</th>\n",
              "      <th>origen</th>\n",
              "      <th>sector</th>\n",
              "      <th>sexo</th>\n",
              "      <th>tipo_paciente</th>\n",
              "      <th>nacionalidad</th>\n",
              "      <th>resultado</th>\n",
<<<<<<< HEAD
=======
              "      <th>defuncion</th>\n",
              "      <th>mes_def</th>\n",
              "      <th>año_def</th>\n",
              "      <th>mes_ingreso</th>\n",
              "      <th>año_ingreso</th>\n",
>>>>>>> aa312e54162503d558ce67a1e6f38bac0e0ba1ce
              "    </tr>\n",
              "  </thead>\n",
              "  <tbody>\n",
              "    <tr>\n",
              "      <th>0</th>\n",
<<<<<<< HEAD
              "      <td>2020-09-01</td>\n",
              "      <td>0b79a6</td>\n",
              "      <td>2020-07-01</td>\n",
              "      <td>2020-06-28</td>\n",
              "      <td>NaT</td>\n",
              "      <td>30</td>\n",
              "      <td>MÃ©xico</td>\n",
              "      <td>99</td>\n",
              "      <td>MÉXICO</td>\n",
              "      <td>TOLUCA</td>\n",
              "      <td>MÉXICO</td>\n",
              "      <td>CIUDAD DE MÉXICO</td>\n",
=======
              "      <td>2020-09-03</td>\n",
              "      <td>097d14</td>\n",
              "      <td>2020-06-10</td>\n",
              "      <td>2020-06-10</td>\n",
              "      <td>NaT</td>\n",
              "      <td>27</td>\n",
              "      <td>MÃ©xico</td>\n",
              "      <td>99</td>\n",
              "      <td>BAJA CALIFORNIA</td>\n",
              "      <td>MEXICALI</td>\n",
              "      <td>BAJA CALIFORNIA</td>\n",
              "      <td>BAJA CALIFORNIA</td>\n",
>>>>>>> aa312e54162503d558ce67a1e6f38bac0e0ba1ce
              "      <td>NO APLICA</td>\n",
              "      <td>NO</td>\n",
              "      <td>NO</td>\n",
              "      <td>NO</td>\n",
              "      <td>NO</td>\n",
              "      <td>NO</td>\n",
              "      <td>NO</td>\n",
              "      <td>NO</td>\n",
              "      <td>NO</td>\n",
              "      <td>NO</td>\n",
              "      <td>NO</td>\n",
              "      <td>SI</td>\n",
              "      <td>NO</td>\n",
              "      <td>NO</td>\n",
              "      <td>SI</td>\n",
              "      <td>NO ESPECIFICADO</td>\n",
              "      <td>NO APLICA</td>\n",
              "      <td>FUERA DE USMER</td>\n",
              "      <td>ESTATAL</td>\n",
<<<<<<< HEAD
              "      <td>MUJER</td>\n",
              "      <td>AMBULATORIO</td>\n",
              "      <td>MEXICANA</td>\n",
              "      <td>Positivo SARS-CoV-2</td>\n",
              "    </tr>\n",
              "    <tr>\n",
              "      <th>1</th>\n",
              "      <td>2020-09-01</td>\n",
              "      <td>1b0c85</td>\n",
              "      <td>2020-04-03</td>\n",
              "      <td>2020-03-30</td>\n",
              "      <td>NaT</td>\n",
              "      <td>64</td>\n",
              "      <td>MÃ©xico</td>\n",
              "      <td>99</td>\n",
              "      <td>COAHUILA DE ZARAGOZA</td>\n",
              "      <td>SALTILLO</td>\n",
              "      <td>COAHUILA DE ZARAGOZA</td>\n",
              "      <td>SAN LUIS POTOSÍ</td>\n",
              "      <td>NO APLICA</td>\n",
              "      <td>NO</td>\n",
=======
              "      <td>HOMBRE</td>\n",
              "      <td>AMBULATORIO</td>\n",
              "      <td>MEXICANA</td>\n",
              "      <td>Positivo SARS-CoV-2</td>\n",
              "      <td>False</td>\n",
              "      <td>NaN</td>\n",
              "      <td>NaN</td>\n",
              "      <td>6</td>\n",
              "      <td>2020</td>\n",
              "    </tr>\n",
              "    <tr>\n",
              "      <th>1</th>\n",
              "      <td>2020-09-03</td>\n",
              "      <td>1b7adb</td>\n",
              "      <td>2020-04-29</td>\n",
              "      <td>2020-04-15</td>\n",
              "      <td>2020-04-30</td>\n",
              "      <td>64</td>\n",
              "      <td>MÃ©xico</td>\n",
              "      <td>99</td>\n",
              "      <td>BAJA CALIFORNIA</td>\n",
              "      <td>TIJUANA</td>\n",
              "      <td>BAJA CALIFORNIA</td>\n",
              "      <td>GUERRERO</td>\n",
>>>>>>> aa312e54162503d558ce67a1e6f38bac0e0ba1ce
              "      <td>NO</td>\n",
              "      <td>SI</td>\n",
              "      <td>NO APLICA</td>\n",
              "      <td>NO</td>\n",
              "      <td>SI</td>\n",
              "      <td>NO</td>\n",
              "      <td>NO</td>\n",
              "      <td>NO</td>\n",
              "      <td>NO</td>\n",
              "      <td>NO</td>\n",
              "      <td>NO</td>\n",
              "      <td>NO</td>\n",
              "      <td>NO</td>\n",
              "      <td>NO</td>\n",
              "      <td>NO</td>\n",
              "      <td>SI</td>\n",
              "      <td>NO ESPECIFICADO</td>\n",
              "      <td>NO</td>\n",
              "      <td>FUERA DE USMER</td>\n",
              "      <td>IMSS</td>\n",
              "      <td>HOMBRE</td>\n",
              "      <td>HOSPITALIZADO</td>\n",
              "      <td>MEXICANA</td>\n",
              "      <td>Positivo SARS-CoV-2</td>\n",
<<<<<<< HEAD
              "    </tr>\n",
              "    <tr>\n",
              "      <th>2</th>\n",
              "      <td>2020-09-01</td>\n",
              "      <td>17ae86</td>\n",
              "      <td>2020-04-14</td>\n",
              "      <td>2020-04-14</td>\n",
              "      <td>2020-04-24</td>\n",
              "      <td>50</td>\n",
              "      <td>MÃ©xico</td>\n",
              "      <td>99</td>\n",
              "      <td>BAJA CALIFORNIA</td>\n",
              "      <td>TECATE</td>\n",
              "      <td>BAJA CALIFORNIA</td>\n",
              "      <td>VERACRUZ DE IGNACIO DE LA LLAVE</td>\n",
              "      <td>NO</td>\n",
              "      <td>SI</td>\n",
=======
              "      <td>True</td>\n",
              "      <td>4.0</td>\n",
              "      <td>2020.0</td>\n",
              "      <td>4</td>\n",
              "      <td>2020</td>\n",
              "    </tr>\n",
              "    <tr>\n",
              "      <th>2</th>\n",
              "      <td>2020-09-03</td>\n",
              "      <td>11daaa</td>\n",
              "      <td>2020-05-26</td>\n",
              "      <td>2020-05-26</td>\n",
              "      <td>NaT</td>\n",
              "      <td>32</td>\n",
              "      <td>MÃ©xico</td>\n",
              "      <td>99</td>\n",
              "      <td>TABASCO</td>\n",
              "      <td>TACOTALPA</td>\n",
              "      <td>TABASCO</td>\n",
              "      <td>TABASCO</td>\n",
              "      <td>NO APLICA</td>\n",
              "      <td>NO</td>\n",
              "      <td>NO</td>\n",
              "      <td>NO ESPECIFICADO</td>\n",
              "      <td>NO</td>\n",
>>>>>>> aa312e54162503d558ce67a1e6f38bac0e0ba1ce
              "      <td>NO</td>\n",
              "      <td>NO</td>\n",
              "      <td>SI</td>\n",
              "      <td>NO</td>\n",
              "      <td>NO</td>\n",
              "      <td>NO</td>\n",
              "      <td>NO</td>\n",
              "      <td>NO</td>\n",
              "      <td>NO</td>\n",
              "      <td>NO</td>\n",
              "      <td>NO ESPECIFICADO</td>\n",
              "      <td>NO ESPECIFICADO</td>\n",
              "      <td>NO</td>\n",
              "      <td>FUERA DE USMER</td>\n",
<<<<<<< HEAD
              "      <td>IMSS</td>\n",
              "      <td>MUJER</td>\n",
              "      <td>HOSPITALIZADO</td>\n",
              "      <td>MEXICANA</td>\n",
              "      <td>Positivo SARS-CoV-2</td>\n",
              "    </tr>\n",
              "    <tr>\n",
              "      <th>3</th>\n",
              "      <td>2020-09-01</td>\n",
              "      <td>14df1c</td>\n",
              "      <td>2020-04-23</td>\n",
              "      <td>2020-04-22</td>\n",
              "      <td>NaT</td>\n",
              "      <td>27</td>\n",
              "      <td>MÃ©xico</td>\n",
              "      <td>99</td>\n",
              "      <td>YUCATÁN</td>\n",
              "      <td>UMÁN</td>\n",
              "      <td>YUCATÁN</td>\n",
              "      <td>YUCATÁN</td>\n",
              "      <td>NO APLICA</td>\n",
              "      <td>NO</td>\n",
=======
              "      <td>ESTATAL</td>\n",
              "      <td>MUJER</td>\n",
              "      <td>AMBULATORIO</td>\n",
              "      <td>MEXICANA</td>\n",
              "      <td>Positivo SARS-CoV-2</td>\n",
              "      <td>False</td>\n",
              "      <td>NaN</td>\n",
              "      <td>NaN</td>\n",
              "      <td>5</td>\n",
              "      <td>2020</td>\n",
              "    </tr>\n",
              "    <tr>\n",
              "      <th>3</th>\n",
              "      <td>2020-09-03</td>\n",
              "      <td>17c9eb</td>\n",
              "      <td>2020-06-05</td>\n",
              "      <td>2020-05-31</td>\n",
              "      <td>NaT</td>\n",
              "      <td>54</td>\n",
              "      <td>MÃ©xico</td>\n",
              "      <td>99</td>\n",
              "      <td>TABASCO</td>\n",
              "      <td>NACAJUCA</td>\n",
              "      <td>TABASCO</td>\n",
              "      <td>TABASCO</td>\n",
>>>>>>> aa312e54162503d558ce67a1e6f38bac0e0ba1ce
              "      <td>NO APLICA</td>\n",
              "      <td>NO</td>\n",
              "      <td>NO</td>\n",
              "      <td>NO</td>\n",
              "      <td>SI</td>\n",
              "      <td>NO</td>\n",
              "      <td>NO</td>\n",
              "      <td>NO</td>\n",
              "      <td>SI</td>\n",
              "      <td>NO</td>\n",
              "      <td>NO</td>\n",
              "      <td>NO</td>\n",
              "      <td>NO</td>\n",
              "      <td>NO</td>\n",
              "      <td>SI</td>\n",
              "      <td>NO ESPECIFICADO</td>\n",
<<<<<<< HEAD
              "      <td>NO ESPECIFICADO</td>\n",
              "      <td>NO APLICA</td>\n",
              "      <td>FUERA DE USMER</td>\n",
              "      <td>IMSS</td>\n",
              "      <td>HOMBRE</td>\n",
              "      <td>AMBULATORIO</td>\n",
              "      <td>MEXICANA</td>\n",
              "      <td>Positivo SARS-CoV-2</td>\n",
              "    </tr>\n",
              "    <tr>\n",
              "      <th>4</th>\n",
              "      <td>2020-09-01</td>\n",
              "      <td>0f3272</td>\n",
              "      <td>2020-04-26</td>\n",
              "      <td>2020-04-23</td>\n",
              "      <td>NaT</td>\n",
              "      <td>53</td>\n",
              "      <td>MÃ©xico</td>\n",
              "      <td>99</td>\n",
              "      <td>AGUASCALIENTES</td>\n",
              "      <td>JESÚS MARÍA</td>\n",
              "      <td>AGUASCALIENTES</td>\n",
              "      <td>AGUASCALIENTES</td>\n",
              "      <td>NO APLICA</td>\n",
              "      <td>NO</td>\n",
=======
              "      <td>NO APLICA</td>\n",
              "      <td>FUERA DE USMER</td>\n",
              "      <td>ESTATAL</td>\n",
              "      <td>MUJER</td>\n",
              "      <td>AMBULATORIO</td>\n",
              "      <td>MEXICANA</td>\n",
              "      <td>Positivo SARS-CoV-2</td>\n",
              "      <td>False</td>\n",
              "      <td>NaN</td>\n",
              "      <td>NaN</td>\n",
              "      <td>6</td>\n",
              "      <td>2020</td>\n",
              "    </tr>\n",
              "    <tr>\n",
              "      <th>4</th>\n",
              "      <td>2020-09-03</td>\n",
              "      <td>14f12c</td>\n",
              "      <td>2020-04-02</td>\n",
              "      <td>2020-04-01</td>\n",
              "      <td>NaT</td>\n",
              "      <td>44</td>\n",
              "      <td>MÃ©xico</td>\n",
              "      <td>99</td>\n",
              "      <td>MORELOS</td>\n",
              "      <td>CUERNAVACA</td>\n",
              "      <td>MORELOS</td>\n",
              "      <td>BAJA CALIFORNIA SUR</td>\n",
>>>>>>> aa312e54162503d558ce67a1e6f38bac0e0ba1ce
              "      <td>NO APLICA</td>\n",
              "      <td>NO</td>\n",
              "      <td>NO</td>\n",
              "      <td>NO</td>\n",
              "      <td>NO</td>\n",
              "      <td>NO</td>\n",
              "      <td>NO</td>\n",
              "      <td>NO</td>\n",
              "      <td>NO</td>\n",
              "      <td>SI</td>\n",
              "      <td>NO</td>\n",
              "      <td>NO</td>\n",
              "      <td>NO</td>\n",
              "      <td>NO</td>\n",
              "      <td>NO ESPECIFICADO</td>\n",
              "      <td>NO ESPECIFICADO</td>\n",
              "      <td>NO APLICA</td>\n",
              "      <td>FUERA DE USMER</td>\n",
              "      <td>IMSS</td>\n",
<<<<<<< HEAD
              "      <td>HOMBRE</td>\n",
              "      <td>AMBULATORIO</td>\n",
              "      <td>MEXICANA</td>\n",
              "      <td>Positivo SARS-CoV-2</td>\n",
=======
              "      <td>MUJER</td>\n",
              "      <td>AMBULATORIO</td>\n",
              "      <td>MEXICANA</td>\n",
              "      <td>Positivo SARS-CoV-2</td>\n",
              "      <td>False</td>\n",
              "      <td>NaN</td>\n",
              "      <td>NaN</td>\n",
              "      <td>4</td>\n",
              "      <td>2020</td>\n",
>>>>>>> aa312e54162503d558ce67a1e6f38bac0e0ba1ce
              "    </tr>\n",
              "  </tbody>\n",
              "</table>\n",
              "</div>"
            ],
            "text/plain": [
<<<<<<< HEAD
              "  fecha_actualizacion id_registro  ... nacionalidad            resultado\n",
              "0          2020-09-01      0b79a6  ...     MEXICANA  Positivo SARS-CoV-2\n",
              "1          2020-09-01      1b0c85  ...     MEXICANA  Positivo SARS-CoV-2\n",
              "2          2020-09-01      17ae86  ...     MEXICANA  Positivo SARS-CoV-2\n",
              "3          2020-09-01      14df1c  ...     MEXICANA  Positivo SARS-CoV-2\n",
              "4          2020-09-01      0f3272  ...     MEXICANA  Positivo SARS-CoV-2\n",
=======
              "  fecha_actualizacion id_registro  ... mes_ingreso año_ingreso\n",
              "0          2020-09-03      097d14  ...           6        2020\n",
              "1          2020-09-03      1b7adb  ...           4        2020\n",
              "2          2020-09-03      11daaa  ...           5        2020\n",
              "3          2020-09-03      17c9eb  ...           6        2020\n",
              "4          2020-09-03      14f12c  ...           4        2020\n",
>>>>>>> aa312e54162503d558ce67a1e6f38bac0e0ba1ce
              "\n",
              "[5 rows x 35 columns]"
            ]
          },
          "metadata": {
            "tags": []
          },
<<<<<<< HEAD
          "execution_count": 82
=======
          "execution_count": 27
>>>>>>> aa312e54162503d558ce67a1e6f38bac0e0ba1ce
        }
      ]
    },
    {
      "cell_type": "code",
      "metadata": {
        "id": "y9SwccZAEt8i",
        "colab_type": "code",
        "colab": {}
      },
      "source": [
        "# creamos algunas variables que podrían ser útiles después\n",
        "data['defuncion'] = ~data.fecha_def.isna()\n",
        "data['mes_def'] = data.fecha_def.dt.month\n",
        "data['año_def'] = data.fecha_def.dt.year\n",
        "data['mes_ingreso'] = data.fecha_ingreso.dt.month\n",
        "data['año_ingreso'] = data.fecha_ingreso.dt.year"
      ],
      "execution_count": 83,
      "outputs": []
    },
    {
      "cell_type": "code",
      "metadata": {
        "id": "mREmwT8g0qys",
        "colab_type": "code",
        "colab": {
          "base_uri": "https://localhost:8080/",
<<<<<<< HEAD
          "height": 383
        },
        "outputId": "8c37d1f2-ec15-4fa9-f6b8-bc226640ca64"
=======
          "height": 197
        },
        "outputId": "8befbc04-e562-4747-ca01-606a6a75fbcb"
>>>>>>> aa312e54162503d558ce67a1e6f38bac0e0ba1ce
      },
      "source": [
        "data.head()"
      ],
<<<<<<< HEAD
      "execution_count": 84,
=======
      "execution_count": 28,
>>>>>>> aa312e54162503d558ce67a1e6f38bac0e0ba1ce
      "outputs": [
        {
          "output_type": "execute_result",
          "data": {
            "text/html": [
              "<div>\n",
              "<style scoped>\n",
              "    .dataframe tbody tr th:only-of-type {\n",
              "        vertical-align: middle;\n",
              "    }\n",
              "\n",
              "    .dataframe tbody tr th {\n",
              "        vertical-align: top;\n",
              "    }\n",
              "\n",
              "    .dataframe thead th {\n",
              "        text-align: right;\n",
              "    }\n",
              "</style>\n",
              "<table border=\"1\" class=\"dataframe\">\n",
              "  <thead>\n",
              "    <tr style=\"text-align: right;\">\n",
              "      <th></th>\n",
              "      <th>fecha_actualizacion</th>\n",
              "      <th>id_registro</th>\n",
              "      <th>fecha_ingreso</th>\n",
              "      <th>fecha_sintomas</th>\n",
              "      <th>fecha_def</th>\n",
              "      <th>edad</th>\n",
              "      <th>pais_nacionalidad</th>\n",
              "      <th>pais_origen</th>\n",
              "      <th>entidad_res</th>\n",
              "      <th>municipio_res</th>\n",
              "      <th>entidad_um</th>\n",
              "      <th>entidad_nac</th>\n",
              "      <th>intubado</th>\n",
              "      <th>neumonia</th>\n",
              "      <th>embarazo</th>\n",
              "      <th>habla_lengua_indig</th>\n",
              "      <th>diabetes</th>\n",
              "      <th>epoc</th>\n",
              "      <th>asma</th>\n",
              "      <th>inmusupr</th>\n",
              "      <th>hipertension</th>\n",
              "      <th>otra_com</th>\n",
              "      <th>cardiovascular</th>\n",
              "      <th>obesidad</th>\n",
              "      <th>renal_cronica</th>\n",
              "      <th>tabaquismo</th>\n",
              "      <th>otro_caso</th>\n",
              "      <th>migrante</th>\n",
              "      <th>uci</th>\n",
              "      <th>origen</th>\n",
              "      <th>sector</th>\n",
              "      <th>sexo</th>\n",
              "      <th>tipo_paciente</th>\n",
              "      <th>nacionalidad</th>\n",
              "      <th>resultado</th>\n",
              "      <th>defuncion</th>\n",
              "      <th>mes_def</th>\n",
              "      <th>año_def</th>\n",
              "      <th>mes_ingreso</th>\n",
              "      <th>año_ingreso</th>\n",
              "    </tr>\n",
              "  </thead>\n",
              "  <tbody>\n",
              "    <tr>\n",
              "      <th>0</th>\n",
<<<<<<< HEAD
              "      <td>2020-09-01</td>\n",
              "      <td>0b79a6</td>\n",
              "      <td>2020-07-01</td>\n",
              "      <td>2020-06-28</td>\n",
              "      <td>NaT</td>\n",
              "      <td>30</td>\n",
              "      <td>MÃ©xico</td>\n",
              "      <td>99</td>\n",
              "      <td>MÉXICO</td>\n",
              "      <td>TOLUCA</td>\n",
              "      <td>MÉXICO</td>\n",
              "      <td>CIUDAD DE MÉXICO</td>\n",
=======
              "      <td>2020-09-03</td>\n",
              "      <td>097d14</td>\n",
              "      <td>2020-06-10</td>\n",
              "      <td>2020-06-10</td>\n",
              "      <td>NaT</td>\n",
              "      <td>27</td>\n",
              "      <td>MÃ©xico</td>\n",
              "      <td>99</td>\n",
              "      <td>BAJA CALIFORNIA</td>\n",
              "      <td>MEXICALI</td>\n",
              "      <td>BAJA CALIFORNIA</td>\n",
              "      <td>BAJA CALIFORNIA</td>\n",
>>>>>>> aa312e54162503d558ce67a1e6f38bac0e0ba1ce
              "      <td>NO APLICA</td>\n",
              "      <td>NO</td>\n",
              "      <td>NO</td>\n",
              "      <td>NO</td>\n",
              "      <td>NO</td>\n",
              "      <td>NO</td>\n",
              "      <td>NO</td>\n",
              "      <td>NO</td>\n",
              "      <td>NO</td>\n",
              "      <td>NO</td>\n",
              "      <td>NO</td>\n",
              "      <td>SI</td>\n",
              "      <td>NO</td>\n",
              "      <td>NO</td>\n",
              "      <td>SI</td>\n",
              "      <td>NO ESPECIFICADO</td>\n",
              "      <td>NO APLICA</td>\n",
              "      <td>FUERA DE USMER</td>\n",
              "      <td>ESTATAL</td>\n",
              "      <td>MUJER</td>\n",
              "      <td>AMBULATORIO</td>\n",
              "      <td>MEXICANA</td>\n",
              "      <td>Positivo SARS-CoV-2</td>\n",
              "      <td>False</td>\n",
              "      <td>NaN</td>\n",
              "      <td>NaN</td>\n",
              "      <td>7</td>\n",
              "      <td>2020</td>\n",
              "    </tr>\n",
              "    <tr>\n",
              "      <th>1</th>\n",
              "      <td>2020-09-01</td>\n",
              "      <td>1b0c85</td>\n",
              "      <td>2020-04-03</td>\n",
              "      <td>2020-03-30</td>\n",
              "      <td>NaT</td>\n",
              "      <td>64</td>\n",
              "      <td>MÃ©xico</td>\n",
              "      <td>99</td>\n",
              "      <td>COAHUILA DE ZARAGOZA</td>\n",
              "      <td>SALTILLO</td>\n",
              "      <td>COAHUILA DE ZARAGOZA</td>\n",
              "      <td>SAN LUIS POTOSÍ</td>\n",
              "      <td>NO APLICA</td>\n",
              "      <td>NO</td>\n",
              "      <td>NO</td>\n",
              "      <td>NO</td>\n",
              "      <td>NO</td>\n",
              "      <td>NO</td>\n",
              "      <td>NO</td>\n",
              "      <td>NO</td>\n",
              "      <td>NO</td>\n",
              "      <td>NO</td>\n",
              "      <td>NO</td>\n",
              "      <td>NO</td>\n",
              "      <td>NO</td>\n",
              "      <td>NO</td>\n",
              "      <td>SI</td>\n",
              "      <td>NO ESPECIFICADO</td>\n",
              "      <td>NO APLICA</td>\n",
              "      <td>FUERA DE USMER</td>\n",
<<<<<<< HEAD
              "      <td>IMSS</td>\n",
              "      <td>MUJER</td>\n",
=======
              "      <td>ESTATAL</td>\n",
              "      <td>HOMBRE</td>\n",
>>>>>>> aa312e54162503d558ce67a1e6f38bac0e0ba1ce
              "      <td>AMBULATORIO</td>\n",
              "      <td>MEXICANA</td>\n",
              "      <td>Positivo SARS-CoV-2</td>\n",
              "      <td>False</td>\n",
              "      <td>NaN</td>\n",
              "      <td>NaN</td>\n",
              "      <td>6</td>\n",
              "      <td>2020</td>\n",
              "    </tr>\n",
              "    <tr>\n",
<<<<<<< HEAD
              "      <th>2</th>\n",
              "      <td>2020-09-01</td>\n",
              "      <td>17ae86</td>\n",
              "      <td>2020-04-14</td>\n",
              "      <td>2020-04-14</td>\n",
              "      <td>2020-04-24</td>\n",
              "      <td>50</td>\n",
              "      <td>MÃ©xico</td>\n",
              "      <td>99</td>\n",
              "      <td>BAJA CALIFORNIA</td>\n",
              "      <td>TECATE</td>\n",
              "      <td>BAJA CALIFORNIA</td>\n",
              "      <td>VERACRUZ DE IGNACIO DE LA LLAVE</td>\n",
              "      <td>NO</td>\n",
              "      <td>SI</td>\n",
=======
              "      <th>1</th>\n",
              "      <td>2020-09-03</td>\n",
              "      <td>1b7adb</td>\n",
              "      <td>2020-04-29</td>\n",
              "      <td>2020-04-15</td>\n",
              "      <td>2020-04-30</td>\n",
              "      <td>64</td>\n",
              "      <td>MÃ©xico</td>\n",
              "      <td>99</td>\n",
              "      <td>BAJA CALIFORNIA</td>\n",
              "      <td>TIJUANA</td>\n",
              "      <td>BAJA CALIFORNIA</td>\n",
              "      <td>GUERRERO</td>\n",
>>>>>>> aa312e54162503d558ce67a1e6f38bac0e0ba1ce
              "      <td>NO</td>\n",
              "      <td>SI</td>\n",
              "      <td>NO APLICA</td>\n",
              "      <td>NO</td>\n",
              "      <td>SI</td>\n",
              "      <td>NO</td>\n",
              "      <td>NO</td>\n",
              "      <td>NO</td>\n",
              "      <td>SI</td>\n",
              "      <td>NO</td>\n",
<<<<<<< HEAD
              "      <td>NO</td>\n",
              "      <td>SI</td>\n",
=======
>>>>>>> aa312e54162503d558ce67a1e6f38bac0e0ba1ce
              "      <td>NO</td>\n",
              "      <td>NO</td>\n",
              "      <td>NO ESPECIFICADO</td>\n",
              "      <td>NO ESPECIFICADO</td>\n",
              "      <td>NO</td>\n",
              "      <td>FUERA DE USMER</td>\n",
              "      <td>IMSS</td>\n",
              "      <td>MUJER</td>\n",
              "      <td>HOSPITALIZADO</td>\n",
              "      <td>MEXICANA</td>\n",
              "      <td>Positivo SARS-CoV-2</td>\n",
              "      <td>True</td>\n",
              "      <td>4.0</td>\n",
              "      <td>2020.0</td>\n",
              "      <td>4</td>\n",
              "      <td>2020</td>\n",
              "    </tr>\n",
              "    <tr>\n",
              "      <th>3</th>\n",
              "      <td>2020-09-01</td>\n",
              "      <td>14df1c</td>\n",
              "      <td>2020-04-23</td>\n",
              "      <td>2020-04-22</td>\n",
              "      <td>NaT</td>\n",
              "      <td>27</td>\n",
              "      <td>MÃ©xico</td>\n",
              "      <td>99</td>\n",
              "      <td>YUCATÁN</td>\n",
              "      <td>UMÁN</td>\n",
              "      <td>YUCATÁN</td>\n",
              "      <td>YUCATÁN</td>\n",
              "      <td>NO APLICA</td>\n",
              "      <td>NO</td>\n",
              "      <td>NO APLICA</td>\n",
              "      <td>NO</td>\n",
              "      <td>NO</td>\n",
              "      <td>NO</td>\n",
              "      <td>NO</td>\n",
              "      <td>NO</td>\n",
              "      <td>NO</td>\n",
              "      <td>NO</td>\n",
              "      <td>NO</td>\n",
              "      <td>NO</td>\n",
              "      <td>NO</td>\n",
              "      <td>NO</td>\n",
              "      <td>NO ESPECIFICADO</td>\n",
              "      <td>NO ESPECIFICADO</td>\n",
              "      <td>NO</td>\n",
              "      <td>FUERA DE USMER</td>\n",
              "      <td>IMSS</td>\n",
              "      <td>HOMBRE</td>\n",
<<<<<<< HEAD
              "      <td>AMBULATORIO</td>\n",
              "      <td>MEXICANA</td>\n",
              "      <td>Positivo SARS-CoV-2</td>\n",
              "      <td>False</td>\n",
              "      <td>NaN</td>\n",
              "      <td>NaN</td>\n",
              "      <td>4</td>\n",
              "      <td>2020</td>\n",
              "    </tr>\n",
              "    <tr>\n",
              "      <th>4</th>\n",
              "      <td>2020-09-01</td>\n",
              "      <td>0f3272</td>\n",
              "      <td>2020-04-26</td>\n",
              "      <td>2020-04-23</td>\n",
              "      <td>NaT</td>\n",
              "      <td>53</td>\n",
              "      <td>MÃ©xico</td>\n",
              "      <td>99</td>\n",
              "      <td>AGUASCALIENTES</td>\n",
              "      <td>JESÚS MARÍA</td>\n",
              "      <td>AGUASCALIENTES</td>\n",
              "      <td>AGUASCALIENTES</td>\n",
              "      <td>NO APLICA</td>\n",
              "      <td>NO</td>\n",
              "      <td>NO APLICA</td>\n",
              "      <td>NO</td>\n",
              "      <td>NO</td>\n",
              "      <td>NO</td>\n",
              "      <td>NO</td>\n",
              "      <td>NO</td>\n",
              "      <td>NO</td>\n",
              "      <td>NO</td>\n",
              "      <td>NO</td>\n",
              "      <td>NO</td>\n",
              "      <td>NO</td>\n",
              "      <td>NO</td>\n",
              "      <td>NO ESPECIFICADO</td>\n",
              "      <td>NO ESPECIFICADO</td>\n",
              "      <td>NO APLICA</td>\n",
              "      <td>FUERA DE USMER</td>\n",
              "      <td>IMSS</td>\n",
              "      <td>HOMBRE</td>\n",
              "      <td>AMBULATORIO</td>\n",
              "      <td>MEXICANA</td>\n",
              "      <td>Positivo SARS-CoV-2</td>\n",
              "      <td>False</td>\n",
              "      <td>NaN</td>\n",
              "      <td>NaN</td>\n",
              "      <td>4</td>\n",
              "      <td>2020</td>\n",
              "    </tr>\n",
=======
              "      <td>HOSPITALIZADO</td>\n",
              "      <td>MEXICANA</td>\n",
              "      <td>Positivo SARS-CoV-2</td>\n",
              "      <td>True</td>\n",
              "      <td>4.0</td>\n",
              "      <td>2020.0</td>\n",
              "      <td>4</td>\n",
              "      <td>2020</td>\n",
              "    </tr>\n",
>>>>>>> aa312e54162503d558ce67a1e6f38bac0e0ba1ce
              "  </tbody>\n",
              "</table>\n",
              "</div>"
            ],
            "text/plain": [
              "  fecha_actualizacion id_registro  ... mes_ingreso año_ingreso\n",
<<<<<<< HEAD
              "0          2020-09-01      0b79a6  ...           7        2020\n",
              "1          2020-09-01      1b0c85  ...           4        2020\n",
              "2          2020-09-01      17ae86  ...           4        2020\n",
              "3          2020-09-01      14df1c  ...           4        2020\n",
              "4          2020-09-01      0f3272  ...           4        2020\n",
              "\n",
              "[5 rows x 40 columns]"
=======
              "0          2020-09-03      097d14  ...           6        2020\n",
              "1          2020-09-03      1b7adb  ...           4        2020\n",
              "\n",
              "[2 rows x 40 columns]"
>>>>>>> aa312e54162503d558ce67a1e6f38bac0e0ba1ce
            ]
          },
          "metadata": {
            "tags": []
          },
<<<<<<< HEAD
          "execution_count": 84
=======
          "execution_count": 28
>>>>>>> aa312e54162503d558ce67a1e6f38bac0e0ba1ce
        }
      ]
    },
    {
      "cell_type": "markdown",
      "metadata": {
        "id": "8cuvw-Oqt-PB",
        "colab_type": "text"
      },
      "source": [
        "###Filtros"
      ]
    },
    {
      "cell_type": "markdown",
      "metadata": {
        "id": "RWB25OpKu4Qu",
        "colab_type": "text"
      },
      "source": [
        "**Distintas formas de filtrar lo mismo**"
      ]
    },
    {
      "cell_type": "code",
      "metadata": {
        "id": "v_CUS4lRt9XI",
        "colab_type": "code",
        "colab": {
          "base_uri": "https://localhost:8080/",
<<<<<<< HEAD
          "height": 383
        },
        "outputId": "cffd6902-dc5a-492c-ad9f-60842f787d7f"
=======
          "height": 197
        },
        "outputId": "d0238e26-fea8-400f-9bc5-9dfa701be352"
>>>>>>> aa312e54162503d558ce67a1e6f38bac0e0ba1ce
      },
      "source": [
        "# usando query\n",
        "data.query('nacionalidad == \"MEXICANA\"').head()"
      ],
<<<<<<< HEAD
      "execution_count": 86,
=======
      "execution_count": 29,
>>>>>>> aa312e54162503d558ce67a1e6f38bac0e0ba1ce
      "outputs": [
        {
          "output_type": "execute_result",
          "data": {
            "text/html": [
              "<div>\n",
              "<style scoped>\n",
              "    .dataframe tbody tr th:only-of-type {\n",
              "        vertical-align: middle;\n",
              "    }\n",
              "\n",
              "    .dataframe tbody tr th {\n",
              "        vertical-align: top;\n",
              "    }\n",
              "\n",
              "    .dataframe thead th {\n",
              "        text-align: right;\n",
              "    }\n",
              "</style>\n",
              "<table border=\"1\" class=\"dataframe\">\n",
              "  <thead>\n",
              "    <tr style=\"text-align: right;\">\n",
              "      <th></th>\n",
              "      <th>fecha_actualizacion</th>\n",
              "      <th>id_registro</th>\n",
              "      <th>fecha_ingreso</th>\n",
              "      <th>fecha_sintomas</th>\n",
              "      <th>fecha_def</th>\n",
              "      <th>edad</th>\n",
              "      <th>pais_nacionalidad</th>\n",
              "      <th>pais_origen</th>\n",
              "      <th>entidad_res</th>\n",
              "      <th>municipio_res</th>\n",
              "      <th>entidad_um</th>\n",
              "      <th>entidad_nac</th>\n",
              "      <th>intubado</th>\n",
              "      <th>neumonia</th>\n",
              "      <th>embarazo</th>\n",
              "      <th>habla_lengua_indig</th>\n",
              "      <th>diabetes</th>\n",
              "      <th>epoc</th>\n",
              "      <th>asma</th>\n",
              "      <th>inmusupr</th>\n",
              "      <th>hipertension</th>\n",
              "      <th>otra_com</th>\n",
              "      <th>cardiovascular</th>\n",
              "      <th>obesidad</th>\n",
              "      <th>renal_cronica</th>\n",
              "      <th>tabaquismo</th>\n",
              "      <th>otro_caso</th>\n",
              "      <th>migrante</th>\n",
              "      <th>uci</th>\n",
              "      <th>origen</th>\n",
              "      <th>sector</th>\n",
              "      <th>sexo</th>\n",
              "      <th>tipo_paciente</th>\n",
              "      <th>nacionalidad</th>\n",
              "      <th>resultado</th>\n",
              "      <th>defuncion</th>\n",
              "      <th>mes_def</th>\n",
              "      <th>año_def</th>\n",
              "      <th>mes_ingreso</th>\n",
              "      <th>año_ingreso</th>\n",
              "    </tr>\n",
              "  </thead>\n",
              "  <tbody>\n",
              "    <tr>\n",
              "      <th>0</th>\n",
<<<<<<< HEAD
              "      <td>2020-09-01</td>\n",
              "      <td>0b79a6</td>\n",
              "      <td>2020-07-01</td>\n",
              "      <td>2020-06-28</td>\n",
              "      <td>NaT</td>\n",
              "      <td>30</td>\n",
              "      <td>MÃ©xico</td>\n",
              "      <td>99</td>\n",
              "      <td>MÉXICO</td>\n",
              "      <td>TOLUCA</td>\n",
              "      <td>MÉXICO</td>\n",
              "      <td>CIUDAD DE MÉXICO</td>\n",
=======
              "      <td>2020-09-03</td>\n",
              "      <td>097d14</td>\n",
              "      <td>2020-06-10</td>\n",
              "      <td>2020-06-10</td>\n",
              "      <td>NaT</td>\n",
              "      <td>27</td>\n",
              "      <td>MÃ©xico</td>\n",
              "      <td>99</td>\n",
              "      <td>BAJA CALIFORNIA</td>\n",
              "      <td>MEXICALI</td>\n",
              "      <td>BAJA CALIFORNIA</td>\n",
              "      <td>BAJA CALIFORNIA</td>\n",
>>>>>>> aa312e54162503d558ce67a1e6f38bac0e0ba1ce
              "      <td>NO APLICA</td>\n",
              "      <td>NO</td>\n",
              "      <td>NO</td>\n",
              "      <td>NO</td>\n",
              "      <td>NO</td>\n",
              "      <td>NO</td>\n",
              "      <td>NO</td>\n",
              "      <td>NO</td>\n",
              "      <td>NO</td>\n",
              "      <td>NO</td>\n",
              "      <td>NO</td>\n",
              "      <td>SI</td>\n",
              "      <td>NO</td>\n",
              "      <td>NO</td>\n",
              "      <td>SI</td>\n",
              "      <td>NO ESPECIFICADO</td>\n",
              "      <td>NO APLICA</td>\n",
              "      <td>FUERA DE USMER</td>\n",
              "      <td>ESTATAL</td>\n",
              "      <td>MUJER</td>\n",
              "      <td>AMBULATORIO</td>\n",
              "      <td>MEXICANA</td>\n",
              "      <td>Positivo SARS-CoV-2</td>\n",
              "      <td>False</td>\n",
              "      <td>NaN</td>\n",
              "      <td>NaN</td>\n",
              "      <td>7</td>\n",
              "      <td>2020</td>\n",
              "    </tr>\n",
              "    <tr>\n",
              "      <th>1</th>\n",
              "      <td>2020-09-01</td>\n",
              "      <td>1b0c85</td>\n",
              "      <td>2020-04-03</td>\n",
              "      <td>2020-03-30</td>\n",
              "      <td>NaT</td>\n",
              "      <td>64</td>\n",
              "      <td>MÃ©xico</td>\n",
              "      <td>99</td>\n",
              "      <td>COAHUILA DE ZARAGOZA</td>\n",
              "      <td>SALTILLO</td>\n",
              "      <td>COAHUILA DE ZARAGOZA</td>\n",
              "      <td>SAN LUIS POTOSÍ</td>\n",
              "      <td>NO APLICA</td>\n",
              "      <td>NO</td>\n",
              "      <td>NO</td>\n",
              "      <td>NO</td>\n",
              "      <td>NO</td>\n",
              "      <td>NO</td>\n",
              "      <td>NO</td>\n",
              "      <td>NO</td>\n",
              "      <td>NO</td>\n",
              "      <td>NO</td>\n",
              "      <td>NO</td>\n",
              "      <td>NO</td>\n",
              "      <td>NO</td>\n",
              "      <td>NO</td>\n",
              "      <td>SI</td>\n",
              "      <td>NO ESPECIFICADO</td>\n",
              "      <td>NO APLICA</td>\n",
              "      <td>FUERA DE USMER</td>\n",
<<<<<<< HEAD
              "      <td>IMSS</td>\n",
              "      <td>MUJER</td>\n",
=======
              "      <td>ESTATAL</td>\n",
              "      <td>HOMBRE</td>\n",
>>>>>>> aa312e54162503d558ce67a1e6f38bac0e0ba1ce
              "      <td>AMBULATORIO</td>\n",
              "      <td>MEXICANA</td>\n",
              "      <td>Positivo SARS-CoV-2</td>\n",
              "      <td>False</td>\n",
              "      <td>NaN</td>\n",
              "      <td>NaN</td>\n",
              "      <td>6</td>\n",
              "      <td>2020</td>\n",
              "    </tr>\n",
              "    <tr>\n",
<<<<<<< HEAD
              "      <th>2</th>\n",
              "      <td>2020-09-01</td>\n",
              "      <td>17ae86</td>\n",
              "      <td>2020-04-14</td>\n",
              "      <td>2020-04-14</td>\n",
              "      <td>2020-04-24</td>\n",
              "      <td>50</td>\n",
              "      <td>MÃ©xico</td>\n",
              "      <td>99</td>\n",
              "      <td>BAJA CALIFORNIA</td>\n",
              "      <td>TECATE</td>\n",
              "      <td>BAJA CALIFORNIA</td>\n",
              "      <td>VERACRUZ DE IGNACIO DE LA LLAVE</td>\n",
              "      <td>NO</td>\n",
              "      <td>SI</td>\n",
=======
              "      <th>1</th>\n",
              "      <td>2020-09-03</td>\n",
              "      <td>1b7adb</td>\n",
              "      <td>2020-04-29</td>\n",
              "      <td>2020-04-15</td>\n",
              "      <td>2020-04-30</td>\n",
              "      <td>64</td>\n",
              "      <td>MÃ©xico</td>\n",
              "      <td>99</td>\n",
              "      <td>BAJA CALIFORNIA</td>\n",
              "      <td>TIJUANA</td>\n",
              "      <td>BAJA CALIFORNIA</td>\n",
              "      <td>GUERRERO</td>\n",
>>>>>>> aa312e54162503d558ce67a1e6f38bac0e0ba1ce
              "      <td>NO</td>\n",
              "      <td>SI</td>\n",
              "      <td>NO APLICA</td>\n",
              "      <td>NO</td>\n",
              "      <td>SI</td>\n",
              "      <td>NO</td>\n",
              "      <td>NO</td>\n",
              "      <td>NO</td>\n",
              "      <td>SI</td>\n",
              "      <td>NO</td>\n",
<<<<<<< HEAD
              "      <td>NO</td>\n",
              "      <td>SI</td>\n",
=======
>>>>>>> aa312e54162503d558ce67a1e6f38bac0e0ba1ce
              "      <td>NO</td>\n",
              "      <td>NO</td>\n",
              "      <td>NO ESPECIFICADO</td>\n",
              "      <td>NO ESPECIFICADO</td>\n",
              "      <td>NO</td>\n",
              "      <td>FUERA DE USMER</td>\n",
              "      <td>IMSS</td>\n",
              "      <td>MUJER</td>\n",
              "      <td>HOSPITALIZADO</td>\n",
              "      <td>MEXICANA</td>\n",
              "      <td>Positivo SARS-CoV-2</td>\n",
              "      <td>True</td>\n",
              "      <td>4.0</td>\n",
              "      <td>2020.0</td>\n",
              "      <td>4</td>\n",
              "      <td>2020</td>\n",
              "    </tr>\n",
              "    <tr>\n",
              "      <th>3</th>\n",
              "      <td>2020-09-01</td>\n",
              "      <td>14df1c</td>\n",
              "      <td>2020-04-23</td>\n",
              "      <td>2020-04-22</td>\n",
              "      <td>NaT</td>\n",
              "      <td>27</td>\n",
              "      <td>MÃ©xico</td>\n",
              "      <td>99</td>\n",
              "      <td>YUCATÁN</td>\n",
              "      <td>UMÁN</td>\n",
              "      <td>YUCATÁN</td>\n",
              "      <td>YUCATÁN</td>\n",
              "      <td>NO APLICA</td>\n",
              "      <td>NO</td>\n",
              "      <td>NO APLICA</td>\n",
              "      <td>NO</td>\n",
              "      <td>NO</td>\n",
              "      <td>NO</td>\n",
              "      <td>NO</td>\n",
              "      <td>NO</td>\n",
              "      <td>NO</td>\n",
              "      <td>NO</td>\n",
              "      <td>NO</td>\n",
              "      <td>NO</td>\n",
              "      <td>NO</td>\n",
              "      <td>NO</td>\n",
              "      <td>NO ESPECIFICADO</td>\n",
              "      <td>NO ESPECIFICADO</td>\n",
              "      <td>NO</td>\n",
              "      <td>FUERA DE USMER</td>\n",
              "      <td>IMSS</td>\n",
              "      <td>HOMBRE</td>\n",
<<<<<<< HEAD
              "      <td>AMBULATORIO</td>\n",
              "      <td>MEXICANA</td>\n",
              "      <td>Positivo SARS-CoV-2</td>\n",
              "      <td>False</td>\n",
              "      <td>NaN</td>\n",
              "      <td>NaN</td>\n",
              "      <td>4</td>\n",
              "      <td>2020</td>\n",
              "    </tr>\n",
              "    <tr>\n",
              "      <th>4</th>\n",
              "      <td>2020-09-01</td>\n",
              "      <td>0f3272</td>\n",
              "      <td>2020-04-26</td>\n",
              "      <td>2020-04-23</td>\n",
              "      <td>NaT</td>\n",
              "      <td>53</td>\n",
              "      <td>MÃ©xico</td>\n",
              "      <td>99</td>\n",
              "      <td>AGUASCALIENTES</td>\n",
              "      <td>JESÚS MARÍA</td>\n",
              "      <td>AGUASCALIENTES</td>\n",
              "      <td>AGUASCALIENTES</td>\n",
              "      <td>NO APLICA</td>\n",
              "      <td>NO</td>\n",
              "      <td>NO APLICA</td>\n",
              "      <td>NO</td>\n",
              "      <td>NO</td>\n",
              "      <td>NO</td>\n",
              "      <td>NO</td>\n",
              "      <td>NO</td>\n",
              "      <td>NO</td>\n",
              "      <td>NO</td>\n",
              "      <td>NO</td>\n",
              "      <td>NO</td>\n",
              "      <td>NO</td>\n",
              "      <td>NO</td>\n",
              "      <td>NO ESPECIFICADO</td>\n",
              "      <td>NO ESPECIFICADO</td>\n",
              "      <td>NO APLICA</td>\n",
              "      <td>FUERA DE USMER</td>\n",
              "      <td>IMSS</td>\n",
              "      <td>HOMBRE</td>\n",
              "      <td>AMBULATORIO</td>\n",
              "      <td>MEXICANA</td>\n",
              "      <td>Positivo SARS-CoV-2</td>\n",
              "      <td>False</td>\n",
              "      <td>NaN</td>\n",
              "      <td>NaN</td>\n",
=======
              "      <td>HOSPITALIZADO</td>\n",
              "      <td>MEXICANA</td>\n",
              "      <td>Positivo SARS-CoV-2</td>\n",
              "      <td>True</td>\n",
              "      <td>4.0</td>\n",
              "      <td>2020.0</td>\n",
>>>>>>> aa312e54162503d558ce67a1e6f38bac0e0ba1ce
              "      <td>4</td>\n",
              "      <td>2020</td>\n",
              "    </tr>\n",
              "  </tbody>\n",
              "</table>\n",
              "</div>"
            ],
            "text/plain": [
              "  fecha_actualizacion id_registro  ... mes_ingreso año_ingreso\n",
<<<<<<< HEAD
              "0          2020-09-01      0b79a6  ...           7        2020\n",
              "1          2020-09-01      1b0c85  ...           4        2020\n",
              "2          2020-09-01      17ae86  ...           4        2020\n",
              "3          2020-09-01      14df1c  ...           4        2020\n",
              "4          2020-09-01      0f3272  ...           4        2020\n",
=======
              "0          2020-09-03      097d14  ...           6        2020\n",
              "1          2020-09-03      1b7adb  ...           4        2020\n",
>>>>>>> aa312e54162503d558ce67a1e6f38bac0e0ba1ce
              "\n",
              "[5 rows x 40 columns]"
            ]
          },
          "metadata": {
            "tags": []
          },
<<<<<<< HEAD
          "execution_count": 86
=======
          "execution_count": 29
>>>>>>> aa312e54162503d558ce67a1e6f38bac0e0ba1ce
        }
      ]
    },
    {
      "cell_type": "code",
      "metadata": {
        "id": "uiXMDLQbvgIB",
        "colab_type": "code",
        "colab": {
          "base_uri": "https://localhost:8080/",
<<<<<<< HEAD
          "height": 194
        },
        "outputId": "3bbf5e8b-1391-477e-f49f-a205b8bb3b7f"
=======
          "height": 197
        },
        "outputId": "a1b52c9d-d6c6-4b4f-c8e4-bb50ef37bf83"
>>>>>>> aa312e54162503d558ce67a1e6f38bac0e0ba1ce
      },
      "source": [
        "# haciendo referencia a la columna como índice\n",
        "data[data['nacionalidad'] == 'MEXICANA'].head(2)"
      ],
<<<<<<< HEAD
      "execution_count": 87,
=======
      "execution_count": 30,
>>>>>>> aa312e54162503d558ce67a1e6f38bac0e0ba1ce
      "outputs": [
        {
          "output_type": "execute_result",
          "data": {
            "text/html": [
              "<div>\n",
              "<style scoped>\n",
              "    .dataframe tbody tr th:only-of-type {\n",
              "        vertical-align: middle;\n",
              "    }\n",
              "\n",
              "    .dataframe tbody tr th {\n",
              "        vertical-align: top;\n",
              "    }\n",
              "\n",
              "    .dataframe thead th {\n",
              "        text-align: right;\n",
              "    }\n",
              "</style>\n",
              "<table border=\"1\" class=\"dataframe\">\n",
              "  <thead>\n",
              "    <tr style=\"text-align: right;\">\n",
              "      <th></th>\n",
              "      <th>fecha_actualizacion</th>\n",
              "      <th>id_registro</th>\n",
              "      <th>fecha_ingreso</th>\n",
              "      <th>fecha_sintomas</th>\n",
              "      <th>fecha_def</th>\n",
              "      <th>edad</th>\n",
              "      <th>pais_nacionalidad</th>\n",
              "      <th>pais_origen</th>\n",
              "      <th>entidad_res</th>\n",
              "      <th>municipio_res</th>\n",
              "      <th>entidad_um</th>\n",
              "      <th>entidad_nac</th>\n",
              "      <th>intubado</th>\n",
              "      <th>neumonia</th>\n",
              "      <th>embarazo</th>\n",
              "      <th>habla_lengua_indig</th>\n",
              "      <th>diabetes</th>\n",
              "      <th>epoc</th>\n",
              "      <th>asma</th>\n",
              "      <th>inmusupr</th>\n",
              "      <th>hipertension</th>\n",
              "      <th>otra_com</th>\n",
              "      <th>cardiovascular</th>\n",
              "      <th>obesidad</th>\n",
              "      <th>renal_cronica</th>\n",
              "      <th>tabaquismo</th>\n",
              "      <th>otro_caso</th>\n",
              "      <th>migrante</th>\n",
              "      <th>uci</th>\n",
              "      <th>origen</th>\n",
              "      <th>sector</th>\n",
              "      <th>sexo</th>\n",
              "      <th>tipo_paciente</th>\n",
              "      <th>nacionalidad</th>\n",
              "      <th>resultado</th>\n",
              "      <th>defuncion</th>\n",
              "      <th>mes_def</th>\n",
              "      <th>año_def</th>\n",
              "      <th>mes_ingreso</th>\n",
              "      <th>año_ingreso</th>\n",
              "    </tr>\n",
              "  </thead>\n",
              "  <tbody>\n",
              "    <tr>\n",
              "      <th>0</th>\n",
<<<<<<< HEAD
              "      <td>2020-09-01</td>\n",
              "      <td>0b79a6</td>\n",
              "      <td>2020-07-01</td>\n",
              "      <td>2020-06-28</td>\n",
              "      <td>NaT</td>\n",
              "      <td>30</td>\n",
              "      <td>MÃ©xico</td>\n",
              "      <td>99</td>\n",
              "      <td>MÉXICO</td>\n",
              "      <td>TOLUCA</td>\n",
              "      <td>MÉXICO</td>\n",
              "      <td>CIUDAD DE MÉXICO</td>\n",
=======
              "      <td>2020-09-03</td>\n",
              "      <td>097d14</td>\n",
              "      <td>2020-06-10</td>\n",
              "      <td>2020-06-10</td>\n",
              "      <td>NaT</td>\n",
              "      <td>27</td>\n",
              "      <td>MÃ©xico</td>\n",
              "      <td>99</td>\n",
              "      <td>BAJA CALIFORNIA</td>\n",
              "      <td>MEXICALI</td>\n",
              "      <td>BAJA CALIFORNIA</td>\n",
              "      <td>BAJA CALIFORNIA</td>\n",
>>>>>>> aa312e54162503d558ce67a1e6f38bac0e0ba1ce
              "      <td>NO APLICA</td>\n",
              "      <td>NO</td>\n",
              "      <td>NO</td>\n",
              "      <td>NO</td>\n",
              "      <td>NO</td>\n",
              "      <td>NO</td>\n",
              "      <td>NO</td>\n",
              "      <td>NO</td>\n",
              "      <td>NO</td>\n",
              "      <td>NO</td>\n",
              "      <td>NO</td>\n",
              "      <td>SI</td>\n",
              "      <td>NO</td>\n",
              "      <td>NO</td>\n",
              "      <td>SI</td>\n",
              "      <td>NO ESPECIFICADO</td>\n",
              "      <td>NO APLICA</td>\n",
              "      <td>FUERA DE USMER</td>\n",
              "      <td>ESTATAL</td>\n",
<<<<<<< HEAD
              "      <td>MUJER</td>\n",
=======
              "      <td>HOMBRE</td>\n",
>>>>>>> aa312e54162503d558ce67a1e6f38bac0e0ba1ce
              "      <td>AMBULATORIO</td>\n",
              "      <td>MEXICANA</td>\n",
              "      <td>Positivo SARS-CoV-2</td>\n",
              "      <td>False</td>\n",
              "      <td>NaN</td>\n",
              "      <td>NaN</td>\n",
<<<<<<< HEAD
              "      <td>7</td>\n",
=======
              "      <td>6</td>\n",
>>>>>>> aa312e54162503d558ce67a1e6f38bac0e0ba1ce
              "      <td>2020</td>\n",
              "    </tr>\n",
              "    <tr>\n",
              "      <th>1</th>\n",
<<<<<<< HEAD
              "      <td>2020-09-01</td>\n",
              "      <td>1b0c85</td>\n",
              "      <td>2020-04-03</td>\n",
              "      <td>2020-03-30</td>\n",
              "      <td>NaT</td>\n",
              "      <td>64</td>\n",
              "      <td>MÃ©xico</td>\n",
              "      <td>99</td>\n",
              "      <td>COAHUILA DE ZARAGOZA</td>\n",
              "      <td>SALTILLO</td>\n",
              "      <td>COAHUILA DE ZARAGOZA</td>\n",
              "      <td>SAN LUIS POTOSÍ</td>\n",
              "      <td>NO APLICA</td>\n",
              "      <td>NO</td>\n",
=======
              "      <td>2020-09-03</td>\n",
              "      <td>1b7adb</td>\n",
              "      <td>2020-04-29</td>\n",
              "      <td>2020-04-15</td>\n",
              "      <td>2020-04-30</td>\n",
              "      <td>64</td>\n",
              "      <td>MÃ©xico</td>\n",
              "      <td>99</td>\n",
              "      <td>BAJA CALIFORNIA</td>\n",
              "      <td>TIJUANA</td>\n",
              "      <td>BAJA CALIFORNIA</td>\n",
              "      <td>GUERRERO</td>\n",
>>>>>>> aa312e54162503d558ce67a1e6f38bac0e0ba1ce
              "      <td>NO</td>\n",
              "      <td>SI</td>\n",
              "      <td>NO APLICA</td>\n",
              "      <td>NO</td>\n",
              "      <td>SI</td>\n",
              "      <td>NO</td>\n",
              "      <td>NO</td>\n",
              "      <td>NO</td>\n",
              "      <td>NO</td>\n",
              "      <td>NO</td>\n",
              "      <td>NO</td>\n",
              "      <td>NO</td>\n",
              "      <td>NO</td>\n",
              "      <td>NO</td>\n",
              "      <td>NO</td>\n",
              "      <td>SI</td>\n",
              "      <td>NO ESPECIFICADO</td>\n",
              "      <td>NO</td>\n",
              "      <td>FUERA DE USMER</td>\n",
              "      <td>IMSS</td>\n",
              "      <td>HOMBRE</td>\n",
              "      <td>HOSPITALIZADO</td>\n",
              "      <td>MEXICANA</td>\n",
              "      <td>Positivo SARS-CoV-2</td>\n",
<<<<<<< HEAD
              "      <td>False</td>\n",
              "      <td>NaN</td>\n",
              "      <td>NaN</td>\n",
=======
              "      <td>True</td>\n",
              "      <td>4.0</td>\n",
              "      <td>2020.0</td>\n",
>>>>>>> aa312e54162503d558ce67a1e6f38bac0e0ba1ce
              "      <td>4</td>\n",
              "      <td>2020</td>\n",
              "    </tr>\n",
              "  </tbody>\n",
              "</table>\n",
              "</div>"
            ],
            "text/plain": [
              "  fecha_actualizacion id_registro  ... mes_ingreso año_ingreso\n",
<<<<<<< HEAD
              "0          2020-09-01      0b79a6  ...           7        2020\n",
              "1          2020-09-01      1b0c85  ...           4        2020\n",
=======
              "0          2020-09-03      097d14  ...           6        2020\n",
              "1          2020-09-03      1b7adb  ...           4        2020\n",
>>>>>>> aa312e54162503d558ce67a1e6f38bac0e0ba1ce
              "\n",
              "[2 rows x 40 columns]"
            ]
          },
          "metadata": {
            "tags": []
          },
<<<<<<< HEAD
          "execution_count": 87
=======
          "execution_count": 30
>>>>>>> aa312e54162503d558ce67a1e6f38bac0e0ba1ce
        }
      ]
    },
    {
      "cell_type": "code",
      "metadata": {
        "id": "FtcFiMcjvthY",
        "colab_type": "code",
        "colab": {
          "base_uri": "https://localhost:8080/",
          "height": 194
        },
        "outputId": "bd45aae2-a373-4da5-8cf2-a5941588efba"
      },
      "source": [
        "# seleccionando directamente la columna que queremos filtrar\n",
        "data[data.nacionalidad == 'MEXICANA'].head(2)"
      ],
      "execution_count": 88,
      "outputs": [
        {
          "output_type": "execute_result",
          "data": {
            "text/html": [
              "<div>\n",
              "<style scoped>\n",
              "    .dataframe tbody tr th:only-of-type {\n",
              "        vertical-align: middle;\n",
              "    }\n",
              "\n",
              "    .dataframe tbody tr th {\n",
              "        vertical-align: top;\n",
              "    }\n",
              "\n",
              "    .dataframe thead th {\n",
              "        text-align: right;\n",
              "    }\n",
              "</style>\n",
              "<table border=\"1\" class=\"dataframe\">\n",
              "  <thead>\n",
              "    <tr style=\"text-align: right;\">\n",
              "      <th></th>\n",
              "      <th>fecha_actualizacion</th>\n",
              "      <th>id_registro</th>\n",
              "      <th>fecha_ingreso</th>\n",
              "      <th>fecha_sintomas</th>\n",
              "      <th>fecha_def</th>\n",
              "      <th>edad</th>\n",
              "      <th>pais_nacionalidad</th>\n",
              "      <th>pais_origen</th>\n",
              "      <th>entidad_res</th>\n",
              "      <th>municipio_res</th>\n",
              "      <th>entidad_um</th>\n",
              "      <th>entidad_nac</th>\n",
              "      <th>intubado</th>\n",
              "      <th>neumonia</th>\n",
              "      <th>embarazo</th>\n",
              "      <th>habla_lengua_indig</th>\n",
              "      <th>diabetes</th>\n",
              "      <th>epoc</th>\n",
              "      <th>asma</th>\n",
              "      <th>inmusupr</th>\n",
              "      <th>hipertension</th>\n",
              "      <th>otra_com</th>\n",
              "      <th>cardiovascular</th>\n",
              "      <th>obesidad</th>\n",
              "      <th>renal_cronica</th>\n",
              "      <th>tabaquismo</th>\n",
              "      <th>otro_caso</th>\n",
              "      <th>migrante</th>\n",
              "      <th>uci</th>\n",
              "      <th>origen</th>\n",
              "      <th>sector</th>\n",
              "      <th>sexo</th>\n",
              "      <th>tipo_paciente</th>\n",
              "      <th>nacionalidad</th>\n",
              "      <th>resultado</th>\n",
              "      <th>defuncion</th>\n",
              "      <th>mes_def</th>\n",
              "      <th>año_def</th>\n",
              "      <th>mes_ingreso</th>\n",
              "      <th>año_ingreso</th>\n",
              "    </tr>\n",
              "  </thead>\n",
              "  <tbody>\n",
              "    <tr>\n",
              "      <th>0</th>\n",
              "      <td>2020-09-01</td>\n",
              "      <td>0b79a6</td>\n",
              "      <td>2020-07-01</td>\n",
              "      <td>2020-06-28</td>\n",
              "      <td>NaT</td>\n",
              "      <td>30</td>\n",
              "      <td>MÃ©xico</td>\n",
              "      <td>99</td>\n",
              "      <td>MÉXICO</td>\n",
              "      <td>TOLUCA</td>\n",
              "      <td>MÉXICO</td>\n",
              "      <td>CIUDAD DE MÉXICO</td>\n",
              "      <td>NO APLICA</td>\n",
              "      <td>NO</td>\n",
              "      <td>NO</td>\n",
              "      <td>NO</td>\n",
              "      <td>NO</td>\n",
              "      <td>NO</td>\n",
              "      <td>NO</td>\n",
              "      <td>NO</td>\n",
              "      <td>NO</td>\n",
              "      <td>NO</td>\n",
              "      <td>NO</td>\n",
              "      <td>SI</td>\n",
              "      <td>NO</td>\n",
              "      <td>NO</td>\n",
              "      <td>SI</td>\n",
              "      <td>NO ESPECIFICADO</td>\n",
              "      <td>NO APLICA</td>\n",
              "      <td>FUERA DE USMER</td>\n",
              "      <td>ESTATAL</td>\n",
              "      <td>MUJER</td>\n",
              "      <td>AMBULATORIO</td>\n",
              "      <td>MEXICANA</td>\n",
              "      <td>Positivo SARS-CoV-2</td>\n",
              "      <td>False</td>\n",
              "      <td>NaN</td>\n",
              "      <td>NaN</td>\n",
              "      <td>7</td>\n",
              "      <td>2020</td>\n",
              "    </tr>\n",
              "    <tr>\n",
              "      <th>1</th>\n",
              "      <td>2020-09-01</td>\n",
              "      <td>1b0c85</td>\n",
              "      <td>2020-04-03</td>\n",
              "      <td>2020-03-30</td>\n",
              "      <td>NaT</td>\n",
              "      <td>64</td>\n",
              "      <td>MÃ©xico</td>\n",
              "      <td>99</td>\n",
              "      <td>COAHUILA DE ZARAGOZA</td>\n",
              "      <td>SALTILLO</td>\n",
              "      <td>COAHUILA DE ZARAGOZA</td>\n",
              "      <td>SAN LUIS POTOSÍ</td>\n",
              "      <td>NO APLICA</td>\n",
              "      <td>NO</td>\n",
              "      <td>NO</td>\n",
              "      <td>NO</td>\n",
              "      <td>NO</td>\n",
              "      <td>NO</td>\n",
              "      <td>NO</td>\n",
              "      <td>NO</td>\n",
              "      <td>NO</td>\n",
              "      <td>NO</td>\n",
              "      <td>NO</td>\n",
              "      <td>NO</td>\n",
              "      <td>NO</td>\n",
              "      <td>NO</td>\n",
              "      <td>SI</td>\n",
              "      <td>NO ESPECIFICADO</td>\n",
              "      <td>NO APLICA</td>\n",
              "      <td>FUERA DE USMER</td>\n",
              "      <td>IMSS</td>\n",
              "      <td>MUJER</td>\n",
              "      <td>AMBULATORIO</td>\n",
              "      <td>MEXICANA</td>\n",
              "      <td>Positivo SARS-CoV-2</td>\n",
              "      <td>False</td>\n",
              "      <td>NaN</td>\n",
              "      <td>NaN</td>\n",
              "      <td>4</td>\n",
              "      <td>2020</td>\n",
              "    </tr>\n",
              "  </tbody>\n",
              "</table>\n",
              "</div>"
            ],
            "text/plain": [
              "  fecha_actualizacion id_registro  ... mes_ingreso año_ingreso\n",
              "0          2020-09-01      0b79a6  ...           7        2020\n",
              "1          2020-09-01      1b0c85  ...           4        2020\n",
              "\n",
              "[2 rows x 40 columns]"
            ]
          },
          "metadata": {
            "tags": []
          },
          "execution_count": 88
        }
      ]
    },
    {
      "cell_type": "markdown",
      "metadata": {
        "id": "4tawkDh4wMFr",
        "colab_type": "text"
      },
      "source": [
        "**Filtrado múltiple**"
      ]
    },
    {
      "cell_type": "code",
      "metadata": {
        "id": "zTLWeZwRwKUU",
        "colab_type": "code",
        "colab": {
          "base_uri": "https://localhost:8080/",
          "height": 194
        },
<<<<<<< HEAD
        "outputId": "b4c0e3dc-73a3-4710-aedd-54cdba168756"
=======
        "outputId": "f1d7b89e-c211-4f48-a590-ef7937f5917c"
>>>>>>> aa312e54162503d558ce67a1e6f38bac0e0ba1ce
      },
      "source": [
        "# usando query podemos poner en el string del query todas las condiciones que queramos\n",
        "data.query('nacionalidad == \"MEXICANA\" & entidad_res == \"CIUDAD DE MÉXICO\"').head(2)"
      ],
<<<<<<< HEAD
      "execution_count": 89,
=======
      "execution_count": 31,
>>>>>>> aa312e54162503d558ce67a1e6f38bac0e0ba1ce
      "outputs": [
        {
          "output_type": "execute_result",
          "data": {
            "text/html": [
              "<div>\n",
              "<style scoped>\n",
              "    .dataframe tbody tr th:only-of-type {\n",
              "        vertical-align: middle;\n",
              "    }\n",
              "\n",
              "    .dataframe tbody tr th {\n",
              "        vertical-align: top;\n",
              "    }\n",
              "\n",
              "    .dataframe thead th {\n",
              "        text-align: right;\n",
              "    }\n",
              "</style>\n",
              "<table border=\"1\" class=\"dataframe\">\n",
              "  <thead>\n",
              "    <tr style=\"text-align: right;\">\n",
              "      <th></th>\n",
              "      <th>fecha_actualizacion</th>\n",
              "      <th>id_registro</th>\n",
              "      <th>fecha_ingreso</th>\n",
              "      <th>fecha_sintomas</th>\n",
              "      <th>fecha_def</th>\n",
              "      <th>edad</th>\n",
              "      <th>pais_nacionalidad</th>\n",
              "      <th>pais_origen</th>\n",
              "      <th>entidad_res</th>\n",
              "      <th>municipio_res</th>\n",
              "      <th>entidad_um</th>\n",
              "      <th>entidad_nac</th>\n",
              "      <th>intubado</th>\n",
              "      <th>neumonia</th>\n",
              "      <th>embarazo</th>\n",
              "      <th>habla_lengua_indig</th>\n",
              "      <th>diabetes</th>\n",
              "      <th>epoc</th>\n",
              "      <th>asma</th>\n",
              "      <th>inmusupr</th>\n",
              "      <th>hipertension</th>\n",
              "      <th>otra_com</th>\n",
              "      <th>cardiovascular</th>\n",
              "      <th>obesidad</th>\n",
              "      <th>renal_cronica</th>\n",
              "      <th>tabaquismo</th>\n",
              "      <th>otro_caso</th>\n",
              "      <th>migrante</th>\n",
              "      <th>uci</th>\n",
              "      <th>origen</th>\n",
              "      <th>sector</th>\n",
              "      <th>sexo</th>\n",
              "      <th>tipo_paciente</th>\n",
              "      <th>nacionalidad</th>\n",
              "      <th>resultado</th>\n",
              "      <th>defuncion</th>\n",
              "      <th>mes_def</th>\n",
              "      <th>año_def</th>\n",
              "      <th>mes_ingreso</th>\n",
              "      <th>año_ingreso</th>\n",
              "    </tr>\n",
              "  </thead>\n",
              "  <tbody>\n",
              "    <tr>\n",
<<<<<<< HEAD
              "      <th>12</th>\n",
              "      <td>2020-09-01</td>\n",
              "      <td>1239f8</td>\n",
              "      <td>2020-04-13</td>\n",
              "      <td>2020-04-10</td>\n",
              "      <td>NaT</td>\n",
              "      <td>34</td>\n",
              "      <td>MÃ©xico</td>\n",
              "      <td>99</td>\n",
              "      <td>CIUDAD DE MÉXICO</td>\n",
              "      <td>TLALPAN</td>\n",
=======
              "      <th>22</th>\n",
              "      <td>2020-09-03</td>\n",
              "      <td>192ec3</td>\n",
              "      <td>2020-04-23</td>\n",
              "      <td>2020-04-23</td>\n",
              "      <td>2020-05-03</td>\n",
              "      <td>42</td>\n",
              "      <td>MÃ©xico</td>\n",
              "      <td>99</td>\n",
              "      <td>CIUDAD DE MÉXICO</td>\n",
              "      <td>AZCAPOTZALCO</td>\n",
>>>>>>> aa312e54162503d558ce67a1e6f38bac0e0ba1ce
              "      <td>CIUDAD DE MÉXICO</td>\n",
              "      <td>CIUDAD DE MÉXICO</td>\n",
              "      <td>NO</td>\n",
<<<<<<< HEAD
=======
              "      <td>SI</td>\n",
              "      <td>NO APLICA</td>\n",
>>>>>>> aa312e54162503d558ce67a1e6f38bac0e0ba1ce
              "      <td>NO</td>\n",
              "      <td>NO</td>\n",
              "      <td>NO</td>\n",
              "      <td>NO</td>\n",
              "      <td>NO</td>\n",
<<<<<<< HEAD
=======
              "      <td>NO</td>\n",
>>>>>>> aa312e54162503d558ce67a1e6f38bac0e0ba1ce
              "      <td>NO</td>\n",
              "      <td>NO</td>\n",
              "      <td>SI</td>\n",
              "      <td>NO</td>\n",
              "      <td>NO</td>\n",
<<<<<<< HEAD
              "      <td>NO</td>\n",
              "      <td>SI</td>\n",
              "      <td>NO ESPECIFICADO</td>\n",
              "      <td>NO ESPECIFICADO</td>\n",
              "      <td>NO APLICA</td>\n",
              "      <td>FUERA DE USMER</td>\n",
              "      <td>IMSS</td>\n",
              "      <td>MUJER</td>\n",
              "      <td>AMBULATORIO</td>\n",
              "      <td>MEXICANA</td>\n",
              "      <td>Positivo SARS-CoV-2</td>\n",
              "      <td>False</td>\n",
              "      <td>NaN</td>\n",
              "      <td>NaN</td>\n",
=======
              "      <td>NO ESPECIFICADO</td>\n",
              "      <td>NO ESPECIFICADO</td>\n",
              "      <td>NO</td>\n",
              "      <td>FUERA DE USMER</td>\n",
              "      <td>IMSS</td>\n",
              "      <td>HOMBRE</td>\n",
              "      <td>HOSPITALIZADO</td>\n",
              "      <td>MEXICANA</td>\n",
              "      <td>Positivo SARS-CoV-2</td>\n",
              "      <td>True</td>\n",
              "      <td>5.0</td>\n",
              "      <td>2020.0</td>\n",
>>>>>>> aa312e54162503d558ce67a1e6f38bac0e0ba1ce
              "      <td>4</td>\n",
              "      <td>2020</td>\n",
              "    </tr>\n",
              "    <tr>\n",
<<<<<<< HEAD
              "      <th>13</th>\n",
              "      <td>2020-09-01</td>\n",
              "      <td>0c7084</td>\n",
              "      <td>2020-05-06</td>\n",
              "      <td>2020-04-25</td>\n",
              "      <td>NaT</td>\n",
              "      <td>56</td>\n",
              "      <td>MÃ©xico</td>\n",
              "      <td>99</td>\n",
              "      <td>CIUDAD DE MÉXICO</td>\n",
              "      <td>IZTAPALAPA</td>\n",
              "      <td>CIUDAD DE MÉXICO</td>\n",
              "      <td>CIUDAD DE MÉXICO</td>\n",
              "      <td>NO</td>\n",
              "      <td>SI</td>\n",
              "      <td>NO</td>\n",
=======
              "      <th>26</th>\n",
              "      <td>2020-09-03</td>\n",
              "      <td>1be6c6</td>\n",
              "      <td>2020-05-19</td>\n",
              "      <td>2020-05-18</td>\n",
              "      <td>NaT</td>\n",
              "      <td>37</td>\n",
              "      <td>MÃ©xico</td>\n",
              "      <td>99</td>\n",
              "      <td>CIUDAD DE MÉXICO</td>\n",
              "      <td>AZCAPOTZALCO</td>\n",
              "      <td>CIUDAD DE MÉXICO</td>\n",
              "      <td>MICHOACÁN DE OCAMPO</td>\n",
              "      <td>NO APLICA</td>\n",
              "      <td>NO</td>\n",
>>>>>>> aa312e54162503d558ce67a1e6f38bac0e0ba1ce
              "      <td>NO</td>\n",
              "      <td>NO</td>\n",
              "      <td>NO</td>\n",
              "      <td>NO</td>\n",
              "      <td>NO</td>\n",
              "      <td>NO</td>\n",
              "      <td>NO</td>\n",
              "      <td>NO</td>\n",
              "      <td>NO</td>\n",
              "      <td>NO</td>\n",
<<<<<<< HEAD
=======
              "      <td>NO</td>\n",
              "      <td>NO</td>\n",
              "      <td>NO ESPECIFICADO</td>\n",
>>>>>>> aa312e54162503d558ce67a1e6f38bac0e0ba1ce
              "      <td>NO ESPECIFICADO</td>\n",
              "      <td>NO ESPECIFICADO</td>\n",
              "      <td>NO</td>\n",
              "      <td>FUERA DE USMER</td>\n",
              "      <td>IMSS</td>\n",
              "      <td>MUJER</td>\n",
<<<<<<< HEAD
              "      <td>HOSPITALIZADO</td>\n",
=======
              "      <td>AMBULATORIO</td>\n",
>>>>>>> aa312e54162503d558ce67a1e6f38bac0e0ba1ce
              "      <td>MEXICANA</td>\n",
              "      <td>Positivo SARS-CoV-2</td>\n",
              "      <td>False</td>\n",
              "      <td>NaN</td>\n",
              "      <td>NaN</td>\n",
              "      <td>5</td>\n",
              "      <td>2020</td>\n",
              "    </tr>\n",
              "  </tbody>\n",
              "</table>\n",
              "</div>"
            ],
            "text/plain": [
              "   fecha_actualizacion id_registro  ... mes_ingreso año_ingreso\n",
<<<<<<< HEAD
              "12          2020-09-01      1239f8  ...           4        2020\n",
              "13          2020-09-01      0c7084  ...           5        2020\n",
=======
              "22          2020-09-03      192ec3  ...           4        2020\n",
              "26          2020-09-03      1be6c6  ...           5        2020\n",
>>>>>>> aa312e54162503d558ce67a1e6f38bac0e0ba1ce
              "\n",
              "[2 rows x 40 columns]"
            ]
          },
          "metadata": {
            "tags": []
          },
<<<<<<< HEAD
          "execution_count": 89
=======
          "execution_count": 31
>>>>>>> aa312e54162503d558ce67a1e6f38bac0e0ba1ce
        }
      ]
    },
    {
      "cell_type": "code",
      "metadata": {
        "id": "Rq_KnQ3nwYfB",
        "colab_type": "code",
        "colab": {
          "base_uri": "https://localhost:8080/",
          "height": 194
        },
<<<<<<< HEAD
        "outputId": "758f2543-2129-49de-88d4-e27ebc1f80bf"
=======
        "outputId": "6fbb74d6-2735-487f-b47c-26d4557efa29"
>>>>>>> aa312e54162503d558ce67a1e6f38bac0e0ba1ce
      },
      "source": [
        "# usando el filtrado tradicional debemos encerrar en paréntesis cada condición que queremos que cumpla nuestro filtro\n",
        "data[(data['nacionalidad'] == \"MEXICANA\") & (data.entidad_res == \"CIUDAD DE MÉXICO\")].head(2)"
      ],
<<<<<<< HEAD
      "execution_count": 90,
=======
      "execution_count": 32,
>>>>>>> aa312e54162503d558ce67a1e6f38bac0e0ba1ce
      "outputs": [
        {
          "output_type": "execute_result",
          "data": {
            "text/html": [
              "<div>\n",
              "<style scoped>\n",
              "    .dataframe tbody tr th:only-of-type {\n",
              "        vertical-align: middle;\n",
              "    }\n",
              "\n",
              "    .dataframe tbody tr th {\n",
              "        vertical-align: top;\n",
              "    }\n",
              "\n",
              "    .dataframe thead th {\n",
              "        text-align: right;\n",
              "    }\n",
              "</style>\n",
              "<table border=\"1\" class=\"dataframe\">\n",
              "  <thead>\n",
              "    <tr style=\"text-align: right;\">\n",
              "      <th></th>\n",
              "      <th>fecha_actualizacion</th>\n",
              "      <th>id_registro</th>\n",
              "      <th>fecha_ingreso</th>\n",
              "      <th>fecha_sintomas</th>\n",
              "      <th>fecha_def</th>\n",
              "      <th>edad</th>\n",
              "      <th>pais_nacionalidad</th>\n",
              "      <th>pais_origen</th>\n",
              "      <th>entidad_res</th>\n",
              "      <th>municipio_res</th>\n",
              "      <th>entidad_um</th>\n",
              "      <th>entidad_nac</th>\n",
              "      <th>intubado</th>\n",
              "      <th>neumonia</th>\n",
              "      <th>embarazo</th>\n",
              "      <th>habla_lengua_indig</th>\n",
              "      <th>diabetes</th>\n",
              "      <th>epoc</th>\n",
              "      <th>asma</th>\n",
              "      <th>inmusupr</th>\n",
              "      <th>hipertension</th>\n",
              "      <th>otra_com</th>\n",
              "      <th>cardiovascular</th>\n",
              "      <th>obesidad</th>\n",
              "      <th>renal_cronica</th>\n",
              "      <th>tabaquismo</th>\n",
              "      <th>otro_caso</th>\n",
              "      <th>migrante</th>\n",
              "      <th>uci</th>\n",
              "      <th>origen</th>\n",
              "      <th>sector</th>\n",
              "      <th>sexo</th>\n",
              "      <th>tipo_paciente</th>\n",
              "      <th>nacionalidad</th>\n",
              "      <th>resultado</th>\n",
              "      <th>defuncion</th>\n",
              "      <th>mes_def</th>\n",
              "      <th>año_def</th>\n",
              "      <th>mes_ingreso</th>\n",
              "      <th>año_ingreso</th>\n",
              "    </tr>\n",
              "  </thead>\n",
              "  <tbody>\n",
              "    <tr>\n",
<<<<<<< HEAD
              "      <th>12</th>\n",
              "      <td>2020-09-01</td>\n",
              "      <td>1239f8</td>\n",
              "      <td>2020-04-13</td>\n",
              "      <td>2020-04-10</td>\n",
              "      <td>NaT</td>\n",
              "      <td>34</td>\n",
              "      <td>MÃ©xico</td>\n",
              "      <td>99</td>\n",
              "      <td>CIUDAD DE MÉXICO</td>\n",
              "      <td>TLALPAN</td>\n",
=======
              "      <th>22</th>\n",
              "      <td>2020-09-03</td>\n",
              "      <td>192ec3</td>\n",
              "      <td>2020-04-23</td>\n",
              "      <td>2020-04-23</td>\n",
              "      <td>2020-05-03</td>\n",
              "      <td>42</td>\n",
              "      <td>MÃ©xico</td>\n",
              "      <td>99</td>\n",
              "      <td>CIUDAD DE MÉXICO</td>\n",
              "      <td>AZCAPOTZALCO</td>\n",
>>>>>>> aa312e54162503d558ce67a1e6f38bac0e0ba1ce
              "      <td>CIUDAD DE MÉXICO</td>\n",
              "      <td>CIUDAD DE MÉXICO</td>\n",
              "      <td>NO</td>\n",
<<<<<<< HEAD
=======
              "      <td>SI</td>\n",
              "      <td>NO APLICA</td>\n",
>>>>>>> aa312e54162503d558ce67a1e6f38bac0e0ba1ce
              "      <td>NO</td>\n",
              "      <td>NO</td>\n",
              "      <td>NO</td>\n",
              "      <td>NO</td>\n",
              "      <td>NO</td>\n",
<<<<<<< HEAD
=======
              "      <td>NO</td>\n",
>>>>>>> aa312e54162503d558ce67a1e6f38bac0e0ba1ce
              "      <td>NO</td>\n",
              "      <td>NO</td>\n",
              "      <td>SI</td>\n",
              "      <td>NO</td>\n",
              "      <td>NO</td>\n",
<<<<<<< HEAD
              "      <td>NO</td>\n",
              "      <td>SI</td>\n",
              "      <td>NO ESPECIFICADO</td>\n",
              "      <td>NO ESPECIFICADO</td>\n",
              "      <td>NO APLICA</td>\n",
              "      <td>FUERA DE USMER</td>\n",
              "      <td>IMSS</td>\n",
              "      <td>MUJER</td>\n",
              "      <td>AMBULATORIO</td>\n",
              "      <td>MEXICANA</td>\n",
              "      <td>Positivo SARS-CoV-2</td>\n",
              "      <td>False</td>\n",
              "      <td>NaN</td>\n",
              "      <td>NaN</td>\n",
=======
              "      <td>NO ESPECIFICADO</td>\n",
              "      <td>NO ESPECIFICADO</td>\n",
              "      <td>NO</td>\n",
              "      <td>FUERA DE USMER</td>\n",
              "      <td>IMSS</td>\n",
              "      <td>HOMBRE</td>\n",
              "      <td>HOSPITALIZADO</td>\n",
              "      <td>MEXICANA</td>\n",
              "      <td>Positivo SARS-CoV-2</td>\n",
              "      <td>True</td>\n",
              "      <td>5.0</td>\n",
              "      <td>2020.0</td>\n",
>>>>>>> aa312e54162503d558ce67a1e6f38bac0e0ba1ce
              "      <td>4</td>\n",
              "      <td>2020</td>\n",
              "    </tr>\n",
              "    <tr>\n",
<<<<<<< HEAD
              "      <th>13</th>\n",
              "      <td>2020-09-01</td>\n",
              "      <td>0c7084</td>\n",
              "      <td>2020-05-06</td>\n",
              "      <td>2020-04-25</td>\n",
              "      <td>NaT</td>\n",
              "      <td>56</td>\n",
              "      <td>MÃ©xico</td>\n",
              "      <td>99</td>\n",
              "      <td>CIUDAD DE MÉXICO</td>\n",
              "      <td>IZTAPALAPA</td>\n",
              "      <td>CIUDAD DE MÉXICO</td>\n",
              "      <td>CIUDAD DE MÉXICO</td>\n",
              "      <td>NO</td>\n",
              "      <td>SI</td>\n",
              "      <td>NO</td>\n",
=======
              "      <th>26</th>\n",
              "      <td>2020-09-03</td>\n",
              "      <td>1be6c6</td>\n",
              "      <td>2020-05-19</td>\n",
              "      <td>2020-05-18</td>\n",
              "      <td>NaT</td>\n",
              "      <td>37</td>\n",
              "      <td>MÃ©xico</td>\n",
              "      <td>99</td>\n",
              "      <td>CIUDAD DE MÉXICO</td>\n",
              "      <td>AZCAPOTZALCO</td>\n",
              "      <td>CIUDAD DE MÉXICO</td>\n",
              "      <td>MICHOACÁN DE OCAMPO</td>\n",
              "      <td>NO APLICA</td>\n",
              "      <td>NO</td>\n",
>>>>>>> aa312e54162503d558ce67a1e6f38bac0e0ba1ce
              "      <td>NO</td>\n",
              "      <td>NO</td>\n",
              "      <td>NO</td>\n",
              "      <td>NO</td>\n",
              "      <td>NO</td>\n",
              "      <td>NO</td>\n",
              "      <td>NO</td>\n",
              "      <td>NO</td>\n",
              "      <td>NO</td>\n",
              "      <td>NO</td>\n",
<<<<<<< HEAD
=======
              "      <td>NO</td>\n",
              "      <td>NO</td>\n",
              "      <td>NO ESPECIFICADO</td>\n",
>>>>>>> aa312e54162503d558ce67a1e6f38bac0e0ba1ce
              "      <td>NO ESPECIFICADO</td>\n",
              "      <td>NO ESPECIFICADO</td>\n",
              "      <td>NO</td>\n",
              "      <td>FUERA DE USMER</td>\n",
              "      <td>IMSS</td>\n",
              "      <td>MUJER</td>\n",
<<<<<<< HEAD
              "      <td>HOSPITALIZADO</td>\n",
=======
              "      <td>AMBULATORIO</td>\n",
>>>>>>> aa312e54162503d558ce67a1e6f38bac0e0ba1ce
              "      <td>MEXICANA</td>\n",
              "      <td>Positivo SARS-CoV-2</td>\n",
              "      <td>False</td>\n",
              "      <td>NaN</td>\n",
              "      <td>NaN</td>\n",
              "      <td>5</td>\n",
              "      <td>2020</td>\n",
              "    </tr>\n",
              "  </tbody>\n",
              "</table>\n",
              "</div>"
            ],
            "text/plain": [
              "   fecha_actualizacion id_registro  ... mes_ingreso año_ingreso\n",
<<<<<<< HEAD
              "12          2020-09-01      1239f8  ...           4        2020\n",
              "13          2020-09-01      0c7084  ...           5        2020\n",
=======
              "22          2020-09-03      192ec3  ...           4        2020\n",
              "26          2020-09-03      1be6c6  ...           5        2020\n",
>>>>>>> aa312e54162503d558ce67a1e6f38bac0e0ba1ce
              "\n",
              "[2 rows x 40 columns]"
            ]
          },
          "metadata": {
            "tags": []
          },
<<<<<<< HEAD
          "execution_count": 90
=======
          "execution_count": 32
>>>>>>> aa312e54162503d558ce67a1e6f38bac0e0ba1ce
        }
      ]
    },
    {
      "cell_type": "markdown",
      "metadata": {
        "id": "DzNeaCoduF6l",
        "colab_type": "text"
      },
      "source": [
        "###Resúmenes"
      ]
    },
    {
      "cell_type": "code",
      "metadata": {
        "id": "CJ3L22nex0b0",
        "colab_type": "code",
        "colab": {
          "base_uri": "https://localhost:8080/",
          "height": 84
        },
<<<<<<< HEAD
        "outputId": "1a7bb3c2-24d9-4a92-ffde-f428411c2e6a"
=======
        "outputId": "efd3c034-be5f-42ae-fd31-e03030220601"
>>>>>>> aa312e54162503d558ce67a1e6f38bac0e0ba1ce
      },
      "source": [
        "# una columna, una métrica\n",
        "data.groupby('sexo').edad.mean()"
      ],
<<<<<<< HEAD
      "execution_count": 91,
=======
      "execution_count": 33,
>>>>>>> aa312e54162503d558ce67a1e6f38bac0e0ba1ce
      "outputs": [
        {
          "output_type": "execute_result",
          "data": {
            "text/plain": [
              "sexo\n",
<<<<<<< HEAD
              "HOMBRE    42.850075\n",
              "MUJER     41.761757\n",
=======
              "HOMBRE    42.812564\n",
              "MUJER     41.735627\n",
>>>>>>> aa312e54162503d558ce67a1e6f38bac0e0ba1ce
              "Name: edad, dtype: float64"
            ]
          },
          "metadata": {
            "tags": []
          },
<<<<<<< HEAD
          "execution_count": 91
=======
          "execution_count": 33
>>>>>>> aa312e54162503d558ce67a1e6f38bac0e0ba1ce
        }
      ]
    },
    {
      "cell_type": "code",
      "metadata": {
        "id": "f1GZF_ycuIIl",
        "colab_type": "code",
        "colab": {
          "base_uri": "https://localhost:8080/",
          "height": 166
        },
<<<<<<< HEAD
        "outputId": "1bee4baa-59bb-413c-9004-95ab1df47a9c"
=======
        "outputId": "4c7faad0-d72d-4eb9-800f-4b3e50cd40bf"
>>>>>>> aa312e54162503d558ce67a1e6f38bac0e0ba1ce
      },
      "source": [
        "# una columna, varias métricas\n",
        "data.groupby('sexo').agg({'edad': ['min','mean','max']})"
      ],
<<<<<<< HEAD
      "execution_count": 92,
=======
      "execution_count": 34,
>>>>>>> aa312e54162503d558ce67a1e6f38bac0e0ba1ce
      "outputs": [
        {
          "output_type": "execute_result",
          "data": {
            "text/html": [
              "<div>\n",
              "<style scoped>\n",
              "    .dataframe tbody tr th:only-of-type {\n",
              "        vertical-align: middle;\n",
              "    }\n",
              "\n",
              "    .dataframe tbody tr th {\n",
              "        vertical-align: top;\n",
              "    }\n",
              "\n",
              "    .dataframe thead tr th {\n",
              "        text-align: left;\n",
              "    }\n",
              "\n",
              "    .dataframe thead tr:last-of-type th {\n",
              "        text-align: right;\n",
              "    }\n",
              "</style>\n",
              "<table border=\"1\" class=\"dataframe\">\n",
              "  <thead>\n",
              "    <tr>\n",
              "      <th></th>\n",
              "      <th colspan=\"3\" halign=\"left\">edad</th>\n",
              "    </tr>\n",
              "    <tr>\n",
              "      <th></th>\n",
              "      <th>min</th>\n",
              "      <th>mean</th>\n",
              "      <th>max</th>\n",
              "    </tr>\n",
              "    <tr>\n",
              "      <th>sexo</th>\n",
              "      <th></th>\n",
              "      <th></th>\n",
              "      <th></th>\n",
              "    </tr>\n",
              "  </thead>\n",
              "  <tbody>\n",
              "    <tr>\n",
              "      <th>HOMBRE</th>\n",
              "      <td>0</td>\n",
<<<<<<< HEAD
              "      <td>42.850075</td>\n",
=======
              "      <td>42.812564</td>\n",
>>>>>>> aa312e54162503d558ce67a1e6f38bac0e0ba1ce
              "      <td>120</td>\n",
              "    </tr>\n",
              "    <tr>\n",
              "      <th>MUJER</th>\n",
              "      <td>0</td>\n",
<<<<<<< HEAD
              "      <td>41.761757</td>\n",
=======
              "      <td>41.735627</td>\n",
>>>>>>> aa312e54162503d558ce67a1e6f38bac0e0ba1ce
              "      <td>120</td>\n",
              "    </tr>\n",
              "  </tbody>\n",
              "</table>\n",
              "</div>"
            ],
            "text/plain": [
              "       edad                \n",
              "        min       mean  max\n",
              "sexo                       \n",
<<<<<<< HEAD
              "HOMBRE    0  42.850075  120\n",
              "MUJER     0  41.761757  120"
=======
              "HOMBRE    0  42.812564  120\n",
              "MUJER     0  41.735627  120"
>>>>>>> aa312e54162503d558ce67a1e6f38bac0e0ba1ce
            ]
          },
          "metadata": {
            "tags": []
          },
<<<<<<< HEAD
          "execution_count": 92
=======
          "execution_count": 34
>>>>>>> aa312e54162503d558ce67a1e6f38bac0e0ba1ce
        }
      ]
    },
    {
      "cell_type": "code",
      "metadata": {
        "id": "GDzohGmjycNN",
        "colab_type": "code",
        "colab": {
          "base_uri": "https://localhost:8080/",
          "height": 136
        },
<<<<<<< HEAD
        "outputId": "9e3607f6-4bee-4d2d-bb1a-71758c82e207"
=======
        "outputId": "0378b4fe-cefa-46de-e794-107b6915a92b"
>>>>>>> aa312e54162503d558ce67a1e6f38bac0e0ba1ce
      },
      "source": [
        "# varias columnas, una métrica\n",
        "data.groupby('sexo').agg({'edad': 'mean', 'mes_ingreso': 'mean', 'mes_def': 'mean'})"
      ],
<<<<<<< HEAD
      "execution_count": 93,
=======
      "execution_count": 35,
>>>>>>> aa312e54162503d558ce67a1e6f38bac0e0ba1ce
      "outputs": [
        {
          "output_type": "execute_result",
          "data": {
            "text/html": [
              "<div>\n",
              "<style scoped>\n",
              "    .dataframe tbody tr th:only-of-type {\n",
              "        vertical-align: middle;\n",
              "    }\n",
              "\n",
              "    .dataframe tbody tr th {\n",
              "        vertical-align: top;\n",
              "    }\n",
              "\n",
              "    .dataframe thead th {\n",
              "        text-align: right;\n",
              "    }\n",
              "</style>\n",
              "<table border=\"1\" class=\"dataframe\">\n",
              "  <thead>\n",
              "    <tr style=\"text-align: right;\">\n",
              "      <th></th>\n",
              "      <th>edad</th>\n",
              "      <th>mes_ingreso</th>\n",
              "      <th>mes_def</th>\n",
              "    </tr>\n",
              "    <tr>\n",
              "      <th>sexo</th>\n",
              "      <th></th>\n",
              "      <th></th>\n",
              "      <th></th>\n",
              "    </tr>\n",
              "  </thead>\n",
              "  <tbody>\n",
              "    <tr>\n",
              "      <th>HOMBRE</th>\n",
<<<<<<< HEAD
              "      <td>42.850075</td>\n",
              "      <td>6.494979</td>\n",
              "      <td>6.340483</td>\n",
              "    </tr>\n",
              "    <tr>\n",
              "      <th>MUJER</th>\n",
              "      <td>41.761757</td>\n",
              "      <td>6.555789</td>\n",
              "      <td>6.398543</td>\n",
=======
              "      <td>42.812564</td>\n",
              "      <td>6.548249</td>\n",
              "      <td>6.371355</td>\n",
              "    </tr>\n",
              "    <tr>\n",
              "      <th>MUJER</th>\n",
              "      <td>41.735627</td>\n",
              "      <td>6.611875</td>\n",
              "      <td>6.431488</td>\n",
>>>>>>> aa312e54162503d558ce67a1e6f38bac0e0ba1ce
              "    </tr>\n",
              "  </tbody>\n",
              "</table>\n",
              "</div>"
            ],
            "text/plain": [
              "             edad  mes_ingreso   mes_def\n",
              "sexo                                    \n",
<<<<<<< HEAD
              "HOMBRE  42.850075     6.494979  6.340483\n",
              "MUJER   41.761757     6.555789  6.398543"
=======
              "HOMBRE  42.812564     6.548249  6.371355\n",
              "MUJER   41.735627     6.611875  6.431488"
>>>>>>> aa312e54162503d558ce67a1e6f38bac0e0ba1ce
            ]
          },
          "metadata": {
            "tags": []
          },
<<<<<<< HEAD
          "execution_count": 93
=======
          "execution_count": 35
>>>>>>> aa312e54162503d558ce67a1e6f38bac0e0ba1ce
        }
      ]
    },
    {
      "cell_type": "code",
      "metadata": {
        "id": "063vXVf_yyNH",
        "colab_type": "code",
        "colab": {
          "base_uri": "https://localhost:8080/",
          "height": 166
        },
<<<<<<< HEAD
        "outputId": "99569460-1667-4c67-dbd9-7b46154273bd"
=======
        "outputId": "4ea95f6a-22f8-44d7-ac63-9f62cb9dd39e"
>>>>>>> aa312e54162503d558ce67a1e6f38bac0e0ba1ce
      },
      "source": [
        "# varias columnas, varias métricas\n",
        "data.groupby('sexo').agg({'edad': ['min','mean','max'], 'mes_ingreso': ['min','mean','max'], 'mes_def': ['min','mean','max']})"
      ],
<<<<<<< HEAD
      "execution_count": 94,
=======
      "execution_count": 36,
>>>>>>> aa312e54162503d558ce67a1e6f38bac0e0ba1ce
      "outputs": [
        {
          "output_type": "execute_result",
          "data": {
            "text/html": [
              "<div>\n",
              "<style scoped>\n",
              "    .dataframe tbody tr th:only-of-type {\n",
              "        vertical-align: middle;\n",
              "    }\n",
              "\n",
              "    .dataframe tbody tr th {\n",
              "        vertical-align: top;\n",
              "    }\n",
              "\n",
              "    .dataframe thead tr th {\n",
              "        text-align: left;\n",
              "    }\n",
              "\n",
              "    .dataframe thead tr:last-of-type th {\n",
              "        text-align: right;\n",
              "    }\n",
              "</style>\n",
              "<table border=\"1\" class=\"dataframe\">\n",
              "  <thead>\n",
              "    <tr>\n",
              "      <th></th>\n",
              "      <th colspan=\"3\" halign=\"left\">edad</th>\n",
              "      <th colspan=\"3\" halign=\"left\">mes_ingreso</th>\n",
              "      <th colspan=\"3\" halign=\"left\">mes_def</th>\n",
              "    </tr>\n",
              "    <tr>\n",
              "      <th></th>\n",
              "      <th>min</th>\n",
              "      <th>mean</th>\n",
              "      <th>max</th>\n",
              "      <th>min</th>\n",
              "      <th>mean</th>\n",
              "      <th>max</th>\n",
              "      <th>min</th>\n",
              "      <th>mean</th>\n",
              "      <th>max</th>\n",
              "    </tr>\n",
              "    <tr>\n",
              "      <th>sexo</th>\n",
              "      <th></th>\n",
              "      <th></th>\n",
              "      <th></th>\n",
              "      <th></th>\n",
              "      <th></th>\n",
              "      <th></th>\n",
              "      <th></th>\n",
              "      <th></th>\n",
              "      <th></th>\n",
              "    </tr>\n",
              "  </thead>\n",
              "  <tbody>\n",
              "    <tr>\n",
              "      <th>HOMBRE</th>\n",
              "      <td>0</td>\n",
<<<<<<< HEAD
              "      <td>42.850075</td>\n",
              "      <td>120</td>\n",
              "      <td>1</td>\n",
              "      <td>6.494979</td>\n",
              "      <td>9</td>\n",
              "      <td>1.0</td>\n",
              "      <td>6.340483</td>\n",
=======
              "      <td>42.812564</td>\n",
              "      <td>120</td>\n",
              "      <td>1</td>\n",
              "      <td>6.548249</td>\n",
              "      <td>9</td>\n",
              "      <td>1.0</td>\n",
              "      <td>6.371355</td>\n",
>>>>>>> aa312e54162503d558ce67a1e6f38bac0e0ba1ce
              "      <td>9.0</td>\n",
              "    </tr>\n",
              "    <tr>\n",
              "      <th>MUJER</th>\n",
              "      <td>0</td>\n",
<<<<<<< HEAD
              "      <td>41.761757</td>\n",
              "      <td>120</td>\n",
              "      <td>1</td>\n",
              "      <td>6.555789</td>\n",
              "      <td>9</td>\n",
              "      <td>1.0</td>\n",
              "      <td>6.398543</td>\n",
=======
              "      <td>41.735627</td>\n",
              "      <td>120</td>\n",
              "      <td>1</td>\n",
              "      <td>6.611875</td>\n",
              "      <td>9</td>\n",
              "      <td>1.0</td>\n",
              "      <td>6.431488</td>\n",
>>>>>>> aa312e54162503d558ce67a1e6f38bac0e0ba1ce
              "      <td>9.0</td>\n",
              "    </tr>\n",
              "  </tbody>\n",
              "</table>\n",
              "</div>"
            ],
            "text/plain": [
              "       edad                 mes_ingreso               mes_def               \n",
              "        min       mean  max         min      mean max     min      mean  max\n",
              "sexo                                                                        \n",
<<<<<<< HEAD
              "HOMBRE    0  42.850075  120           1  6.494979   9     1.0  6.340483  9.0\n",
              "MUJER     0  41.761757  120           1  6.555789   9     1.0  6.398543  9.0"
=======
              "HOMBRE    0  42.812564  120           1  6.548249   9     1.0  6.371355  9.0\n",
              "MUJER     0  41.735627  120           1  6.611875   9     1.0  6.431488  9.0"
>>>>>>> aa312e54162503d558ce67a1e6f38bac0e0ba1ce
            ]
          },
          "metadata": {
            "tags": []
          },
<<<<<<< HEAD
          "execution_count": 94
=======
          "execution_count": 36
>>>>>>> aa312e54162503d558ce67a1e6f38bac0e0ba1ce
        }
      ]
    },
    {
      "cell_type": "markdown",
      "metadata": {
        "id": "Z3l3OUMWtuAU",
        "colab_type": "text"
      },
      "source": [
        "###Descripción por Tipo"
      ]
    },
    {
      "cell_type": "code",
      "metadata": {
        "id": "54OelJ9_Y38I",
        "colab_type": "code",
        "colab": {}
      },
      "source": [
        "# Filtrar por tipos generales (categóricas y numéricas)\n",
        "numerical = data.select_dtypes(include='number')\n",
        "categorical = data.select_dtypes(include=['object', 'bool', 'category', 'datetime64[ns]'])"
      ],
<<<<<<< HEAD
      "execution_count": 96,
=======
      "execution_count": 37,
>>>>>>> aa312e54162503d558ce67a1e6f38bac0e0ba1ce
      "outputs": []
    },
    {
      "cell_type": "code",
      "metadata": {
        "id": "eGV5p-q9m8OL",
        "colab_type": "code",
        "colab": {
          "base_uri": "https://localhost:8080/",
          "height": 195
        },
<<<<<<< HEAD
        "outputId": "4105220d-b5f5-4dfb-c0a0-6de81187f82b"
=======
        "outputId": "9f1ded09-26d6-455c-c0b9-27e85e005b80"
>>>>>>> aa312e54162503d558ce67a1e6f38bac0e0ba1ce
      },
      "source": [
        "numerical.head()"
      ],
<<<<<<< HEAD
      "execution_count": 97,
=======
      "execution_count": 38,
>>>>>>> aa312e54162503d558ce67a1e6f38bac0e0ba1ce
      "outputs": [
        {
          "output_type": "execute_result",
          "data": {
            "text/html": [
              "<div>\n",
              "<style scoped>\n",
              "    .dataframe tbody tr th:only-of-type {\n",
              "        vertical-align: middle;\n",
              "    }\n",
              "\n",
              "    .dataframe tbody tr th {\n",
              "        vertical-align: top;\n",
              "    }\n",
              "\n",
              "    .dataframe thead th {\n",
              "        text-align: right;\n",
              "    }\n",
              "</style>\n",
              "<table border=\"1\" class=\"dataframe\">\n",
              "  <thead>\n",
              "    <tr style=\"text-align: right;\">\n",
              "      <th></th>\n",
              "      <th>edad</th>\n",
              "      <th>mes_def</th>\n",
              "      <th>año_def</th>\n",
              "      <th>mes_ingreso</th>\n",
              "      <th>año_ingreso</th>\n",
              "    </tr>\n",
              "  </thead>\n",
              "  <tbody>\n",
              "    <tr>\n",
              "      <th>0</th>\n",
<<<<<<< HEAD
              "      <td>30</td>\n",
              "      <td>NaN</td>\n",
              "      <td>NaN</td>\n",
              "      <td>7</td>\n",
=======
              "      <td>27</td>\n",
              "      <td>NaN</td>\n",
              "      <td>NaN</td>\n",
              "      <td>6</td>\n",
>>>>>>> aa312e54162503d558ce67a1e6f38bac0e0ba1ce
              "      <td>2020</td>\n",
              "    </tr>\n",
              "    <tr>\n",
              "      <th>1</th>\n",
              "      <td>64</td>\n",
<<<<<<< HEAD
              "      <td>NaN</td>\n",
              "      <td>NaN</td>\n",
=======
              "      <td>4.0</td>\n",
              "      <td>2020.0</td>\n",
>>>>>>> aa312e54162503d558ce67a1e6f38bac0e0ba1ce
              "      <td>4</td>\n",
              "      <td>2020</td>\n",
              "    </tr>\n",
              "    <tr>\n",
              "      <th>2</th>\n",
<<<<<<< HEAD
              "      <td>50</td>\n",
              "      <td>4.0</td>\n",
              "      <td>2020.0</td>\n",
              "      <td>4</td>\n",
=======
              "      <td>32</td>\n",
              "      <td>NaN</td>\n",
              "      <td>NaN</td>\n",
              "      <td>5</td>\n",
>>>>>>> aa312e54162503d558ce67a1e6f38bac0e0ba1ce
              "      <td>2020</td>\n",
              "    </tr>\n",
              "    <tr>\n",
              "      <th>3</th>\n",
<<<<<<< HEAD
              "      <td>27</td>\n",
=======
              "      <td>54</td>\n",
>>>>>>> aa312e54162503d558ce67a1e6f38bac0e0ba1ce
              "      <td>NaN</td>\n",
              "      <td>NaN</td>\n",
              "      <td>6</td>\n",
              "      <td>2020</td>\n",
              "    </tr>\n",
              "    <tr>\n",
              "      <th>4</th>\n",
<<<<<<< HEAD
              "      <td>53</td>\n",
=======
              "      <td>44</td>\n",
>>>>>>> aa312e54162503d558ce67a1e6f38bac0e0ba1ce
              "      <td>NaN</td>\n",
              "      <td>NaN</td>\n",
              "      <td>4</td>\n",
              "      <td>2020</td>\n",
              "    </tr>\n",
              "  </tbody>\n",
              "</table>\n",
              "</div>"
            ],
            "text/plain": [
              "   edad  mes_def  año_def  mes_ingreso  año_ingreso\n",
<<<<<<< HEAD
              "0    30      NaN      NaN            7         2020\n",
              "1    64      NaN      NaN            4         2020\n",
              "2    50      4.0   2020.0            4         2020\n",
              "3    27      NaN      NaN            4         2020\n",
              "4    53      NaN      NaN            4         2020"
=======
              "0    27      NaN      NaN            6         2020\n",
              "1    64      4.0   2020.0            4         2020\n",
              "2    32      NaN      NaN            5         2020\n",
              "3    54      NaN      NaN            6         2020\n",
              "4    44      NaN      NaN            4         2020"
>>>>>>> aa312e54162503d558ce67a1e6f38bac0e0ba1ce
            ]
          },
          "metadata": {
            "tags": []
          },
<<<<<<< HEAD
          "execution_count": 97
=======
          "execution_count": 38
>>>>>>> aa312e54162503d558ce67a1e6f38bac0e0ba1ce
        }
      ]
    },
    {
      "cell_type": "code",
      "metadata": {
        "id": "xslYgCyDm_mU",
        "colab_type": "code",
        "colab": {
          "base_uri": "https://localhost:8080/",
<<<<<<< HEAD
          "height": 383
        },
        "outputId": "596af657-8ecd-4301-fa96-2d7675c9bd2c"
=======
          "height": 391
        },
        "outputId": "83f0db71-1e9b-47a4-e34f-0dc4e9dff0f3"
>>>>>>> aa312e54162503d558ce67a1e6f38bac0e0ba1ce
      },
      "source": [
        "categorical.head()"
      ],
<<<<<<< HEAD
      "execution_count": 98,
=======
      "execution_count": 39,
>>>>>>> aa312e54162503d558ce67a1e6f38bac0e0ba1ce
      "outputs": [
        {
          "output_type": "execute_result",
          "data": {
            "text/html": [
              "<div>\n",
              "<style scoped>\n",
              "    .dataframe tbody tr th:only-of-type {\n",
              "        vertical-align: middle;\n",
              "    }\n",
              "\n",
              "    .dataframe tbody tr th {\n",
              "        vertical-align: top;\n",
              "    }\n",
              "\n",
              "    .dataframe thead th {\n",
              "        text-align: right;\n",
              "    }\n",
              "</style>\n",
              "<table border=\"1\" class=\"dataframe\">\n",
              "  <thead>\n",
              "    <tr style=\"text-align: right;\">\n",
              "      <th></th>\n",
              "      <th>fecha_actualizacion</th>\n",
              "      <th>id_registro</th>\n",
              "      <th>fecha_ingreso</th>\n",
              "      <th>fecha_sintomas</th>\n",
              "      <th>fecha_def</th>\n",
              "      <th>pais_nacionalidad</th>\n",
              "      <th>pais_origen</th>\n",
              "      <th>entidad_res</th>\n",
              "      <th>municipio_res</th>\n",
              "      <th>entidad_um</th>\n",
              "      <th>entidad_nac</th>\n",
              "      <th>intubado</th>\n",
              "      <th>neumonia</th>\n",
              "      <th>embarazo</th>\n",
              "      <th>habla_lengua_indig</th>\n",
              "      <th>diabetes</th>\n",
              "      <th>epoc</th>\n",
              "      <th>asma</th>\n",
              "      <th>inmusupr</th>\n",
              "      <th>hipertension</th>\n",
              "      <th>otra_com</th>\n",
              "      <th>cardiovascular</th>\n",
              "      <th>obesidad</th>\n",
              "      <th>renal_cronica</th>\n",
              "      <th>tabaquismo</th>\n",
              "      <th>otro_caso</th>\n",
              "      <th>migrante</th>\n",
              "      <th>uci</th>\n",
              "      <th>origen</th>\n",
              "      <th>sector</th>\n",
              "      <th>sexo</th>\n",
              "      <th>tipo_paciente</th>\n",
              "      <th>nacionalidad</th>\n",
              "      <th>resultado</th>\n",
              "      <th>defuncion</th>\n",
              "    </tr>\n",
              "  </thead>\n",
              "  <tbody>\n",
              "    <tr>\n",
              "      <th>0</th>\n",
<<<<<<< HEAD
              "      <td>2020-09-01</td>\n",
              "      <td>0b79a6</td>\n",
              "      <td>2020-07-01</td>\n",
              "      <td>2020-06-28</td>\n",
              "      <td>NaT</td>\n",
              "      <td>MÃ©xico</td>\n",
              "      <td>99</td>\n",
              "      <td>MÉXICO</td>\n",
              "      <td>TOLUCA</td>\n",
              "      <td>MÉXICO</td>\n",
              "      <td>CIUDAD DE MÉXICO</td>\n",
=======
              "      <td>2020-09-03</td>\n",
              "      <td>097d14</td>\n",
              "      <td>2020-06-10</td>\n",
              "      <td>2020-06-10</td>\n",
              "      <td>NaT</td>\n",
              "      <td>MÃ©xico</td>\n",
              "      <td>99</td>\n",
              "      <td>BAJA CALIFORNIA</td>\n",
              "      <td>MEXICALI</td>\n",
              "      <td>BAJA CALIFORNIA</td>\n",
              "      <td>BAJA CALIFORNIA</td>\n",
>>>>>>> aa312e54162503d558ce67a1e6f38bac0e0ba1ce
              "      <td>NO APLICA</td>\n",
              "      <td>NO</td>\n",
              "      <td>NO</td>\n",
              "      <td>NO</td>\n",
              "      <td>NO</td>\n",
              "      <td>NO</td>\n",
              "      <td>NO</td>\n",
              "      <td>NO</td>\n",
              "      <td>NO</td>\n",
              "      <td>NO</td>\n",
              "      <td>NO</td>\n",
              "      <td>SI</td>\n",
              "      <td>NO</td>\n",
              "      <td>NO</td>\n",
              "      <td>SI</td>\n",
              "      <td>NO ESPECIFICADO</td>\n",
              "      <td>NO APLICA</td>\n",
              "      <td>FUERA DE USMER</td>\n",
              "      <td>ESTATAL</td>\n",
<<<<<<< HEAD
              "      <td>MUJER</td>\n",
=======
              "      <td>HOMBRE</td>\n",
>>>>>>> aa312e54162503d558ce67a1e6f38bac0e0ba1ce
              "      <td>AMBULATORIO</td>\n",
              "      <td>MEXICANA</td>\n",
              "      <td>Positivo SARS-CoV-2</td>\n",
              "      <td>False</td>\n",
              "    </tr>\n",
              "    <tr>\n",
              "      <th>1</th>\n",
<<<<<<< HEAD
              "      <td>2020-09-01</td>\n",
              "      <td>1b0c85</td>\n",
              "      <td>2020-04-03</td>\n",
              "      <td>2020-03-30</td>\n",
              "      <td>NaT</td>\n",
              "      <td>MÃ©xico</td>\n",
              "      <td>99</td>\n",
              "      <td>COAHUILA DE ZARAGOZA</td>\n",
              "      <td>SALTILLO</td>\n",
              "      <td>COAHUILA DE ZARAGOZA</td>\n",
              "      <td>SAN LUIS POTOSÍ</td>\n",
              "      <td>NO APLICA</td>\n",
              "      <td>NO</td>\n",
=======
              "      <td>2020-09-03</td>\n",
              "      <td>1b7adb</td>\n",
              "      <td>2020-04-29</td>\n",
              "      <td>2020-04-15</td>\n",
              "      <td>2020-04-30</td>\n",
              "      <td>MÃ©xico</td>\n",
              "      <td>99</td>\n",
              "      <td>BAJA CALIFORNIA</td>\n",
              "      <td>TIJUANA</td>\n",
              "      <td>BAJA CALIFORNIA</td>\n",
              "      <td>GUERRERO</td>\n",
>>>>>>> aa312e54162503d558ce67a1e6f38bac0e0ba1ce
              "      <td>NO</td>\n",
              "      <td>SI</td>\n",
              "      <td>NO APLICA</td>\n",
              "      <td>NO</td>\n",
              "      <td>SI</td>\n",
              "      <td>NO</td>\n",
              "      <td>NO</td>\n",
              "      <td>NO</td>\n",
              "      <td>NO</td>\n",
              "      <td>NO</td>\n",
              "      <td>NO</td>\n",
              "      <td>NO</td>\n",
              "      <td>NO</td>\n",
              "      <td>NO</td>\n",
              "      <td>NO</td>\n",
              "      <td>SI</td>\n",
              "      <td>NO ESPECIFICADO</td>\n",
              "      <td>NO</td>\n",
              "      <td>FUERA DE USMER</td>\n",
              "      <td>IMSS</td>\n",
              "      <td>HOMBRE</td>\n",
              "      <td>HOSPITALIZADO</td>\n",
              "      <td>MEXICANA</td>\n",
              "      <td>Positivo SARS-CoV-2</td>\n",
<<<<<<< HEAD
              "      <td>False</td>\n",
              "    </tr>\n",
              "    <tr>\n",
              "      <th>2</th>\n",
              "      <td>2020-09-01</td>\n",
              "      <td>17ae86</td>\n",
              "      <td>2020-04-14</td>\n",
              "      <td>2020-04-14</td>\n",
              "      <td>2020-04-24</td>\n",
              "      <td>MÃ©xico</td>\n",
              "      <td>99</td>\n",
              "      <td>BAJA CALIFORNIA</td>\n",
              "      <td>TECATE</td>\n",
              "      <td>BAJA CALIFORNIA</td>\n",
              "      <td>VERACRUZ DE IGNACIO DE LA LLAVE</td>\n",
              "      <td>NO</td>\n",
              "      <td>SI</td>\n",
=======
              "      <td>True</td>\n",
              "    </tr>\n",
              "    <tr>\n",
              "      <th>2</th>\n",
              "      <td>2020-09-03</td>\n",
              "      <td>11daaa</td>\n",
              "      <td>2020-05-26</td>\n",
              "      <td>2020-05-26</td>\n",
              "      <td>NaT</td>\n",
              "      <td>MÃ©xico</td>\n",
              "      <td>99</td>\n",
              "      <td>TABASCO</td>\n",
              "      <td>TACOTALPA</td>\n",
              "      <td>TABASCO</td>\n",
              "      <td>TABASCO</td>\n",
              "      <td>NO APLICA</td>\n",
              "      <td>NO</td>\n",
              "      <td>NO</td>\n",
              "      <td>NO ESPECIFICADO</td>\n",
              "      <td>NO</td>\n",
>>>>>>> aa312e54162503d558ce67a1e6f38bac0e0ba1ce
              "      <td>NO</td>\n",
              "      <td>NO</td>\n",
              "      <td>SI</td>\n",
              "      <td>NO</td>\n",
              "      <td>NO</td>\n",
              "      <td>NO</td>\n",
              "      <td>NO</td>\n",
              "      <td>NO</td>\n",
              "      <td>NO</td>\n",
              "      <td>NO</td>\n",
              "      <td>NO ESPECIFICADO</td>\n",
              "      <td>NO ESPECIFICADO</td>\n",
              "      <td>NO</td>\n",
              "      <td>FUERA DE USMER</td>\n",
<<<<<<< HEAD
              "      <td>IMSS</td>\n",
              "      <td>MUJER</td>\n",
              "      <td>HOSPITALIZADO</td>\n",
              "      <td>MEXICANA</td>\n",
              "      <td>Positivo SARS-CoV-2</td>\n",
              "      <td>True</td>\n",
              "    </tr>\n",
              "    <tr>\n",
              "      <th>3</th>\n",
              "      <td>2020-09-01</td>\n",
              "      <td>14df1c</td>\n",
              "      <td>2020-04-23</td>\n",
              "      <td>2020-04-22</td>\n",
              "      <td>NaT</td>\n",
              "      <td>MÃ©xico</td>\n",
              "      <td>99</td>\n",
              "      <td>YUCATÁN</td>\n",
              "      <td>UMÁN</td>\n",
              "      <td>YUCATÁN</td>\n",
              "      <td>YUCATÁN</td>\n",
              "      <td>NO APLICA</td>\n",
              "      <td>NO</td>\n",
=======
              "      <td>ESTATAL</td>\n",
              "      <td>MUJER</td>\n",
              "      <td>AMBULATORIO</td>\n",
              "      <td>MEXICANA</td>\n",
              "      <td>Positivo SARS-CoV-2</td>\n",
              "      <td>False</td>\n",
              "    </tr>\n",
              "    <tr>\n",
              "      <th>3</th>\n",
              "      <td>2020-09-03</td>\n",
              "      <td>17c9eb</td>\n",
              "      <td>2020-06-05</td>\n",
              "      <td>2020-05-31</td>\n",
              "      <td>NaT</td>\n",
              "      <td>MÃ©xico</td>\n",
              "      <td>99</td>\n",
              "      <td>TABASCO</td>\n",
              "      <td>NACAJUCA</td>\n",
              "      <td>TABASCO</td>\n",
              "      <td>TABASCO</td>\n",
>>>>>>> aa312e54162503d558ce67a1e6f38bac0e0ba1ce
              "      <td>NO APLICA</td>\n",
              "      <td>NO</td>\n",
              "      <td>NO</td>\n",
              "      <td>NO</td>\n",
              "      <td>SI</td>\n",
              "      <td>NO</td>\n",
              "      <td>NO</td>\n",
              "      <td>NO</td>\n",
              "      <td>SI</td>\n",
              "      <td>NO</td>\n",
              "      <td>NO</td>\n",
              "      <td>NO</td>\n",
              "      <td>NO</td>\n",
              "      <td>NO</td>\n",
              "      <td>SI</td>\n",
              "      <td>NO ESPECIFICADO</td>\n",
<<<<<<< HEAD
              "      <td>NO ESPECIFICADO</td>\n",
              "      <td>NO APLICA</td>\n",
              "      <td>FUERA DE USMER</td>\n",
              "      <td>IMSS</td>\n",
              "      <td>HOMBRE</td>\n",
=======
              "      <td>NO APLICA</td>\n",
              "      <td>FUERA DE USMER</td>\n",
              "      <td>ESTATAL</td>\n",
              "      <td>MUJER</td>\n",
>>>>>>> aa312e54162503d558ce67a1e6f38bac0e0ba1ce
              "      <td>AMBULATORIO</td>\n",
              "      <td>MEXICANA</td>\n",
              "      <td>Positivo SARS-CoV-2</td>\n",
              "      <td>False</td>\n",
              "    </tr>\n",
              "    <tr>\n",
              "      <th>4</th>\n",
<<<<<<< HEAD
              "      <td>2020-09-01</td>\n",
              "      <td>0f3272</td>\n",
              "      <td>2020-04-26</td>\n",
              "      <td>2020-04-23</td>\n",
              "      <td>NaT</td>\n",
              "      <td>MÃ©xico</td>\n",
              "      <td>99</td>\n",
              "      <td>AGUASCALIENTES</td>\n",
              "      <td>JESÚS MARÍA</td>\n",
              "      <td>AGUASCALIENTES</td>\n",
              "      <td>AGUASCALIENTES</td>\n",
              "      <td>NO APLICA</td>\n",
              "      <td>NO</td>\n",
=======
              "      <td>2020-09-03</td>\n",
              "      <td>14f12c</td>\n",
              "      <td>2020-04-02</td>\n",
              "      <td>2020-04-01</td>\n",
              "      <td>NaT</td>\n",
              "      <td>MÃ©xico</td>\n",
              "      <td>99</td>\n",
              "      <td>MORELOS</td>\n",
              "      <td>CUERNAVACA</td>\n",
              "      <td>MORELOS</td>\n",
              "      <td>BAJA CALIFORNIA SUR</td>\n",
>>>>>>> aa312e54162503d558ce67a1e6f38bac0e0ba1ce
              "      <td>NO APLICA</td>\n",
              "      <td>NO</td>\n",
              "      <td>NO</td>\n",
              "      <td>NO</td>\n",
              "      <td>NO</td>\n",
              "      <td>NO</td>\n",
              "      <td>NO</td>\n",
              "      <td>NO</td>\n",
              "      <td>NO</td>\n",
              "      <td>SI</td>\n",
              "      <td>NO</td>\n",
              "      <td>NO</td>\n",
              "      <td>NO</td>\n",
              "      <td>NO</td>\n",
              "      <td>NO ESPECIFICADO</td>\n",
              "      <td>NO ESPECIFICADO</td>\n",
              "      <td>NO APLICA</td>\n",
              "      <td>FUERA DE USMER</td>\n",
              "      <td>IMSS</td>\n",
<<<<<<< HEAD
              "      <td>HOMBRE</td>\n",
=======
              "      <td>MUJER</td>\n",
>>>>>>> aa312e54162503d558ce67a1e6f38bac0e0ba1ce
              "      <td>AMBULATORIO</td>\n",
              "      <td>MEXICANA</td>\n",
              "      <td>Positivo SARS-CoV-2</td>\n",
              "      <td>False</td>\n",
              "    </tr>\n",
              "  </tbody>\n",
              "</table>\n",
              "</div>"
            ],
            "text/plain": [
              "  fecha_actualizacion id_registro  ...            resultado defuncion\n",
<<<<<<< HEAD
              "0          2020-09-01      0b79a6  ...  Positivo SARS-CoV-2     False\n",
              "1          2020-09-01      1b0c85  ...  Positivo SARS-CoV-2     False\n",
              "2          2020-09-01      17ae86  ...  Positivo SARS-CoV-2      True\n",
              "3          2020-09-01      14df1c  ...  Positivo SARS-CoV-2     False\n",
              "4          2020-09-01      0f3272  ...  Positivo SARS-CoV-2     False\n",
=======
              "0          2020-09-03      097d14  ...  Positivo SARS-CoV-2     False\n",
              "1          2020-09-03      1b7adb  ...  Positivo SARS-CoV-2      True\n",
              "2          2020-09-03      11daaa  ...  Positivo SARS-CoV-2     False\n",
              "3          2020-09-03      17c9eb  ...  Positivo SARS-CoV-2     False\n",
              "4          2020-09-03      14f12c  ...  Positivo SARS-CoV-2     False\n",
>>>>>>> aa312e54162503d558ce67a1e6f38bac0e0ba1ce
              "\n",
              "[5 rows x 35 columns]"
            ]
          },
          "metadata": {
            "tags": []
          },
<<<<<<< HEAD
          "execution_count": 98
=======
          "execution_count": 39
>>>>>>> aa312e54162503d558ce67a1e6f38bac0e0ba1ce
        }
      ]
    },
    {
      "cell_type": "code",
      "metadata": {
        "id": "5I-RmBVoHBCw",
        "colab_type": "code",
        "colab": {}
      },
      "source": [
        "# para conocer todos los tipo de datos\n",
        "?data.select_dtypes"
      ],
<<<<<<< HEAD
      "execution_count": 99,
=======
      "execution_count": 40,
>>>>>>> aa312e54162503d558ce67a1e6f38bac0e0ba1ce
      "outputs": []
    },
    {
      "cell_type": "markdown",
      "metadata": {
        "id": "mvzBoAj5qdOW",
        "colab_type": "text"
      },
      "source": [
        "####Categóricas"
      ]
    },
    {
      "cell_type": "code",
      "metadata": {
        "id": "gpaBVNynm-1-",
        "colab_type": "code",
        "colab": {
          "base_uri": "https://localhost:8080/",
          "height": 622
        },
<<<<<<< HEAD
        "outputId": "430d1773-2311-491e-9562-0c19c99bd5d6"
=======
        "outputId": "5502967b-7fe4-4315-819e-30bed98c94a5"
>>>>>>> aa312e54162503d558ce67a1e6f38bac0e0ba1ce
      },
      "source": [
        "# Cardinalidad - Valores únicos por columna\n",
        "for col in categorical.columns:\n",
        "  print('Valores únicos en \"{}\": {}'.format(col,categorical[col].nunique()))"
      ],
<<<<<<< HEAD
      "execution_count": 100,
=======
      "execution_count": 41,
>>>>>>> aa312e54162503d558ce67a1e6f38bac0e0ba1ce
      "outputs": [
        {
          "output_type": "stream",
          "text": [
            "Valores únicos en \"fecha_actualizacion\": 1\n",
<<<<<<< HEAD
            "Valores únicos en \"id_registro\": 1360123\n",
            "Valores únicos en \"fecha_ingreso\": 245\n",
            "Valores únicos en \"fecha_sintomas\": 245\n",
            "Valores únicos en \"fecha_def\": 190\n",
            "Valores únicos en \"pais_nacionalidad\": 119\n",
            "Valores únicos en \"pais_origen\": 78\n",
            "Valores únicos en \"entidad_res\": 32\n",
            "Valores únicos en \"municipio_res\": 2153\n",
=======
            "Valores únicos en \"id_registro\": 1393033\n",
            "Valores únicos en \"fecha_ingreso\": 247\n",
            "Valores únicos en \"fecha_sintomas\": 247\n",
            "Valores únicos en \"fecha_def\": 192\n",
            "Valores únicos en \"pais_nacionalidad\": 119\n",
            "Valores únicos en \"pais_origen\": 78\n",
            "Valores únicos en \"entidad_res\": 32\n",
            "Valores únicos en \"municipio_res\": 2155\n",
>>>>>>> aa312e54162503d558ce67a1e6f38bac0e0ba1ce
            "Valores únicos en \"entidad_um\": 32\n",
            "Valores únicos en \"entidad_nac\": 33\n",
            "Valores únicos en \"intubado\": 4\n",
            "Valores únicos en \"neumonia\": 3\n",
            "Valores únicos en \"embarazo\": 4\n",
            "Valores únicos en \"habla_lengua_indig\": 3\n",
            "Valores únicos en \"diabetes\": 3\n",
            "Valores únicos en \"epoc\": 3\n",
            "Valores únicos en \"asma\": 3\n",
            "Valores únicos en \"inmusupr\": 3\n",
            "Valores únicos en \"hipertension\": 3\n",
            "Valores únicos en \"otra_com\": 3\n",
            "Valores únicos en \"cardiovascular\": 3\n",
            "Valores únicos en \"obesidad\": 3\n",
            "Valores únicos en \"renal_cronica\": 3\n",
            "Valores únicos en \"tabaquismo\": 3\n",
            "Valores únicos en \"otro_caso\": 3\n",
            "Valores únicos en \"migrante\": 3\n",
            "Valores únicos en \"uci\": 4\n",
            "Valores únicos en \"origen\": 2\n",
            "Valores únicos en \"sector\": 14\n",
            "Valores únicos en \"sexo\": 2\n",
            "Valores únicos en \"tipo_paciente\": 2\n",
            "Valores únicos en \"nacionalidad\": 2\n",
            "Valores únicos en \"resultado\": 3\n",
            "Valores únicos en \"defuncion\": 2\n"
          ],
          "name": "stdout"
        }
      ]
    },
    {
      "cell_type": "code",
      "metadata": {
        "id": "JK8aFUfWqsPJ",
        "colab_type": "code",
        "colab": {
          "base_uri": "https://localhost:8080/",
          "height": 622
        },
<<<<<<< HEAD
        "outputId": "5dbe764e-fcb6-4c5a-864d-d4edafc7262a"
=======
        "outputId": "7182a802-9d9e-4360-dcda-f2cf63d066a8"
>>>>>>> aa312e54162503d558ce67a1e6f38bac0e0ba1ce
      },
      "source": [
        "# Unicidad - proporción de valores únicos por columna\n",
        "total = data.shape[0]\n",
        "for col in categorical.columns:\n",
        "  print('Porcentaje de valores únicos en \"{}\": {}%'.format(col,round(categorical[col].nunique()/total*100,2)))"
      ],
<<<<<<< HEAD
      "execution_count": 101,
=======
      "execution_count": 42,
>>>>>>> aa312e54162503d558ce67a1e6f38bac0e0ba1ce
      "outputs": [
        {
          "output_type": "stream",
          "text": [
            "Porcentaje de valores únicos en \"fecha_actualizacion\": 0.0%\n",
            "Porcentaje de valores únicos en \"id_registro\": 100.0%\n",
            "Porcentaje de valores únicos en \"fecha_ingreso\": 0.02%\n",
            "Porcentaje de valores únicos en \"fecha_sintomas\": 0.02%\n",
            "Porcentaje de valores únicos en \"fecha_def\": 0.01%\n",
            "Porcentaje de valores únicos en \"pais_nacionalidad\": 0.01%\n",
            "Porcentaje de valores únicos en \"pais_origen\": 0.01%\n",
            "Porcentaje de valores únicos en \"entidad_res\": 0.0%\n",
            "Porcentaje de valores únicos en \"municipio_res\": 0.15%\n",
            "Porcentaje de valores únicos en \"entidad_um\": 0.0%\n",
            "Porcentaje de valores únicos en \"entidad_nac\": 0.0%\n",
            "Porcentaje de valores únicos en \"intubado\": 0.0%\n",
            "Porcentaje de valores únicos en \"neumonia\": 0.0%\n",
            "Porcentaje de valores únicos en \"embarazo\": 0.0%\n",
            "Porcentaje de valores únicos en \"habla_lengua_indig\": 0.0%\n",
            "Porcentaje de valores únicos en \"diabetes\": 0.0%\n",
            "Porcentaje de valores únicos en \"epoc\": 0.0%\n",
            "Porcentaje de valores únicos en \"asma\": 0.0%\n",
            "Porcentaje de valores únicos en \"inmusupr\": 0.0%\n",
            "Porcentaje de valores únicos en \"hipertension\": 0.0%\n",
            "Porcentaje de valores únicos en \"otra_com\": 0.0%\n",
            "Porcentaje de valores únicos en \"cardiovascular\": 0.0%\n",
            "Porcentaje de valores únicos en \"obesidad\": 0.0%\n",
            "Porcentaje de valores únicos en \"renal_cronica\": 0.0%\n",
            "Porcentaje de valores únicos en \"tabaquismo\": 0.0%\n",
            "Porcentaje de valores únicos en \"otro_caso\": 0.0%\n",
            "Porcentaje de valores únicos en \"migrante\": 0.0%\n",
            "Porcentaje de valores únicos en \"uci\": 0.0%\n",
            "Porcentaje de valores únicos en \"origen\": 0.0%\n",
            "Porcentaje de valores únicos en \"sector\": 0.0%\n",
            "Porcentaje de valores únicos en \"sexo\": 0.0%\n",
            "Porcentaje de valores únicos en \"tipo_paciente\": 0.0%\n",
            "Porcentaje de valores únicos en \"nacionalidad\": 0.0%\n",
            "Porcentaje de valores únicos en \"resultado\": 0.0%\n",
            "Porcentaje de valores únicos en \"defuncion\": 0.0%\n"
          ],
          "name": "stdout"
        }
      ]
    },
    {
      "cell_type": "code",
      "metadata": {
        "id": "A2G1_Y5nq0R5",
        "colab_type": "code",
        "colab": {
          "base_uri": "https://localhost:8080/",
<<<<<<< HEAD
          "height": 588
        },
        "outputId": "b45fc343-9919-496e-c238-ea412d7c8e04"
=======
          "height": 605
        },
        "outputId": "6798f807-12c9-4b8d-b151-f1297ba2874b"
>>>>>>> aa312e54162503d558ce67a1e6f38bac0e0ba1ce
      },
      "source": [
        "# Moda - valor que más se repite en cada columna excepto los indicadores únicos\n",
        "for col in categorical.drop(columns='id_registro').columns:\n",
        "  print('Valor más popular en \"{}\": {}'.format(col, statistics.mode(categorical[col])))"
      ],
<<<<<<< HEAD
      "execution_count": 102,
=======
      "execution_count": 43,
>>>>>>> aa312e54162503d558ce67a1e6f38bac0e0ba1ce
      "outputs": [
        {
          "output_type": "stream",
          "text": [
<<<<<<< HEAD
            "Valor más popular en \"fecha_actualizacion\": 2020-09-01 00:00:00\n",
=======
            "Valor más popular en \"fecha_actualizacion\": 2020-09-03 00:00:00\n",
>>>>>>> aa312e54162503d558ce67a1e6f38bac0e0ba1ce
            "Valor más popular en \"fecha_ingreso\": 2020-07-20 00:00:00\n",
            "Valor más popular en \"fecha_sintomas\": 2020-07-20 00:00:00\n",
            "Valor más popular en \"fecha_def\": NaT\n",
            "Valor más popular en \"pais_nacionalidad\": MÃ©xico\n",
            "Valor más popular en \"pais_origen\": 99\n",
            "Valor más popular en \"entidad_res\": CIUDAD DE MÉXICO\n",
            "Valor más popular en \"municipio_res\": IZTAPALAPA\n",
            "Valor más popular en \"entidad_um\": CIUDAD DE MÉXICO\n",
            "Valor más popular en \"entidad_nac\": CIUDAD DE MÉXICO\n",
            "Valor más popular en \"intubado\": NO APLICA\n",
            "Valor más popular en \"neumonia\": NO \n",
            "Valor más popular en \"embarazo\": NO \n",
            "Valor más popular en \"habla_lengua_indig\": NO \n",
            "Valor más popular en \"diabetes\": NO \n",
            "Valor más popular en \"epoc\": NO \n",
            "Valor más popular en \"asma\": NO \n",
            "Valor más popular en \"inmusupr\": NO \n",
            "Valor más popular en \"hipertension\": NO \n",
            "Valor más popular en \"otra_com\": NO \n",
            "Valor más popular en \"cardiovascular\": NO \n",
            "Valor más popular en \"obesidad\": NO \n",
            "Valor más popular en \"renal_cronica\": NO \n",
            "Valor más popular en \"tabaquismo\": NO \n",
            "Valor más popular en \"otro_caso\": SI \n",
            "Valor más popular en \"migrante\": NO ESPECIFICADO\n",
            "Valor más popular en \"uci\": NO APLICA\n",
            "Valor más popular en \"origen\": FUERA DE USMER\n",
            "Valor más popular en \"sector\": SSA\n",
            "Valor más popular en \"sexo\": MUJER\n",
            "Valor más popular en \"tipo_paciente\": AMBULATORIO\n",
            "Valor más popular en \"nacionalidad\": MEXICANA\n",
            "Valor más popular en \"resultado\": No positivo SARS-CoV-2\n",
            "Valor más popular en \"defuncion\": False\n"
          ],
          "name": "stdout"
        }
      ]
    },
    {
      "cell_type": "markdown",
      "metadata": {
        "id": "Db1AtzEIqj9Z",
        "colab_type": "text"
      },
      "source": [
        "####Numéricas"
      ]
    },
    {
      "cell_type": "code",
      "metadata": {
        "id": "euuwiemhrBh7",
        "colab_type": "code",
        "colab": {
          "base_uri": "https://localhost:8080/",
          "height": 284
        },
<<<<<<< HEAD
        "outputId": "955c2970-13ae-41cc-cab4-a966077e5d01"
=======
        "outputId": "82380254-5313-44e4-8857-cd167f227af3"
>>>>>>> aa312e54162503d558ce67a1e6f38bac0e0ba1ce
      },
      "source": [
        "numerical.describe()"
      ],
<<<<<<< HEAD
      "execution_count": 103,
=======
      "execution_count": 44,
>>>>>>> aa312e54162503d558ce67a1e6f38bac0e0ba1ce
      "outputs": [
        {
          "output_type": "execute_result",
          "data": {
            "text/html": [
              "<div>\n",
              "<style scoped>\n",
              "    .dataframe tbody tr th:only-of-type {\n",
              "        vertical-align: middle;\n",
              "    }\n",
              "\n",
              "    .dataframe tbody tr th {\n",
              "        vertical-align: top;\n",
              "    }\n",
              "\n",
              "    .dataframe thead th {\n",
              "        text-align: right;\n",
              "    }\n",
              "</style>\n",
              "<table border=\"1\" class=\"dataframe\">\n",
              "  <thead>\n",
              "    <tr style=\"text-align: right;\">\n",
              "      <th></th>\n",
              "      <th>edad</th>\n",
              "      <th>mes_def</th>\n",
              "      <th>año_def</th>\n",
              "      <th>mes_ingreso</th>\n",
              "      <th>año_ingreso</th>\n",
              "    </tr>\n",
              "  </thead>\n",
              "  <tbody>\n",
              "    <tr>\n",
              "      <th>count</th>\n",
<<<<<<< HEAD
              "      <td>1.360123e+06</td>\n",
              "      <td>83202.000000</td>\n",
              "      <td>83202.0</td>\n",
              "      <td>1.360123e+06</td>\n",
              "      <td>1360123.0</td>\n",
              "    </tr>\n",
              "    <tr>\n",
              "      <th>mean</th>\n",
              "      <td>4.229901e+01</td>\n",
              "      <td>6.361554</td>\n",
              "      <td>2020.0</td>\n",
              "      <td>6.525770e+00</td>\n",
=======
              "      <td>1.393033e+06</td>\n",
              "      <td>84677.000000</td>\n",
              "      <td>84677.0</td>\n",
              "      <td>1.393033e+06</td>\n",
              "      <td>1393033.0</td>\n",
              "    </tr>\n",
              "    <tr>\n",
              "      <th>mean</th>\n",
              "      <td>4.226682e+01</td>\n",
              "      <td>6.393200</td>\n",
              "      <td>2020.0</td>\n",
              "      <td>6.580492e+00</td>\n",
>>>>>>> aa312e54162503d558ce67a1e6f38bac0e0ba1ce
              "      <td>2020.0</td>\n",
              "    </tr>\n",
              "    <tr>\n",
              "      <th>std</th>\n",
<<<<<<< HEAD
              "      <td>1.677507e+01</td>\n",
              "      <td>1.200983</td>\n",
              "      <td>0.0</td>\n",
              "      <td>1.253510e+00</td>\n",
=======
              "      <td>1.678013e+01</td>\n",
              "      <td>1.218526</td>\n",
              "      <td>0.0</td>\n",
              "      <td>1.288985e+00</td>\n",
>>>>>>> aa312e54162503d558ce67a1e6f38bac0e0ba1ce
              "      <td>0.0</td>\n",
              "    </tr>\n",
              "    <tr>\n",
              "      <th>min</th>\n",
              "      <td>0.000000e+00</td>\n",
              "      <td>1.000000</td>\n",
              "      <td>2020.0</td>\n",
              "      <td>1.000000e+00</td>\n",
              "      <td>2020.0</td>\n",
              "    </tr>\n",
              "    <tr>\n",
              "      <th>25%</th>\n",
              "      <td>3.000000e+01</td>\n",
              "      <td>5.000000</td>\n",
              "      <td>2020.0</td>\n",
              "      <td>6.000000e+00</td>\n",
              "      <td>2020.0</td>\n",
              "    </tr>\n",
              "    <tr>\n",
              "      <th>50%</th>\n",
              "      <td>4.100000e+01</td>\n",
              "      <td>6.000000</td>\n",
              "      <td>2020.0</td>\n",
              "      <td>7.000000e+00</td>\n",
              "      <td>2020.0</td>\n",
              "    </tr>\n",
              "    <tr>\n",
              "      <th>75%</th>\n",
              "      <td>5.300000e+01</td>\n",
              "      <td>7.000000</td>\n",
              "      <td>2020.0</td>\n",
              "      <td>8.000000e+00</td>\n",
              "      <td>2020.0</td>\n",
              "    </tr>\n",
              "    <tr>\n",
              "      <th>max</th>\n",
              "      <td>1.200000e+02</td>\n",
              "      <td>9.000000</td>\n",
              "      <td>2020.0</td>\n",
              "      <td>9.000000e+00</td>\n",
              "      <td>2020.0</td>\n",
              "    </tr>\n",
              "  </tbody>\n",
              "</table>\n",
              "</div>"
            ],
            "text/plain": [
              "               edad       mes_def  año_def   mes_ingreso  año_ingreso\n",
<<<<<<< HEAD
              "count  1.360123e+06  83202.000000  83202.0  1.360123e+06    1360123.0\n",
              "mean   4.229901e+01      6.361554   2020.0  6.525770e+00       2020.0\n",
              "std    1.677507e+01      1.200983      0.0  1.253510e+00          0.0\n",
=======
              "count  1.393033e+06  84677.000000  84677.0  1.393033e+06    1393033.0\n",
              "mean   4.226682e+01      6.393200   2020.0  6.580492e+00       2020.0\n",
              "std    1.678013e+01      1.218526      0.0  1.288985e+00          0.0\n",
>>>>>>> aa312e54162503d558ce67a1e6f38bac0e0ba1ce
              "min    0.000000e+00      1.000000   2020.0  1.000000e+00       2020.0\n",
              "25%    3.000000e+01      5.000000   2020.0  6.000000e+00       2020.0\n",
              "50%    4.100000e+01      6.000000   2020.0  7.000000e+00       2020.0\n",
              "75%    5.300000e+01      7.000000   2020.0  8.000000e+00       2020.0\n",
              "max    1.200000e+02      9.000000   2020.0  9.000000e+00       2020.0"
            ]
          },
          "metadata": {
            "tags": []
          },
<<<<<<< HEAD
          "execution_count": 103
=======
          "execution_count": 44
>>>>>>> aa312e54162503d558ce67a1e6f38bac0e0ba1ce
        }
      ]
    },
    {
      "cell_type": "markdown",
      "metadata": {
        "id": "F4Z87n4dEBln",
        "colab_type": "text"
      },
      "source": [
        "##Análisis Exploratorio\n",
        "\n",
        "En esta sección responderemos algunas preguntas sobre el set de datos usando las herramientas que hemos visto hasta ahora"
      ]
    },
    {
      "cell_type": "code",
      "metadata": {
        "id": "-Adpvf7aSXnR",
        "colab_type": "code",
        "colab": {
          "base_uri": "https://localhost:8080/",
          "height": 84
        },
<<<<<<< HEAD
        "outputId": "b4be20eb-bd45-4572-b60e-cf30b8d23b03"
=======
        "outputId": "afc42696-ea6e-4b2e-9664-d5bcc37c5373"
>>>>>>> aa312e54162503d558ce67a1e6f38bac0e0ba1ce
      },
      "source": [
        "# ¿Cuántas pruebas por origen se realizan?\n",
        "data.groupby('origen').id_registro.count()"
      ],
<<<<<<< HEAD
      "execution_count": 104,
=======
      "execution_count": 45,
>>>>>>> aa312e54162503d558ce67a1e6f38bac0e0ba1ce
      "outputs": [
        {
          "output_type": "execute_result",
          "data": {
            "text/plain": [
              "origen\n",
<<<<<<< HEAD
              "FUERA DE USMER    904981\n",
              "USMER             455142\n",
=======
              "FUERA DE USMER    928460\n",
              "USMER             464573\n",
>>>>>>> aa312e54162503d558ce67a1e6f38bac0e0ba1ce
              "Name: id_registro, dtype: int64"
            ]
          },
          "metadata": {
            "tags": []
          },
<<<<<<< HEAD
          "execution_count": 104
=======
          "execution_count": 45
>>>>>>> aa312e54162503d558ce67a1e6f38bac0e0ba1ce
        }
      ]
    },
    {
      "cell_type": "code",
      "metadata": {
        "id": "KNMflRmDSlar",
        "colab_type": "code",
        "colab": {
          "base_uri": "https://localhost:8080/",
          "height": 67
        },
<<<<<<< HEAD
        "outputId": "caa0eb6e-885f-4eaf-de79-0cfb6b7ee3c5"
=======
        "outputId": "bf77e068-1a25-438f-c046-2dc344210094"
>>>>>>> aa312e54162503d558ce67a1e6f38bac0e0ba1ce
      },
      "source": [
        "data.origen.value_counts()"
      ],
<<<<<<< HEAD
      "execution_count": 105,
=======
      "execution_count": 46,
>>>>>>> aa312e54162503d558ce67a1e6f38bac0e0ba1ce
      "outputs": [
        {
          "output_type": "execute_result",
          "data": {
            "text/plain": [
<<<<<<< HEAD
              "FUERA DE USMER    904981\n",
              "USMER             455142\n",
=======
              "FUERA DE USMER    928460\n",
              "USMER             464573\n",
>>>>>>> aa312e54162503d558ce67a1e6f38bac0e0ba1ce
              "Name: origen, dtype: int64"
            ]
          },
          "metadata": {
            "tags": []
          },
<<<<<<< HEAD
          "execution_count": 105
=======
          "execution_count": 46
>>>>>>> aa312e54162503d558ce67a1e6f38bac0e0ba1ce
        }
      ]
    },
    {
      "cell_type": "code",
      "metadata": {
        "id": "Q_i8mLloSXw8",
        "colab_type": "code",
        "colab": {
          "base_uri": "https://localhost:8080/",
          "height": 269
        },
<<<<<<< HEAD
        "outputId": "bd4865d4-f5e5-4da0-c63e-8ecc01ffee69"
=======
        "outputId": "d4dcc278-9fc8-4f51-f8fa-0a8d8a0fe9ca"
>>>>>>> aa312e54162503d558ce67a1e6f38bac0e0ba1ce
      },
      "source": [
        "# ¿Cuántas pruebas por sector se realizan?\n",
        "data.sector.value_counts()"
      ],
<<<<<<< HEAD
      "execution_count": 106,
=======
      "execution_count": 47,
>>>>>>> aa312e54162503d558ce67a1e6f38bac0e0ba1ce
      "outputs": [
        {
          "output_type": "execute_result",
          "data": {
            "text/plain": [
<<<<<<< HEAD
              "SSA                841546\n",
              "IMSS               351832\n",
              "ISSSTE              51833\n",
              "PRIVADA             51036\n",
              "ESTATAL             25356\n",
              "PEMEX               12028\n",
              "IMSS-BIENESTAR       9567\n",
              "SEMAR                7222\n",
              "SEDENA               6735\n",
              "MUNICIPAL            1114\n",
              "UNIVERSITARIO         878\n",
              "DIF                   769\n",
              "CRUZ ROJA             199\n",
=======
              "SSA                863605\n",
              "IMSS               359287\n",
              "ISSSTE              52959\n",
              "PRIVADA             52236\n",
              "ESTATAL             25729\n",
              "PEMEX               12225\n",
              "IMSS-BIENESTAR       9690\n",
              "SEMAR                7387\n",
              "SEDENA               6890\n",
              "MUNICIPAL            1128\n",
              "UNIVERSITARIO         897\n",
              "DIF                   786\n",
              "CRUZ ROJA             206\n",
>>>>>>> aa312e54162503d558ce67a1e6f38bac0e0ba1ce
              "NO ESPECIFICADO         8\n",
              "Name: sector, dtype: int64"
            ]
          },
          "metadata": {
            "tags": []
          },
<<<<<<< HEAD
          "execution_count": 106
=======
          "execution_count": 47
>>>>>>> aa312e54162503d558ce67a1e6f38bac0e0ba1ce
        }
      ]
    },
    {
      "cell_type": "code",
      "metadata": {
        "id": "7p14tyEYEEEp",
        "colab_type": "code",
        "colab": {
          "base_uri": "https://localhost:8080/",
          "height": 67
        },
<<<<<<< HEAD
        "outputId": "db38fab6-1de5-4984-b494-ac3584992416"
=======
        "outputId": "e5086989-3fbe-442a-d306-e70e145a6b1f"
>>>>>>> aa312e54162503d558ce67a1e6f38bac0e0ba1ce
      },
      "source": [
        "# ¿Cuántos pacientes por sexo tenemos?\n",
        "data.sexo.value_counts()"
      ],
<<<<<<< HEAD
      "execution_count": 107,
=======
      "execution_count": 48,
>>>>>>> aa312e54162503d558ce67a1e6f38bac0e0ba1ce
      "outputs": [
        {
          "output_type": "execute_result",
          "data": {
            "text/plain": [
<<<<<<< HEAD
              "MUJER     688689\n",
              "HOMBRE    671434\n",
=======
              "MUJER     705922\n",
              "HOMBRE    687111\n",
>>>>>>> aa312e54162503d558ce67a1e6f38bac0e0ba1ce
              "Name: sexo, dtype: int64"
            ]
          },
          "metadata": {
            "tags": []
          },
<<<<<<< HEAD
          "execution_count": 107
=======
          "execution_count": 48
>>>>>>> aa312e54162503d558ce67a1e6f38bac0e0ba1ce
        }
      ]
    },
    {
      "cell_type": "code",
      "metadata": {
        "id": "lSPRZDpCJf-k",
        "colab_type": "code",
        "colab": {
          "base_uri": "https://localhost:8080/",
          "height": 67
        },
<<<<<<< HEAD
        "outputId": "0a00b931-d39d-40a1-f38d-a74e8f3121c9"
=======
        "outputId": "93aea31b-4298-4d28-ab1f-1f2776117714"
>>>>>>> aa312e54162503d558ce67a1e6f38bac0e0ba1ce
      },
      "source": [
        "# ¿Cuál es la proporción de los pacientes por sexo?\n",
        "data.sexo.value_counts(normalize=True)"
      ],
<<<<<<< HEAD
      "execution_count": 108,
=======
      "execution_count": 49,
>>>>>>> aa312e54162503d558ce67a1e6f38bac0e0ba1ce
      "outputs": [
        {
          "output_type": "execute_result",
          "data": {
            "text/plain": [
<<<<<<< HEAD
              "MUJER     0.506343\n",
              "HOMBRE    0.493657\n",
=======
              "MUJER     0.506752\n",
              "HOMBRE    0.493248\n",
>>>>>>> aa312e54162503d558ce67a1e6f38bac0e0ba1ce
              "Name: sexo, dtype: float64"
            ]
          },
          "metadata": {
            "tags": []
          },
<<<<<<< HEAD
          "execution_count": 108
=======
          "execution_count": 49
>>>>>>> aa312e54162503d558ce67a1e6f38bac0e0ba1ce
        }
      ]
    },
    {
      "cell_type": "code",
      "metadata": {
        "id": "Z4OhA4Y2Jmon",
        "colab_type": "code",
        "colab": {
          "base_uri": "https://localhost:8080/",
          "height": 84
        },
<<<<<<< HEAD
        "outputId": "c9133e0c-f252-4e58-f45a-cacf2510e844"
=======
        "outputId": "52036641-5ef0-4b94-ac6f-865864bf2cef"
>>>>>>> aa312e54162503d558ce67a1e6f38bac0e0ba1ce
      },
      "source": [
        "# ¿Cuál es la proporción de resultados de las pruebas?\n",
        "data.resultado.value_counts(normalize=True)"
      ],
<<<<<<< HEAD
      "execution_count": 109,
=======
      "execution_count": 50,
>>>>>>> aa312e54162503d558ce67a1e6f38bac0e0ba1ce
      "outputs": [
        {
          "output_type": "execute_result",
          "data": {
            "text/plain": [
<<<<<<< HEAD
              "No positivo SARS-CoV-2    0.497718\n",
              "Positivo SARS-CoV-2       0.445574\n",
              "Resultado pendiente       0.056707\n",
=======
              "No positivo SARS-CoV-2    0.496987\n",
              "Positivo SARS-CoV-2       0.442842\n",
              "Resultado pendiente       0.060171\n",
>>>>>>> aa312e54162503d558ce67a1e6f38bac0e0ba1ce
              "Name: resultado, dtype: float64"
            ]
          },
          "metadata": {
            "tags": []
          },
<<<<<<< HEAD
          "execution_count": 109
=======
          "execution_count": 50
>>>>>>> aa312e54162503d558ce67a1e6f38bac0e0ba1ce
        }
      ]
    },
    {
      "cell_type": "code",
      "metadata": {
        "id": "vRp0bVPKHSRG",
        "colab_type": "code",
        "colab": {
          "base_uri": "https://localhost:8080/",
<<<<<<< HEAD
          "height": 34
        },
        "outputId": "eef2d4ef-449d-4943-939f-8a64c8afcdf0"
=======
          "height": 35
        },
        "outputId": "74cfe8a5-8c5d-4e46-daaf-597515921f40"
>>>>>>> aa312e54162503d558ce67a1e6f38bac0e0ba1ce
      },
      "source": [
        "# ¿Cuántas pruebas positivas tenemos en el set?\n",
        "data[data.resultado == 'Positivo SARS-CoV-2'].id_registro.count()"
      ],
<<<<<<< HEAD
      "execution_count": 110,
=======
      "execution_count": 51,
>>>>>>> aa312e54162503d558ce67a1e6f38bac0e0ba1ce
      "outputs": [
        {
          "output_type": "execute_result",
          "data": {
            "text/plain": [
<<<<<<< HEAD
              "606036"
=======
              "616894"
>>>>>>> aa312e54162503d558ce67a1e6f38bac0e0ba1ce
            ]
          },
          "metadata": {
            "tags": []
          },
<<<<<<< HEAD
          "execution_count": 110
=======
          "execution_count": 51
>>>>>>> aa312e54162503d558ce67a1e6f38bac0e0ba1ce
        }
      ]
    },
    {
      "cell_type": "code",
      "metadata": {
        "id": "BPeZ1LFgOiF6",
        "colab_type": "code",
        "colab": {
          "base_uri": "https://localhost:8080/",
<<<<<<< HEAD
          "height": 185
        },
        "outputId": "1a38bdfc-ac57-4849-c449-57455a2fd32d"
=======
          "height": 190
        },
        "outputId": "b1893a7a-f2e4-4c3e-f835-097eb212f431"
>>>>>>> aa312e54162503d558ce67a1e6f38bac0e0ba1ce
      },
      "source": [
        "# ¿Cuántos casos positivos tenemos por mes?\n",
        "data[data.resultado == 'Positivo SARS-CoV-2'].mes_ingreso.value_counts().sort_index()"
      ],
<<<<<<< HEAD
      "execution_count": 111,
=======
      "execution_count": 52,
>>>>>>> aa312e54162503d558ce67a1e6f38bac0e0ba1ce
      "outputs": [
        {
          "output_type": "execute_result",
          "data": {
            "text/plain": [
              "1         2\n",
              "2         8\n",
              "3      2530\n",
<<<<<<< HEAD
              "4     26553\n",
              "5     86407\n",
              "6    152701\n",
              "7    198483\n",
              "8    139345\n",
              "9         7\n",
=======
              "4     26554\n",
              "5     86466\n",
              "6    152756\n",
              "7    198622\n",
              "8    148077\n",
              "9      1879\n",
>>>>>>> aa312e54162503d558ce67a1e6f38bac0e0ba1ce
              "Name: mes_ingreso, dtype: int64"
            ]
          },
          "metadata": {
            "tags": []
          },
<<<<<<< HEAD
          "execution_count": 111
=======
          "execution_count": 52
>>>>>>> aa312e54162503d558ce67a1e6f38bac0e0ba1ce
        }
      ]
    },
    {
      "cell_type": "code",
      "metadata": {
        "id": "tIOsS5rlE_lO",
        "colab_type": "code",
        "colab": {
          "base_uri": "https://localhost:8080/",
          "height": 151
        },
<<<<<<< HEAD
        "outputId": "652e8bdc-0a2f-4514-aaf0-543ed6b615fb"
=======
        "outputId": "035461aa-1760-44a4-dd31-bafde122b4ee"
>>>>>>> aa312e54162503d558ce67a1e6f38bac0e0ba1ce
      },
      "source": [
        "# ¿Cuál es el resultado de las pruebas por sexo?\n",
        "data.groupby(['sexo','resultado'])['id_registro'].count()"
      ],
<<<<<<< HEAD
      "execution_count": 112,
=======
      "execution_count": 53,
>>>>>>> aa312e54162503d558ce67a1e6f38bac0e0ba1ce
      "outputs": [
        {
          "output_type": "execute_result",
          "data": {
            "text/plain": [
              "sexo    resultado             \n",
<<<<<<< HEAD
              "HOMBRE  No positivo SARS-CoV-2    315398\n",
              "        Positivo SARS-CoV-2       317859\n",
              "        Resultado pendiente        38177\n",
              "MUJER   No positivo SARS-CoV-2    361560\n",
              "        Positivo SARS-CoV-2       288177\n",
              "        Resultado pendiente        38952\n",
=======
              "HOMBRE  No positivo SARS-CoV-2    322529\n",
              "        Positivo SARS-CoV-2       323257\n",
              "        Resultado pendiente        41325\n",
              "MUJER   No positivo SARS-CoV-2    369790\n",
              "        Positivo SARS-CoV-2       293637\n",
              "        Resultado pendiente        42495\n",
>>>>>>> aa312e54162503d558ce67a1e6f38bac0e0ba1ce
              "Name: id_registro, dtype: int64"
            ]
          },
          "metadata": {
            "tags": []
          },
<<<<<<< HEAD
          "execution_count": 112
=======
          "execution_count": 53
>>>>>>> aa312e54162503d558ce67a1e6f38bac0e0ba1ce
        }
      ]
    },
    {
      "cell_type": "code",
      "metadata": {
        "id": "Mw5CorwDK0PB",
        "colab_type": "code",
        "colab": {
          "base_uri": "https://localhost:8080/",
          "height": 151
        },
<<<<<<< HEAD
        "outputId": "b1b7620c-96b3-4ed1-863d-e922e3015e63"
=======
        "outputId": "7f42f201-b90c-4a40-94d2-5025f382596d"
>>>>>>> aa312e54162503d558ce67a1e6f38bac0e0ba1ce
      },
      "source": [
        "data.groupby('sexo').resultado.value_counts()"
      ],
<<<<<<< HEAD
      "execution_count": 113,
=======
      "execution_count": 54,
>>>>>>> aa312e54162503d558ce67a1e6f38bac0e0ba1ce
      "outputs": [
        {
          "output_type": "execute_result",
          "data": {
            "text/plain": [
              "sexo    resultado             \n",
<<<<<<< HEAD
              "HOMBRE  Positivo SARS-CoV-2       317859\n",
              "        No positivo SARS-CoV-2    315398\n",
              "        Resultado pendiente        38177\n",
              "MUJER   No positivo SARS-CoV-2    361560\n",
              "        Positivo SARS-CoV-2       288177\n",
              "        Resultado pendiente        38952\n",
=======
              "HOMBRE  Positivo SARS-CoV-2       323257\n",
              "        No positivo SARS-CoV-2    322529\n",
              "        Resultado pendiente        41325\n",
              "MUJER   No positivo SARS-CoV-2    369790\n",
              "        Positivo SARS-CoV-2       293637\n",
              "        Resultado pendiente        42495\n",
>>>>>>> aa312e54162503d558ce67a1e6f38bac0e0ba1ce
              "Name: resultado, dtype: int64"
            ]
          },
          "metadata": {
            "tags": []
          },
<<<<<<< HEAD
          "execution_count": 113
=======
          "execution_count": 54
>>>>>>> aa312e54162503d558ce67a1e6f38bac0e0ba1ce
        }
      ]
    },
    {
      "cell_type": "code",
      "metadata": {
        "id": "sJJgtaB1G6yh",
        "colab_type": "code",
        "colab": {
          "base_uri": "https://localhost:8080/",
          "height": 151
        },
<<<<<<< HEAD
        "outputId": "8932edec-1c9e-4b72-c643-78ea1f5b3294"
=======
        "outputId": "47cc1ea9-f5a6-4541-80d6-ad1e9e644d0a"
>>>>>>> aa312e54162503d558ce67a1e6f38bac0e0ba1ce
      },
      "source": [
        "# ¿Qué proporción de resultados de pruebas tenemos por sexo?\n",
        "data.groupby('sexo').resultado.value_counts(normalize=True)"
      ],
<<<<<<< HEAD
      "execution_count": 114,
=======
      "execution_count": 55,
>>>>>>> aa312e54162503d558ce67a1e6f38bac0e0ba1ce
      "outputs": [
        {
          "output_type": "execute_result",
          "data": {
            "text/plain": [
              "sexo    resultado             \n",
<<<<<<< HEAD
              "HOMBRE  Positivo SARS-CoV-2       0.473403\n",
              "        No positivo SARS-CoV-2    0.469738\n",
              "        Resultado pendiente       0.056859\n",
              "MUJER   No positivo SARS-CoV-2    0.524997\n",
              "        Positivo SARS-CoV-2       0.418443\n",
              "        Resultado pendiente       0.056560\n",
=======
              "HOMBRE  Positivo SARS-CoV-2       0.470458\n",
              "        No positivo SARS-CoV-2    0.469399\n",
              "        Resultado pendiente       0.060143\n",
              "MUJER   No positivo SARS-CoV-2    0.523840\n",
              "        Positivo SARS-CoV-2       0.415962\n",
              "        Resultado pendiente       0.060198\n",
>>>>>>> aa312e54162503d558ce67a1e6f38bac0e0ba1ce
              "Name: resultado, dtype: float64"
            ]
          },
          "metadata": {
            "tags": []
          },
<<<<<<< HEAD
          "execution_count": 114
=======
          "execution_count": 55
>>>>>>> aa312e54162503d558ce67a1e6f38bac0e0ba1ce
        }
      ]
    },
    {
      "cell_type": "code",
      "metadata": {
        "id": "-ZCLqAkWHDeQ",
        "colab_type": "code",
        "colab": {
          "base_uri": "https://localhost:8080/",
          "height": 136
        },
<<<<<<< HEAD
        "outputId": "f53318ea-fece-4720-eff6-2ab3501ad795"
=======
        "outputId": "1f64f621-63c3-4064-a32f-e3ac950196d3"
>>>>>>> aa312e54162503d558ce67a1e6f38bac0e0ba1ce
      },
      "source": [
        "# ¿Cuál es la edad de los pacientes por sexo?\n",
        "data.groupby('sexo').edad.describe()"
      ],
<<<<<<< HEAD
      "execution_count": 115,
=======
      "execution_count": 56,
>>>>>>> aa312e54162503d558ce67a1e6f38bac0e0ba1ce
      "outputs": [
        {
          "output_type": "execute_result",
          "data": {
            "text/html": [
              "<div>\n",
              "<style scoped>\n",
              "    .dataframe tbody tr th:only-of-type {\n",
              "        vertical-align: middle;\n",
              "    }\n",
              "\n",
              "    .dataframe tbody tr th {\n",
              "        vertical-align: top;\n",
              "    }\n",
              "\n",
              "    .dataframe thead th {\n",
              "        text-align: right;\n",
              "    }\n",
              "</style>\n",
              "<table border=\"1\" class=\"dataframe\">\n",
              "  <thead>\n",
              "    <tr style=\"text-align: right;\">\n",
              "      <th></th>\n",
              "      <th>count</th>\n",
              "      <th>mean</th>\n",
              "      <th>std</th>\n",
              "      <th>min</th>\n",
              "      <th>25%</th>\n",
              "      <th>50%</th>\n",
              "      <th>75%</th>\n",
              "      <th>max</th>\n",
              "    </tr>\n",
              "    <tr>\n",
              "      <th>sexo</th>\n",
              "      <th></th>\n",
              "      <th></th>\n",
              "      <th></th>\n",
              "      <th></th>\n",
              "      <th></th>\n",
              "      <th></th>\n",
              "      <th></th>\n",
              "      <th></th>\n",
              "    </tr>\n",
              "  </thead>\n",
              "  <tbody>\n",
              "    <tr>\n",
              "      <th>HOMBRE</th>\n",
<<<<<<< HEAD
              "      <td>671434.0</td>\n",
              "      <td>42.850075</td>\n",
              "      <td>17.082438</td>\n",
=======
              "      <td>687111.0</td>\n",
              "      <td>42.812564</td>\n",
              "      <td>17.091827</td>\n",
>>>>>>> aa312e54162503d558ce67a1e6f38bac0e0ba1ce
              "      <td>0.0</td>\n",
              "      <td>30.0</td>\n",
              "      <td>41.0</td>\n",
              "      <td>54.0</td>\n",
              "      <td>120.0</td>\n",
              "    </tr>\n",
              "    <tr>\n",
              "      <th>MUJER</th>\n",
<<<<<<< HEAD
              "      <td>688689.0</td>\n",
              "      <td>41.761757</td>\n",
              "      <td>16.452140</td>\n",
=======
              "      <td>705922.0</td>\n",
              "      <td>41.735627</td>\n",
              "      <td>16.453715</td>\n",
>>>>>>> aa312e54162503d558ce67a1e6f38bac0e0ba1ce
              "      <td>0.0</td>\n",
              "      <td>30.0</td>\n",
              "      <td>40.0</td>\n",
              "      <td>52.0</td>\n",
              "      <td>120.0</td>\n",
              "    </tr>\n",
              "  </tbody>\n",
              "</table>\n",
              "</div>"
            ],
            "text/plain": [
              "           count       mean        std  min   25%   50%   75%    max\n",
              "sexo                                                                \n",
<<<<<<< HEAD
              "HOMBRE  671434.0  42.850075  17.082438  0.0  30.0  41.0  54.0  120.0\n",
              "MUJER   688689.0  41.761757  16.452140  0.0  30.0  40.0  52.0  120.0"
=======
              "HOMBRE  687111.0  42.812564  17.091827  0.0  30.0  41.0  54.0  120.0\n",
              "MUJER   705922.0  41.735627  16.453715  0.0  30.0  40.0  52.0  120.0"
>>>>>>> aa312e54162503d558ce67a1e6f38bac0e0ba1ce
            ]
          },
          "metadata": {
            "tags": []
          },
<<<<<<< HEAD
          "execution_count": 115
=======
          "execution_count": 56
>>>>>>> aa312e54162503d558ce67a1e6f38bac0e0ba1ce
        }
      ]
    },
    {
      "cell_type": "code",
      "metadata": {
        "id": "5SojvW49UrlU",
        "colab_type": "code",
        "colab": {
          "base_uri": "https://localhost:8080/",
          "height": 166
        },
<<<<<<< HEAD
        "outputId": "9b326952-361a-4601-9f1b-e7aa73c3a737"
=======
        "outputId": "f8f529f8-20c1-41d4-e353-cedb3a090fa2"
>>>>>>> aa312e54162503d558ce67a1e6f38bac0e0ba1ce
      },
      "source": [
        "def q25(x):\n",
        "  return x.quantile(0.25)\n",
        "\n",
        "def q75(x):\n",
        "  return x.quantile(0.75)\n",
        "\n",
        "data.groupby('sexo').agg({'edad': ['min', q25, 'median', q75, 'max']})"
      ],
<<<<<<< HEAD
      "execution_count": 116,
=======
      "execution_count": 57,
>>>>>>> aa312e54162503d558ce67a1e6f38bac0e0ba1ce
      "outputs": [
        {
          "output_type": "execute_result",
          "data": {
            "text/html": [
              "<div>\n",
              "<style scoped>\n",
              "    .dataframe tbody tr th:only-of-type {\n",
              "        vertical-align: middle;\n",
              "    }\n",
              "\n",
              "    .dataframe tbody tr th {\n",
              "        vertical-align: top;\n",
              "    }\n",
              "\n",
              "    .dataframe thead tr th {\n",
              "        text-align: left;\n",
              "    }\n",
              "\n",
              "    .dataframe thead tr:last-of-type th {\n",
              "        text-align: right;\n",
              "    }\n",
              "</style>\n",
              "<table border=\"1\" class=\"dataframe\">\n",
              "  <thead>\n",
              "    <tr>\n",
              "      <th></th>\n",
              "      <th colspan=\"5\" halign=\"left\">edad</th>\n",
              "    </tr>\n",
              "    <tr>\n",
              "      <th></th>\n",
              "      <th>min</th>\n",
              "      <th>q25</th>\n",
              "      <th>median</th>\n",
              "      <th>q75</th>\n",
              "      <th>max</th>\n",
              "    </tr>\n",
              "    <tr>\n",
              "      <th>sexo</th>\n",
              "      <th></th>\n",
              "      <th></th>\n",
              "      <th></th>\n",
              "      <th></th>\n",
              "      <th></th>\n",
              "    </tr>\n",
              "  </thead>\n",
              "  <tbody>\n",
              "    <tr>\n",
              "      <th>HOMBRE</th>\n",
              "      <td>0</td>\n",
              "      <td>30</td>\n",
              "      <td>41</td>\n",
              "      <td>54</td>\n",
              "      <td>120</td>\n",
              "    </tr>\n",
              "    <tr>\n",
              "      <th>MUJER</th>\n",
              "      <td>0</td>\n",
              "      <td>30</td>\n",
              "      <td>40</td>\n",
              "      <td>52</td>\n",
              "      <td>120</td>\n",
              "    </tr>\n",
              "  </tbody>\n",
              "</table>\n",
              "</div>"
            ],
            "text/plain": [
              "       edad                    \n",
              "        min q25 median q75  max\n",
              "sexo                           \n",
              "HOMBRE    0  30     41  54  120\n",
              "MUJER     0  30     40  52  120"
            ]
          },
          "metadata": {
            "tags": []
          },
<<<<<<< HEAD
          "execution_count": 116
=======
          "execution_count": 57
>>>>>>> aa312e54162503d558ce67a1e6f38bac0e0ba1ce
        }
      ]
    },
    {
      "cell_type": "code",
      "metadata": {
        "id": "Mt0Im5GWNl3u",
        "colab_type": "code",
        "colab": {
          "base_uri": "https://localhost:8080/",
          "height": 195
        },
<<<<<<< HEAD
        "outputId": "d2f0430d-6859-439f-c115-d9919e49794f"
=======
        "outputId": "44cfa6e5-1f4a-4326-bd48-660a9f31a065"
>>>>>>> aa312e54162503d558ce67a1e6f38bac0e0ba1ce
      },
      "source": [
        "# ¿Cuál es la edad de los pacientes dependiendo de si son intubados o no?\n",
        "data.groupby('intubado').edad.describe()"
      ],
<<<<<<< HEAD
      "execution_count": 117,
=======
      "execution_count": 58,
>>>>>>> aa312e54162503d558ce67a1e6f38bac0e0ba1ce
      "outputs": [
        {
          "output_type": "execute_result",
          "data": {
            "text/html": [
              "<div>\n",
              "<style scoped>\n",
              "    .dataframe tbody tr th:only-of-type {\n",
              "        vertical-align: middle;\n",
              "    }\n",
              "\n",
              "    .dataframe tbody tr th {\n",
              "        vertical-align: top;\n",
              "    }\n",
              "\n",
              "    .dataframe thead th {\n",
              "        text-align: right;\n",
              "    }\n",
              "</style>\n",
              "<table border=\"1\" class=\"dataframe\">\n",
              "  <thead>\n",
              "    <tr style=\"text-align: right;\">\n",
              "      <th></th>\n",
              "      <th>count</th>\n",
              "      <th>mean</th>\n",
              "      <th>std</th>\n",
              "      <th>min</th>\n",
              "      <th>25%</th>\n",
              "      <th>50%</th>\n",
              "      <th>75%</th>\n",
              "      <th>max</th>\n",
              "    </tr>\n",
              "    <tr>\n",
              "      <th>intubado</th>\n",
              "      <th></th>\n",
              "      <th></th>\n",
              "      <th></th>\n",
              "      <th></th>\n",
              "      <th></th>\n",
              "      <th></th>\n",
              "      <th></th>\n",
              "      <th></th>\n",
              "    </tr>\n",
              "  </thead>\n",
              "  <tbody>\n",
              "    <tr>\n",
              "      <th>NO</th>\n",
<<<<<<< HEAD
              "      <td>216254.0</td>\n",
              "      <td>53.623318</td>\n",
              "      <td>19.415348</td>\n",
=======
              "      <td>219583.0</td>\n",
              "      <td>53.630053</td>\n",
              "      <td>19.435595</td>\n",
>>>>>>> aa312e54162503d558ce67a1e6f38bac0e0ba1ce
              "      <td>0.0</td>\n",
              "      <td>42.0</td>\n",
              "      <td>55.0</td>\n",
              "      <td>67.0</td>\n",
              "      <td>120.0</td>\n",
              "    </tr>\n",
              "    <tr>\n",
              "      <th>NO APLICA</th>\n",
<<<<<<< HEAD
              "      <td>1115393.0</td>\n",
              "      <td>39.760982</td>\n",
              "      <td>15.004159</td>\n",
=======
              "      <td>1144649.0</td>\n",
              "      <td>39.748604</td>\n",
              "      <td>15.020323</td>\n",
>>>>>>> aa312e54162503d558ce67a1e6f38bac0e0ba1ce
              "      <td>0.0</td>\n",
              "      <td>29.0</td>\n",
              "      <td>38.0</td>\n",
              "      <td>49.0</td>\n",
              "      <td>120.0</td>\n",
              "    </tr>\n",
              "    <tr>\n",
              "      <th>NO ESPECIFICADO</th>\n",
<<<<<<< HEAD
              "      <td>162.0</td>\n",
              "      <td>52.938272</td>\n",
              "      <td>17.939059</td>\n",
=======
              "      <td>167.0</td>\n",
              "      <td>53.005988</td>\n",
              "      <td>18.042619</td>\n",
>>>>>>> aa312e54162503d558ce67a1e6f38bac0e0ba1ce
              "      <td>0.0</td>\n",
              "      <td>41.5</td>\n",
              "      <td>54.0</td>\n",
<<<<<<< HEAD
              "      <td>65.0</td>\n",
=======
              "      <td>65.5</td>\n",
>>>>>>> aa312e54162503d558ce67a1e6f38bac0e0ba1ce
              "      <td>92.0</td>\n",
              "    </tr>\n",
              "    <tr>\n",
              "      <th>SI</th>\n",
<<<<<<< HEAD
              "      <td>28314.0</td>\n",
              "      <td>55.728827</td>\n",
              "      <td>18.819916</td>\n",
=======
              "      <td>28634.0</td>\n",
              "      <td>55.730286</td>\n",
              "      <td>18.850803</td>\n",
>>>>>>> aa312e54162503d558ce67a1e6f38bac0e0ba1ce
              "      <td>0.0</td>\n",
              "      <td>47.0</td>\n",
              "      <td>58.0</td>\n",
              "      <td>68.0</td>\n",
              "      <td>108.0</td>\n",
              "    </tr>\n",
              "  </tbody>\n",
              "</table>\n",
              "</div>"
            ],
            "text/plain": [
              "                     count       mean        std  min   25%   50%   75%    max\n",
              "intubado                                                                      \n",
<<<<<<< HEAD
              "NO                216254.0  53.623318  19.415348  0.0  42.0  55.0  67.0  120.0\n",
              "NO APLICA        1115393.0  39.760982  15.004159  0.0  29.0  38.0  49.0  120.0\n",
              "NO ESPECIFICADO      162.0  52.938272  17.939059  0.0  42.0  54.0  65.0   92.0\n",
              "SI                 28314.0  55.728827  18.819916  0.0  47.0  58.0  68.0  108.0"
=======
              "NO                219583.0  53.630053  19.435595  0.0  42.0  55.0  67.0  120.0\n",
              "NO APLICA        1144649.0  39.748604  15.020323  0.0  29.0  38.0  49.0  120.0\n",
              "NO ESPECIFICADO      167.0  53.005988  18.042619  0.0  41.5  54.0  65.5   92.0\n",
              "SI                 28634.0  55.730286  18.850803  0.0  47.0  58.0  68.0  108.0"
>>>>>>> aa312e54162503d558ce67a1e6f38bac0e0ba1ce
            ]
          },
          "metadata": {
            "tags": []
          },
<<<<<<< HEAD
          "execution_count": 117
=======
          "execution_count": 58
>>>>>>> aa312e54162503d558ce67a1e6f38bac0e0ba1ce
        }
      ]
    },
    {
      "cell_type": "code",
      "metadata": {
        "id": "zhboO4Aoa-3Q",
        "colab_type": "code",
        "colab": {
          "base_uri": "https://localhost:8080/",
          "height": 225
        },
<<<<<<< HEAD
        "outputId": "297c9a4a-0e95-4f56-c211-42e1488fe196"
=======
        "outputId": "beb5eb4d-2681-40ed-831c-109fd62c5b38"
>>>>>>> aa312e54162503d558ce67a1e6f38bac0e0ba1ce
      },
      "source": [
        "data.groupby('intubado').agg({'edad': ['min', q25, 'median', q75, 'max']})"
      ],
<<<<<<< HEAD
      "execution_count": 118,
=======
      "execution_count": 59,
>>>>>>> aa312e54162503d558ce67a1e6f38bac0e0ba1ce
      "outputs": [
        {
          "output_type": "execute_result",
          "data": {
            "text/html": [
              "<div>\n",
              "<style scoped>\n",
              "    .dataframe tbody tr th:only-of-type {\n",
              "        vertical-align: middle;\n",
              "    }\n",
              "\n",
              "    .dataframe tbody tr th {\n",
              "        vertical-align: top;\n",
              "    }\n",
              "\n",
              "    .dataframe thead tr th {\n",
              "        text-align: left;\n",
              "    }\n",
              "\n",
              "    .dataframe thead tr:last-of-type th {\n",
              "        text-align: right;\n",
              "    }\n",
              "</style>\n",
              "<table border=\"1\" class=\"dataframe\">\n",
              "  <thead>\n",
              "    <tr>\n",
              "      <th></th>\n",
              "      <th colspan=\"5\" halign=\"left\">edad</th>\n",
              "    </tr>\n",
              "    <tr>\n",
              "      <th></th>\n",
              "      <th>min</th>\n",
              "      <th>q25</th>\n",
              "      <th>median</th>\n",
              "      <th>q75</th>\n",
              "      <th>max</th>\n",
              "    </tr>\n",
              "    <tr>\n",
              "      <th>intubado</th>\n",
              "      <th></th>\n",
              "      <th></th>\n",
              "      <th></th>\n",
              "      <th></th>\n",
              "      <th></th>\n",
              "    </tr>\n",
              "  </thead>\n",
              "  <tbody>\n",
              "    <tr>\n",
              "      <th>NO</th>\n",
              "      <td>0</td>\n",
              "      <td>42.0</td>\n",
              "      <td>55</td>\n",
              "      <td>67.0</td>\n",
              "      <td>120</td>\n",
              "    </tr>\n",
              "    <tr>\n",
              "      <th>NO APLICA</th>\n",
              "      <td>0</td>\n",
              "      <td>29.0</td>\n",
              "      <td>38</td>\n",
              "      <td>49.0</td>\n",
              "      <td>120</td>\n",
              "    </tr>\n",
              "    <tr>\n",
              "      <th>NO ESPECIFICADO</th>\n",
              "      <td>0</td>\n",
              "      <td>41.5</td>\n",
              "      <td>54</td>\n",
<<<<<<< HEAD
              "      <td>65</td>\n",
=======
              "      <td>65.5</td>\n",
>>>>>>> aa312e54162503d558ce67a1e6f38bac0e0ba1ce
              "      <td>92</td>\n",
              "    </tr>\n",
              "    <tr>\n",
              "      <th>SI</th>\n",
              "      <td>0</td>\n",
              "      <td>47.0</td>\n",
              "      <td>58</td>\n",
              "      <td>68.0</td>\n",
              "      <td>108</td>\n",
              "    </tr>\n",
              "  </tbody>\n",
              "</table>\n",
              "</div>"
            ],
            "text/plain": [
<<<<<<< HEAD
              "                edad                    \n",
              "                 min q25 median q75  max\n",
              "intubado                                \n",
              "NO                 0  42     55  67  120\n",
              "NO APLICA          0  29     38  49  120\n",
              "NO ESPECIFICADO    0  42     54  65   92\n",
              "SI                 0  47     58  68  108"
=======
              "                edad                        \n",
              "                 min   q25 median   q75  max\n",
              "intubado                                    \n",
              "NO                 0  42.0     55  67.0  120\n",
              "NO APLICA          0  29.0     38  49.0  120\n",
              "NO ESPECIFICADO    0  41.5     54  65.5   92\n",
              "SI                 0  47.0     58  68.0  108"
>>>>>>> aa312e54162503d558ce67a1e6f38bac0e0ba1ce
            ]
          },
          "metadata": {
            "tags": []
          },
<<<<<<< HEAD
          "execution_count": 118
=======
          "execution_count": 59
>>>>>>> aa312e54162503d558ce67a1e6f38bac0e0ba1ce
        }
      ]
    },
    {
      "cell_type": "code",
      "metadata": {
        "id": "Io-VgRntNy4z",
        "colab_type": "code",
        "colab": {
          "base_uri": "https://localhost:8080/",
          "height": 130
        },
<<<<<<< HEAD
        "outputId": "087b52c7-9466-4ac3-f554-ef70ca7f8825"
=======
        "outputId": "f8a5a96a-5be0-480e-8e36-f177ec4bd646"
>>>>>>> aa312e54162503d558ce67a1e6f38bac0e0ba1ce
      },
      "source": [
        "# ¿Cuál es la edad máxima y cuál es la mínima de los pacientes fallecidos?\n",
        "edad_def_max = data[data.defuncion].edad.max()\n",
        "data[data.defuncion & (data.edad == edad_def_max)]"
      ],
<<<<<<< HEAD
      "execution_count": 119,
=======
      "execution_count": 60,
>>>>>>> aa312e54162503d558ce67a1e6f38bac0e0ba1ce
      "outputs": [
        {
          "output_type": "execute_result",
          "data": {
            "text/html": [
              "<div>\n",
              "<style scoped>\n",
              "    .dataframe tbody tr th:only-of-type {\n",
              "        vertical-align: middle;\n",
              "    }\n",
              "\n",
              "    .dataframe tbody tr th {\n",
              "        vertical-align: top;\n",
              "    }\n",
              "\n",
              "    .dataframe thead th {\n",
              "        text-align: right;\n",
              "    }\n",
              "</style>\n",
              "<table border=\"1\" class=\"dataframe\">\n",
              "  <thead>\n",
              "    <tr style=\"text-align: right;\">\n",
              "      <th></th>\n",
              "      <th>fecha_actualizacion</th>\n",
              "      <th>id_registro</th>\n",
              "      <th>fecha_ingreso</th>\n",
              "      <th>fecha_sintomas</th>\n",
              "      <th>fecha_def</th>\n",
              "      <th>edad</th>\n",
              "      <th>pais_nacionalidad</th>\n",
              "      <th>pais_origen</th>\n",
              "      <th>entidad_res</th>\n",
              "      <th>municipio_res</th>\n",
              "      <th>entidad_um</th>\n",
              "      <th>entidad_nac</th>\n",
              "      <th>intubado</th>\n",
              "      <th>neumonia</th>\n",
              "      <th>embarazo</th>\n",
              "      <th>habla_lengua_indig</th>\n",
              "      <th>diabetes</th>\n",
              "      <th>epoc</th>\n",
              "      <th>asma</th>\n",
              "      <th>inmusupr</th>\n",
              "      <th>hipertension</th>\n",
              "      <th>otra_com</th>\n",
              "      <th>cardiovascular</th>\n",
              "      <th>obesidad</th>\n",
              "      <th>renal_cronica</th>\n",
              "      <th>tabaquismo</th>\n",
              "      <th>otro_caso</th>\n",
              "      <th>migrante</th>\n",
              "      <th>uci</th>\n",
              "      <th>origen</th>\n",
              "      <th>sector</th>\n",
              "      <th>sexo</th>\n",
              "      <th>tipo_paciente</th>\n",
              "      <th>nacionalidad</th>\n",
              "      <th>resultado</th>\n",
              "      <th>defuncion</th>\n",
              "      <th>mes_def</th>\n",
              "      <th>año_def</th>\n",
              "      <th>mes_ingreso</th>\n",
              "      <th>año_ingreso</th>\n",
              "    </tr>\n",
              "  </thead>\n",
              "  <tbody>\n",
              "    <tr>\n",
<<<<<<< HEAD
              "      <th>553359</th>\n",
              "      <td>2020-09-01</td>\n",
=======
              "      <th>551494</th>\n",
              "      <td>2020-09-03</td>\n",
>>>>>>> aa312e54162503d558ce67a1e6f38bac0e0ba1ce
              "      <td>1b7b20</td>\n",
              "      <td>2020-05-21</td>\n",
              "      <td>2020-05-20</td>\n",
              "      <td>2020-05-26</td>\n",
              "      <td>109</td>\n",
              "      <td>MÃ©xico</td>\n",
              "      <td>99</td>\n",
              "      <td>MICHOACÁN DE OCAMPO</td>\n",
              "      <td>APATZINGÁN</td>\n",
              "      <td>MICHOACÁN DE OCAMPO</td>\n",
              "      <td>MICHOACÁN DE OCAMPO</td>\n",
              "      <td>NO</td>\n",
              "      <td>SI</td>\n",
              "      <td>NO APLICA</td>\n",
              "      <td>NO</td>\n",
              "      <td>NO</td>\n",
              "      <td>NO</td>\n",
              "      <td>NO</td>\n",
              "      <td>SI</td>\n",
              "      <td>NO</td>\n",
              "      <td>NO</td>\n",
              "      <td>NO</td>\n",
              "      <td>NO</td>\n",
              "      <td>SI</td>\n",
              "      <td>NO</td>\n",
              "      <td>NO</td>\n",
              "      <td>NO ESPECIFICADO</td>\n",
              "      <td>NO</td>\n",
              "      <td>FUERA DE USMER</td>\n",
              "      <td>ISSSTE</td>\n",
              "      <td>HOMBRE</td>\n",
              "      <td>HOSPITALIZADO</td>\n",
              "      <td>MEXICANA</td>\n",
              "      <td>No positivo SARS-CoV-2</td>\n",
              "      <td>True</td>\n",
              "      <td>5.0</td>\n",
              "      <td>2020.0</td>\n",
              "      <td>5</td>\n",
              "      <td>2020</td>\n",
              "    </tr>\n",
              "  </tbody>\n",
              "</table>\n",
              "</div>"
            ],
            "text/plain": [
              "       fecha_actualizacion id_registro  ... mes_ingreso año_ingreso\n",
<<<<<<< HEAD
              "553359          2020-09-01      1b7b20  ...           5        2020\n",
=======
              "551494          2020-09-03      1b7b20  ...           5        2020\n",
>>>>>>> aa312e54162503d558ce67a1e6f38bac0e0ba1ce
              "\n",
              "[1 rows x 40 columns]"
            ]
          },
          "metadata": {
            "tags": []
          },
<<<<<<< HEAD
          "execution_count": 119
=======
          "execution_count": 60
>>>>>>> aa312e54162503d558ce67a1e6f38bac0e0ba1ce
        }
      ]
    },
    {
      "cell_type": "code",
      "metadata": {
        "id": "SK5dDYkeblJm",
        "colab_type": "code",
        "colab": {
          "base_uri": "https://localhost:8080/",
<<<<<<< HEAD
          "height": 741
        },
        "outputId": "ea9099f1-46aa-4293-f149-ea2ae205f1a2"
=======
          "height": 721
        },
        "outputId": "2055e6f7-f4f4-4d71-fba0-90970916d0f6"
>>>>>>> aa312e54162503d558ce67a1e6f38bac0e0ba1ce
      },
      "source": [
        "edad_def_min = data[data.defuncion].edad.min()\n",
        "data[data.defuncion & (data.edad == edad_def_min)]"
      ],
<<<<<<< HEAD
      "execution_count": 120,
=======
      "execution_count": 61,
>>>>>>> aa312e54162503d558ce67a1e6f38bac0e0ba1ce
      "outputs": [
        {
          "output_type": "execute_result",
          "data": {
            "text/html": [
              "<div>\n",
              "<style scoped>\n",
              "    .dataframe tbody tr th:only-of-type {\n",
              "        vertical-align: middle;\n",
              "    }\n",
              "\n",
              "    .dataframe tbody tr th {\n",
              "        vertical-align: top;\n",
              "    }\n",
              "\n",
              "    .dataframe thead th {\n",
              "        text-align: right;\n",
              "    }\n",
              "</style>\n",
              "<table border=\"1\" class=\"dataframe\">\n",
              "  <thead>\n",
              "    <tr style=\"text-align: right;\">\n",
              "      <th></th>\n",
              "      <th>fecha_actualizacion</th>\n",
              "      <th>id_registro</th>\n",
              "      <th>fecha_ingreso</th>\n",
              "      <th>fecha_sintomas</th>\n",
              "      <th>fecha_def</th>\n",
              "      <th>edad</th>\n",
              "      <th>pais_nacionalidad</th>\n",
              "      <th>pais_origen</th>\n",
              "      <th>entidad_res</th>\n",
              "      <th>municipio_res</th>\n",
              "      <th>entidad_um</th>\n",
              "      <th>entidad_nac</th>\n",
              "      <th>intubado</th>\n",
              "      <th>neumonia</th>\n",
              "      <th>embarazo</th>\n",
              "      <th>habla_lengua_indig</th>\n",
              "      <th>diabetes</th>\n",
              "      <th>epoc</th>\n",
              "      <th>asma</th>\n",
              "      <th>inmusupr</th>\n",
              "      <th>hipertension</th>\n",
              "      <th>otra_com</th>\n",
              "      <th>cardiovascular</th>\n",
              "      <th>obesidad</th>\n",
              "      <th>renal_cronica</th>\n",
              "      <th>tabaquismo</th>\n",
              "      <th>otro_caso</th>\n",
              "      <th>migrante</th>\n",
              "      <th>uci</th>\n",
              "      <th>origen</th>\n",
              "      <th>sector</th>\n",
              "      <th>sexo</th>\n",
              "      <th>tipo_paciente</th>\n",
              "      <th>nacionalidad</th>\n",
              "      <th>resultado</th>\n",
              "      <th>defuncion</th>\n",
              "      <th>mes_def</th>\n",
              "      <th>año_def</th>\n",
              "      <th>mes_ingreso</th>\n",
              "      <th>año_ingreso</th>\n",
              "    </tr>\n",
              "  </thead>\n",
              "  <tbody>\n",
              "    <tr>\n",
<<<<<<< HEAD
              "      <th>13916</th>\n",
              "      <td>2020-09-01</td>\n",
              "      <td>02f8e2</td>\n",
              "      <td>2020-05-08</td>\n",
              "      <td>2020-05-01</td>\n",
              "      <td>2020-05-10</td>\n",
=======
              "      <th>8162</th>\n",
              "      <td>2020-09-03</td>\n",
              "      <td>15f637</td>\n",
              "      <td>2020-06-25</td>\n",
              "      <td>2020-06-20</td>\n",
              "      <td>2020-07-01</td>\n",
              "      <td>0</td>\n",
              "      <td>MÃ©xico</td>\n",
              "      <td>99</td>\n",
              "      <td>GUANAJUATO</td>\n",
              "      <td>LEÓN</td>\n",
              "      <td>GUANAJUATO</td>\n",
              "      <td>GUANAJUATO</td>\n",
              "      <td>NO</td>\n",
              "      <td>NO</td>\n",
              "      <td>NO APLICA</td>\n",
              "      <td>NO</td>\n",
              "      <td>NO</td>\n",
              "      <td>NO</td>\n",
              "      <td>NO</td>\n",
              "      <td>NO</td>\n",
              "      <td>SI</td>\n",
              "      <td>NO</td>\n",
              "      <td>NO</td>\n",
              "      <td>NO</td>\n",
              "      <td>NO</td>\n",
              "      <td>NO</td>\n",
              "      <td>NO</td>\n",
              "      <td>NO ESPECIFICADO</td>\n",
              "      <td>NO</td>\n",
              "      <td>FUERA DE USMER</td>\n",
              "      <td>SSA</td>\n",
              "      <td>HOMBRE</td>\n",
              "      <td>HOSPITALIZADO</td>\n",
              "      <td>MEXICANA</td>\n",
              "      <td>Positivo SARS-CoV-2</td>\n",
              "      <td>True</td>\n",
              "      <td>7.0</td>\n",
              "      <td>2020.0</td>\n",
              "      <td>6</td>\n",
              "      <td>2020</td>\n",
              "    </tr>\n",
              "    <tr>\n",
              "      <th>16059</th>\n",
              "      <td>2020-09-03</td>\n",
              "      <td>083c34</td>\n",
              "      <td>2020-05-25</td>\n",
              "      <td>2020-05-25</td>\n",
              "      <td>2020-06-01</td>\n",
>>>>>>> aa312e54162503d558ce67a1e6f38bac0e0ba1ce
              "      <td>0</td>\n",
              "      <td>MÃ©xico</td>\n",
              "      <td>99</td>\n",
              "      <td>MÉXICO</td>\n",
              "      <td>CHIMALHUACÁN</td>\n",
              "      <td>MÉXICO</td>\n",
              "      <td>MÉXICO</td>\n",
              "      <td>SI</td>\n",
              "      <td>SI</td>\n",
              "      <td>NO APLICA</td>\n",
              "      <td>NO</td>\n",
              "      <td>NO</td>\n",
              "      <td>NO</td>\n",
              "      <td>NO</td>\n",
              "      <td>NO</td>\n",
              "      <td>NO</td>\n",
              "      <td>NO</td>\n",
              "      <td>NO</td>\n",
              "      <td>NO</td>\n",
              "      <td>NO</td>\n",
              "      <td>NO</td>\n",
              "      <td>SI</td>\n",
              "      <td>NO ESPECIFICADO</td>\n",
              "      <td>SI</td>\n",
              "      <td>USMER</td>\n",
              "      <td>IMSS</td>\n",
              "      <td>HOMBRE</td>\n",
              "      <td>HOSPITALIZADO</td>\n",
              "      <td>MEXICANA</td>\n",
              "      <td>Positivo SARS-CoV-2</td>\n",
              "      <td>True</td>\n",
              "      <td>6.0</td>\n",
              "      <td>2020.0</td>\n",
              "      <td>5</td>\n",
              "      <td>2020</td>\n",
              "    </tr>\n",
              "    <tr>\n",
<<<<<<< HEAD
              "      <th>18866</th>\n",
              "      <td>2020-09-01</td>\n",
              "      <td>083c34</td>\n",
              "      <td>2020-05-25</td>\n",
              "      <td>2020-05-25</td>\n",
              "      <td>2020-06-01</td>\n",
=======
              "      <th>23799</th>\n",
              "      <td>2020-09-03</td>\n",
              "      <td>02f8e2</td>\n",
              "      <td>2020-05-08</td>\n",
              "      <td>2020-05-01</td>\n",
              "      <td>2020-05-10</td>\n",
>>>>>>> aa312e54162503d558ce67a1e6f38bac0e0ba1ce
              "      <td>0</td>\n",
              "      <td>MÃ©xico</td>\n",
              "      <td>99</td>\n",
              "      <td>BAJA CALIFORNIA</td>\n",
              "      <td>TIJUANA</td>\n",
              "      <td>BAJA CALIFORNIA</td>\n",
              "      <td>BAJA CALIFORNIA</td>\n",
              "      <td>SI</td>\n",
              "      <td>SI</td>\n",
              "      <td>NO APLICA</td>\n",
              "      <td>NO</td>\n",
              "      <td>NO</td>\n",
              "      <td>NO</td>\n",
              "      <td>NO</td>\n",
              "      <td>NO</td>\n",
              "      <td>NO</td>\n",
              "      <td>NO</td>\n",
              "      <td>NO</td>\n",
              "      <td>NO</td>\n",
              "      <td>NO</td>\n",
              "      <td>NO</td>\n",
              "      <td>NO</td>\n",
              "      <td>NO ESPECIFICADO</td>\n",
              "      <td>NO</td>\n",
              "      <td>USMER</td>\n",
              "      <td>SSA</td>\n",
              "      <td>HOMBRE</td>\n",
              "      <td>HOSPITALIZADO</td>\n",
              "      <td>MEXICANA</td>\n",
              "      <td>Positivo SARS-CoV-2</td>\n",
              "      <td>True</td>\n",
              "      <td>5.0</td>\n",
              "      <td>2020.0</td>\n",
              "      <td>5</td>\n",
              "      <td>2020</td>\n",
              "    </tr>\n",
              "    <tr>\n",
<<<<<<< HEAD
              "      <th>40469</th>\n",
              "      <td>2020-09-01</td>\n",
=======
              "      <th>46287</th>\n",
              "      <td>2020-09-03</td>\n",
>>>>>>> aa312e54162503d558ce67a1e6f38bac0e0ba1ce
              "      <td>1cc0ea</td>\n",
              "      <td>2020-04-24</td>\n",
              "      <td>2020-04-21</td>\n",
              "      <td>2020-04-29</td>\n",
              "      <td>0</td>\n",
              "      <td>MÃ©xico</td>\n",
              "      <td>99</td>\n",
              "      <td>MÉXICO</td>\n",
              "      <td>ECATEPEC DE MORELOS</td>\n",
              "      <td>MÉXICO</td>\n",
              "      <td>MÉXICO</td>\n",
              "      <td>NO</td>\n",
              "      <td>SI</td>\n",
              "      <td>NO</td>\n",
              "      <td>NO</td>\n",
              "      <td>SI</td>\n",
              "      <td>NO</td>\n",
              "      <td>NO</td>\n",
              "      <td>NO</td>\n",
              "      <td>SI</td>\n",
              "      <td>NO</td>\n",
              "      <td>NO</td>\n",
              "      <td>NO</td>\n",
              "      <td>NO</td>\n",
              "      <td>NO</td>\n",
              "      <td>NO ESPECIFICADO</td>\n",
              "      <td>NO ESPECIFICADO</td>\n",
              "      <td>NO</td>\n",
              "      <td>FUERA DE USMER</td>\n",
              "      <td>SSA</td>\n",
              "      <td>MUJER</td>\n",
              "      <td>HOSPITALIZADO</td>\n",
              "      <td>MEXICANA</td>\n",
              "      <td>Positivo SARS-CoV-2</td>\n",
              "      <td>True</td>\n",
              "      <td>4.0</td>\n",
              "      <td>2020.0</td>\n",
              "      <td>4</td>\n",
              "      <td>2020</td>\n",
              "    </tr>\n",
              "    <tr>\n",
<<<<<<< HEAD
              "      <th>41771</th>\n",
              "      <td>2020-09-01</td>\n",
              "      <td>1b82ee</td>\n",
              "      <td>2020-05-13</td>\n",
              "      <td>2020-05-13</td>\n",
              "      <td>2020-05-22</td>\n",
              "      <td>0</td>\n",
              "      <td>MÃ©xico</td>\n",
              "      <td>99</td>\n",
              "      <td>MÉXICO</td>\n",
              "      <td>ECATEPEC DE MORELOS</td>\n",
              "      <td>CIUDAD DE MÉXICO</td>\n",
              "      <td>MÉXICO</td>\n",
              "      <td>SI</td>\n",
=======
              "      <th>47645</th>\n",
              "      <td>2020-09-03</td>\n",
              "      <td>014b5d</td>\n",
              "      <td>2020-05-18</td>\n",
              "      <td>2020-05-17</td>\n",
              "      <td>2020-05-18</td>\n",
              "      <td>0</td>\n",
              "      <td>MÃ©xico</td>\n",
              "      <td>99</td>\n",
              "      <td>BAJA CALIFORNIA</td>\n",
              "      <td>TIJUANA</td>\n",
              "      <td>BAJA CALIFORNIA</td>\n",
              "      <td>BAJA CALIFORNIA</td>\n",
              "      <td>SI</td>\n",
              "      <td>SI</td>\n",
              "      <td>NO APLICA</td>\n",
>>>>>>> aa312e54162503d558ce67a1e6f38bac0e0ba1ce
              "      <td>NO</td>\n",
              "      <td>NO</td>\n",
              "      <td>NO</td>\n",
              "      <td>NO</td>\n",
              "      <td>NO</td>\n",
              "      <td>NO</td>\n",
              "      <td>NO</td>\n",
              "      <td>NO</td>\n",
              "      <td>NO</td>\n",
              "      <td>NO</td>\n",
              "      <td>NO</td>\n",
              "      <td>NO</td>\n",
<<<<<<< HEAD
              "      <td>NO</td>\n",
              "      <td>NO ESPECIFICADO</td>\n",
              "      <td>SI</td>\n",
              "      <td>FUERA DE USMER</td>\n",
              "      <td>IMSS</td>\n",
              "      <td>MUJER</td>\n",
=======
              "      <td>NO ESPECIFICADO</td>\n",
              "      <td>NO</td>\n",
              "      <td>FUERA DE USMER</td>\n",
              "      <td>ISSSTE</td>\n",
              "      <td>HOMBRE</td>\n",
>>>>>>> aa312e54162503d558ce67a1e6f38bac0e0ba1ce
              "      <td>HOSPITALIZADO</td>\n",
              "      <td>MEXICANA</td>\n",
              "      <td>Positivo SARS-CoV-2</td>\n",
              "      <td>True</td>\n",
              "      <td>5.0</td>\n",
              "      <td>2020.0</td>\n",
              "      <td>5</td>\n",
<<<<<<< HEAD
              "      <td>2020</td>\n",
              "    </tr>\n",
              "    <tr>\n",
              "      <th>42295</th>\n",
              "      <td>2020-09-01</td>\n",
              "      <td>014b5d</td>\n",
              "      <td>2020-05-18</td>\n",
              "      <td>2020-05-17</td>\n",
              "      <td>2020-05-18</td>\n",
              "      <td>0</td>\n",
              "      <td>MÃ©xico</td>\n",
              "      <td>99</td>\n",
              "      <td>BAJA CALIFORNIA</td>\n",
              "      <td>TIJUANA</td>\n",
              "      <td>BAJA CALIFORNIA</td>\n",
              "      <td>BAJA CALIFORNIA</td>\n",
              "      <td>SI</td>\n",
              "      <td>SI</td>\n",
              "      <td>NO APLICA</td>\n",
              "      <td>NO</td>\n",
              "      <td>NO</td>\n",
              "      <td>NO</td>\n",
              "      <td>NO</td>\n",
              "      <td>NO</td>\n",
              "      <td>NO</td>\n",
              "      <td>NO</td>\n",
              "      <td>NO</td>\n",
              "      <td>NO</td>\n",
              "      <td>NO</td>\n",
              "      <td>NO</td>\n",
              "      <td>NO</td>\n",
              "      <td>NO ESPECIFICADO</td>\n",
              "      <td>NO</td>\n",
              "      <td>FUERA DE USMER</td>\n",
              "      <td>ISSSTE</td>\n",
              "      <td>HOMBRE</td>\n",
              "      <td>HOSPITALIZADO</td>\n",
              "      <td>MEXICANA</td>\n",
              "      <td>Positivo SARS-CoV-2</td>\n",
              "      <td>True</td>\n",
              "      <td>5.0</td>\n",
              "      <td>2020.0</td>\n",
              "      <td>5</td>\n",
=======
>>>>>>> aa312e54162503d558ce67a1e6f38bac0e0ba1ce
              "      <td>2020</td>\n",
              "    </tr>\n",
              "    <tr>\n",
              "      <th>...</th>\n",
              "      <td>...</td>\n",
              "      <td>...</td>\n",
              "      <td>...</td>\n",
              "      <td>...</td>\n",
              "      <td>...</td>\n",
              "      <td>...</td>\n",
              "      <td>...</td>\n",
              "      <td>...</td>\n",
              "      <td>...</td>\n",
              "      <td>...</td>\n",
              "      <td>...</td>\n",
              "      <td>...</td>\n",
              "      <td>...</td>\n",
              "      <td>...</td>\n",
              "      <td>...</td>\n",
              "      <td>...</td>\n",
              "      <td>...</td>\n",
              "      <td>...</td>\n",
              "      <td>...</td>\n",
              "      <td>...</td>\n",
              "      <td>...</td>\n",
              "      <td>...</td>\n",
              "      <td>...</td>\n",
              "      <td>...</td>\n",
              "      <td>...</td>\n",
              "      <td>...</td>\n",
              "      <td>...</td>\n",
              "      <td>...</td>\n",
              "      <td>...</td>\n",
              "      <td>...</td>\n",
              "      <td>...</td>\n",
              "      <td>...</td>\n",
              "      <td>...</td>\n",
              "      <td>...</td>\n",
              "      <td>...</td>\n",
              "      <td>...</td>\n",
              "      <td>...</td>\n",
              "      <td>...</td>\n",
              "      <td>...</td>\n",
              "      <td>...</td>\n",
              "    </tr>\n",
              "    <tr>\n",
<<<<<<< HEAD
              "      <th>1287531</th>\n",
              "      <td>2020-09-01</td>\n",
              "      <td>093d8f</td>\n",
              "      <td>2020-07-07</td>\n",
              "      <td>2020-07-05</td>\n",
              "      <td>2020-07-10</td>\n",
              "      <td>0</td>\n",
              "      <td>MÃ©xico</td>\n",
              "      <td>99</td>\n",
              "      <td>PUEBLA</td>\n",
              "      <td>PUEBLA</td>\n",
              "      <td>PUEBLA</td>\n",
              "      <td>PUEBLA</td>\n",
              "      <td>NO</td>\n",
              "      <td>SI</td>\n",
              "      <td>NO APLICA</td>\n",
=======
              "      <th>1323007</th>\n",
              "      <td>2020-09-03</td>\n",
              "      <td>079171</td>\n",
              "      <td>2020-07-14</td>\n",
              "      <td>2020-07-14</td>\n",
              "      <td>2020-07-18</td>\n",
              "      <td>0</td>\n",
              "      <td>MÃ©xico</td>\n",
              "      <td>99</td>\n",
              "      <td>CHIAPAS</td>\n",
              "      <td>ESCUINTLA</td>\n",
              "      <td>CHIAPAS</td>\n",
              "      <td>CHIAPAS</td>\n",
              "      <td>SI</td>\n",
              "      <td>SI</td>\n",
              "      <td>NO</td>\n",
>>>>>>> aa312e54162503d558ce67a1e6f38bac0e0ba1ce
              "      <td>NO</td>\n",
              "      <td>NO</td>\n",
              "      <td>NO</td>\n",
              "      <td>NO</td>\n",
              "      <td>NO</td>\n",
              "      <td>NO</td>\n",
<<<<<<< HEAD
              "      <td>NO</td>\n",
=======
>>>>>>> aa312e54162503d558ce67a1e6f38bac0e0ba1ce
              "      <td>NO</td>\n",
              "      <td>NO</td>\n",
              "      <td>NO</td>\n",
              "      <td>NO</td>\n",
              "      <td>NO</td>\n",
              "      <td>SI</td>\n",
              "      <td>NO ESPECIFICADO</td>\n",
              "      <td>NO</td>\n",
              "      <td>USMER</td>\n",
              "      <td>SSA</td>\n",
<<<<<<< HEAD
              "      <td>HOMBRE</td>\n",
=======
              "      <td>MUJER</td>\n",
>>>>>>> aa312e54162503d558ce67a1e6f38bac0e0ba1ce
              "      <td>HOSPITALIZADO</td>\n",
              "      <td>MEXICANA</td>\n",
              "      <td>No positivo SARS-CoV-2</td>\n",
              "      <td>True</td>\n",
              "      <td>7.0</td>\n",
              "      <td>2020.0</td>\n",
              "      <td>7</td>\n",
              "      <td>2020</td>\n",
              "    </tr>\n",
              "    <tr>\n",
<<<<<<< HEAD
              "      <th>1289734</th>\n",
              "      <td>2020-09-01</td>\n",
              "      <td>128a4d</td>\n",
              "      <td>2020-07-25</td>\n",
              "      <td>2020-07-24</td>\n",
              "      <td>2020-08-05</td>\n",
              "      <td>0</td>\n",
              "      <td>MÃ©xico</td>\n",
              "      <td>99</td>\n",
              "      <td>TLAXCALA</td>\n",
              "      <td>CALPULALPAN</td>\n",
              "      <td>TLAXCALA</td>\n",
              "      <td>TLAXCALA</td>\n",
              "      <td>SI</td>\n",
              "      <td>SI</td>\n",
=======
              "      <th>1325181</th>\n",
              "      <td>2020-09-03</td>\n",
              "      <td>0860f4</td>\n",
              "      <td>2020-06-30</td>\n",
              "      <td>2020-06-30</td>\n",
              "      <td>2020-07-13</td>\n",
              "      <td>0</td>\n",
              "      <td>MÃ©xico</td>\n",
              "      <td>99</td>\n",
              "      <td>PUEBLA</td>\n",
              "      <td>TEHUACÁN</td>\n",
              "      <td>PUEBLA</td>\n",
              "      <td>PUEBLA</td>\n",
              "      <td>NO</td>\n",
              "      <td>NO</td>\n",
              "      <td>NO</td>\n",
>>>>>>> aa312e54162503d558ce67a1e6f38bac0e0ba1ce
              "      <td>NO</td>\n",
              "      <td>NO</td>\n",
              "      <td>NO</td>\n",
              "      <td>NO</td>\n",
              "      <td>NO</td>\n",
              "      <td>NO</td>\n",
              "      <td>NO</td>\n",
              "      <td>NO</td>\n",
              "      <td>NO</td>\n",
              "      <td>NO</td>\n",
              "      <td>SI</td>\n",
              "      <td>NO</td>\n",
              "      <td>NO</td>\n",
              "      <td>NO ESPECIFICADO</td>\n",
<<<<<<< HEAD
              "      <td>SI</td>\n",
              "      <td>USMER</td>\n",
              "      <td>SSA</td>\n",
              "      <td>MUJER</td>\n",
              "      <td>HOSPITALIZADO</td>\n",
              "      <td>MEXICANA</td>\n",
              "      <td>No positivo SARS-CoV-2</td>\n",
=======
              "      <td>NO ESPECIFICADO</td>\n",
              "      <td>NO</td>\n",
              "      <td>FUERA DE USMER</td>\n",
              "      <td>IMSS</td>\n",
              "      <td>MUJER</td>\n",
              "      <td>HOSPITALIZADO</td>\n",
              "      <td>MEXICANA</td>\n",
              "      <td>Resultado pendiente</td>\n",
>>>>>>> aa312e54162503d558ce67a1e6f38bac0e0ba1ce
              "      <td>True</td>\n",
              "      <td>8.0</td>\n",
              "      <td>2020.0</td>\n",
              "      <td>6</td>\n",
              "      <td>2020</td>\n",
              "    </tr>\n",
              "    <tr>\n",
<<<<<<< HEAD
              "      <th>1292236</th>\n",
              "      <td>2020-09-01</td>\n",
              "      <td>1d807b</td>\n",
              "      <td>2020-08-11</td>\n",
              "      <td>2020-08-10</td>\n",
              "      <td>2020-08-11</td>\n",
=======
              "      <th>1335704</th>\n",
              "      <td>2020-09-03</td>\n",
              "      <td>1e7d7f</td>\n",
              "      <td>2020-08-18</td>\n",
              "      <td>2020-08-15</td>\n",
              "      <td>2020-09-01</td>\n",
>>>>>>> aa312e54162503d558ce67a1e6f38bac0e0ba1ce
              "      <td>0</td>\n",
              "      <td>MÃ©xico</td>\n",
              "      <td>99</td>\n",
              "      <td>JALISCO</td>\n",
              "      <td>TONALÁ</td>\n",
              "      <td>JALISCO</td>\n",
              "      <td>JALISCO</td>\n",
              "      <td>NO</td>\n",
              "      <td>SI</td>\n",
              "      <td>NO APLICA</td>\n",
              "      <td>NO ESPECIFICADO</td>\n",
              "      <td>NO</td>\n",
              "      <td>NO</td>\n",
              "      <td>NO</td>\n",
              "      <td>NO</td>\n",
              "      <td>NO</td>\n",
              "      <td>SE IGNORA</td>\n",
              "      <td>NO</td>\n",
              "      <td>NO</td>\n",
              "      <td>NO</td>\n",
              "      <td>NO</td>\n",
              "      <td>NO</td>\n",
              "      <td>NO ESPECIFICADO</td>\n",
              "      <td>NO</td>\n",
              "      <td>USMER</td>\n",
              "      <td>SSA</td>\n",
              "      <td>HOMBRE</td>\n",
              "      <td>HOSPITALIZADO</td>\n",
              "      <td>MEXICANA</td>\n",
<<<<<<< HEAD
              "      <td>No positivo SARS-CoV-2</td>\n",
=======
              "      <td>Resultado pendiente</td>\n",
>>>>>>> aa312e54162503d558ce67a1e6f38bac0e0ba1ce
              "      <td>True</td>\n",
              "      <td>9.0</td>\n",
              "      <td>2020.0</td>\n",
              "      <td>8</td>\n",
              "      <td>2020</td>\n",
              "    </tr>\n",
              "    <tr>\n",
<<<<<<< HEAD
              "      <th>1298812</th>\n",
              "      <td>2020-09-01</td>\n",
              "      <td>0860f4</td>\n",
              "      <td>2020-06-30</td>\n",
              "      <td>2020-06-30</td>\n",
              "      <td>2020-07-13</td>\n",
=======
              "      <th>1356918</th>\n",
              "      <td>2020-09-03</td>\n",
              "      <td>00f39c</td>\n",
              "      <td>2020-07-06</td>\n",
              "      <td>2020-07-03</td>\n",
              "      <td>2020-07-08</td>\n",
>>>>>>> aa312e54162503d558ce67a1e6f38bac0e0ba1ce
              "      <td>0</td>\n",
              "      <td>MÃ©xico</td>\n",
              "      <td>99</td>\n",
              "      <td>JALISCO</td>\n",
              "      <td>ZAPOTILTIC</td>\n",
              "      <td>JALISCO</td>\n",
              "      <td>JALISCO</td>\n",
              "      <td>NO</td>\n",
              "      <td>SI</td>\n",
              "      <td>NO APLICA</td>\n",
              "      <td>NO</td>\n",
              "      <td>NO</td>\n",
              "      <td>NO</td>\n",
              "      <td>NO</td>\n",
              "      <td>NO</td>\n",
              "      <td>NO</td>\n",
              "      <td>NO</td>\n",
              "      <td>NO</td>\n",
              "      <td>NO</td>\n",
              "      <td>NO</td>\n",
              "      <td>NO</td>\n",
              "      <td>NO</td>\n",
              "      <td>NO ESPECIFICADO</td>\n",
              "      <td>SI</td>\n",
              "      <td>USMER</td>\n",
              "      <td>SSA</td>\n",
              "      <td>HOMBRE</td>\n",
              "      <td>HOSPITALIZADO</td>\n",
              "      <td>MEXICANA</td>\n",
              "      <td>Resultado pendiente</td>\n",
              "      <td>True</td>\n",
              "      <td>7.0</td>\n",
              "      <td>2020.0</td>\n",
              "      <td>7</td>\n",
              "      <td>2020</td>\n",
              "    </tr>\n",
              "    <tr>\n",
<<<<<<< HEAD
              "      <th>1332531</th>\n",
              "      <td>2020-09-01</td>\n",
              "      <td>00f39c</td>\n",
              "      <td>2020-07-06</td>\n",
              "      <td>2020-07-03</td>\n",
              "      <td>2020-07-08</td>\n",
=======
              "      <th>1374703</th>\n",
              "      <td>2020-09-03</td>\n",
              "      <td>07cf0b</td>\n",
              "      <td>2020-08-26</td>\n",
              "      <td>2020-08-25</td>\n",
              "      <td>2020-08-27</td>\n",
>>>>>>> aa312e54162503d558ce67a1e6f38bac0e0ba1ce
              "      <td>0</td>\n",
              "      <td>MÃ©xico</td>\n",
              "      <td>99</td>\n",
              "      <td>CHIHUAHUA</td>\n",
              "      <td>JUÁREZ</td>\n",
              "      <td>CHIHUAHUA</td>\n",
              "      <td>COAHUILA DE ZARAGOZA</td>\n",
              "      <td>NO</td>\n",
              "      <td>SI</td>\n",
              "      <td>NO</td>\n",
              "      <td>NO</td>\n",
              "      <td>NO</td>\n",
              "      <td>NO</td>\n",
              "      <td>NO</td>\n",
              "      <td>NO</td>\n",
              "      <td>NO</td>\n",
              "      <td>SE IGNORA</td>\n",
              "      <td>NO</td>\n",
              "      <td>NO</td>\n",
              "      <td>NO</td>\n",
              "      <td>NO</td>\n",
              "      <td>NO ESPECIFICADO</td>\n",
              "      <td>NO ESPECIFICADO</td>\n",
              "      <td>NO</td>\n",
              "      <td>USMER</td>\n",
              "      <td>SSA</td>\n",
              "      <td>MUJER</td>\n",
              "      <td>HOSPITALIZADO</td>\n",
              "      <td>MEXICANA</td>\n",
              "      <td>Resultado pendiente</td>\n",
              "      <td>True</td>\n",
              "      <td>8.0</td>\n",
              "      <td>2020.0</td>\n",
              "      <td>8</td>\n",
              "      <td>2020</td>\n",
              "    </tr>\n",
              "  </tbody>\n",
              "</table>\n",
<<<<<<< HEAD
              "<p>231 rows × 40 columns</p>\n",
=======
              "<p>236 rows × 40 columns</p>\n",
>>>>>>> aa312e54162503d558ce67a1e6f38bac0e0ba1ce
              "</div>"
            ],
            "text/plain": [
              "        fecha_actualizacion id_registro  ... mes_ingreso año_ingreso\n",
<<<<<<< HEAD
              "13916            2020-09-01      02f8e2  ...           5        2020\n",
              "18866            2020-09-01      083c34  ...           5        2020\n",
              "40469            2020-09-01      1cc0ea  ...           4        2020\n",
              "41771            2020-09-01      1b82ee  ...           5        2020\n",
              "42295            2020-09-01      014b5d  ...           5        2020\n",
              "...                     ...         ...  ...         ...         ...\n",
              "1287531          2020-09-01      093d8f  ...           7        2020\n",
              "1289734          2020-09-01      128a4d  ...           7        2020\n",
              "1292236          2020-09-01      1d807b  ...           8        2020\n",
              "1298812          2020-09-01      0860f4  ...           6        2020\n",
              "1332531          2020-09-01      00f39c  ...           7        2020\n",
              "\n",
              "[231 rows x 40 columns]"
=======
              "8162             2020-09-03      15f637  ...           6        2020\n",
              "16059            2020-09-03      083c34  ...           5        2020\n",
              "23799            2020-09-03      02f8e2  ...           5        2020\n",
              "46287            2020-09-03      1cc0ea  ...           4        2020\n",
              "47645            2020-09-03      014b5d  ...           5        2020\n",
              "...                     ...         ...  ...         ...         ...\n",
              "1323007          2020-09-03      079171  ...           7        2020\n",
              "1325181          2020-09-03      0860f4  ...           6        2020\n",
              "1335704          2020-09-03      1e7d7f  ...           8        2020\n",
              "1356918          2020-09-03      00f39c  ...           7        2020\n",
              "1374703          2020-09-03      07cf0b  ...           8        2020\n",
              "\n",
              "[236 rows x 40 columns]"
>>>>>>> aa312e54162503d558ce67a1e6f38bac0e0ba1ce
            ]
          },
          "metadata": {
            "tags": []
          },
<<<<<<< HEAD
          "execution_count": 120
=======
          "execution_count": 61
>>>>>>> aa312e54162503d558ce67a1e6f38bac0e0ba1ce
        }
      ]
    },
    {
      "cell_type": "code",
      "metadata": {
        "id": "dQJwSqHMPCrK",
        "colab_type": "code",
        "colab": {
          "base_uri": "https://localhost:8080/",
          "height": 136
        },
<<<<<<< HEAD
        "outputId": "3c82c15f-14f5-4141-afd4-cd5b21221a52"
=======
        "outputId": "55a79386-da89-4fd6-f841-698da2aa8dd0"
>>>>>>> aa312e54162503d558ce67a1e6f38bac0e0ba1ce
      },
      "source": [
        "# ¿Cuál es la edad de los pacientes que fallecen?\n",
        "data.groupby('defuncion').edad.describe()"
      ],
<<<<<<< HEAD
      "execution_count": 121,
=======
      "execution_count": 62,
>>>>>>> aa312e54162503d558ce67a1e6f38bac0e0ba1ce
      "outputs": [
        {
          "output_type": "execute_result",
          "data": {
            "text/html": [
              "<div>\n",
              "<style scoped>\n",
              "    .dataframe tbody tr th:only-of-type {\n",
              "        vertical-align: middle;\n",
              "    }\n",
              "\n",
              "    .dataframe tbody tr th {\n",
              "        vertical-align: top;\n",
              "    }\n",
              "\n",
              "    .dataframe thead th {\n",
              "        text-align: right;\n",
              "    }\n",
              "</style>\n",
              "<table border=\"1\" class=\"dataframe\">\n",
              "  <thead>\n",
              "    <tr style=\"text-align: right;\">\n",
              "      <th></th>\n",
              "      <th>count</th>\n",
              "      <th>mean</th>\n",
              "      <th>std</th>\n",
              "      <th>min</th>\n",
              "      <th>25%</th>\n",
              "      <th>50%</th>\n",
              "      <th>75%</th>\n",
              "      <th>max</th>\n",
              "    </tr>\n",
              "    <tr>\n",
              "      <th>defuncion</th>\n",
              "      <th></th>\n",
              "      <th></th>\n",
              "      <th></th>\n",
              "      <th></th>\n",
              "      <th></th>\n",
              "      <th></th>\n",
              "      <th></th>\n",
              "      <th></th>\n",
              "    </tr>\n",
              "  </thead>\n",
              "  <tbody>\n",
              "    <tr>\n",
              "      <th>False</th>\n",
<<<<<<< HEAD
              "      <td>1276921.0</td>\n",
              "      <td>41.028730</td>\n",
              "      <td>16.071713</td>\n",
=======
              "      <td>1308356.0</td>\n",
              "      <td>41.001587</td>\n",
              "      <td>16.077933</td>\n",
>>>>>>> aa312e54162503d558ce67a1e6f38bac0e0ba1ce
              "      <td>0.0</td>\n",
              "      <td>30.0</td>\n",
              "      <td>40.0</td>\n",
              "      <td>51.0</td>\n",
              "      <td>120.0</td>\n",
              "    </tr>\n",
              "    <tr>\n",
              "      <th>True</th>\n",
<<<<<<< HEAD
              "      <td>83202.0</td>\n",
              "      <td>61.794344</td>\n",
              "      <td>15.203356</td>\n",
=======
              "      <td>84677.0</td>\n",
              "      <td>61.816172</td>\n",
              "      <td>15.204152</td>\n",
>>>>>>> aa312e54162503d558ce67a1e6f38bac0e0ba1ce
              "      <td>0.0</td>\n",
              "      <td>53.0</td>\n",
              "      <td>63.0</td>\n",
              "      <td>72.0</td>\n",
              "      <td>109.0</td>\n",
              "    </tr>\n",
              "  </tbody>\n",
              "</table>\n",
              "</div>"
            ],
            "text/plain": [
              "               count       mean        std  min   25%   50%   75%    max\n",
              "defuncion                                                               \n",
<<<<<<< HEAD
              "False      1276921.0  41.028730  16.071713  0.0  30.0  40.0  51.0  120.0\n",
              "True         83202.0  61.794344  15.203356  0.0  53.0  63.0  72.0  109.0"
=======
              "False      1308356.0  41.001587  16.077933  0.0  30.0  40.0  51.0  120.0\n",
              "True         84677.0  61.816172  15.204152  0.0  53.0  63.0  72.0  109.0"
>>>>>>> aa312e54162503d558ce67a1e6f38bac0e0ba1ce
            ]
          },
          "metadata": {
            "tags": []
          },
<<<<<<< HEAD
          "execution_count": 121
=======
          "execution_count": 62
>>>>>>> aa312e54162503d558ce67a1e6f38bac0e0ba1ce
        }
      ]
    },
    {
      "cell_type": "code",
      "metadata": {
        "id": "lSHPT5Q6ORiB",
        "colab_type": "code",
        "colab": {
          "base_uri": "https://localhost:8080/",
<<<<<<< HEAD
          "height": 185
        },
        "outputId": "7bfe14db-5d33-479b-c50f-c0fde0de14cb"
=======
          "height": 190
        },
        "outputId": "db77a3f5-1eb8-4150-a5ff-a4e25446e705"
>>>>>>> aa312e54162503d558ce67a1e6f38bac0e0ba1ce
      },
      "source": [
        "# ¿Cuántas defunciones tenemos por mes?\n",
        "data[data.defuncion].mes_def.value_counts().sort_index()"
      ],
<<<<<<< HEAD
      "execution_count": 122,
=======
      "execution_count": 63,
>>>>>>> aa312e54162503d558ce67a1e6f38bac0e0ba1ce
      "outputs": [
        {
          "output_type": "execute_result",
          "data": {
            "text/plain": [
              "1.0        6\n",
              "2.0       12\n",
              "3.0      232\n",
<<<<<<< HEAD
              "4.0     5262\n",
              "5.0    16007\n",
              "6.0    21298\n",
              "7.0    23386\n",
              "8.0    16996\n",
              "9.0        3\n",
=======
              "4.0     5277\n",
              "5.0    16018\n",
              "6.0    21318\n",
              "7.0    23471\n",
              "8.0    17859\n",
              "9.0      484\n",
>>>>>>> aa312e54162503d558ce67a1e6f38bac0e0ba1ce
              "Name: mes_def, dtype: int64"
            ]
          },
          "metadata": {
            "tags": []
          },
<<<<<<< HEAD
          "execution_count": 122
=======
          "execution_count": 63
>>>>>>> aa312e54162503d558ce67a1e6f38bac0e0ba1ce
        }
      ]
    },
    {
      "cell_type": "code",
      "metadata": {
        "id": "Qxd5k4CXOsSA",
        "colab_type": "code",
        "colab": {
          "base_uri": "https://localhost:8080/",
          "height": 151
        },
<<<<<<< HEAD
        "outputId": "176c79e3-ecd1-40f0-d8a1-a16f694322f4"
=======
        "outputId": "3f925e38-3936-4994-fbb7-6f251f5174a2"
>>>>>>> aa312e54162503d558ce67a1e6f38bac0e0ba1ce
      },
      "source": [
        "# ¿Cuál es la proporción de diábeticos para las defunciones?\n",
        "data.groupby('diabetes').defuncion.value_counts(normalize=True)"
      ],
<<<<<<< HEAD
      "execution_count": 123,
=======
      "execution_count": 64,
>>>>>>> aa312e54162503d558ce67a1e6f38bac0e0ba1ce
      "outputs": [
        {
          "output_type": "execute_result",
          "data": {
            "text/plain": [
              "diabetes   defuncion\n",
<<<<<<< HEAD
              "NO         False        0.956977\n",
              "           True         0.043023\n",
              "SE IGNORA  False        0.873052\n",
              "           True         0.126948\n",
              "SI         False        0.811706\n",
              "           True         0.188294\n",
=======
              "NO         False        0.957313\n",
              "           True         0.042687\n",
              "SE IGNORA  False        0.873791\n",
              "           True         0.126209\n",
              "SI         False        0.812020\n",
              "           True         0.187980\n",
>>>>>>> aa312e54162503d558ce67a1e6f38bac0e0ba1ce
              "Name: defuncion, dtype: float64"
            ]
          },
          "metadata": {
            "tags": []
          },
<<<<<<< HEAD
          "execution_count": 123
=======
          "execution_count": 64
>>>>>>> aa312e54162503d558ce67a1e6f38bac0e0ba1ce
        }
      ]
    },
    {
      "cell_type": "code",
      "metadata": {
        "id": "mHYDq5qXOxES",
        "colab_type": "code",
        "colab": {
          "base_uri": "https://localhost:8080/",
          "height": 151
        },
<<<<<<< HEAD
        "outputId": "52b3ec97-9f11-4845-ddc7-2980369f2cac"
=======
        "outputId": "1530071d-cc26-4a50-8e1c-0e7a397695cb"
>>>>>>> aa312e54162503d558ce67a1e6f38bac0e0ba1ce
      },
      "source": [
        "# ¿Cuál es la proporción de asmáticos para las defunciones?\n",
        "data.groupby('asma').defuncion.value_counts(normalize=True)"
      ],
<<<<<<< HEAD
      "execution_count": 124,
=======
      "execution_count": 65,
>>>>>>> aa312e54162503d558ce67a1e6f38bac0e0ba1ce
      "outputs": [
        {
          "output_type": "execute_result",
          "data": {
            "text/plain": [
              "asma       defuncion\n",
<<<<<<< HEAD
              "NO         False        0.938479\n",
              "           True         0.061521\n",
              "SE IGNORA  False        0.864047\n",
              "           True         0.135953\n",
              "SI         False        0.956997\n",
              "           True         0.043003\n",
=======
              "NO         False        0.938871\n",
              "           True         0.061129\n",
              "SE IGNORA  False        0.865200\n",
              "           True         0.134800\n",
              "SI         False        0.957209\n",
              "           True         0.042791\n",
>>>>>>> aa312e54162503d558ce67a1e6f38bac0e0ba1ce
              "Name: defuncion, dtype: float64"
            ]
          },
          "metadata": {
            "tags": []
          },
<<<<<<< HEAD
          "execution_count": 124
=======
          "execution_count": 65
>>>>>>> aa312e54162503d558ce67a1e6f38bac0e0ba1ce
        }
      ]
    },
    {
      "cell_type": "markdown",
      "metadata": {
        "id": "ObiPdrg_x4KH",
        "colab_type": "text"
      },
      "source": [
        "# Tarea 3"
      ]
    },
    {
      "cell_type": "markdown",
      "metadata": {
        "id": "wb1ngeUj_QFR",
        "colab_type": "text"
      },
      "source": [
        "**¿Tienen los pacientes con hipertensión un riesgo más alto de defunción?**"
      ]
    },
    {
      "cell_type": "code",
      "metadata": {
        "id": "HDUeaYyk8UvC",
        "colab_type": "code",
        "colab": {
          "base_uri": "https://localhost:8080/",
          "height": 151
        },
        "outputId": "03b72c08-8e9d-41ae-8411-46542f3c0bdb"
      },
      "source": [
        "data.groupby('hipertension').defuncion.value_counts(normalize=True)"
      ],
      "execution_count": 236,
      "outputs": [
        {
          "output_type": "execute_result",
          "data": {
            "text/plain": [
              "hipertension  defuncion\n",
              "NO            False        0.959563\n",
              "              True         0.040437\n",
              "SE IGNORA     False        0.874212\n",
              "              True         0.125788\n",
              "SI            False        0.832883\n",
              "              True         0.167117\n",
              "Name: defuncion, dtype: float64"
            ]
          },
          "metadata": {
            "tags": []
          },
          "execution_count": 236
        }
      ]
    },
    {
      "cell_type": "markdown",
      "metadata": {
        "id": "YUKwEJoX9fel",
        "colab_type": "text"
      },
      "source": [
        "De acuerdo con los resultados, la proporción de personas con hipertensión que fallecieron a causa de COVID es de 0.1671, comparada con el 0.0404 de aquellos que no presentaban esta condición. Por ello, se puede concluir que los pacientes con hipertensión sí tienen un riesgo mayor.\n"
      ]
    },
    {
      "cell_type": "markdown",
      "metadata": {
        "id": "8Jb8rQAE-JEn",
        "colab_type": "text"
      },
      "source": [
        "**¿Cuántos casos confirmados se tienen por Estado?**"
      ]
    },
    {
      "cell_type": "code",
      "metadata": {
        "id": "WSfQVEWO_1s2",
        "colab_type": "code",
        "colab": {
          "base_uri": "https://localhost:8080/",
          "height": 994
        },
        "outputId": "1469f363-0d84-41f3-b444-aaaa3159e283"
      },
      "source": [
        "positivo_covid = data.query('resultado == \"Positivo SARS-CoV-2\"')\n",
        "positivo_covid.groupby(\"resultado\").entidad_res.value_counts().reset_index(name='confirmados').drop(columns=\"resultado\")"
      ],
      "execution_count": 234,
      "outputs": [
        {
          "output_type": "execute_result",
          "data": {
            "text/html": [
              "<div>\n",
              "<style scoped>\n",
              "    .dataframe tbody tr th:only-of-type {\n",
              "        vertical-align: middle;\n",
              "    }\n",
              "\n",
              "    .dataframe tbody tr th {\n",
              "        vertical-align: top;\n",
              "    }\n",
              "\n",
              "    .dataframe thead th {\n",
              "        text-align: right;\n",
              "    }\n",
              "</style>\n",
              "<table border=\"1\" class=\"dataframe\">\n",
              "  <thead>\n",
              "    <tr style=\"text-align: right;\">\n",
              "      <th></th>\n",
              "      <th>entidad_res</th>\n",
              "      <th>confirmados</th>\n",
              "    </tr>\n",
              "  </thead>\n",
              "  <tbody>\n",
              "    <tr>\n",
              "      <th>0</th>\n",
              "      <td>CIUDAD DE MÉXICO</td>\n",
              "      <td>99564</td>\n",
              "    </tr>\n",
              "    <tr>\n",
              "      <th>1</th>\n",
              "      <td>MÉXICO</td>\n",
              "      <td>68516</td>\n",
              "    </tr>\n",
              "    <tr>\n",
              "      <th>2</th>\n",
              "      <td>GUANAJUATO</td>\n",
              "      <td>31998</td>\n",
              "    </tr>\n",
              "    <tr>\n",
              "      <th>3</th>\n",
              "      <td>NUEVO LEÓN</td>\n",
              "      <td>29524</td>\n",
              "    </tr>\n",
              "    <tr>\n",
              "      <th>4</th>\n",
              "      <td>VERACRUZ DE IGNACIO DE LA LLAVE</td>\n",
              "      <td>28581</td>\n",
              "    </tr>\n",
              "    <tr>\n",
              "      <th>5</th>\n",
              "      <td>TABASCO</td>\n",
              "      <td>28471</td>\n",
              "    </tr>\n",
              "    <tr>\n",
              "      <th>6</th>\n",
              "      <td>PUEBLA</td>\n",
              "      <td>27070</td>\n",
              "    </tr>\n",
              "    <tr>\n",
              "      <th>7</th>\n",
              "      <td>TAMAULIPAS</td>\n",
              "      <td>24793</td>\n",
              "    </tr>\n",
              "    <tr>\n",
              "      <th>8</th>\n",
              "      <td>COAHUILA DE ZARAGOZA</td>\n",
              "      <td>21919</td>\n",
              "    </tr>\n",
              "    <tr>\n",
              "      <th>9</th>\n",
              "      <td>SONORA</td>\n",
              "      <td>21659</td>\n",
              "    </tr>\n",
              "    <tr>\n",
              "      <th>10</th>\n",
              "      <td>JALISCO</td>\n",
              "      <td>20595</td>\n",
              "    </tr>\n",
              "    <tr>\n",
              "      <th>11</th>\n",
              "      <td>SAN LUIS POTOSÍ</td>\n",
              "      <td>18284</td>\n",
              "    </tr>\n",
              "    <tr>\n",
              "      <th>12</th>\n",
              "      <td>BAJA CALIFORNIA</td>\n",
              "      <td>16987</td>\n",
              "    </tr>\n",
              "    <tr>\n",
              "      <th>13</th>\n",
              "      <td>SINALOA</td>\n",
              "      <td>16244</td>\n",
              "    </tr>\n",
              "    <tr>\n",
              "      <th>14</th>\n",
              "      <td>MICHOACÁN DE OCAMPO</td>\n",
              "      <td>15253</td>\n",
              "    </tr>\n",
              "    <tr>\n",
              "      <th>15</th>\n",
              "      <td>YUCATÁN</td>\n",
              "      <td>14923</td>\n",
              "    </tr>\n",
              "    <tr>\n",
              "      <th>16</th>\n",
              "      <td>GUERRERO</td>\n",
              "      <td>14893</td>\n",
              "    </tr>\n",
              "    <tr>\n",
              "      <th>17</th>\n",
              "      <td>OAXACA</td>\n",
              "      <td>13807</td>\n",
              "    </tr>\n",
              "    <tr>\n",
              "      <th>18</th>\n",
              "      <td>HIDALGO</td>\n",
              "      <td>10454</td>\n",
              "    </tr>\n",
              "    <tr>\n",
              "      <th>19</th>\n",
              "      <td>QUINTANA ROO</td>\n",
              "      <td>10364</td>\n",
              "    </tr>\n",
              "    <tr>\n",
              "      <th>20</th>\n",
              "      <td>CHIHUAHUA</td>\n",
              "      <td>7859</td>\n",
              "    </tr>\n",
              "    <tr>\n",
              "      <th>21</th>\n",
              "      <td>BAJA CALIFORNIA SUR</td>\n",
              "      <td>7777</td>\n",
              "    </tr>\n",
              "    <tr>\n",
              "      <th>22</th>\n",
              "      <td>DURANGO</td>\n",
              "      <td>6586</td>\n",
              "    </tr>\n",
              "    <tr>\n",
              "      <th>23</th>\n",
              "      <td>QUERÉTARO</td>\n",
              "      <td>6480</td>\n",
              "    </tr>\n",
              "    <tr>\n",
              "      <th>24</th>\n",
              "      <td>TLAXCALA</td>\n",
              "      <td>6479</td>\n",
              "    </tr>\n",
              "    <tr>\n",
              "      <th>25</th>\n",
              "      <td>CHIAPAS</td>\n",
              "      <td>6270</td>\n",
              "    </tr>\n",
              "    <tr>\n",
              "      <th>26</th>\n",
              "      <td>AGUASCALIENTES</td>\n",
              "      <td>5731</td>\n",
              "    </tr>\n",
              "    <tr>\n",
              "      <th>27</th>\n",
              "      <td>CAMPECHE</td>\n",
              "      <td>5592</td>\n",
              "    </tr>\n",
              "    <tr>\n",
              "      <th>28</th>\n",
              "      <td>ZACATECAS</td>\n",
              "      <td>5379</td>\n",
              "    </tr>\n",
              "    <tr>\n",
              "      <th>29</th>\n",
              "      <td>MORELOS</td>\n",
              "      <td>5234</td>\n",
              "    </tr>\n",
              "    <tr>\n",
              "      <th>30</th>\n",
              "      <td>NAYARIT</td>\n",
              "      <td>5037</td>\n",
              "    </tr>\n",
              "    <tr>\n",
              "      <th>31</th>\n",
              "      <td>COLIMA</td>\n",
              "      <td>3713</td>\n",
              "    </tr>\n",
              "  </tbody>\n",
              "</table>\n",
              "</div>"
            ],
            "text/plain": [
              "                        entidad_res  confirmados\n",
              "0                  CIUDAD DE MÉXICO        99564\n",
              "1                            MÉXICO        68516\n",
              "2                        GUANAJUATO        31998\n",
              "3                        NUEVO LEÓN        29524\n",
              "4   VERACRUZ DE IGNACIO DE LA LLAVE        28581\n",
              "5                           TABASCO        28471\n",
              "6                            PUEBLA        27070\n",
              "7                        TAMAULIPAS        24793\n",
              "8              COAHUILA DE ZARAGOZA        21919\n",
              "9                            SONORA        21659\n",
              "10                          JALISCO        20595\n",
              "11                  SAN LUIS POTOSÍ        18284\n",
              "12                  BAJA CALIFORNIA        16987\n",
              "13                          SINALOA        16244\n",
              "14              MICHOACÁN DE OCAMPO        15253\n",
              "15                          YUCATÁN        14923\n",
              "16                         GUERRERO        14893\n",
              "17                           OAXACA        13807\n",
              "18                          HIDALGO        10454\n",
              "19                     QUINTANA ROO        10364\n",
              "20                        CHIHUAHUA         7859\n",
              "21              BAJA CALIFORNIA SUR         7777\n",
              "22                          DURANGO         6586\n",
              "23                        QUERÉTARO         6480\n",
              "24                         TLAXCALA         6479\n",
              "25                          CHIAPAS         6270\n",
              "26                   AGUASCALIENTES         5731\n",
              "27                         CAMPECHE         5592\n",
              "28                        ZACATECAS         5379\n",
              "29                          MORELOS         5234\n",
              "30                          NAYARIT         5037\n",
              "31                           COLIMA         3713"
            ]
          },
          "metadata": {
            "tags": []
          },
          "execution_count": 234
        }
      ]
    },
    {
      "cell_type": "markdown",
      "metadata": {
        "id": "tUCgCamO_9qf",
        "colab_type": "text"
      },
      "source": [
        "**¿Cuántas defunciones se tienen por Estado?**"
      ]
    },
    {
      "cell_type": "code",
      "metadata": {
        "id": "UwRvKaiYCtwc",
        "colab_type": "code",
        "colab": {
          "base_uri": "https://localhost:8080/",
          "height": 994
        },
        "outputId": "e1d76da8-76ad-4618-fc4f-c64c0b96ad86"
      },
      "source": [
        "data.query('defuncion == True').groupby(\"defuncion\").entidad_res.value_counts().reset_index(name='defunciones').drop(columns=\"defuncion\")"
      ],
      "execution_count": 240,
      "outputs": [
        {
          "output_type": "execute_result",
          "data": {
            "text/html": [
              "<div>\n",
              "<style scoped>\n",
              "    .dataframe tbody tr th:only-of-type {\n",
              "        vertical-align: middle;\n",
              "    }\n",
              "\n",
              "    .dataframe tbody tr th {\n",
              "        vertical-align: top;\n",
              "    }\n",
              "\n",
              "    .dataframe thead th {\n",
              "        text-align: right;\n",
              "    }\n",
              "</style>\n",
              "<table border=\"1\" class=\"dataframe\">\n",
              "  <thead>\n",
              "    <tr style=\"text-align: right;\">\n",
              "      <th></th>\n",
              "      <th>entidad_res</th>\n",
              "      <th>defunciones</th>\n",
              "    </tr>\n",
              "  </thead>\n",
              "  <tbody>\n",
              "    <tr>\n",
              "      <th>0</th>\n",
              "      <td>MÉXICO</td>\n",
              "      <td>12780</td>\n",
              "    </tr>\n",
              "    <tr>\n",
              "      <th>1</th>\n",
              "      <td>CIUDAD DE MÉXICO</td>\n",
              "      <td>11394</td>\n",
              "    </tr>\n",
              "    <tr>\n",
              "      <th>2</th>\n",
              "      <td>VERACRUZ DE IGNACIO DE LA LLAVE</td>\n",
              "      <td>4553</td>\n",
              "    </tr>\n",
              "    <tr>\n",
              "      <th>3</th>\n",
              "      <td>PUEBLA</td>\n",
              "      <td>4342</td>\n",
              "    </tr>\n",
              "    <tr>\n",
              "      <th>4</th>\n",
              "      <td>BAJA CALIFORNIA</td>\n",
              "      <td>3896</td>\n",
              "    </tr>\n",
              "    <tr>\n",
              "      <th>5</th>\n",
              "      <td>SINALOA</td>\n",
              "      <td>3503</td>\n",
              "    </tr>\n",
              "    <tr>\n",
              "      <th>6</th>\n",
              "      <td>JALISCO</td>\n",
              "      <td>3498</td>\n",
              "    </tr>\n",
              "    <tr>\n",
              "      <th>7</th>\n",
              "      <td>SONORA</td>\n",
              "      <td>3113</td>\n",
              "    </tr>\n",
              "    <tr>\n",
              "      <th>8</th>\n",
              "      <td>NUEVO LEÓN</td>\n",
              "      <td>3088</td>\n",
              "    </tr>\n",
              "    <tr>\n",
              "      <th>9</th>\n",
              "      <td>TABASCO</td>\n",
              "      <td>2802</td>\n",
              "    </tr>\n",
              "    <tr>\n",
              "      <th>10</th>\n",
              "      <td>GUANAJUATO</td>\n",
              "      <td>2672</td>\n",
              "    </tr>\n",
              "    <tr>\n",
              "      <th>11</th>\n",
              "      <td>TAMAULIPAS</td>\n",
              "      <td>2625</td>\n",
              "    </tr>\n",
              "    <tr>\n",
              "      <th>12</th>\n",
              "      <td>GUERRERO</td>\n",
              "      <td>2184</td>\n",
              "    </tr>\n",
              "    <tr>\n",
              "      <th>13</th>\n",
              "      <td>COAHUILA DE ZARAGOZA</td>\n",
              "      <td>1904</td>\n",
              "    </tr>\n",
              "    <tr>\n",
              "      <th>14</th>\n",
              "      <td>HIDALGO</td>\n",
              "      <td>1894</td>\n",
              "    </tr>\n",
              "    <tr>\n",
              "      <th>15</th>\n",
              "      <td>CHIHUAHUA</td>\n",
              "      <td>1853</td>\n",
              "    </tr>\n",
              "    <tr>\n",
              "      <th>16</th>\n",
              "      <td>QUINTANA ROO</td>\n",
              "      <td>1788</td>\n",
              "    </tr>\n",
              "    <tr>\n",
              "      <th>17</th>\n",
              "      <td>MICHOACÁN DE OCAMPO</td>\n",
              "      <td>1679</td>\n",
              "    </tr>\n",
              "    <tr>\n",
              "      <th>18</th>\n",
              "      <td>YUCATÁN</td>\n",
              "      <td>1676</td>\n",
              "    </tr>\n",
              "    <tr>\n",
              "      <th>19</th>\n",
              "      <td>OAXACA</td>\n",
              "      <td>1530</td>\n",
              "    </tr>\n",
              "    <tr>\n",
              "      <th>20</th>\n",
              "      <td>SAN LUIS POTOSÍ</td>\n",
              "      <td>1502</td>\n",
              "    </tr>\n",
              "    <tr>\n",
              "      <th>21</th>\n",
              "      <td>TLAXCALA</td>\n",
              "      <td>1225</td>\n",
              "    </tr>\n",
              "    <tr>\n",
              "      <th>22</th>\n",
              "      <td>CHIAPAS</td>\n",
              "      <td>1207</td>\n",
              "    </tr>\n",
              "    <tr>\n",
              "      <th>23</th>\n",
              "      <td>MORELOS</td>\n",
              "      <td>1189</td>\n",
              "    </tr>\n",
              "    <tr>\n",
              "      <th>24</th>\n",
              "      <td>CAMPECHE</td>\n",
              "      <td>915</td>\n",
              "    </tr>\n",
              "    <tr>\n",
              "      <th>25</th>\n",
              "      <td>QUERÉTARO</td>\n",
              "      <td>877</td>\n",
              "    </tr>\n",
              "    <tr>\n",
              "      <th>26</th>\n",
              "      <td>NAYARIT</td>\n",
              "      <td>747</td>\n",
              "    </tr>\n",
              "    <tr>\n",
              "      <th>27</th>\n",
              "      <td>ZACATECAS</td>\n",
              "      <td>654</td>\n",
              "    </tr>\n",
              "    <tr>\n",
              "      <th>28</th>\n",
              "      <td>DURANGO</td>\n",
              "      <td>624</td>\n",
              "    </tr>\n",
              "    <tr>\n",
              "      <th>29</th>\n",
              "      <td>COLIMA</td>\n",
              "      <td>536</td>\n",
              "    </tr>\n",
              "    <tr>\n",
              "      <th>30</th>\n",
              "      <td>AGUASCALIENTES</td>\n",
              "      <td>483</td>\n",
              "    </tr>\n",
              "    <tr>\n",
              "      <th>31</th>\n",
              "      <td>BAJA CALIFORNIA SUR</td>\n",
              "      <td>469</td>\n",
              "    </tr>\n",
              "  </tbody>\n",
              "</table>\n",
              "</div>"
            ],
            "text/plain": [
              "                        entidad_res  defunciones\n",
              "0                            MÉXICO        12780\n",
              "1                  CIUDAD DE MÉXICO        11394\n",
              "2   VERACRUZ DE IGNACIO DE LA LLAVE         4553\n",
              "3                            PUEBLA         4342\n",
              "4                   BAJA CALIFORNIA         3896\n",
              "5                           SINALOA         3503\n",
              "6                           JALISCO         3498\n",
              "7                            SONORA         3113\n",
              "8                        NUEVO LEÓN         3088\n",
              "9                           TABASCO         2802\n",
              "10                       GUANAJUATO         2672\n",
              "11                       TAMAULIPAS         2625\n",
              "12                         GUERRERO         2184\n",
              "13             COAHUILA DE ZARAGOZA         1904\n",
              "14                          HIDALGO         1894\n",
              "15                        CHIHUAHUA         1853\n",
              "16                     QUINTANA ROO         1788\n",
              "17              MICHOACÁN DE OCAMPO         1679\n",
              "18                          YUCATÁN         1676\n",
              "19                           OAXACA         1530\n",
              "20                  SAN LUIS POTOSÍ         1502\n",
              "21                         TLAXCALA         1225\n",
              "22                          CHIAPAS         1207\n",
              "23                          MORELOS         1189\n",
              "24                         CAMPECHE          915\n",
              "25                        QUERÉTARO          877\n",
              "26                          NAYARIT          747\n",
              "27                        ZACATECAS          654\n",
              "28                          DURANGO          624\n",
              "29                           COLIMA          536\n",
              "30                   AGUASCALIENTES          483\n",
              "31              BAJA CALIFORNIA SUR          469"
            ]
          },
          "metadata": {
            "tags": []
          },
          "execution_count": 240
        }
      ]
    },
    {
      "cell_type": "markdown",
      "metadata": {
        "id": "Ca4rwH1HD-Fo",
        "colab_type": "text"
      },
      "source": [
        "**¿Cuántos fallecimientos han ocurrido en el Estado con mayor número de casos confirmados?**"
      ]
    },
    {
      "cell_type": "code",
      "metadata": {
        "id": "R8MvkwWHEF3c",
        "colab_type": "code",
        "colab": {
          "base_uri": "https://localhost:8080/",
          "height": 67
        },
        "outputId": "cb68cc50-4cda-40b3-9ee8-b95d36bd4c5f"
      },
      "source": [
        "query = 'defuncion == True and resultado == \"Positivo SARS-CoV-2\"'\n",
        "data.query(query).groupby(\"defuncion\").entidad_res.value_counts().reset_index(name='defunciones').drop(columns=\"defuncion\").iloc[0]"
      ],
      "execution_count": 259,
      "outputs": [
        {
          "output_type": "execute_result",
          "data": {
            "text/plain": [
              "entidad_res    MÉXICO\n",
              "defunciones     10135\n",
              "Name: 0, dtype: object"
            ]
          },
          "metadata": {
            "tags": []
          },
          "execution_count": 259
        }
      ]
    },
    {
      "cell_type": "markdown",
      "metadata": {
        "id": "c8uYQYrPEezm",
        "colab_type": "text"
      },
      "source": [
        "| **Estado** | **Defunciones** |\n",
        "|:----------:|:---------------:|\n",
        "|   MEXICO   |      10135      |"
      ]
    },
    {
      "cell_type": "markdown",
      "metadata": {
        "id": "po8YhtkeSJPC",
        "colab_type": "text"
      },
      "source": [
        "**¿Cuántos fallecimientos han ocurrido en los pacientes Ambulatorios?**"
      ]
    },
    {
      "cell_type": "code",
      "metadata": {
        "id": "7XNMFXlNS4Ym",
        "colab_type": "code",
        "colab": {
          "base_uri": "https://localhost:8080/",
          "height": 34
        },
        "outputId": "841ab642-6c97-4848-878b-afd07896d5f6"
      },
      "source": [
        "query = 'defuncion == True and tipo_paciente == \"AMBULATORIO\"'\n",
        "data.query(query).defuncion.value_counts().iloc[0]"
      ],
      "execution_count": 270,
      "outputs": [
        {
          "output_type": "execute_result",
          "data": {
            "text/plain": [
              "8809"
            ]
          },
          "metadata": {
            "tags": []
          },
          "execution_count": 270
        }
      ]
    },
    {
      "cell_type": "code",
      "metadata": {
        "id": "LV-vCenpTBzx",
        "colab_type": "code",
        "colab": {}
      },
      "source": [
        ""
      ],
      "execution_count": null,
      "outputs": []
    }
  ]
}