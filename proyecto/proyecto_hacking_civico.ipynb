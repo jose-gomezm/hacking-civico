{
  "nbformat": 4,
  "nbformat_minor": 0,
  "metadata": {
    "colab": {
      "name": "proyecto-hacking-civico.ipynb",
      "provenance": [],
      "collapsed_sections": [],
      "authorship_tag": "ABX9TyNSH1lDH0gsIFzW4wzhYCZE",
      "include_colab_link": true
    },
    "kernelspec": {
      "name": "python3",
      "display_name": "Python 3"
    }
  },
  "cells": [
    {
      "cell_type": "markdown",
      "metadata": {
        "id": "view-in-github",
        "colab_type": "text"
      },
      "source": [
        "<a href=\"https://colab.research.google.com/github/jose-gomezm/hacking-civico/blob/master/proyecto/proyecto_hacking_civico.ipynb\" target=\"_parent\"><img src=\"https://colab.research.google.com/assets/colab-badge.svg\" alt=\"Open In Colab\"/></a>"
      ]
    },
    {
      "cell_type": "markdown",
      "metadata": {
        "id": "-72LOxoSlIRO"
      },
      "source": [
        "# Yucatán: Salud mental y suicidio\n",
        "\n",
        "<p align=\"center\">\n",
        "<img src=\"https://upload.wikimedia.org/wikipedia/commons/4/4a/Municipios_de_Yucatan.jpg\" alt=\"drawing\" width=\"400\"/>\n",
        "</p>\n",
        "\n",
        "Durante los últimos años, el estado de Yucatán se ha llenado de noticias acerca de cifras alarmentes de suicidio. Los valores reportados por los medios llegan a 200 fallecimientos [[1]](https://www.yucatan.com.mx/merida/yucatan-primer-lugar-nacional-en-suicidios), con más de 100 registrados a lo que va del 2020 [[2]](https://www.poresto.net/yucatan/2020/9/10/yucatan-entre-las-entidades-con-mas-suicidios-en-mexico-8740.html)\n",
        "\n",
        "El presente proyecto tiene como objetivo analizar los datos relacionados con salud mental en el estado de Yucatán, con la intención de obtener una idea más concreta de la situación, basándose en los datos disponibles de manera abierta a través de distintos portales de los diferentes niveles de gobierno.\n",
        "\n"
      ]
    },
    {
      "cell_type": "markdown",
      "metadata": {
        "id": "ZU2XYOchlnmJ"
      },
      "source": [
        "## Carga de librerías"
      ]
    },
    {
      "cell_type": "markdown",
      "metadata": {
        "id": "auJtzByCNXhw"
      },
      "source": [
        "Las librerías usadas en la extensión del proyecto son: Altair, Pandas, NumPy, Matplotlib y Six."
      ]
    },
    {
      "cell_type": "code",
      "metadata": {
        "id": "YNPzDzl9Na2r"
      },
      "source": [
        "import altair as alt\n",
        "import pandas as pd\n",
        "import numpy as np"
      ],
      "execution_count": null,
      "outputs": []
    },
    {
      "cell_type": "markdown",
      "metadata": {
        "id": "UkL2ALp2OI8D"
      },
      "source": [
        "## Conexión con Drive"
      ]
    },
    {
      "cell_type": "markdown",
      "metadata": {
        "id": "_-BWWS0NOLrq"
      },
      "source": [
        "Los datos utilizados se encuentran organizados en una carpeta dentro de Google Drive. Para acceder a ellos, se utiliza la herramienta otorgada por la librería google.colab."
      ]
    },
    {
      "cell_type": "code",
      "metadata": {
        "id": "-1UMenzJQADL",
        "outputId": "556e177d-9eb2-44f4-d122-b77d7d528f3c",
        "colab": {
          "base_uri": "https://localhost:8080/",
          "height": 34
        }
      },
      "source": [
        "from google.colab import drive\n",
        "drive.mount('/content/drive')"
      ],
      "execution_count": null,
      "outputs": [
        {
          "output_type": "stream",
          "text": [
            "Mounted at /content/drive\n"
          ],
          "name": "stdout"
        }
      ]
    },
    {
      "cell_type": "code",
      "metadata": {
        "id": "N8Hq6mWtR672"
      },
      "source": [
        "path = \"/content/drive/My Drive/Colab Notebooks/Proyecto Datos/CSV/\""
      ],
      "execution_count": null,
      "outputs": []
    },
    {
      "cell_type": "markdown",
      "metadata": {
        "id": "IkcnTw1nNbt-"
      },
      "source": [
        "## Obtención de los datos"
      ]
    },
    {
      "cell_type": "markdown",
      "metadata": {
        "id": "in9WMgDzWBgD"
      },
      "source": [
        "Todos los datos fueron obtenidos de tres fuentes:\n",
        "\n",
        "- [INEGI](https://www.inegi.org.mx/datos/)\n",
        "- [Datos abiertos de México](https://datos.gob.mx/)\n",
        "- [Indicadores del Protocolo de San Salvador](https://datos.gob.mx/busca/dataset/a43d783d-0b0c-4df5-81f3-699f8e07fb10)\n",
        "\n",
        "Éste último es un dataset almacenado dentro de Datos abiertos de México, que se enfoca en dar a conocer los indicadores establecidos por el Protocolo de San Salvador, el cual se suma a la Convención Americana sobre Derechos Humanos para asegurar los Derechos Económicos Sociales y Culturales [[3]](http://www.dged.salud.gob.mx/contenidos/dedss/sansalvador.html).\n",
        "\n",
        "Los datos se cargarán y se mostrarán los primeros cinco valores utilizando la función *head()* dentro de Pandas."
      ]
    },
    {
      "cell_type": "markdown",
      "metadata": {
        "id": "FnFYa0nwXjzp"
      },
      "source": [
        "### Tasa de mortalidad por suicidios por entidad"
      ]
    },
    {
      "cell_type": "markdown",
      "metadata": {
        "id": "ky0vC5KpbBSU"
      },
      "source": [
        "La tabla indica el año, entidad, defunciones por suicidios, población media total y la tasa de mortalidad por suicidios por 100,000 habitantes. Esto permite tener una idea general de la situación por estado, así como por año, de los suicidios en el país."
      ]
    },
    {
      "cell_type": "code",
      "metadata": {
        "id": "9mguCcCrR1So",
        "outputId": "934e36ee-043a-4dfa-8e79-b2c0e7ea224a",
        "colab": {
          "base_uri": "https://localhost:8080/",
          "height": 195
        }
      },
      "source": [
        "mortalidad_csv = path + 'Tasa_de_mortalidad_por_suicidios_por_entidad.csv'\n",
        "mortalidad = pd.read_csv(mortalidad_csv, encoding='UTF-8')\n",
        "mortalidad.columns = mortalidad.columns.str.replace(' ','_')\n",
        "mortalidad.columns = mortalidad.columns.str.replace(',','')\n",
        "mortalidad.head()"
      ],
      "execution_count": null,
      "outputs": [
        {
          "output_type": "execute_result",
          "data": {
            "text/html": [
              "<div>\n",
              "<style scoped>\n",
              "    .dataframe tbody tr th:only-of-type {\n",
              "        vertical-align: middle;\n",
              "    }\n",
              "\n",
              "    .dataframe tbody tr th {\n",
              "        vertical-align: top;\n",
              "    }\n",
              "\n",
              "    .dataframe thead th {\n",
              "        text-align: right;\n",
              "    }\n",
              "</style>\n",
              "<table border=\"1\" class=\"dataframe\">\n",
              "  <thead>\n",
              "    <tr style=\"text-align: right;\">\n",
              "      <th></th>\n",
              "      <th>AÑO</th>\n",
              "      <th>CLAVE_ENTIDAD</th>\n",
              "      <th>ENTIDAD</th>\n",
              "      <th>DEFUNCIONES_POR_SUICIDIOS</th>\n",
              "      <th>POBLACIÓN_MEDIA_TOTAL</th>\n",
              "      <th>TASA_DE_MORTALIDAD_POR_SUICIDIOS_POR_100000</th>\n",
              "    </tr>\n",
              "  </thead>\n",
              "  <tbody>\n",
              "    <tr>\n",
              "      <th>0</th>\n",
              "      <td>2010</td>\n",
              "      <td>0</td>\n",
              "      <td>Nacional</td>\n",
              "      <td>5006</td>\n",
              "      <td>114255557</td>\n",
              "      <td>4.38</td>\n",
              "    </tr>\n",
              "    <tr>\n",
              "      <th>1</th>\n",
              "      <td>2011</td>\n",
              "      <td>0</td>\n",
              "      <td>Nacional</td>\n",
              "      <td>5712</td>\n",
              "      <td>115682867</td>\n",
              "      <td>4.94</td>\n",
              "    </tr>\n",
              "    <tr>\n",
              "      <th>2</th>\n",
              "      <td>2012</td>\n",
              "      <td>0</td>\n",
              "      <td>Nacional</td>\n",
              "      <td>5539</td>\n",
              "      <td>117053751</td>\n",
              "      <td>4.73</td>\n",
              "    </tr>\n",
              "    <tr>\n",
              "      <th>3</th>\n",
              "      <td>2013</td>\n",
              "      <td>0</td>\n",
              "      <td>Nacional</td>\n",
              "      <td>5889</td>\n",
              "      <td>118395054</td>\n",
              "      <td>4.97</td>\n",
              "    </tr>\n",
              "    <tr>\n",
              "      <th>4</th>\n",
              "      <td>2014</td>\n",
              "      <td>0</td>\n",
              "      <td>Nacional</td>\n",
              "      <td>6317</td>\n",
              "      <td>119713203</td>\n",
              "      <td>5.28</td>\n",
              "    </tr>\n",
              "  </tbody>\n",
              "</table>\n",
              "</div>"
            ],
            "text/plain": [
              "    AÑO  ...  TASA_DE_MORTALIDAD_POR_SUICIDIOS_POR_100000\n",
              "0  2010  ...                                         4.38\n",
              "1  2011  ...                                         4.94\n",
              "2  2012  ...                                         4.73\n",
              "3  2013  ...                                         4.97\n",
              "4  2014  ...                                         5.28\n",
              "\n",
              "[5 rows x 6 columns]"
            ]
          },
          "metadata": {
            "tags": []
          },
          "execution_count": 4
        }
      ]
    },
    {
      "cell_type": "markdown",
      "metadata": {
        "id": "9Bi0DvO2XqR9"
      },
      "source": [
        "### Psicólogos por cada 1000 habitantes"
      ]
    },
    {
      "cell_type": "markdown",
      "metadata": {
        "id": "n7i4vt9DbQA-"
      },
      "source": [
        "La población mexicana en gran parte aún tiene estigmatizada la idea de acudir con un psicólogo. Para identificar la disponibilidad de los psicologos por estado, se obtiene el valor de psicólogos por cada 1000 habitantes, resultado del número de psicólogos entre la población media total. Todos los valores necesarios para el análisis son otorgados en la tabla."
      ]
    },
    {
      "cell_type": "code",
      "metadata": {
        "id": "OKBX90D3Xwni",
        "outputId": "9e3dde93-e3fe-4a63-ef65-6932964f01b5",
        "colab": {
          "base_uri": "https://localhost:8080/",
          "height": 195
        }
      },
      "source": [
        "psicologos_csv = path + 'Nxmero_de_psicologos_por_1x000_hab.csv'\n",
        "psicologos = pd.read_csv(psicologos_csv, encoding='UTF-8')\n",
        "psicologos.columns = psicologos.columns.str.replace(' ','_')\n",
        "psicologos.columns = psicologos.columns.str.replace(',','')\n",
        "psicologos.head()"
      ],
      "execution_count": null,
      "outputs": [
        {
          "output_type": "execute_result",
          "data": {
            "text/html": [
              "<div>\n",
              "<style scoped>\n",
              "    .dataframe tbody tr th:only-of-type {\n",
              "        vertical-align: middle;\n",
              "    }\n",
              "\n",
              "    .dataframe tbody tr th {\n",
              "        vertical-align: top;\n",
              "    }\n",
              "\n",
              "    .dataframe thead th {\n",
              "        text-align: right;\n",
              "    }\n",
              "</style>\n",
              "<table border=\"1\" class=\"dataframe\">\n",
              "  <thead>\n",
              "    <tr style=\"text-align: right;\">\n",
              "      <th></th>\n",
              "      <th>AÑO</th>\n",
              "      <th>CLAVE_ENTIDAD</th>\n",
              "      <th>ENTIDAD</th>\n",
              "      <th>CLAVE_SEXO</th>\n",
              "      <th>SEXO</th>\n",
              "      <th>PSICOLOGOS</th>\n",
              "      <th>POBLACION_MEDIA_TOTAL</th>\n",
              "      <th>PSICOLOGOS_POR_1000_HAB</th>\n",
              "    </tr>\n",
              "  </thead>\n",
              "  <tbody>\n",
              "    <tr>\n",
              "      <th>0</th>\n",
              "      <td>2010</td>\n",
              "      <td>0</td>\n",
              "      <td>NACIONAL</td>\n",
              "      <td>3</td>\n",
              "      <td>Total</td>\n",
              "      <td>3846</td>\n",
              "      <td>1.142556e+08</td>\n",
              "      <td>0.033661</td>\n",
              "    </tr>\n",
              "    <tr>\n",
              "      <th>1</th>\n",
              "      <td>2010</td>\n",
              "      <td>1</td>\n",
              "      <td>AGUASCALIENTES</td>\n",
              "      <td>3</td>\n",
              "      <td>Total</td>\n",
              "      <td>92</td>\n",
              "      <td>1.195787e+06</td>\n",
              "      <td>0.076937</td>\n",
              "    </tr>\n",
              "    <tr>\n",
              "      <th>2</th>\n",
              "      <td>2010</td>\n",
              "      <td>2</td>\n",
              "      <td>BAJA CALIFORNIA</td>\n",
              "      <td>3</td>\n",
              "      <td>Total</td>\n",
              "      <td>42</td>\n",
              "      <td>3.224844e+06</td>\n",
              "      <td>0.013024</td>\n",
              "    </tr>\n",
              "    <tr>\n",
              "      <th>3</th>\n",
              "      <td>2010</td>\n",
              "      <td>3</td>\n",
              "      <td>BAJA CALIFORNIA SUR</td>\n",
              "      <td>3</td>\n",
              "      <td>Total</td>\n",
              "      <td>44</td>\n",
              "      <td>6.496161e+05</td>\n",
              "      <td>0.067732</td>\n",
              "    </tr>\n",
              "    <tr>\n",
              "      <th>4</th>\n",
              "      <td>2010</td>\n",
              "      <td>4</td>\n",
              "      <td>CAMPECHE</td>\n",
              "      <td>3</td>\n",
              "      <td>Total</td>\n",
              "      <td>41</td>\n",
              "      <td>8.367478e+05</td>\n",
              "      <td>0.048999</td>\n",
              "    </tr>\n",
              "  </tbody>\n",
              "</table>\n",
              "</div>"
            ],
            "text/plain": [
              "    AÑO  CLAVE_ENTIDAD  ... POBLACION_MEDIA_TOTAL  PSICOLOGOS_POR_1000_HAB\n",
              "0  2010              0  ...          1.142556e+08                 0.033661\n",
              "1  2010              1  ...          1.195787e+06                 0.076937\n",
              "2  2010              2  ...          3.224844e+06                 0.013024\n",
              "3  2010              3  ...          6.496161e+05                 0.067732\n",
              "4  2010              4  ...          8.367478e+05                 0.048999\n",
              "\n",
              "[5 rows x 8 columns]"
            ]
          },
          "metadata": {
            "tags": []
          },
          "execution_count": 5
        }
      ]
    },
    {
      "cell_type": "markdown",
      "metadata": {
        "id": "7QVbaxgoYH7k"
      },
      "source": [
        "### Psiquiatras por cada 1000 habitantes"
      ]
    },
    {
      "cell_type": "markdown",
      "metadata": {
        "id": "9ApjfTltbwV-"
      },
      "source": [
        "El psiquiatra es el especialista de salud capaz de tratar transtornos o padecimietos mentales. La disponibilidad de estos suele ser todavía menor que la de los psicólogos, al ser una especialidad dentro del área de la medicina. Al igual que los datos de Psicólogos por cada 1000 habitantes, la tabla otorga todos los valores necesarios para su análisis."
      ]
    },
    {
      "cell_type": "code",
      "metadata": {
        "id": "jAwh1jPJYK0H",
        "outputId": "7d5c0286-e99d-4f5b-d59b-8891560102d4",
        "colab": {
          "base_uri": "https://localhost:8080/",
          "height": 195
        }
      },
      "source": [
        "psiquiatras_csv = path + 'Nxmero_de_psiquiatras_por_1x000_hab.csv'\n",
        "psiquiatras = pd.read_csv(psiquiatras_csv, encoding='utf-8')\n",
        "psiquiatras.columns = psiquiatras.columns.str.replace(' ','_')\n",
        "psiquiatras.columns = psiquiatras.columns.str.replace(',','')\n",
        "psiquiatras.head()"
      ],
      "execution_count": null,
      "outputs": [
        {
          "output_type": "execute_result",
          "data": {
            "text/html": [
              "<div>\n",
              "<style scoped>\n",
              "    .dataframe tbody tr th:only-of-type {\n",
              "        vertical-align: middle;\n",
              "    }\n",
              "\n",
              "    .dataframe tbody tr th {\n",
              "        vertical-align: top;\n",
              "    }\n",
              "\n",
              "    .dataframe thead th {\n",
              "        text-align: right;\n",
              "    }\n",
              "</style>\n",
              "<table border=\"1\" class=\"dataframe\">\n",
              "  <thead>\n",
              "    <tr style=\"text-align: right;\">\n",
              "      <th></th>\n",
              "      <th>AÑO</th>\n",
              "      <th>CLAVE_ENTIDAD</th>\n",
              "      <th>ENTIDAD</th>\n",
              "      <th>CLAVE_SEXO</th>\n",
              "      <th>SEXO</th>\n",
              "      <th>PSIQUIÁTRAS</th>\n",
              "      <th>POBLACIÓN_MÉDIA_TOTAL</th>\n",
              "      <th>PSIQUIATRAS_POR_1000_HAB</th>\n",
              "    </tr>\n",
              "  </thead>\n",
              "  <tbody>\n",
              "    <tr>\n",
              "      <th>0</th>\n",
              "      <td>2010</td>\n",
              "      <td>0</td>\n",
              "      <td>NACIONAL</td>\n",
              "      <td>3</td>\n",
              "      <td>Total</td>\n",
              "      <td>1157</td>\n",
              "      <td>1.142556e+08</td>\n",
              "      <td>0.010126</td>\n",
              "    </tr>\n",
              "    <tr>\n",
              "      <th>1</th>\n",
              "      <td>2010</td>\n",
              "      <td>1</td>\n",
              "      <td>AGUASCALIENTES</td>\n",
              "      <td>3</td>\n",
              "      <td>Total</td>\n",
              "      <td>15</td>\n",
              "      <td>1.195787e+06</td>\n",
              "      <td>0.012544</td>\n",
              "    </tr>\n",
              "    <tr>\n",
              "      <th>2</th>\n",
              "      <td>2010</td>\n",
              "      <td>2</td>\n",
              "      <td>BAJA CALIFORNIA</td>\n",
              "      <td>3</td>\n",
              "      <td>Total</td>\n",
              "      <td>20</td>\n",
              "      <td>3.224844e+06</td>\n",
              "      <td>0.006202</td>\n",
              "    </tr>\n",
              "    <tr>\n",
              "      <th>3</th>\n",
              "      <td>2010</td>\n",
              "      <td>3</td>\n",
              "      <td>BAJA CALIFORNIA SUR</td>\n",
              "      <td>3</td>\n",
              "      <td>Total</td>\n",
              "      <td>7</td>\n",
              "      <td>6.496161e+05</td>\n",
              "      <td>0.010776</td>\n",
              "    </tr>\n",
              "    <tr>\n",
              "      <th>4</th>\n",
              "      <td>2010</td>\n",
              "      <td>4</td>\n",
              "      <td>CAMPECHE</td>\n",
              "      <td>3</td>\n",
              "      <td>Total</td>\n",
              "      <td>11</td>\n",
              "      <td>8.367478e+05</td>\n",
              "      <td>0.013146</td>\n",
              "    </tr>\n",
              "  </tbody>\n",
              "</table>\n",
              "</div>"
            ],
            "text/plain": [
              "    AÑO  CLAVE_ENTIDAD  ... POBLACIÓN_MÉDIA_TOTAL  PSIQUIATRAS_POR_1000_HAB\n",
              "0  2010              0  ...          1.142556e+08                  0.010126\n",
              "1  2010              1  ...          1.195787e+06                  0.012544\n",
              "2  2010              2  ...          3.224844e+06                  0.006202\n",
              "3  2010              3  ...          6.496161e+05                  0.010776\n",
              "4  2010              4  ...          8.367478e+05                  0.013146\n",
              "\n",
              "[5 rows x 8 columns]"
            ]
          },
          "metadata": {
            "tags": []
          },
          "execution_count": 6
        }
      ]
    },
    {
      "cell_type": "markdown",
      "metadata": {
        "id": "XG76GpAxYckl"
      },
      "source": [
        "### Població afiliada al Seguro Popular"
      ]
    },
    {
      "cell_type": "markdown",
      "metadata": {
        "id": "BMF5-kWPcIZc"
      },
      "source": [
        "No toda la población tiene el acceso a clínicas particulares, ni algún tipo de seguro que le permita asistir a ellas. Por ello se considera importante conocer el porcentaje de la población afiliada al Seguro Popular."
      ]
    },
    {
      "cell_type": "code",
      "metadata": {
        "id": "8mSC0I7hYgKW",
        "outputId": "2ccb45df-2192-424b-ef7b-0f34922dec53",
        "colab": {
          "base_uri": "https://localhost:8080/",
          "height": 195
        }
      },
      "source": [
        "ss_csv = path + 'sap01b_pob_afiliada_seg_popular.csv'\n",
        "pob_ss = pd.read_csv(ss_csv, encoding='latin-1')\n",
        "pob_ss.columns = pob_ss.columns.str.replace(' ','_')\n",
        "pob_ss.columns = pob_ss.columns.str.upper()\n",
        "pob_ss.head()"
      ],
      "execution_count": null,
      "outputs": [
        {
          "output_type": "execute_result",
          "data": {
            "text/html": [
              "<div>\n",
              "<style scoped>\n",
              "    .dataframe tbody tr th:only-of-type {\n",
              "        vertical-align: middle;\n",
              "    }\n",
              "\n",
              "    .dataframe tbody tr th {\n",
              "        vertical-align: top;\n",
              "    }\n",
              "\n",
              "    .dataframe thead th {\n",
              "        text-align: right;\n",
              "    }\n",
              "</style>\n",
              "<table border=\"1\" class=\"dataframe\">\n",
              "  <thead>\n",
              "    <tr style=\"text-align: right;\">\n",
              "      <th></th>\n",
              "      <th>ENTIDAD_FEDERATIVA</th>\n",
              "      <th>PERIODO</th>\n",
              "      <th>PORCENTAJE_DE_LA_POBLACIÓN_AFILIADA_AL_SEGURO_POPULAR</th>\n",
              "      <th>POBLACIÓN_TOTAL</th>\n",
              "      <th>POBLACIÓN_AFILIADA_AL_SEGURO_POPULAR</th>\n",
              "    </tr>\n",
              "  </thead>\n",
              "  <tbody>\n",
              "    <tr>\n",
              "      <th>0</th>\n",
              "      <td>Estados Unidos Mexicanos</td>\n",
              "      <td>2010</td>\n",
              "      <td>23.3</td>\n",
              "      <td>112336538</td>\n",
              "      <td>26229071</td>\n",
              "    </tr>\n",
              "    <tr>\n",
              "      <th>1</th>\n",
              "      <td>Aguascalientes</td>\n",
              "      <td>2010</td>\n",
              "      <td>25.6</td>\n",
              "      <td>1184996</td>\n",
              "      <td>303287</td>\n",
              "    </tr>\n",
              "    <tr>\n",
              "      <th>2</th>\n",
              "      <td>Baja California</td>\n",
              "      <td>2010</td>\n",
              "      <td>15.0</td>\n",
              "      <td>3155070</td>\n",
              "      <td>473361</td>\n",
              "    </tr>\n",
              "    <tr>\n",
              "      <th>3</th>\n",
              "      <td>Baja California Sur</td>\n",
              "      <td>2010</td>\n",
              "      <td>18.3</td>\n",
              "      <td>637026</td>\n",
              "      <td>116785</td>\n",
              "    </tr>\n",
              "    <tr>\n",
              "      <th>4</th>\n",
              "      <td>Campeche</td>\n",
              "      <td>2010</td>\n",
              "      <td>36.7</td>\n",
              "      <td>822441</td>\n",
              "      <td>302055</td>\n",
              "    </tr>\n",
              "  </tbody>\n",
              "</table>\n",
              "</div>"
            ],
            "text/plain": [
              "         ENTIDAD_FEDERATIVA  ...  POBLACIÓN_AFILIADA_AL_SEGURO_POPULAR\n",
              "0  Estados Unidos Mexicanos  ...                              26229071\n",
              "1            Aguascalientes  ...                                303287\n",
              "2           Baja California  ...                                473361\n",
              "3       Baja California Sur  ...                                116785\n",
              "4                  Campeche  ...                                302055\n",
              "\n",
              "[5 rows x 5 columns]"
            ]
          },
          "metadata": {
            "tags": []
          },
          "execution_count": 7
        }
      ]
    },
    {
      "cell_type": "markdown",
      "metadata": {
        "id": "vld9fZ49YppX"
      },
      "source": [
        "### Beneficiarios del Seguro Popular con alguna discapacidad"
      ]
    },
    {
      "cell_type": "markdown",
      "metadata": {
        "id": "RlWEBv5GcVaP"
      },
      "source": [
        "Del porcentaje afiliado al Seguro Popular, se obtiene información de las personas que padecen de alguna afectación mental."
      ]
    },
    {
      "cell_type": "code",
      "metadata": {
        "id": "uPf8_E8eYtGG",
        "outputId": "1133320b-10e8-44ab-8b61-20027e87c82b",
        "colab": {
          "base_uri": "https://localhost:8080/",
          "height": 195
        }
      },
      "source": [
        "ss_dis_csv = path + 'BENEFICIARIOS_SEGURO_DISCAPACIDAD.csv'\n",
        "ss_dis = pd.read_csv(ss_dis_csv, encoding='latin-1')\n",
        "ss_dis.head()"
      ],
      "execution_count": null,
      "outputs": [
        {
          "output_type": "execute_result",
          "data": {
            "text/html": [
              "<div>\n",
              "<style scoped>\n",
              "    .dataframe tbody tr th:only-of-type {\n",
              "        vertical-align: middle;\n",
              "    }\n",
              "\n",
              "    .dataframe tbody tr th {\n",
              "        vertical-align: top;\n",
              "    }\n",
              "\n",
              "    .dataframe thead th {\n",
              "        text-align: right;\n",
              "    }\n",
              "</style>\n",
              "<table border=\"1\" class=\"dataframe\">\n",
              "  <thead>\n",
              "    <tr style=\"text-align: right;\">\n",
              "      <th></th>\n",
              "      <th>AÑO</th>\n",
              "      <th>ESTADO</th>\n",
              "      <th>FISICA</th>\n",
              "      <th>MENTAL</th>\n",
              "      <th>AMBAS</th>\n",
              "    </tr>\n",
              "  </thead>\n",
              "  <tbody>\n",
              "    <tr>\n",
              "      <th>0</th>\n",
              "      <td>2013</td>\n",
              "      <td>AGUASCALIENTES</td>\n",
              "      <td>3783</td>\n",
              "      <td>1938</td>\n",
              "      <td>808</td>\n",
              "    </tr>\n",
              "    <tr>\n",
              "      <th>1</th>\n",
              "      <td>2013</td>\n",
              "      <td>BAJA CALIFORNIA</td>\n",
              "      <td>4790</td>\n",
              "      <td>4570</td>\n",
              "      <td>1121</td>\n",
              "    </tr>\n",
              "    <tr>\n",
              "      <th>2</th>\n",
              "      <td>2013</td>\n",
              "      <td>BAJA CALIFORNIA SUR</td>\n",
              "      <td>829</td>\n",
              "      <td>392</td>\n",
              "      <td>214</td>\n",
              "    </tr>\n",
              "    <tr>\n",
              "      <th>3</th>\n",
              "      <td>2013</td>\n",
              "      <td>CAMPECHE</td>\n",
              "      <td>1784</td>\n",
              "      <td>1354</td>\n",
              "      <td>340</td>\n",
              "    </tr>\n",
              "    <tr>\n",
              "      <th>4</th>\n",
              "      <td>2013</td>\n",
              "      <td>COAHUILA</td>\n",
              "      <td>3717</td>\n",
              "      <td>1778</td>\n",
              "      <td>1148</td>\n",
              "    </tr>\n",
              "  </tbody>\n",
              "</table>\n",
              "</div>"
            ],
            "text/plain": [
              "    AÑO               ESTADO  FISICA  MENTAL  AMBAS\n",
              "0  2013       AGUASCALIENTES    3783    1938    808\n",
              "1  2013      BAJA CALIFORNIA    4790    4570   1121\n",
              "2  2013  BAJA CALIFORNIA SUR     829     392    214\n",
              "3  2013             CAMPECHE    1784    1354    340\n",
              "4  2013             COAHUILA    3717    1778   1148"
            ]
          },
          "metadata": {
            "tags": []
          },
          "execution_count": 8
        }
      ]
    },
    {
      "cell_type": "markdown",
      "metadata": {
        "id": "eJQIb92IZu6g"
      },
      "source": [
        "### Datos de mortalidad INEGI"
      ]
    },
    {
      "cell_type": "markdown",
      "metadata": {
        "id": "0GYr4IdMcgYO"
      },
      "source": [
        "Los datos otorgados por la INEGI respecto a mortalidad en el país abarcan casos de suicidio. Dentro de su portal es posible filtrar previamente solo los casos de suicidio, divididos por rango de edad, año del suceso y sexo."
      ]
    },
    {
      "cell_type": "code",
      "metadata": {
        "id": "vKJYAseGZ0H3",
        "outputId": "9a6c5ac3-8067-4e80-e67b-93b971baa44c",
        "colab": {
          "base_uri": "https://localhost:8080/",
          "height": 195
        }
      },
      "source": [
        "mortalidad_inegi_csv = path + 'mortalidad_inegi_suicidio.csv'\n",
        "mortalidad_inegi = pd.read_csv(mortalidad_inegi_csv, encoding='utf-8')\n",
        "mortalidad_inegi.head()"
      ],
      "execution_count": null,
      "outputs": [
        {
          "output_type": "execute_result",
          "data": {
            "text/html": [
              "<div>\n",
              "<style scoped>\n",
              "    .dataframe tbody tr th:only-of-type {\n",
              "        vertical-align: middle;\n",
              "    }\n",
              "\n",
              "    .dataframe tbody tr th {\n",
              "        vertical-align: top;\n",
              "    }\n",
              "\n",
              "    .dataframe thead th {\n",
              "        text-align: right;\n",
              "    }\n",
              "</style>\n",
              "<table border=\"1\" class=\"dataframe\">\n",
              "  <thead>\n",
              "    <tr style=\"text-align: right;\">\n",
              "      <th></th>\n",
              "      <th>ENTIDAD</th>\n",
              "      <th>AÑO</th>\n",
              "      <th>SEXO</th>\n",
              "      <th>EDAD</th>\n",
              "      <th>TOTAL</th>\n",
              "    </tr>\n",
              "  </thead>\n",
              "  <tbody>\n",
              "    <tr>\n",
              "      <th>0</th>\n",
              "      <td>NACIONAL</td>\n",
              "      <td>2010</td>\n",
              "      <td>H</td>\n",
              "      <td>10-14</td>\n",
              "      <td>111</td>\n",
              "    </tr>\n",
              "    <tr>\n",
              "      <th>1</th>\n",
              "      <td>NACIONAL</td>\n",
              "      <td>2010</td>\n",
              "      <td>H</td>\n",
              "      <td>15-19</td>\n",
              "      <td>475</td>\n",
              "    </tr>\n",
              "    <tr>\n",
              "      <th>2</th>\n",
              "      <td>NACIONAL</td>\n",
              "      <td>2010</td>\n",
              "      <td>H</td>\n",
              "      <td>20-24</td>\n",
              "      <td>614</td>\n",
              "    </tr>\n",
              "    <tr>\n",
              "      <th>3</th>\n",
              "      <td>NACIONAL</td>\n",
              "      <td>2010</td>\n",
              "      <td>H</td>\n",
              "      <td>25-29</td>\n",
              "      <td>507</td>\n",
              "    </tr>\n",
              "    <tr>\n",
              "      <th>4</th>\n",
              "      <td>NACIONAL</td>\n",
              "      <td>2010</td>\n",
              "      <td>H</td>\n",
              "      <td>30-34</td>\n",
              "      <td>448</td>\n",
              "    </tr>\n",
              "  </tbody>\n",
              "</table>\n",
              "</div>"
            ],
            "text/plain": [
              "    ENTIDAD   AÑO SEXO   EDAD  TOTAL\n",
              "0  NACIONAL  2010    H  10-14    111\n",
              "1  NACIONAL  2010    H  15-19    475\n",
              "2  NACIONAL  2010    H  20-24    614\n",
              "3  NACIONAL  2010    H  25-29    507\n",
              "4  NACIONAL  2010    H  30-34    448"
            ]
          },
          "metadata": {
            "tags": []
          },
          "execution_count": 9
        }
      ]
    },
    {
      "cell_type": "markdown",
      "metadata": {
        "id": "Mbk2mT9QZ_Mj"
      },
      "source": [
        "### Salud mental en Yucatán"
      ]
    },
    {
      "cell_type": "markdown",
      "metadata": {
        "id": "VCBUeMQtctCS"
      },
      "source": [
        "Esta serie de datos otorga conocimiento de la forma de suicidio en el estado de Yucatán. Dado la 'tranquilidad' característica del estado, se espera que los datos por arma de fuego sean dentro de la minoría."
      ]
    },
    {
      "cell_type": "code",
      "metadata": {
        "id": "_i7zbOp9aFr-",
        "outputId": "1f87fb87-d3c7-420f-935f-2df87aa4e76e",
        "colab": {
          "base_uri": "https://localhost:8080/",
          "height": 195
        }
      },
      "source": [
        "mental_csv = path + 'mental_yucatan.csv'\n",
        "mental_yuc = pd.read_csv(mental_csv, encoding='latin-1')\n",
        "mental_yuc.head()"
      ],
      "execution_count": null,
      "outputs": [
        {
          "output_type": "execute_result",
          "data": {
            "text/html": [
              "<div>\n",
              "<style scoped>\n",
              "    .dataframe tbody tr th:only-of-type {\n",
              "        vertical-align: middle;\n",
              "    }\n",
              "\n",
              "    .dataframe tbody tr th {\n",
              "        vertical-align: top;\n",
              "    }\n",
              "\n",
              "    .dataframe thead th {\n",
              "        text-align: right;\n",
              "    }\n",
              "</style>\n",
              "<table border=\"1\" class=\"dataframe\">\n",
              "  <thead>\n",
              "    <tr style=\"text-align: right;\">\n",
              "      <th></th>\n",
              "      <th>AÑO</th>\n",
              "      <th>SEXO</th>\n",
              "      <th>CAUSA</th>\n",
              "      <th>TOTAL</th>\n",
              "    </tr>\n",
              "  </thead>\n",
              "  <tbody>\n",
              "    <tr>\n",
              "      <th>0</th>\n",
              "      <td>2010</td>\n",
              "      <td>H</td>\n",
              "      <td>AHORCAMIENTO</td>\n",
              "      <td>168</td>\n",
              "    </tr>\n",
              "    <tr>\n",
              "      <th>1</th>\n",
              "      <td>2010</td>\n",
              "      <td>H</td>\n",
              "      <td>DISPARO</td>\n",
              "      <td>3</td>\n",
              "    </tr>\n",
              "    <tr>\n",
              "      <th>2</th>\n",
              "      <td>2010</td>\n",
              "      <td>H</td>\n",
              "      <td>ENVENENAMIENTO</td>\n",
              "      <td>31</td>\n",
              "    </tr>\n",
              "    <tr>\n",
              "      <th>3</th>\n",
              "      <td>2010</td>\n",
              "      <td>H</td>\n",
              "      <td>OTRA</td>\n",
              "      <td>4</td>\n",
              "    </tr>\n",
              "    <tr>\n",
              "      <th>4</th>\n",
              "      <td>2010</td>\n",
              "      <td>M</td>\n",
              "      <td>AHORCAMIENTO</td>\n",
              "      <td>26</td>\n",
              "    </tr>\n",
              "  </tbody>\n",
              "</table>\n",
              "</div>"
            ],
            "text/plain": [
              "    AÑO SEXO           CAUSA  TOTAL\n",
              "0  2010    H    AHORCAMIENTO    168\n",
              "1  2010    H         DISPARO      3\n",
              "2  2010    H  ENVENENAMIENTO     31\n",
              "3  2010    H            OTRA      4\n",
              "4  2010    M    AHORCAMIENTO     26"
            ]
          },
          "metadata": {
            "tags": []
          },
          "execution_count": 10
        }
      ]
    },
    {
      "cell_type": "markdown",
      "metadata": {
        "id": "MuSUrY8EXPWU"
      },
      "source": [
        "## Exploración de datos"
      ]
    },
    {
      "cell_type": "markdown",
      "metadata": {
        "id": "lGGh2D3iVjqc"
      },
      "source": [
        "Para tener una idea general del estado de suicidios en el país, se utilizan los datos de tasa de mortalidad por suicidio por entidad para obtener los estados con mayor tasa por año.\n",
        "\n",
        "Se organiza de mayor a menor con respecto a la tasa de mortalidad, y se eliminan todos los valores por año a excepción del primero, resultando en una tabla únicamente con los valores más altos de cada año."
      ]
    },
    {
      "cell_type": "code",
      "metadata": {
        "id": "5zrYsHT-jGGz",
        "outputId": "58a22e88-5541-4694-9c2f-ed3ff8aedc53",
        "colab": {
          "base_uri": "https://localhost:8080/",
          "height": 195
        }
      },
      "source": [
        "edo_mort = mortalidad.sort_values(\n",
        "    ['AÑO', 'TASA_DE_MORTALIDAD_POR_SUICIDIOS_POR_100000'], \n",
        "    ascending=[True, False]).drop_duplicates(\n",
        "    'AÑO', keep='first').reset_index().drop(columns=['index', 'CLAVE_ENTIDAD'])\n",
        "edo_mort.columns = edo_mort.columns.str.replace('_',' ')\n",
        "edo_mort.columns = edo_mort.columns.str.capitalize()\n",
        "edo_mort.head()"
      ],
      "execution_count": null,
      "outputs": [
        {
          "output_type": "execute_result",
          "data": {
            "text/html": [
              "<div>\n",
              "<style scoped>\n",
              "    .dataframe tbody tr th:only-of-type {\n",
              "        vertical-align: middle;\n",
              "    }\n",
              "\n",
              "    .dataframe tbody tr th {\n",
              "        vertical-align: top;\n",
              "    }\n",
              "\n",
              "    .dataframe thead th {\n",
              "        text-align: right;\n",
              "    }\n",
              "</style>\n",
              "<table border=\"1\" class=\"dataframe\">\n",
              "  <thead>\n",
              "    <tr style=\"text-align: right;\">\n",
              "      <th></th>\n",
              "      <th>Año</th>\n",
              "      <th>Entidad</th>\n",
              "      <th>Defunciones por suicidios</th>\n",
              "      <th>Población media total</th>\n",
              "      <th>Tasa de mortalidad por suicidios por 100000</th>\n",
              "    </tr>\n",
              "  </thead>\n",
              "  <tbody>\n",
              "    <tr>\n",
              "      <th>0</th>\n",
              "      <td>2010</td>\n",
              "      <td>Yucatán</td>\n",
              "      <td>206</td>\n",
              "      <td>1980690</td>\n",
              "      <td>10.40</td>\n",
              "    </tr>\n",
              "    <tr>\n",
              "      <th>1</th>\n",
              "      <td>2011</td>\n",
              "      <td>Campeche</td>\n",
              "      <td>81</td>\n",
              "      <td>852373</td>\n",
              "      <td>9.50</td>\n",
              "    </tr>\n",
              "    <tr>\n",
              "      <th>2</th>\n",
              "      <td>2012</td>\n",
              "      <td>Quintana Roo</td>\n",
              "      <td>144</td>\n",
              "      <td>1440115</td>\n",
              "      <td>10.00</td>\n",
              "    </tr>\n",
              "    <tr>\n",
              "      <th>3</th>\n",
              "      <td>2013</td>\n",
              "      <td>Quintana Roo</td>\n",
              "      <td>137</td>\n",
              "      <td>1484960</td>\n",
              "      <td>9.23</td>\n",
              "    </tr>\n",
              "    <tr>\n",
              "      <th>4</th>\n",
              "      <td>2014</td>\n",
              "      <td>Campeche</td>\n",
              "      <td>92</td>\n",
              "      <td>894136</td>\n",
              "      <td>10.29</td>\n",
              "    </tr>\n",
              "  </tbody>\n",
              "</table>\n",
              "</div>"
            ],
            "text/plain": [
              "    Año  ... Tasa de mortalidad por suicidios por 100000\n",
              "0  2010  ...                                       10.40\n",
              "1  2011  ...                                        9.50\n",
              "2  2012  ...                                       10.00\n",
              "3  2013  ...                                        9.23\n",
              "4  2014  ...                                       10.29\n",
              "\n",
              "[5 rows x 5 columns]"
            ]
          },
          "metadata": {
            "tags": []
          },
          "execution_count": 11
        }
      ]
    },
    {
      "cell_type": "markdown",
      "metadata": {
        "id": "N04562uSj5kg"
      },
      "source": [
        "De estos datos, se filtra por entidad para obtener la tasa de mortalidad de Yucatán dentro del rango que otorgan los datos. "
      ]
    },
    {
      "cell_type": "code",
      "metadata": {
        "id": "hUWhTOCSjWpi",
        "outputId": "d9c607e7-43af-4ea6-d094-22b5221abe19",
        "colab": {
          "base_uri": "https://localhost:8080/",
          "height": 254
        }
      },
      "source": [
        "yuc_mort = mortalidad.query('ENTIDAD == \"Yucatán\"').reset_index().drop(columns=['index', 'CLAVE_ENTIDAD', 'POBLACIÓN_MEDIA_TOTAL'])\n",
        "yuc_mort.columns = yuc_mort.columns.str.replace('_',' ')\n",
        "yuc_mort.columns = yuc_mort.columns.str.capitalize()\n",
        "yuc_mort"
      ],
      "execution_count": null,
      "outputs": [
        {
          "output_type": "execute_result",
          "data": {
            "text/html": [
              "<div>\n",
              "<style scoped>\n",
              "    .dataframe tbody tr th:only-of-type {\n",
              "        vertical-align: middle;\n",
              "    }\n",
              "\n",
              "    .dataframe tbody tr th {\n",
              "        vertical-align: top;\n",
              "    }\n",
              "\n",
              "    .dataframe thead th {\n",
              "        text-align: right;\n",
              "    }\n",
              "</style>\n",
              "<table border=\"1\" class=\"dataframe\">\n",
              "  <thead>\n",
              "    <tr style=\"text-align: right;\">\n",
              "      <th></th>\n",
              "      <th>Año</th>\n",
              "      <th>Entidad</th>\n",
              "      <th>Defunciones por suicidios</th>\n",
              "      <th>Tasa de mortalidad por suicidios por 100000</th>\n",
              "    </tr>\n",
              "  </thead>\n",
              "  <tbody>\n",
              "    <tr>\n",
              "      <th>0</th>\n",
              "      <td>2010</td>\n",
              "      <td>Yucatán</td>\n",
              "      <td>206</td>\n",
              "      <td>10.40</td>\n",
              "    </tr>\n",
              "    <tr>\n",
              "      <th>1</th>\n",
              "      <td>2011</td>\n",
              "      <td>Yucatán</td>\n",
              "      <td>186</td>\n",
              "      <td>9.26</td>\n",
              "    </tr>\n",
              "    <tr>\n",
              "      <th>2</th>\n",
              "      <td>2012</td>\n",
              "      <td>Yucatán</td>\n",
              "      <td>160</td>\n",
              "      <td>7.86</td>\n",
              "    </tr>\n",
              "    <tr>\n",
              "      <th>3</th>\n",
              "      <td>2013</td>\n",
              "      <td>Yucatán</td>\n",
              "      <td>167</td>\n",
              "      <td>8.09</td>\n",
              "    </tr>\n",
              "    <tr>\n",
              "      <th>4</th>\n",
              "      <td>2014</td>\n",
              "      <td>Yucatán</td>\n",
              "      <td>181</td>\n",
              "      <td>8.65</td>\n",
              "    </tr>\n",
              "    <tr>\n",
              "      <th>5</th>\n",
              "      <td>2015</td>\n",
              "      <td>Yucatán</td>\n",
              "      <td>190</td>\n",
              "      <td>8.97</td>\n",
              "    </tr>\n",
              "    <tr>\n",
              "      <th>6</th>\n",
              "      <td>2016</td>\n",
              "      <td>Yucatán</td>\n",
              "      <td>224</td>\n",
              "      <td>10.44</td>\n",
              "    </tr>\n",
              "  </tbody>\n",
              "</table>\n",
              "</div>"
            ],
            "text/plain": [
              "    Año  ... Tasa de mortalidad por suicidios por 100000\n",
              "0  2010  ...                                       10.40\n",
              "1  2011  ...                                        9.26\n",
              "2  2012  ...                                        7.86\n",
              "3  2013  ...                                        8.09\n",
              "4  2014  ...                                        8.65\n",
              "5  2015  ...                                        8.97\n",
              "6  2016  ...                                       10.44\n",
              "\n",
              "[7 rows x 4 columns]"
            ]
          },
          "metadata": {
            "tags": []
          },
          "execution_count": 12
        }
      ]
    },
    {
      "cell_type": "markdown",
      "metadata": {
        "id": "5p8YcSZMkfPm"
      },
      "source": [
        "Los datos de Yucatán pueden ser comparados con respecto a los valores a nivel nacional. En la sección Visualización de datos se mostrará de manera gráfica dicha comparación."
      ]
    },
    {
      "cell_type": "code",
      "metadata": {
        "id": "gKsyMq7Mj0E0",
        "outputId": "635f1654-3609-4e09-cec1-c24eaad3ab7c",
        "colab": {
          "base_uri": "https://localhost:8080/",
          "height": 254
        }
      },
      "source": [
        "nac_mort = mortalidad.query('ENTIDAD == \"Nacional\"').reset_index().drop(columns=['index', 'CLAVE_ENTIDAD', 'POBLACIÓN_MEDIA_TOTAL'])\n",
        "nac_mort.columns = nac_mort.columns.str.replace('_', ' ')\n",
        "nac_mort.columns = nac_mort.columns.str.capitalize()\n",
        "nac_mort"
      ],
      "execution_count": null,
      "outputs": [
        {
          "output_type": "execute_result",
          "data": {
            "text/html": [
              "<div>\n",
              "<style scoped>\n",
              "    .dataframe tbody tr th:only-of-type {\n",
              "        vertical-align: middle;\n",
              "    }\n",
              "\n",
              "    .dataframe tbody tr th {\n",
              "        vertical-align: top;\n",
              "    }\n",
              "\n",
              "    .dataframe thead th {\n",
              "        text-align: right;\n",
              "    }\n",
              "</style>\n",
              "<table border=\"1\" class=\"dataframe\">\n",
              "  <thead>\n",
              "    <tr style=\"text-align: right;\">\n",
              "      <th></th>\n",
              "      <th>Año</th>\n",
              "      <th>Entidad</th>\n",
              "      <th>Defunciones por suicidios</th>\n",
              "      <th>Tasa de mortalidad por suicidios por 100000</th>\n",
              "    </tr>\n",
              "  </thead>\n",
              "  <tbody>\n",
              "    <tr>\n",
              "      <th>0</th>\n",
              "      <td>2010</td>\n",
              "      <td>Nacional</td>\n",
              "      <td>5006</td>\n",
              "      <td>4.38</td>\n",
              "    </tr>\n",
              "    <tr>\n",
              "      <th>1</th>\n",
              "      <td>2011</td>\n",
              "      <td>Nacional</td>\n",
              "      <td>5712</td>\n",
              "      <td>4.94</td>\n",
              "    </tr>\n",
              "    <tr>\n",
              "      <th>2</th>\n",
              "      <td>2012</td>\n",
              "      <td>Nacional</td>\n",
              "      <td>5539</td>\n",
              "      <td>4.73</td>\n",
              "    </tr>\n",
              "    <tr>\n",
              "      <th>3</th>\n",
              "      <td>2013</td>\n",
              "      <td>Nacional</td>\n",
              "      <td>5889</td>\n",
              "      <td>4.97</td>\n",
              "    </tr>\n",
              "    <tr>\n",
              "      <th>4</th>\n",
              "      <td>2014</td>\n",
              "      <td>Nacional</td>\n",
              "      <td>6317</td>\n",
              "      <td>5.28</td>\n",
              "    </tr>\n",
              "    <tr>\n",
              "      <th>5</th>\n",
              "      <td>2015</td>\n",
              "      <td>Nacional</td>\n",
              "      <td>6410</td>\n",
              "      <td>5.30</td>\n",
              "    </tr>\n",
              "    <tr>\n",
              "      <th>6</th>\n",
              "      <td>2016</td>\n",
              "      <td>Nacional</td>\n",
              "      <td>6348</td>\n",
              "      <td>5.19</td>\n",
              "    </tr>\n",
              "  </tbody>\n",
              "</table>\n",
              "</div>"
            ],
            "text/plain": [
              "    Año  ... Tasa de mortalidad por suicidios por 100000\n",
              "0  2010  ...                                        4.38\n",
              "1  2011  ...                                        4.94\n",
              "2  2012  ...                                        4.73\n",
              "3  2013  ...                                        4.97\n",
              "4  2014  ...                                        5.28\n",
              "5  2015  ...                                        5.30\n",
              "6  2016  ...                                        5.19\n",
              "\n",
              "[7 rows x 4 columns]"
            ]
          },
          "metadata": {
            "tags": []
          },
          "execution_count": 13
        }
      ]
    },
    {
      "cell_type": "markdown",
      "metadata": {
        "id": "tv4-jMndj4BF"
      },
      "source": [
        "Los datos otorgados por la INEGI permiten conocer a mayor detalle. Por ejemplo, filtrando por entidad y sexo, podemos conocer el número de suicidios dentro del periodo que abarcan los datos, es decir, de 2010 a 2018."
      ]
    },
    {
      "cell_type": "code",
      "metadata": {
        "id": "-ammbhw7lnJz",
        "outputId": "a9362040-d3cd-4d15-a84f-060d624baaa5",
        "colab": {
          "base_uri": "https://localhost:8080/",
          "height": 67
        }
      },
      "source": [
        "h_inegi_yuc = mortalidad_inegi.query('SEXO == \"H\" and ENTIDAD == \"YUCATAN\"').TOTAL.sum()\n",
        "m_inegi_yuc = mortalidad_inegi.query('SEXO == \"M\" and ENTIDAD == \"YUCATAN\"').TOTAL.sum()\n",
        "\n",
        "print(\"En Yucatán un total de {} hombres murieron a causa de suicidio del 2010 al 2018.\\n\".format(h_inegi_yuc))\n",
        "print(\"Por otra parte, un total de {} mujeres murieron por la misma causa durante dicho periodo.\".format(m_inegi_yuc))"
      ],
      "execution_count": null,
      "outputs": [
        {
          "output_type": "stream",
          "text": [
            "En Yucatán un total de 1427 hombres murieron a causa de suicidio del 2010 al 2018.\n",
            "\n",
            "Por otra parte, un total de 313 mujeres murieron por la misma causa durante dicho periodo.\n"
          ],
          "name": "stdout"
        }
      ]
    },
    {
      "cell_type": "markdown",
      "metadata": {
        "id": "k04U7BzZl7-g"
      },
      "source": [
        "Los datos de la INEGI también nos permite conocer las entidades con mayor número de suicidios. Es importante notar que esto es diferente con la tasa de suicidios, ya que el valor no estaría otorgado en relación a la población, sino más bien sería el valor concreto total.\n",
        "\n",
        "Para este caso, se eliminan los datos cuya entidad esté marcada como 'NACIONAL', ya que este determina el total en el país."
      ]
    },
    {
      "cell_type": "code",
      "metadata": {
        "id": "wAQazrtnloDG",
        "outputId": "5e8c128b-933e-4097-e08d-9bfb42861b89",
        "colab": {
          "base_uri": "https://localhost:8080/",
          "height": 314
        }
      },
      "source": [
        "inegi_total_entidad = mortalidad_inegi.groupby(['ENTIDAD', 'AÑO']).TOTAL.sum().reset_index()\n",
        "inegi_total_entidad = inegi_total_entidad[inegi_total_entidad['ENTIDAD'] != 'NACIONAL']\n",
        "inegi_total_entidad.sort_values(['TOTAL', 'AÑO']).drop_duplicates('AÑO', keep='last').reset_index().drop(columns='index').sort_values('AÑO')"
      ],
      "execution_count": null,
      "outputs": [
        {
          "output_type": "execute_result",
          "data": {
            "text/html": [
              "<div>\n",
              "<style scoped>\n",
              "    .dataframe tbody tr th:only-of-type {\n",
              "        vertical-align: middle;\n",
              "    }\n",
              "\n",
              "    .dataframe tbody tr th {\n",
              "        vertical-align: top;\n",
              "    }\n",
              "\n",
              "    .dataframe thead th {\n",
              "        text-align: right;\n",
              "    }\n",
              "</style>\n",
              "<table border=\"1\" class=\"dataframe\">\n",
              "  <thead>\n",
              "    <tr style=\"text-align: right;\">\n",
              "      <th></th>\n",
              "      <th>ENTIDAD</th>\n",
              "      <th>AÑO</th>\n",
              "      <th>TOTAL</th>\n",
              "    </tr>\n",
              "  </thead>\n",
              "  <tbody>\n",
              "    <tr>\n",
              "      <th>0</th>\n",
              "      <td>MEXICO</td>\n",
              "      <td>2010</td>\n",
              "      <td>537</td>\n",
              "    </tr>\n",
              "    <tr>\n",
              "      <th>3</th>\n",
              "      <td>MEXICO</td>\n",
              "      <td>2011</td>\n",
              "      <td>599</td>\n",
              "    </tr>\n",
              "    <tr>\n",
              "      <th>2</th>\n",
              "      <td>MEXICO</td>\n",
              "      <td>2012</td>\n",
              "      <td>598</td>\n",
              "    </tr>\n",
              "    <tr>\n",
              "      <th>4</th>\n",
              "      <td>MEXICO</td>\n",
              "      <td>2013</td>\n",
              "      <td>620</td>\n",
              "    </tr>\n",
              "    <tr>\n",
              "      <th>8</th>\n",
              "      <td>MEXICO</td>\n",
              "      <td>2014</td>\n",
              "      <td>670</td>\n",
              "    </tr>\n",
              "    <tr>\n",
              "      <th>7</th>\n",
              "      <td>MEXICO</td>\n",
              "      <td>2015</td>\n",
              "      <td>667</td>\n",
              "    </tr>\n",
              "    <tr>\n",
              "      <th>1</th>\n",
              "      <td>JALISCO</td>\n",
              "      <td>2016</td>\n",
              "      <td>597</td>\n",
              "    </tr>\n",
              "    <tr>\n",
              "      <th>6</th>\n",
              "      <td>JALISCO</td>\n",
              "      <td>2017</td>\n",
              "      <td>657</td>\n",
              "    </tr>\n",
              "    <tr>\n",
              "      <th>5</th>\n",
              "      <td>JALISCO</td>\n",
              "      <td>2018</td>\n",
              "      <td>630</td>\n",
              "    </tr>\n",
              "  </tbody>\n",
              "</table>\n",
              "</div>"
            ],
            "text/plain": [
              "   ENTIDAD   AÑO  TOTAL\n",
              "0   MEXICO  2010    537\n",
              "3   MEXICO  2011    599\n",
              "2   MEXICO  2012    598\n",
              "4   MEXICO  2013    620\n",
              "8   MEXICO  2014    670\n",
              "7   MEXICO  2015    667\n",
              "1  JALISCO  2016    597\n",
              "6  JALISCO  2017    657\n",
              "5  JALISCO  2018    630"
            ]
          },
          "metadata": {
            "tags": []
          },
          "execution_count": 15
        }
      ]
    },
    {
      "cell_type": "markdown",
      "metadata": {
        "id": "yLEMuf_Vnm8W"
      },
      "source": [
        "Estos datos pueden ser filtrados por sexo, para encontrar la proporción de suicidios entre hombres y mujeres en el estado."
      ]
    },
    {
      "cell_type": "code",
      "metadata": {
        "id": "y1LcCybSmWsI",
        "outputId": "89bd76af-2261-414e-c78a-079a2becbae1",
        "colab": {
          "base_uri": "https://localhost:8080/",
          "height": 580
        }
      },
      "source": [
        "inegi_total_entidad_sexo = mortalidad_inegi.groupby(['ENTIDAD', 'AÑO', 'SEXO']).TOTAL.sum().reset_index()\n",
        "inegi_total_entidad_sexo.query('ENTIDAD == \"YUCATAN\"').groupby(['AÑO', 'SEXO']).TOTAL.sum().reset_index()"
      ],
      "execution_count": null,
      "outputs": [
        {
          "output_type": "execute_result",
          "data": {
            "text/html": [
              "<div>\n",
              "<style scoped>\n",
              "    .dataframe tbody tr th:only-of-type {\n",
              "        vertical-align: middle;\n",
              "    }\n",
              "\n",
              "    .dataframe tbody tr th {\n",
              "        vertical-align: top;\n",
              "    }\n",
              "\n",
              "    .dataframe thead th {\n",
              "        text-align: right;\n",
              "    }\n",
              "</style>\n",
              "<table border=\"1\" class=\"dataframe\">\n",
              "  <thead>\n",
              "    <tr style=\"text-align: right;\">\n",
              "      <th></th>\n",
              "      <th>AÑO</th>\n",
              "      <th>SEXO</th>\n",
              "      <th>TOTAL</th>\n",
              "    </tr>\n",
              "  </thead>\n",
              "  <tbody>\n",
              "    <tr>\n",
              "      <th>0</th>\n",
              "      <td>2010</td>\n",
              "      <td>H</td>\n",
              "      <td>169</td>\n",
              "    </tr>\n",
              "    <tr>\n",
              "      <th>1</th>\n",
              "      <td>2010</td>\n",
              "      <td>M</td>\n",
              "      <td>37</td>\n",
              "    </tr>\n",
              "    <tr>\n",
              "      <th>2</th>\n",
              "      <td>2011</td>\n",
              "      <td>H</td>\n",
              "      <td>152</td>\n",
              "    </tr>\n",
              "    <tr>\n",
              "      <th>3</th>\n",
              "      <td>2011</td>\n",
              "      <td>M</td>\n",
              "      <td>34</td>\n",
              "    </tr>\n",
              "    <tr>\n",
              "      <th>4</th>\n",
              "      <td>2012</td>\n",
              "      <td>H</td>\n",
              "      <td>131</td>\n",
              "    </tr>\n",
              "    <tr>\n",
              "      <th>5</th>\n",
              "      <td>2012</td>\n",
              "      <td>M</td>\n",
              "      <td>29</td>\n",
              "    </tr>\n",
              "    <tr>\n",
              "      <th>6</th>\n",
              "      <td>2013</td>\n",
              "      <td>H</td>\n",
              "      <td>141</td>\n",
              "    </tr>\n",
              "    <tr>\n",
              "      <th>7</th>\n",
              "      <td>2013</td>\n",
              "      <td>M</td>\n",
              "      <td>26</td>\n",
              "    </tr>\n",
              "    <tr>\n",
              "      <th>8</th>\n",
              "      <td>2014</td>\n",
              "      <td>H</td>\n",
              "      <td>153</td>\n",
              "    </tr>\n",
              "    <tr>\n",
              "      <th>9</th>\n",
              "      <td>2014</td>\n",
              "      <td>M</td>\n",
              "      <td>28</td>\n",
              "    </tr>\n",
              "    <tr>\n",
              "      <th>10</th>\n",
              "      <td>2015</td>\n",
              "      <td>H</td>\n",
              "      <td>145</td>\n",
              "    </tr>\n",
              "    <tr>\n",
              "      <th>11</th>\n",
              "      <td>2015</td>\n",
              "      <td>M</td>\n",
              "      <td>45</td>\n",
              "    </tr>\n",
              "    <tr>\n",
              "      <th>12</th>\n",
              "      <td>2016</td>\n",
              "      <td>H</td>\n",
              "      <td>189</td>\n",
              "    </tr>\n",
              "    <tr>\n",
              "      <th>13</th>\n",
              "      <td>2016</td>\n",
              "      <td>M</td>\n",
              "      <td>35</td>\n",
              "    </tr>\n",
              "    <tr>\n",
              "      <th>14</th>\n",
              "      <td>2017</td>\n",
              "      <td>H</td>\n",
              "      <td>152</td>\n",
              "    </tr>\n",
              "    <tr>\n",
              "      <th>15</th>\n",
              "      <td>2017</td>\n",
              "      <td>M</td>\n",
              "      <td>39</td>\n",
              "    </tr>\n",
              "    <tr>\n",
              "      <th>16</th>\n",
              "      <td>2018</td>\n",
              "      <td>H</td>\n",
              "      <td>195</td>\n",
              "    </tr>\n",
              "    <tr>\n",
              "      <th>17</th>\n",
              "      <td>2018</td>\n",
              "      <td>M</td>\n",
              "      <td>40</td>\n",
              "    </tr>\n",
              "  </tbody>\n",
              "</table>\n",
              "</div>"
            ],
            "text/plain": [
              "     AÑO SEXO  TOTAL\n",
              "0   2010    H    169\n",
              "1   2010    M     37\n",
              "2   2011    H    152\n",
              "3   2011    M     34\n",
              "4   2012    H    131\n",
              "5   2012    M     29\n",
              "6   2013    H    141\n",
              "7   2013    M     26\n",
              "8   2014    H    153\n",
              "9   2014    M     28\n",
              "10  2015    H    145\n",
              "11  2015    M     45\n",
              "12  2016    H    189\n",
              "13  2016    M     35\n",
              "14  2017    H    152\n",
              "15  2017    M     39\n",
              "16  2018    H    195\n",
              "17  2018    M     40"
            ]
          },
          "metadata": {
            "tags": []
          },
          "execution_count": 16
        }
      ]
    },
    {
      "cell_type": "markdown",
      "metadata": {
        "id": "_VtvAnRox-cm"
      },
      "source": [
        "Yucatán suele ser catalogado como un estado seguro, debido a poca presencia de narcotráfico y crimen organizado; fallecimientos por arma de fuego son raros. \n",
        "\n",
        "Los programas de prevención enfocan sus esfuerzos de manera proporcional a las causas. Con los datos consultados es posible conocer el total de fallecimientos por causa dentro del rango de 2010 a 2016."
      ]
    },
    {
      "cell_type": "code",
      "metadata": {
        "id": "ut_MbYcFmgd3",
        "outputId": "e41c0f66-49d4-4c66-c949-a348171f4a64",
        "colab": {
          "base_uri": "https://localhost:8080/",
          "height": 166
        }
      },
      "source": [
        "yuc_causas = mental_yuc.groupby(['CAUSA']).TOTAL.sum().reset_index()\n",
        "yuc_causas.columns = yuc_causas.columns.str.capitalize()\n",
        "yuc_causas['Causa'] = yuc_causas['Causa'].apply(lambda x: x.capitalize())\n",
        "yuc_causas"
      ],
      "execution_count": null,
      "outputs": [
        {
          "output_type": "execute_result",
          "data": {
            "text/html": [
              "<div>\n",
              "<style scoped>\n",
              "    .dataframe tbody tr th:only-of-type {\n",
              "        vertical-align: middle;\n",
              "    }\n",
              "\n",
              "    .dataframe tbody tr th {\n",
              "        vertical-align: top;\n",
              "    }\n",
              "\n",
              "    .dataframe thead th {\n",
              "        text-align: right;\n",
              "    }\n",
              "</style>\n",
              "<table border=\"1\" class=\"dataframe\">\n",
              "  <thead>\n",
              "    <tr style=\"text-align: right;\">\n",
              "      <th></th>\n",
              "      <th>Causa</th>\n",
              "      <th>Total</th>\n",
              "    </tr>\n",
              "  </thead>\n",
              "  <tbody>\n",
              "    <tr>\n",
              "      <th>0</th>\n",
              "      <td>Ahorcamiento</td>\n",
              "      <td>1525</td>\n",
              "    </tr>\n",
              "    <tr>\n",
              "      <th>1</th>\n",
              "      <td>Disparo</td>\n",
              "      <td>41</td>\n",
              "    </tr>\n",
              "    <tr>\n",
              "      <th>2</th>\n",
              "      <td>Envenenamiento</td>\n",
              "      <td>184</td>\n",
              "    </tr>\n",
              "    <tr>\n",
              "      <th>3</th>\n",
              "      <td>Otra</td>\n",
              "      <td>27</td>\n",
              "    </tr>\n",
              "  </tbody>\n",
              "</table>\n",
              "</div>"
            ],
            "text/plain": [
              "            Causa  Total\n",
              "0    Ahorcamiento   1525\n",
              "1         Disparo     41\n",
              "2  Envenenamiento    184\n",
              "3            Otra     27"
            ]
          },
          "metadata": {
            "tags": []
          },
          "execution_count": 17
        }
      ]
    },
    {
      "cell_type": "markdown",
      "metadata": {
        "id": "ymBKAcoTx3K0"
      },
      "source": [
        "Además de los programas de prevención, un pilar de apoyo son los psicólogos. No todos los estados tienen la misma facilidad de acceso a los psicólogos. Uno de los sets de datos consultados nos permite conocer la cantidad de psicólogos por cada mil habitantes, dándonos una idea de la disponibilidad de este especialista.\n",
        "\n",
        "Primero queremos conocer los estados con mayor número de psicólogos por mil habitantes. Cabe aclarar que estos datos únicamente incluyen a psicólogos que trabajan para alguna institución de salud pública, como el IMSS o ISSSTE."
      ]
    },
    {
      "cell_type": "code",
      "metadata": {
        "id": "kMkqJywz1fIu",
        "outputId": "8dcf0de5-19f9-42f1-e956-a3341563aeb9",
        "colab": {
          "base_uri": "https://localhost:8080/",
          "height": 254
        }
      },
      "source": [
        "psics = psicologos.sort_values(by=['AÑO', 'PSICOLOGOS_POR_1000_HAB'], ascending=[True, False]).drop_duplicates('AÑO', keep='first')\n",
        "psics = psics.drop(columns=['CLAVE_ENTIDAD', 'CLAVE_SEXO', 'SEXO'])\n",
        "psics['ENTIDAD'] = psics['ENTIDAD'].apply(lambda x: x.capitalize())\n",
        "psics.columns = psics.columns.str.replace('_', ' ')\n",
        "psics.columns = psics.columns.str.capitalize()\n",
        "psics"
      ],
      "execution_count": null,
      "outputs": [
        {
          "output_type": "execute_result",
          "data": {
            "text/html": [
              "<div>\n",
              "<style scoped>\n",
              "    .dataframe tbody tr th:only-of-type {\n",
              "        vertical-align: middle;\n",
              "    }\n",
              "\n",
              "    .dataframe tbody tr th {\n",
              "        vertical-align: top;\n",
              "    }\n",
              "\n",
              "    .dataframe thead th {\n",
              "        text-align: right;\n",
              "    }\n",
              "</style>\n",
              "<table border=\"1\" class=\"dataframe\">\n",
              "  <thead>\n",
              "    <tr style=\"text-align: right;\">\n",
              "      <th></th>\n",
              "      <th>Año</th>\n",
              "      <th>Entidad</th>\n",
              "      <th>Psicologos</th>\n",
              "      <th>Poblacion media total</th>\n",
              "      <th>Psicologos por 1000 hab</th>\n",
              "    </tr>\n",
              "  </thead>\n",
              "  <tbody>\n",
              "    <tr>\n",
              "      <th>9</th>\n",
              "      <td>2010</td>\n",
              "      <td>Ciudad de méxico</td>\n",
              "      <td>827</td>\n",
              "      <td>8.944599e+06</td>\n",
              "      <td>0.092458</td>\n",
              "    </tr>\n",
              "    <tr>\n",
              "      <th>41</th>\n",
              "      <td>2011</td>\n",
              "      <td>Chihuahua</td>\n",
              "      <td>149</td>\n",
              "      <td>6.722630e+05</td>\n",
              "      <td>0.221639</td>\n",
              "    </tr>\n",
              "    <tr>\n",
              "      <th>75</th>\n",
              "      <td>2012</td>\n",
              "      <td>Ciudad de méxico</td>\n",
              "      <td>897</td>\n",
              "      <td>8.911665e+06</td>\n",
              "      <td>0.100655</td>\n",
              "    </tr>\n",
              "    <tr>\n",
              "      <th>117</th>\n",
              "      <td>2013</td>\n",
              "      <td>Nayarit</td>\n",
              "      <td>130</td>\n",
              "      <td>1.178403e+06</td>\n",
              "      <td>0.110319</td>\n",
              "    </tr>\n",
              "    <tr>\n",
              "      <th>141</th>\n",
              "      <td>2014</td>\n",
              "      <td>Ciudad de méxico</td>\n",
              "      <td>1005</td>\n",
              "      <td>8.874724e+06</td>\n",
              "      <td>0.113243</td>\n",
              "    </tr>\n",
              "    <tr>\n",
              "      <th>183</th>\n",
              "      <td>2015</td>\n",
              "      <td>Nayarit</td>\n",
              "      <td>149</td>\n",
              "      <td>1.223797e+06</td>\n",
              "      <td>0.121752</td>\n",
              "    </tr>\n",
              "    <tr>\n",
              "      <th>216</th>\n",
              "      <td>2016</td>\n",
              "      <td>Nayarit</td>\n",
              "      <td>154</td>\n",
              "      <td>1.246202e+06</td>\n",
              "      <td>0.123575</td>\n",
              "    </tr>\n",
              "  </tbody>\n",
              "</table>\n",
              "</div>"
            ],
            "text/plain": [
              "      Año            Entidad  ...  Poblacion media total  Psicologos por 1000 hab\n",
              "9    2010  Ciudad de méxico  ...           8.944599e+06                 0.092458\n",
              "41   2011          Chihuahua  ...           6.722630e+05                 0.221639\n",
              "75   2012  Ciudad de méxico  ...           8.911665e+06                 0.100655\n",
              "117  2013            Nayarit  ...           1.178403e+06                 0.110319\n",
              "141  2014  Ciudad de méxico  ...           8.874724e+06                 0.113243\n",
              "183  2015            Nayarit  ...           1.223797e+06                 0.121752\n",
              "216  2016            Nayarit  ...           1.246202e+06                 0.123575\n",
              "\n",
              "[7 rows x 5 columns]"
            ]
          },
          "metadata": {
            "tags": []
          },
          "execution_count": 18
        }
      ]
    },
    {
      "cell_type": "markdown",
      "metadata": {
        "id": "HF4zKIPF1gga"
      },
      "source": [
        "De manera más específica, podemos observar cómo cambió esta proporción de psicólogos en el estado de Yucatán."
      ]
    },
    {
      "cell_type": "code",
      "metadata": {
        "id": "qQ1TQzgX4C0s",
        "outputId": "9d2e5f1d-fb0f-4f7c-97dd-29f3df3c5454",
        "colab": {
          "base_uri": "https://localhost:8080/",
          "height": 254
        }
      },
      "source": [
        "psics_yuc = psicologos.sort_values(by=['AÑO', 'PSICOLOGOS_POR_1000_HAB']).query('ENTIDAD == \"YUCATÁN\"')\n",
        "psics_yuc = psics_yuc.drop(columns=['CLAVE_ENTIDAD', 'CLAVE_SEXO', 'SEXO'])\n",
        "psics_yuc['ENTIDAD'] = psics_yuc['ENTIDAD'].apply(lambda x: x.capitalize())\n",
        "psics_yuc.columns = psics_yuc.columns.str.replace('_', ' ')\n",
        "psics_yuc.columns = psics_yuc.columns.str.capitalize()\n",
        "psics_yuc"
      ],
      "execution_count": null,
      "outputs": [
        {
          "output_type": "execute_result",
          "data": {
            "text/html": [
              "<div>\n",
              "<style scoped>\n",
              "    .dataframe tbody tr th:only-of-type {\n",
              "        vertical-align: middle;\n",
              "    }\n",
              "\n",
              "    .dataframe tbody tr th {\n",
              "        vertical-align: top;\n",
              "    }\n",
              "\n",
              "    .dataframe thead th {\n",
              "        text-align: right;\n",
              "    }\n",
              "</style>\n",
              "<table border=\"1\" class=\"dataframe\">\n",
              "  <thead>\n",
              "    <tr style=\"text-align: right;\">\n",
              "      <th></th>\n",
              "      <th>Año</th>\n",
              "      <th>Entidad</th>\n",
              "      <th>Psicologos</th>\n",
              "      <th>Poblacion media total</th>\n",
              "      <th>Psicologos por 1000 hab</th>\n",
              "    </tr>\n",
              "  </thead>\n",
              "  <tbody>\n",
              "    <tr>\n",
              "      <th>31</th>\n",
              "      <td>2010</td>\n",
              "      <td>Yucatán</td>\n",
              "      <td>36</td>\n",
              "      <td>1980690.436</td>\n",
              "      <td>0.018175</td>\n",
              "    </tr>\n",
              "    <tr>\n",
              "      <th>64</th>\n",
              "      <td>2011</td>\n",
              "      <td>Yucatán</td>\n",
              "      <td>39</td>\n",
              "      <td>2009159.877</td>\n",
              "      <td>0.019411</td>\n",
              "    </tr>\n",
              "    <tr>\n",
              "      <th>97</th>\n",
              "      <td>2012</td>\n",
              "      <td>Yucatán</td>\n",
              "      <td>41</td>\n",
              "      <td>2036694.292</td>\n",
              "      <td>0.020131</td>\n",
              "    </tr>\n",
              "    <tr>\n",
              "      <th>130</th>\n",
              "      <td>2013</td>\n",
              "      <td>Yucatán</td>\n",
              "      <td>50</td>\n",
              "      <td>2064150.931</td>\n",
              "      <td>0.024223</td>\n",
              "    </tr>\n",
              "    <tr>\n",
              "      <th>163</th>\n",
              "      <td>2014</td>\n",
              "      <td>Yucatán</td>\n",
              "      <td>66</td>\n",
              "      <td>2091512.766</td>\n",
              "      <td>0.031556</td>\n",
              "    </tr>\n",
              "    <tr>\n",
              "      <th>196</th>\n",
              "      <td>2015</td>\n",
              "      <td>Yucatán</td>\n",
              "      <td>160</td>\n",
              "      <td>2118762.000</td>\n",
              "      <td>0.075516</td>\n",
              "    </tr>\n",
              "    <tr>\n",
              "      <th>229</th>\n",
              "      <td>2016</td>\n",
              "      <td>Yucatán</td>\n",
              "      <td>165</td>\n",
              "      <td>2145877.589</td>\n",
              "      <td>0.076892</td>\n",
              "    </tr>\n",
              "  </tbody>\n",
              "</table>\n",
              "</div>"
            ],
            "text/plain": [
              "      Año  Entidad  Psicologos  Poblacion media total  Psicologos por 1000 hab\n",
              "31   2010  Yucatán          36            1980690.436                 0.018175\n",
              "64   2011  Yucatán          39            2009159.877                 0.019411\n",
              "97   2012  Yucatán          41            2036694.292                 0.020131\n",
              "130  2013  Yucatán          50            2064150.931                 0.024223\n",
              "163  2014  Yucatán          66            2091512.766                 0.031556\n",
              "196  2015  Yucatán         160            2118762.000                 0.075516\n",
              "229  2016  Yucatán         165            2145877.589                 0.076892"
            ]
          },
          "metadata": {
            "tags": []
          },
          "execution_count": 19
        }
      ]
    },
    {
      "cell_type": "markdown",
      "metadata": {
        "id": "dgjUK4vJ4G1c"
      },
      "source": [
        "Junto con los psicólogos, los psiquiatras son el otro profesional de la salud cuya participación resulta vital para la prevención del suicidio. Sin embargo, la cantidad de psiquiatras es menor que los psicólogos. Esto puede deberse a que el psiquiatra es un especialidad, por lo que primero se debe estudiar medicina.\n",
        "\n",
        "Similar que con los psicólogos, primero se quiere conocer el número de psiquiatras por cada mil habitantes, mostrando los estados con un mayor proporción en la tabla siguiente."
      ]
    },
    {
      "cell_type": "code",
      "metadata": {
        "id": "61f5IrYX6oYl",
        "outputId": "c7fc945a-3ab2-4790-d51e-d42b982f7e5f",
        "colab": {
          "base_uri": "https://localhost:8080/",
          "height": 254
        }
      },
      "source": [
        "psiqs = psiquiatras.sort_values(by=['AÑO', 'PSIQUIATRAS_POR_1000_HAB'], ascending=[True, False]).drop_duplicates('AÑO', keep='first')\n",
        "psiqs = psiqs.drop(columns=['CLAVE_ENTIDAD', 'CLAVE_SEXO', 'SEXO'])\n",
        "psiqs['ENTIDAD'] = psiqs['ENTIDAD'].apply(lambda x: x.capitalize())\n",
        "psiqs.columns = psiqs.columns.str.replace('_', ' ')\n",
        "psiqs.columns = psiqs.columns.str.capitalize()\n",
        "psiqs"
      ],
      "execution_count": null,
      "outputs": [
        {
          "output_type": "execute_result",
          "data": {
            "text/html": [
              "<div>\n",
              "<style scoped>\n",
              "    .dataframe tbody tr th:only-of-type {\n",
              "        vertical-align: middle;\n",
              "    }\n",
              "\n",
              "    .dataframe tbody tr th {\n",
              "        vertical-align: top;\n",
              "    }\n",
              "\n",
              "    .dataframe thead th {\n",
              "        text-align: right;\n",
              "    }\n",
              "</style>\n",
              "<table border=\"1\" class=\"dataframe\">\n",
              "  <thead>\n",
              "    <tr style=\"text-align: right;\">\n",
              "      <th></th>\n",
              "      <th>Año</th>\n",
              "      <th>Entidad</th>\n",
              "      <th>Psiquiátras</th>\n",
              "      <th>Población média total</th>\n",
              "      <th>Psiquiatras por 1000 hab</th>\n",
              "    </tr>\n",
              "  </thead>\n",
              "  <tbody>\n",
              "    <tr>\n",
              "      <th>9</th>\n",
              "      <td>2010</td>\n",
              "      <td>Ciudad de méxico</td>\n",
              "      <td>421</td>\n",
              "      <td>8944598.896</td>\n",
              "      <td>0.047068</td>\n",
              "    </tr>\n",
              "    <tr>\n",
              "      <th>42</th>\n",
              "      <td>2011</td>\n",
              "      <td>Ciudad de méxico</td>\n",
              "      <td>434</td>\n",
              "      <td>8928399.992</td>\n",
              "      <td>0.048609</td>\n",
              "    </tr>\n",
              "    <tr>\n",
              "      <th>75</th>\n",
              "      <td>2012</td>\n",
              "      <td>Ciudad de méxico</td>\n",
              "      <td>446</td>\n",
              "      <td>8911664.709</td>\n",
              "      <td>0.050047</td>\n",
              "    </tr>\n",
              "    <tr>\n",
              "      <th>108</th>\n",
              "      <td>2013</td>\n",
              "      <td>Ciudad de méxico</td>\n",
              "      <td>465</td>\n",
              "      <td>8893742.316</td>\n",
              "      <td>0.052284</td>\n",
              "    </tr>\n",
              "    <tr>\n",
              "      <th>141</th>\n",
              "      <td>2014</td>\n",
              "      <td>Ciudad de méxico</td>\n",
              "      <td>465</td>\n",
              "      <td>8874724.175</td>\n",
              "      <td>0.052396</td>\n",
              "    </tr>\n",
              "    <tr>\n",
              "      <th>174</th>\n",
              "      <td>2015</td>\n",
              "      <td>Ciudad de méxico</td>\n",
              "      <td>465</td>\n",
              "      <td>8854600.000</td>\n",
              "      <td>0.052515</td>\n",
              "    </tr>\n",
              "    <tr>\n",
              "      <th>207</th>\n",
              "      <td>2016</td>\n",
              "      <td>Ciudad de méxico</td>\n",
              "      <td>444</td>\n",
              "      <td>8833416.226</td>\n",
              "      <td>0.050264</td>\n",
              "    </tr>\n",
              "  </tbody>\n",
              "</table>\n",
              "</div>"
            ],
            "text/plain": [
              "      Año            Entidad  ...  Población média total  Psiquiatras por 1000 hab\n",
              "9    2010  Ciudad de méxico  ...            8944598.896                  0.047068\n",
              "42   2011  Ciudad de méxico  ...            8928399.992                  0.048609\n",
              "75   2012  Ciudad de méxico  ...            8911664.709                  0.050047\n",
              "108  2013  Ciudad de méxico  ...            8893742.316                  0.052284\n",
              "141  2014  Ciudad de méxico  ...            8874724.175                  0.052396\n",
              "174  2015  Ciudad de méxico  ...            8854600.000                  0.052515\n",
              "207  2016  Ciudad de méxico  ...            8833416.226                  0.050264\n",
              "\n",
              "[7 rows x 5 columns]"
            ]
          },
          "metadata": {
            "tags": []
          },
          "execution_count": 20
        }
      ]
    },
    {
      "cell_type": "markdown",
      "metadata": {
        "id": "DmJqUFEw8vut"
      },
      "source": [
        "De manera más específica, podemos observar cómo cambió esta proporción de psiquiatras en el estado de Yucatán."
      ]
    },
    {
      "cell_type": "code",
      "metadata": {
        "id": "jNhP8Cdu8_Kr",
        "outputId": "5aaa4eb0-589d-4136-9889-cbe3403c3f68",
        "colab": {
          "base_uri": "https://localhost:8080/",
          "height": 254
        }
      },
      "source": [
        "psiqs_yuc = psiquiatras.sort_values(by=['AÑO', 'PSIQUIATRAS_POR_1000_HAB']).query('ENTIDAD == \"YUCATÁN\"')\n",
        "psiqs_yuc = psiqs_yuc.drop(columns=['CLAVE_ENTIDAD', 'CLAVE_SEXO', 'SEXO'])\n",
        "psiqs_yuc['ENTIDAD'] = psiqs_yuc['ENTIDAD'].apply(lambda x: x.capitalize())\n",
        "psiqs_yuc.columns = psiqs_yuc.columns.str.replace('_', ' ')\n",
        "psiqs_yuc.columns = psiqs_yuc.columns.str.capitalize()\n",
        "psiqs_yuc"
      ],
      "execution_count": null,
      "outputs": [
        {
          "output_type": "execute_result",
          "data": {
            "text/html": [
              "<div>\n",
              "<style scoped>\n",
              "    .dataframe tbody tr th:only-of-type {\n",
              "        vertical-align: middle;\n",
              "    }\n",
              "\n",
              "    .dataframe tbody tr th {\n",
              "        vertical-align: top;\n",
              "    }\n",
              "\n",
              "    .dataframe thead th {\n",
              "        text-align: right;\n",
              "    }\n",
              "</style>\n",
              "<table border=\"1\" class=\"dataframe\">\n",
              "  <thead>\n",
              "    <tr style=\"text-align: right;\">\n",
              "      <th></th>\n",
              "      <th>Año</th>\n",
              "      <th>Entidad</th>\n",
              "      <th>Psiquiátras</th>\n",
              "      <th>Población média total</th>\n",
              "      <th>Psiquiatras por 1000 hab</th>\n",
              "    </tr>\n",
              "  </thead>\n",
              "  <tbody>\n",
              "    <tr>\n",
              "      <th>31</th>\n",
              "      <td>2010</td>\n",
              "      <td>Yucatán</td>\n",
              "      <td>19</td>\n",
              "      <td>1980690.436</td>\n",
              "      <td>0.009593</td>\n",
              "    </tr>\n",
              "    <tr>\n",
              "      <th>64</th>\n",
              "      <td>2011</td>\n",
              "      <td>Yucatán</td>\n",
              "      <td>21</td>\n",
              "      <td>2009159.877</td>\n",
              "      <td>0.010452</td>\n",
              "    </tr>\n",
              "    <tr>\n",
              "      <th>97</th>\n",
              "      <td>2012</td>\n",
              "      <td>Yucatán</td>\n",
              "      <td>19</td>\n",
              "      <td>2036694.292</td>\n",
              "      <td>0.009329</td>\n",
              "    </tr>\n",
              "    <tr>\n",
              "      <th>130</th>\n",
              "      <td>2013</td>\n",
              "      <td>Yucatán</td>\n",
              "      <td>19</td>\n",
              "      <td>2064150.931</td>\n",
              "      <td>0.009205</td>\n",
              "    </tr>\n",
              "    <tr>\n",
              "      <th>163</th>\n",
              "      <td>2014</td>\n",
              "      <td>Yucatán</td>\n",
              "      <td>20</td>\n",
              "      <td>2091512.766</td>\n",
              "      <td>0.009562</td>\n",
              "    </tr>\n",
              "    <tr>\n",
              "      <th>196</th>\n",
              "      <td>2015</td>\n",
              "      <td>Yucatán</td>\n",
              "      <td>35</td>\n",
              "      <td>2118762.000</td>\n",
              "      <td>0.016519</td>\n",
              "    </tr>\n",
              "    <tr>\n",
              "      <th>229</th>\n",
              "      <td>2016</td>\n",
              "      <td>Yucatán</td>\n",
              "      <td>38</td>\n",
              "      <td>2145877.589</td>\n",
              "      <td>0.017708</td>\n",
              "    </tr>\n",
              "  </tbody>\n",
              "</table>\n",
              "</div>"
            ],
            "text/plain": [
              "      Año  Entidad  ...  Población média total  Psiquiatras por 1000 hab\n",
              "31   2010  Yucatán  ...            1980690.436                  0.009593\n",
              "64   2011  Yucatán  ...            2009159.877                  0.010452\n",
              "97   2012  Yucatán  ...            2036694.292                  0.009329\n",
              "130  2013  Yucatán  ...            2064150.931                  0.009205\n",
              "163  2014  Yucatán  ...            2091512.766                  0.009562\n",
              "196  2015  Yucatán  ...            2118762.000                  0.016519\n",
              "229  2016  Yucatán  ...            2145877.589                  0.017708\n",
              "\n",
              "[7 rows x 5 columns]"
            ]
          },
          "metadata": {
            "tags": []
          },
          "execution_count": 21
        }
      ]
    },
    {
      "cell_type": "markdown",
      "metadata": {
        "id": "u-0W-qrP9OhP"
      },
      "source": [
        "Estos datos de psicólogos y psiquiatras, además poder considerarse bajos para la población media total, no toma en cuenta que no toda la población está afiliada al Seguro Popular.\n",
        "\n",
        "Para el estado de Yucatán tenemos dos datos, el censo del 2010 y la encuesta intercensal del 2015."
      ]
    },
    {
      "cell_type": "code",
      "metadata": {
        "id": "2p79fG6d-sp5",
        "outputId": "2f94a4eb-b8b1-437c-d1bc-cbc50c550414",
        "colab": {
          "base_uri": "https://localhost:8080/",
          "height": 166
        }
      },
      "source": [
        "ss_yn = pob_ss.query('ENTIDAD_FEDERATIVA == [\"Yucatán\", \"Estados Unidos Mexicanos\"]').reset_index().drop(\n",
        "    columns=['index', 'POBLACIÓN_TOTAL', 'POBLACIÓN_AFILIADA_AL_SEGURO_POPULAR'])\n",
        "ss_yn.columns = ss_yn.columns.str.replace('_', ' ')\n",
        "ss_yn.columns = ss_yn.columns.str.capitalize()\n",
        "ss_yn"
      ],
      "execution_count": null,
      "outputs": [
        {
          "output_type": "execute_result",
          "data": {
            "text/html": [
              "<div>\n",
              "<style scoped>\n",
              "    .dataframe tbody tr th:only-of-type {\n",
              "        vertical-align: middle;\n",
              "    }\n",
              "\n",
              "    .dataframe tbody tr th {\n",
              "        vertical-align: top;\n",
              "    }\n",
              "\n",
              "    .dataframe thead th {\n",
              "        text-align: right;\n",
              "    }\n",
              "</style>\n",
              "<table border=\"1\" class=\"dataframe\">\n",
              "  <thead>\n",
              "    <tr style=\"text-align: right;\">\n",
              "      <th></th>\n",
              "      <th>Entidad federativa</th>\n",
              "      <th>Periodo</th>\n",
              "      <th>Porcentaje de la población afiliada al seguro popular</th>\n",
              "    </tr>\n",
              "  </thead>\n",
              "  <tbody>\n",
              "    <tr>\n",
              "      <th>0</th>\n",
              "      <td>Estados Unidos Mexicanos</td>\n",
              "      <td>2010</td>\n",
              "      <td>23.3</td>\n",
              "    </tr>\n",
              "    <tr>\n",
              "      <th>1</th>\n",
              "      <td>Yucatán</td>\n",
              "      <td>2010</td>\n",
              "      <td>28.8</td>\n",
              "    </tr>\n",
              "    <tr>\n",
              "      <th>2</th>\n",
              "      <td>Estados Unidos Mexicanos</td>\n",
              "      <td>2015</td>\n",
              "      <td>41.0</td>\n",
              "    </tr>\n",
              "    <tr>\n",
              "      <th>3</th>\n",
              "      <td>Yucatán</td>\n",
              "      <td>2015</td>\n",
              "      <td>41.4</td>\n",
              "    </tr>\n",
              "  </tbody>\n",
              "</table>\n",
              "</div>"
            ],
            "text/plain": [
              "         Entidad federativa  ...  Porcentaje de la población afiliada al seguro popular\n",
              "0  Estados Unidos Mexicanos  ...                                               23.3    \n",
              "1                   Yucatán  ...                                               28.8    \n",
              "2  Estados Unidos Mexicanos  ...                                               41.0    \n",
              "3                   Yucatán  ...                                               41.4    \n",
              "\n",
              "[4 rows x 3 columns]"
            ]
          },
          "metadata": {
            "tags": []
          },
          "execution_count": 22
        }
      ]
    },
    {
      "cell_type": "markdown",
      "metadata": {
        "id": "-DfJzbEm-vkL"
      },
      "source": [
        "## Visualización de datos"
      ]
    },
    {
      "cell_type": "markdown",
      "metadata": {
        "id": "TEvM4VXQkisW"
      },
      "source": [
        "El número de psicólogos tuvo un aumento considerable en el año 2015, superando incluso el valor a nivel nacional. Sin embargo, el año siguiente este valor apenas aumentó. Lamentablemente los datos únicamente abarcan hasta ese año, ya que sería interesante conocer la tendencia durante los años siguientes."
      ]
    },
    {
      "cell_type": "code",
      "metadata": {
        "id": "P4dV4jX4BrAm",
        "outputId": "ebf8e453-4a9f-4321-d465-2c7e46111ae7",
        "colab": {
          "base_uri": "https://localhost:8080/",
          "height": 398
        }
      },
      "source": [
        "psics = psicologos.sort_values(by=['AÑO', 'PSICOLOGOS_POR_1000_HAB'], ascending=[True, False]).drop(columns=['CLAVE_ENTIDAD', 'CLAVE_SEXO', 'SEXO'])\n",
        "\n",
        "psics_yuc = alt.Chart(psics.query('ENTIDAD == \"YUCATÁN\"')).mark_line().encode(\n",
        "    x = alt.X('AÑO:N', title='Año'),\n",
        "    y = alt.Y('PSICOLOGOS_POR_1000_HAB:Q', title='Psicologos por cada 1000 habitantes'),\n",
        "    color = alt.Color('ENTIDAD:N', title='Entidad', scale=alt.Scale(scheme='set2'))\n",
        ")\n",
        "\n",
        "psics_nac = alt.Chart(psics.query('ENTIDAD == \"NACIONAL\"')).mark_line().encode(\n",
        "    x = alt.X('AÑO:N', title='Año'),\n",
        "    y = alt.Y('PSICOLOGOS_POR_1000_HAB:Q', title='Psicologos por cada 1000 habitantes'),\n",
        "    color = alt.Color('ENTIDAD:N', title='Entidad', scale=alt.Scale(scheme='set2'))\n",
        ")\n",
        "\n",
        "psics_line = psics_yuc + psics_nac\n",
        "psics_line.properties(\n",
        "    width=400,\n",
        "    title='Psicologos disponibles en hospitales públicos'\n",
        ")"
      ],
      "execution_count": null,
      "outputs": [
        {
          "output_type": "execute_result",
          "data": {
            "text/plain": [
              "alt.LayerChart(...)"
            ],
            "text/html": [
              "\n",
              "<div id=\"altair-viz-dd5b7e10906f4243a03807e5ff4f9059\"></div>\n",
              "<script type=\"text/javascript\">\n",
              "  (function(spec, embedOpt){\n",
              "    let outputDiv = document.currentScript.previousElementSibling;\n",
              "    if (outputDiv.id !== \"altair-viz-dd5b7e10906f4243a03807e5ff4f9059\") {\n",
              "      outputDiv = document.getElementById(\"altair-viz-dd5b7e10906f4243a03807e5ff4f9059\");\n",
              "    }\n",
              "    const paths = {\n",
              "      \"vega\": \"https://cdn.jsdelivr.net/npm//vega@5?noext\",\n",
              "      \"vega-lib\": \"https://cdn.jsdelivr.net/npm//vega-lib?noext\",\n",
              "      \"vega-lite\": \"https://cdn.jsdelivr.net/npm//vega-lite@4.8.1?noext\",\n",
              "      \"vega-embed\": \"https://cdn.jsdelivr.net/npm//vega-embed@6?noext\",\n",
              "    };\n",
              "\n",
              "    function loadScript(lib) {\n",
              "      return new Promise(function(resolve, reject) {\n",
              "        var s = document.createElement('script');\n",
              "        s.src = paths[lib];\n",
              "        s.async = true;\n",
              "        s.onload = () => resolve(paths[lib]);\n",
              "        s.onerror = () => reject(`Error loading script: ${paths[lib]}`);\n",
              "        document.getElementsByTagName(\"head\")[0].appendChild(s);\n",
              "      });\n",
              "    }\n",
              "\n",
              "    function showError(err) {\n",
              "      outputDiv.innerHTML = `<div class=\"error\" style=\"color:red;\">${err}</div>`;\n",
              "      throw err;\n",
              "    }\n",
              "\n",
              "    function displayChart(vegaEmbed) {\n",
              "      vegaEmbed(outputDiv, spec, embedOpt)\n",
              "        .catch(err => showError(`Javascript Error: ${err.message}<br>This usually means there's a typo in your chart specification. See the javascript console for the full traceback.`));\n",
              "    }\n",
              "\n",
              "    if(typeof define === \"function\" && define.amd) {\n",
              "      requirejs.config({paths});\n",
              "      require([\"vega-embed\"], displayChart, err => showError(`Error loading script: ${err.message}`));\n",
              "    } else if (typeof vegaEmbed === \"function\") {\n",
              "      displayChart(vegaEmbed);\n",
              "    } else {\n",
              "      loadScript(\"vega\")\n",
              "        .then(() => loadScript(\"vega-lite\"))\n",
              "        .then(() => loadScript(\"vega-embed\"))\n",
              "        .catch(showError)\n",
              "        .then(() => displayChart(vegaEmbed));\n",
              "    }\n",
              "  })({\"config\": {\"view\": {\"continuousWidth\": 400, \"continuousHeight\": 300}}, \"layer\": [{\"data\": {\"name\": \"data-f1795d3227fa6c8d09b5ae4c9530d7ce\"}, \"mark\": \"line\", \"encoding\": {\"color\": {\"type\": \"nominal\", \"field\": \"ENTIDAD\", \"scale\": {\"scheme\": \"set2\"}, \"title\": \"Entidad\"}, \"x\": {\"type\": \"nominal\", \"field\": \"A\\u00d1O\", \"title\": \"A\\u00f1o\"}, \"y\": {\"type\": \"quantitative\", \"field\": \"PSICOLOGOS_POR_1000_HAB\", \"title\": \"Psicologos por cada 1000 habitantes\"}}}, {\"data\": {\"name\": \"data-b4e390cd0a974453c449db16574cde10\"}, \"mark\": \"line\", \"encoding\": {\"color\": {\"type\": \"nominal\", \"field\": \"ENTIDAD\", \"scale\": {\"scheme\": \"set2\"}, \"title\": \"Entidad\"}, \"x\": {\"type\": \"nominal\", \"field\": \"A\\u00d1O\", \"title\": \"A\\u00f1o\"}, \"y\": {\"type\": \"quantitative\", \"field\": \"PSICOLOGOS_POR_1000_HAB\", \"title\": \"Psicologos por cada 1000 habitantes\"}}}], \"title\": \"Psicologos disponibles en hospitales p\\u00fablicos\", \"width\": 400, \"$schema\": \"https://vega.github.io/schema/vega-lite/v4.8.1.json\", \"datasets\": {\"data-f1795d3227fa6c8d09b5ae4c9530d7ce\": [{\"A\\u00d1O\": 2010, \"ENTIDAD\": \"YUCAT\\u00c1N\", \"PSICOLOGOS\": 36, \"POBLACION_MEDIA_TOTAL\": 1980690.436, \"PSICOLOGOS_POR_1000_HAB\": 0.01817548}, {\"A\\u00d1O\": 2011, \"ENTIDAD\": \"YUCAT\\u00c1N\", \"PSICOLOGOS\": 39, \"POBLACION_MEDIA_TOTAL\": 2009159.8769999999, \"PSICOLOGOS_POR_1000_HAB\": 0.019411098}, {\"A\\u00d1O\": 2012, \"ENTIDAD\": \"YUCAT\\u00c1N\", \"PSICOLOGOS\": 41, \"POBLACION_MEDIA_TOTAL\": 2036694.292, \"PSICOLOGOS_POR_1000_HAB\": 0.02013066}, {\"A\\u00d1O\": 2013, \"ENTIDAD\": \"YUCAT\\u00c1N\", \"PSICOLOGOS\": 50, \"POBLACION_MEDIA_TOTAL\": 2064150.9309999999, \"PSICOLOGOS_POR_1000_HAB\": 0.024223035}, {\"A\\u00d1O\": 2014, \"ENTIDAD\": \"YUCAT\\u00c1N\", \"PSICOLOGOS\": 66, \"POBLACION_MEDIA_TOTAL\": 2091512.7659999998, \"PSICOLOGOS_POR_1000_HAB\": 0.031556107}, {\"A\\u00d1O\": 2015, \"ENTIDAD\": \"YUCAT\\u00c1N\", \"PSICOLOGOS\": 160, \"POBLACION_MEDIA_TOTAL\": 2118762.0, \"PSICOLOGOS_POR_1000_HAB\": 0.075515796}, {\"A\\u00d1O\": 2016, \"ENTIDAD\": \"YUCAT\\u00c1N\", \"PSICOLOGOS\": 165, \"POBLACION_MEDIA_TOTAL\": 2145877.589, \"PSICOLOGOS_POR_1000_HAB\": 0.076891618}], \"data-b4e390cd0a974453c449db16574cde10\": [{\"A\\u00d1O\": 2010, \"ENTIDAD\": \"NACIONAL\", \"PSICOLOGOS\": 3846, \"POBLACION_MEDIA_TOTAL\": 114255556.9, \"PSICOLOGOS_POR_1000_HAB\": 0.033661382000000004}, {\"A\\u00d1O\": 2011, \"ENTIDAD\": \"NACIONAL\", \"PSICOLOGOS\": 4182, \"POBLACION_MEDIA_TOTAL\": 115682867.3, \"PSICOLOGOS_POR_1000_HAB\": 0.036150556}, {\"A\\u00d1O\": 2012, \"ENTIDAD\": \"NACIONAL\", \"PSICOLOGOS\": 4680, \"POBLACION_MEDIA_TOTAL\": 117053750.6, \"PSICOLOGOS_POR_1000_HAB\": 0.039981632}, {\"A\\u00d1O\": 2013, \"ENTIDAD\": \"NACIONAL\", \"PSICOLOGOS\": 5197, \"POBLACION_MEDIA_TOTAL\": 118395054.1, \"PSICOLOGOS_POR_1000_HAB\": 0.043895415}, {\"A\\u00d1O\": 2014, \"ENTIDAD\": \"NACIONAL\", \"PSICOLOGOS\": 5718, \"POBLACION_MEDIA_TOTAL\": 119713203.5, \"PSICOLOGOS_POR_1000_HAB\": 0.047764155}, {\"A\\u00d1O\": 2015, \"ENTIDAD\": \"NACIONAL\", \"PSICOLOGOS\": 6337, \"POBLACION_MEDIA_TOTAL\": 121005816.0, \"PSICOLOGOS_POR_1000_HAB\": 0.052369384000000005}, {\"A\\u00d1O\": 2016, \"ENTIDAD\": \"NACIONAL\", \"PSICOLOGOS\": 6752, \"POBLACION_MEDIA_TOTAL\": 122273473.3, \"PSICOLOGOS_POR_1000_HAB\": 0.055220480999999995}]}}, {\"mode\": \"vega-lite\"});\n",
              "</script>"
            ]
          },
          "metadata": {
            "tags": []
          },
          "execution_count": 81
        }
      ]
    },
    {
      "cell_type": "markdown",
      "metadata": {
        "id": "A5ASlU0KlXnD"
      },
      "source": [
        "Al igual que con los psicólogos, en el año 2015 tuvo un incremento en el número de psiquiatras, pero el aumento en el año 2016 fue más considerable que en el caso de los psicólogos."
      ]
    },
    {
      "cell_type": "code",
      "metadata": {
        "id": "2N2jk5EpByiT",
        "outputId": "956835d2-f168-46f0-e1d9-f3a69e181c1e",
        "colab": {
          "base_uri": "https://localhost:8080/",
          "height": 398
        }
      },
      "source": [
        "psiqs = psiquiatras.sort_values(by=['AÑO', 'PSIQUIATRAS_POR_1000_HAB'], ascending=[True, False]).drop(columns=['CLAVE_ENTIDAD', 'CLAVE_SEXO', 'SEXO'])\n",
        "psiqs['ENTIDAD'] = psiqs['ENTIDAD'].apply(lambda x: x.capitalize())\n",
        "\n",
        "psiqs_yuc = alt.Chart(psiqs.query('ENTIDAD == \"Yucatán\"')).mark_line().encode(\n",
        "    x = alt.X('AÑO:N', title='Año'),\n",
        "    y = alt.Y('PSIQUIATRAS_POR_1000_HAB:Q', title='Psiquiatras por cada 1000 habitantes'),\n",
        "    color = alt.Color('ENTIDAD:N', title='Entidad', scale=alt.Scale(scheme='set2'))\n",
        ")\n",
        "\n",
        "psiqs_nac = alt.Chart(psiqs.query('ENTIDAD == \"Nacional\"')).mark_line().encode(\n",
        "    x = alt.X('AÑO:N', title='Año'),\n",
        "    y = alt.Y('PSIQUIATRAS_POR_1000_HAB:Q', title='Psiquiatras por cada 1000 habitantes'),\n",
        "    color = alt.Color('ENTIDAD:N', title='Entidad', scale=alt.Scale(scheme='set2'))\n",
        ")\n",
        "\n",
        "psiqs_line = psiqs_yuc + psiqs_nac\n",
        "psiqs_line.properties(\n",
        "    width=400,\n",
        "    title='Psiquiatras disponibles en hospitales públicos'\n",
        ")"
      ],
      "execution_count": null,
      "outputs": [
        {
          "output_type": "execute_result",
          "data": {
            "text/plain": [
              "alt.LayerChart(...)"
            ],
            "text/html": [
              "\n",
              "<div id=\"altair-viz-a2acfa575031404d84acd2c1eb08dc54\"></div>\n",
              "<script type=\"text/javascript\">\n",
              "  (function(spec, embedOpt){\n",
              "    let outputDiv = document.currentScript.previousElementSibling;\n",
              "    if (outputDiv.id !== \"altair-viz-a2acfa575031404d84acd2c1eb08dc54\") {\n",
              "      outputDiv = document.getElementById(\"altair-viz-a2acfa575031404d84acd2c1eb08dc54\");\n",
              "    }\n",
              "    const paths = {\n",
              "      \"vega\": \"https://cdn.jsdelivr.net/npm//vega@5?noext\",\n",
              "      \"vega-lib\": \"https://cdn.jsdelivr.net/npm//vega-lib?noext\",\n",
              "      \"vega-lite\": \"https://cdn.jsdelivr.net/npm//vega-lite@4.8.1?noext\",\n",
              "      \"vega-embed\": \"https://cdn.jsdelivr.net/npm//vega-embed@6?noext\",\n",
              "    };\n",
              "\n",
              "    function loadScript(lib) {\n",
              "      return new Promise(function(resolve, reject) {\n",
              "        var s = document.createElement('script');\n",
              "        s.src = paths[lib];\n",
              "        s.async = true;\n",
              "        s.onload = () => resolve(paths[lib]);\n",
              "        s.onerror = () => reject(`Error loading script: ${paths[lib]}`);\n",
              "        document.getElementsByTagName(\"head\")[0].appendChild(s);\n",
              "      });\n",
              "    }\n",
              "\n",
              "    function showError(err) {\n",
              "      outputDiv.innerHTML = `<div class=\"error\" style=\"color:red;\">${err}</div>`;\n",
              "      throw err;\n",
              "    }\n",
              "\n",
              "    function displayChart(vegaEmbed) {\n",
              "      vegaEmbed(outputDiv, spec, embedOpt)\n",
              "        .catch(err => showError(`Javascript Error: ${err.message}<br>This usually means there's a typo in your chart specification. See the javascript console for the full traceback.`));\n",
              "    }\n",
              "\n",
              "    if(typeof define === \"function\" && define.amd) {\n",
              "      requirejs.config({paths});\n",
              "      require([\"vega-embed\"], displayChart, err => showError(`Error loading script: ${err.message}`));\n",
              "    } else if (typeof vegaEmbed === \"function\") {\n",
              "      displayChart(vegaEmbed);\n",
              "    } else {\n",
              "      loadScript(\"vega\")\n",
              "        .then(() => loadScript(\"vega-lite\"))\n",
              "        .then(() => loadScript(\"vega-embed\"))\n",
              "        .catch(showError)\n",
              "        .then(() => displayChart(vegaEmbed));\n",
              "    }\n",
              "  })({\"config\": {\"view\": {\"continuousWidth\": 400, \"continuousHeight\": 300}}, \"layer\": [{\"data\": {\"name\": \"data-b2c32988a1881178929cd454f8457e98\"}, \"mark\": \"line\", \"encoding\": {\"color\": {\"type\": \"nominal\", \"field\": \"ENTIDAD\", \"scale\": {\"scheme\": \"set2\"}, \"title\": \"Entidad\"}, \"x\": {\"type\": \"nominal\", \"field\": \"A\\u00d1O\", \"title\": \"A\\u00f1o\"}, \"y\": {\"type\": \"quantitative\", \"field\": \"PSIQUIATRAS_POR_1000_HAB\", \"title\": \"Psiquiatras por cada 1000 habitantes\"}}}, {\"data\": {\"name\": \"data-cd18600e32d9db1cde082bdbee7bf13f\"}, \"mark\": \"line\", \"encoding\": {\"color\": {\"type\": \"nominal\", \"field\": \"ENTIDAD\", \"scale\": {\"scheme\": \"set2\"}, \"title\": \"Entidad\"}, \"x\": {\"type\": \"nominal\", \"field\": \"A\\u00d1O\", \"title\": \"A\\u00f1o\"}, \"y\": {\"type\": \"quantitative\", \"field\": \"PSIQUIATRAS_POR_1000_HAB\", \"title\": \"Psiquiatras por cada 1000 habitantes\"}}}], \"title\": \"Psiquiatras disponibles en hospitales p\\u00fablicos\", \"width\": 400, \"$schema\": \"https://vega.github.io/schema/vega-lite/v4.8.1.json\", \"datasets\": {\"data-b2c32988a1881178929cd454f8457e98\": [{\"A\\u00d1O\": 2010, \"ENTIDAD\": \"Yucat\\u00e1n\", \"PSIQUI\\u00c1TRAS\": 19, \"POBLACI\\u00d3N_M\\u00c9DIA_TOTAL\": 1980690.436, \"PSIQUIATRAS_POR_1000_HAB\": 0.009592615}, {\"A\\u00d1O\": 2011, \"ENTIDAD\": \"Yucat\\u00e1n\", \"PSIQUI\\u00c1TRAS\": 21, \"POBLACI\\u00d3N_M\\u00c9DIA_TOTAL\": 2009159.8769999999, \"PSIQUIATRAS_POR_1000_HAB\": 0.01045213}, {\"A\\u00d1O\": 2012, \"ENTIDAD\": \"Yucat\\u00e1n\", \"PSIQUI\\u00c1TRAS\": 19, \"POBLACI\\u00d3N_M\\u00c9DIA_TOTAL\": 2036694.292, \"PSIQUIATRAS_POR_1000_HAB\": 0.009328842}, {\"A\\u00d1O\": 2013, \"ENTIDAD\": \"Yucat\\u00e1n\", \"PSIQUI\\u00c1TRAS\": 19, \"POBLACI\\u00d3N_M\\u00c9DIA_TOTAL\": 2064150.9309999999, \"PSIQUIATRAS_POR_1000_HAB\": 0.009204753000000001}, {\"A\\u00d1O\": 2014, \"ENTIDAD\": \"Yucat\\u00e1n\", \"PSIQUI\\u00c1TRAS\": 20, \"POBLACI\\u00d3N_M\\u00c9DIA_TOTAL\": 2091512.7659999998, \"PSIQUIATRAS_POR_1000_HAB\": 0.009562457}, {\"A\\u00d1O\": 2015, \"ENTIDAD\": \"Yucat\\u00e1n\", \"PSIQUI\\u00c1TRAS\": 35, \"POBLACI\\u00d3N_M\\u00c9DIA_TOTAL\": 2118762.0, \"PSIQUIATRAS_POR_1000_HAB\": 0.01651908}, {\"A\\u00d1O\": 2016, \"ENTIDAD\": \"Yucat\\u00e1n\", \"PSIQUI\\u00c1TRAS\": 38, \"POBLACI\\u00d3N_M\\u00c9DIA_TOTAL\": 2145877.589, \"PSIQUIATRAS_POR_1000_HAB\": 0.017708373}], \"data-cd18600e32d9db1cde082bdbee7bf13f\": [{\"A\\u00d1O\": 2010, \"ENTIDAD\": \"Nacional\", \"PSIQUI\\u00c1TRAS\": 1157, \"POBLACI\\u00d3N_M\\u00c9DIA_TOTAL\": 114255556.9, \"PSIQUIATRAS_POR_1000_HAB\": 0.010126422}, {\"A\\u00d1O\": 2011, \"ENTIDAD\": \"Nacional\", \"PSIQUI\\u00c1TRAS\": 1283, \"POBLACI\\u00d3N_M\\u00c9DIA_TOTAL\": 115682867.3, \"PSIQUIATRAS_POR_1000_HAB\": 0.011090666}, {\"A\\u00d1O\": 2012, \"ENTIDAD\": \"Nacional\", \"PSIQUI\\u00c1TRAS\": 1236, \"POBLACI\\u00d3N_M\\u00c9DIA_TOTAL\": 117053750.6, \"PSIQUIATRAS_POR_1000_HAB\": 0.010559252}, {\"A\\u00d1O\": 2013, \"ENTIDAD\": \"Nacional\", \"PSIQUI\\u00c1TRAS\": 1290, \"POBLACI\\u00d3N_M\\u00c9DIA_TOTAL\": 118395054.1, \"PSIQUIATRAS_POR_1000_HAB\": 0.010895725}, {\"A\\u00d1O\": 2014, \"ENTIDAD\": \"Nacional\", \"PSIQUI\\u00c1TRAS\": 1350, \"POBLACI\\u00d3N_M\\u00c9DIA_TOTAL\": 119713203.5, \"PSIQUIATRAS_POR_1000_HAB\": 0.011276952}, {\"A\\u00d1O\": 2015, \"ENTIDAD\": \"Nacional\", \"PSIQUI\\u00c1TRAS\": 1410, \"POBLACI\\u00d3N_M\\u00c9DIA_TOTAL\": 121005816.0, \"PSIQUIATRAS_POR_1000_HAB\": 0.011652332}, {\"A\\u00d1O\": 2016, \"ENTIDAD\": \"Nacional\", \"PSIQUI\\u00c1TRAS\": 1458, \"POBLACI\\u00d3N_M\\u00c9DIA_TOTAL\": 122273473.3, \"PSIQUIATRAS_POR_1000_HAB\": 0.011924091000000001}]}}, {\"mode\": \"vega-lite\"});\n",
              "</script>"
            ]
          },
          "metadata": {
            "tags": []
          },
          "execution_count": 82
        }
      ]
    },
    {
      "cell_type": "markdown",
      "metadata": {
        "id": "DScyTwYSl06G"
      },
      "source": [
        "Durante el rango que otorgan los datos se puede observar que la tasa de mortalidad bajó en el 2011 y 2013, pero en general comenzó a subir luego de ese año."
      ]
    },
    {
      "cell_type": "code",
      "metadata": {
        "id": "2SnnwofACQKT",
        "outputId": "c9dceca4-cdb3-45c5-ca3c-34145a0e6da5",
        "colab": {
          "base_uri": "https://localhost:8080/",
          "height": 398
        }
      },
      "source": [
        "edo_mort = mortalidad.sort_values(\n",
        "    ['AÑO', 'TASA_DE_MORTALIDAD_POR_SUICIDIOS_POR_100000'], ascending=[True, False]).drop_duplicates(\n",
        "    'AÑO', keep='first').reset_index().drop(columns=['index', 'CLAVE_ENTIDAD'])\n",
        "\n",
        "\n",
        "edo_mort_bar = alt.Chart(edo_mort).mark_bar().encode(\n",
        "    x = alt.X('AÑO:N', title='Año'),\n",
        "    y = alt.Y('TASA_DE_MORTALIDAD_POR_SUICIDIOS_POR_100000', title='Tasa de mortalidad'),\n",
        "    color = alt.Color('ENTIDAD')\n",
        ")\n",
        "\n",
        "edo_mort_text = alt.Chart(edo_mort).mark_text(dy = -6).encode(\n",
        "    x = alt.X('AÑO:N', title=''),\n",
        "    y = alt.Y('TASA_DE_MORTALIDAD_POR_SUICIDIOS_POR_100000', title='Tasa de mortalidad'),\n",
        "    text = alt.Text('ENTIDAD')\n",
        ")\n",
        "\n",
        "edo_mort_graph = edo_mort_bar + edo_mort_text\n",
        "edo_mort_graph.properties(\n",
        "    width=400,\n",
        "    title='Estados con mayor tasa de mortalidad por suicidios en México'\n",
        ")"
      ],
      "execution_count": null,
      "outputs": [
        {
          "output_type": "execute_result",
          "data": {
            "text/plain": [
              "alt.LayerChart(...)"
            ],
            "text/html": [
              "\n",
              "<div id=\"altair-viz-87803b423dd146349061f255d9f14fcd\"></div>\n",
              "<script type=\"text/javascript\">\n",
              "  (function(spec, embedOpt){\n",
              "    let outputDiv = document.currentScript.previousElementSibling;\n",
              "    if (outputDiv.id !== \"altair-viz-87803b423dd146349061f255d9f14fcd\") {\n",
              "      outputDiv = document.getElementById(\"altair-viz-87803b423dd146349061f255d9f14fcd\");\n",
              "    }\n",
              "    const paths = {\n",
              "      \"vega\": \"https://cdn.jsdelivr.net/npm//vega@5?noext\",\n",
              "      \"vega-lib\": \"https://cdn.jsdelivr.net/npm//vega-lib?noext\",\n",
              "      \"vega-lite\": \"https://cdn.jsdelivr.net/npm//vega-lite@4.8.1?noext\",\n",
              "      \"vega-embed\": \"https://cdn.jsdelivr.net/npm//vega-embed@6?noext\",\n",
              "    };\n",
              "\n",
              "    function loadScript(lib) {\n",
              "      return new Promise(function(resolve, reject) {\n",
              "        var s = document.createElement('script');\n",
              "        s.src = paths[lib];\n",
              "        s.async = true;\n",
              "        s.onload = () => resolve(paths[lib]);\n",
              "        s.onerror = () => reject(`Error loading script: ${paths[lib]}`);\n",
              "        document.getElementsByTagName(\"head\")[0].appendChild(s);\n",
              "      });\n",
              "    }\n",
              "\n",
              "    function showError(err) {\n",
              "      outputDiv.innerHTML = `<div class=\"error\" style=\"color:red;\">${err}</div>`;\n",
              "      throw err;\n",
              "    }\n",
              "\n",
              "    function displayChart(vegaEmbed) {\n",
              "      vegaEmbed(outputDiv, spec, embedOpt)\n",
              "        .catch(err => showError(`Javascript Error: ${err.message}<br>This usually means there's a typo in your chart specification. See the javascript console for the full traceback.`));\n",
              "    }\n",
              "\n",
              "    if(typeof define === \"function\" && define.amd) {\n",
              "      requirejs.config({paths});\n",
              "      require([\"vega-embed\"], displayChart, err => showError(`Error loading script: ${err.message}`));\n",
              "    } else if (typeof vegaEmbed === \"function\") {\n",
              "      displayChart(vegaEmbed);\n",
              "    } else {\n",
              "      loadScript(\"vega\")\n",
              "        .then(() => loadScript(\"vega-lite\"))\n",
              "        .then(() => loadScript(\"vega-embed\"))\n",
              "        .catch(showError)\n",
              "        .then(() => displayChart(vegaEmbed));\n",
              "    }\n",
              "  })({\"config\": {\"view\": {\"continuousWidth\": 400, \"continuousHeight\": 300}}, \"layer\": [{\"mark\": \"bar\", \"encoding\": {\"color\": {\"type\": \"nominal\", \"field\": \"ENTIDAD\"}, \"x\": {\"type\": \"nominal\", \"field\": \"A\\u00d1O\", \"title\": \"A\\u00f1o\"}, \"y\": {\"type\": \"quantitative\", \"field\": \"TASA_DE_MORTALIDAD_POR_SUICIDIOS_POR_100000\", \"title\": \"Tasa de mortalidad\"}}}, {\"mark\": {\"type\": \"text\", \"dy\": -6}, \"encoding\": {\"text\": {\"type\": \"nominal\", \"field\": \"ENTIDAD\"}, \"x\": {\"type\": \"nominal\", \"field\": \"A\\u00d1O\", \"title\": \"\"}, \"y\": {\"type\": \"quantitative\", \"field\": \"TASA_DE_MORTALIDAD_POR_SUICIDIOS_POR_100000\", \"title\": \"Tasa de mortalidad\"}}}], \"data\": {\"name\": \"data-62b4400f97fb938d4975f7eb8666a076\"}, \"title\": \"Estados con mayor tasa de mortalidad por suicidios en M\\u00e9xico\", \"width\": 400, \"$schema\": \"https://vega.github.io/schema/vega-lite/v4.8.1.json\", \"datasets\": {\"data-62b4400f97fb938d4975f7eb8666a076\": [{\"A\\u00d1O\": 2010, \"ENTIDAD\": \"Yucat\\u00e1n\", \"DEFUNCIONES_POR_SUICIDIOS\": 206, \"POBLACI\\u00d3N_MEDIA_TOTAL\": 1980690, \"TASA_DE_MORTALIDAD_POR_SUICIDIOS_POR_100000\": 10.4}, {\"A\\u00d1O\": 2011, \"ENTIDAD\": \"Campeche\", \"DEFUNCIONES_POR_SUICIDIOS\": 81, \"POBLACI\\u00d3N_MEDIA_TOTAL\": 852373, \"TASA_DE_MORTALIDAD_POR_SUICIDIOS_POR_100000\": 9.5}, {\"A\\u00d1O\": 2012, \"ENTIDAD\": \"Quintana Roo\", \"DEFUNCIONES_POR_SUICIDIOS\": 144, \"POBLACI\\u00d3N_MEDIA_TOTAL\": 1440115, \"TASA_DE_MORTALIDAD_POR_SUICIDIOS_POR_100000\": 10.0}, {\"A\\u00d1O\": 2013, \"ENTIDAD\": \"Quintana Roo\", \"DEFUNCIONES_POR_SUICIDIOS\": 137, \"POBLACI\\u00d3N_MEDIA_TOTAL\": 1484960, \"TASA_DE_MORTALIDAD_POR_SUICIDIOS_POR_100000\": 9.23}, {\"A\\u00d1O\": 2014, \"ENTIDAD\": \"Campeche\", \"DEFUNCIONES_POR_SUICIDIOS\": 92, \"POBLACI\\u00d3N_MEDIA_TOTAL\": 894136, \"TASA_DE_MORTALIDAD_POR_SUICIDIOS_POR_100000\": 10.29}, {\"A\\u00d1O\": 2015, \"ENTIDAD\": \"Chihuahua\", \"DEFUNCIONES_POR_SUICIDIOS\": 421, \"POBLACI\\u00d3N_MEDIA_TOTAL\": 3710129, \"TASA_DE_MORTALIDAD_POR_SUICIDIOS_POR_100000\": 11.35}, {\"A\\u00d1O\": 2016, \"ENTIDAD\": \"Chihuahua\", \"DEFUNCIONES_POR_SUICIDIOS\": 438, \"POBLACI\\u00d3N_MEDIA_TOTAL\": 3746281, \"TASA_DE_MORTALIDAD_POR_SUICIDIOS_POR_100000\": 11.69}]}}, {\"mode\": \"vega-lite\"});\n",
              "</script>"
            ]
          },
          "metadata": {
            "tags": []
          },
          "execution_count": 84
        }
      ]
    },
    {
      "cell_type": "markdown",
      "metadata": {
        "id": "7WSCXmGmmMtX"
      },
      "source": [
        "A nivel nacional la tasa de mortalidad por suicidio se mantuvo estable, sin embargo para el cado de Yucatán tuvo una baja seguida de una alta de nuevo. Durante todo los años que abarcan los datos, la tasa de mortalidad estatal es mucho mayor que la nacional."
      ]
    },
    {
      "cell_type": "code",
      "metadata": {
        "id": "snwIvNY_CVSI",
        "outputId": "a2f54d64-86ad-4f6a-d00a-8b6258d29caa",
        "colab": {
          "base_uri": "https://localhost:8080/",
          "height": 398
        }
      },
      "source": [
        "yuc_mort = mortalidad.query('ENTIDAD == \"Yucatán\"').reset_index().drop(columns=['index', 'CLAVE_ENTIDAD'])\n",
        "nac_mort = mortalidad.query('ENTIDAD == \"Nacional\"').reset_index().drop(columns=['index', 'CLAVE_ENTIDAD'])\n",
        "\n",
        "yuc_line = alt.Chart(yuc_mort).mark_line(opacity=1).encode(\n",
        "    x = alt.X('AÑO:N', title='Año'),\n",
        "    y = alt.Y('TASA_DE_MORTALIDAD_POR_SUICIDIOS_POR_100000', title='Tasa de mortalidad'),\n",
        "    color = alt.Color('ENTIDAD', title='Entidad', scale=alt.Scale(scheme='set2'))\n",
        ")\n",
        "\n",
        "nac_line = alt.Chart(nac_mort).mark_line().encode(\n",
        "    x = alt.X('AÑO:N', title='Año'),\n",
        "    y = alt.Y('TASA_DE_MORTALIDAD_POR_SUICIDIOS_POR_100000', title='Tasa de mortalidad'),\n",
        "    color = alt.Color('ENTIDAD', title='Entidad', scale=alt.Scale(scheme='set2'))\n",
        ")\n",
        "\n",
        "line_mort_yuc_nac = yuc_line + nac_line\n",
        "line_mort_yuc_nac.properties(\n",
        "    width=400,\n",
        "    title='Tasa de mortalidad por suicidio en Yucatán'\n",
        ")"
      ],
      "execution_count": null,
      "outputs": [
        {
          "output_type": "execute_result",
          "data": {
            "text/plain": [
              "alt.LayerChart(...)"
            ],
            "text/html": [
              "\n",
              "<div id=\"altair-viz-80ddf5d6de0d41ff90685b2d019f72fd\"></div>\n",
              "<script type=\"text/javascript\">\n",
              "  (function(spec, embedOpt){\n",
              "    let outputDiv = document.currentScript.previousElementSibling;\n",
              "    if (outputDiv.id !== \"altair-viz-80ddf5d6de0d41ff90685b2d019f72fd\") {\n",
              "      outputDiv = document.getElementById(\"altair-viz-80ddf5d6de0d41ff90685b2d019f72fd\");\n",
              "    }\n",
              "    const paths = {\n",
              "      \"vega\": \"https://cdn.jsdelivr.net/npm//vega@5?noext\",\n",
              "      \"vega-lib\": \"https://cdn.jsdelivr.net/npm//vega-lib?noext\",\n",
              "      \"vega-lite\": \"https://cdn.jsdelivr.net/npm//vega-lite@4.8.1?noext\",\n",
              "      \"vega-embed\": \"https://cdn.jsdelivr.net/npm//vega-embed@6?noext\",\n",
              "    };\n",
              "\n",
              "    function loadScript(lib) {\n",
              "      return new Promise(function(resolve, reject) {\n",
              "        var s = document.createElement('script');\n",
              "        s.src = paths[lib];\n",
              "        s.async = true;\n",
              "        s.onload = () => resolve(paths[lib]);\n",
              "        s.onerror = () => reject(`Error loading script: ${paths[lib]}`);\n",
              "        document.getElementsByTagName(\"head\")[0].appendChild(s);\n",
              "      });\n",
              "    }\n",
              "\n",
              "    function showError(err) {\n",
              "      outputDiv.innerHTML = `<div class=\"error\" style=\"color:red;\">${err}</div>`;\n",
              "      throw err;\n",
              "    }\n",
              "\n",
              "    function displayChart(vegaEmbed) {\n",
              "      vegaEmbed(outputDiv, spec, embedOpt)\n",
              "        .catch(err => showError(`Javascript Error: ${err.message}<br>This usually means there's a typo in your chart specification. See the javascript console for the full traceback.`));\n",
              "    }\n",
              "\n",
              "    if(typeof define === \"function\" && define.amd) {\n",
              "      requirejs.config({paths});\n",
              "      require([\"vega-embed\"], displayChart, err => showError(`Error loading script: ${err.message}`));\n",
              "    } else if (typeof vegaEmbed === \"function\") {\n",
              "      displayChart(vegaEmbed);\n",
              "    } else {\n",
              "      loadScript(\"vega\")\n",
              "        .then(() => loadScript(\"vega-lite\"))\n",
              "        .then(() => loadScript(\"vega-embed\"))\n",
              "        .catch(showError)\n",
              "        .then(() => displayChart(vegaEmbed));\n",
              "    }\n",
              "  })({\"config\": {\"view\": {\"continuousWidth\": 400, \"continuousHeight\": 300}}, \"layer\": [{\"data\": {\"name\": \"data-ca3a53771350322f88f50cd5ee2bd95e\"}, \"mark\": {\"type\": \"line\", \"opacity\": 1}, \"encoding\": {\"color\": {\"type\": \"nominal\", \"field\": \"ENTIDAD\", \"scale\": {\"scheme\": \"set2\"}, \"title\": \"Entidad\"}, \"x\": {\"type\": \"nominal\", \"field\": \"A\\u00d1O\", \"title\": \"A\\u00f1o\"}, \"y\": {\"type\": \"quantitative\", \"field\": \"TASA_DE_MORTALIDAD_POR_SUICIDIOS_POR_100000\", \"title\": \"Tasa de mortalidad\"}}}, {\"data\": {\"name\": \"data-6036782eaa8d876241ca22d64b6589da\"}, \"mark\": \"line\", \"encoding\": {\"color\": {\"type\": \"nominal\", \"field\": \"ENTIDAD\", \"scale\": {\"scheme\": \"set2\"}, \"title\": \"Entidad\"}, \"x\": {\"type\": \"nominal\", \"field\": \"A\\u00d1O\", \"title\": \"A\\u00f1o\"}, \"y\": {\"type\": \"quantitative\", \"field\": \"TASA_DE_MORTALIDAD_POR_SUICIDIOS_POR_100000\", \"title\": \"Tasa de mortalidad\"}}}], \"title\": \"Tasa de mortalidad por suicidio en Yucat\\u00e1n\", \"width\": 400, \"$schema\": \"https://vega.github.io/schema/vega-lite/v4.8.1.json\", \"datasets\": {\"data-ca3a53771350322f88f50cd5ee2bd95e\": [{\"A\\u00d1O\": 2010, \"ENTIDAD\": \"Yucat\\u00e1n\", \"DEFUNCIONES_POR_SUICIDIOS\": 206, \"POBLACI\\u00d3N_MEDIA_TOTAL\": 1980690, \"TASA_DE_MORTALIDAD_POR_SUICIDIOS_POR_100000\": 10.4}, {\"A\\u00d1O\": 2011, \"ENTIDAD\": \"Yucat\\u00e1n\", \"DEFUNCIONES_POR_SUICIDIOS\": 186, \"POBLACI\\u00d3N_MEDIA_TOTAL\": 2009160, \"TASA_DE_MORTALIDAD_POR_SUICIDIOS_POR_100000\": 9.26}, {\"A\\u00d1O\": 2012, \"ENTIDAD\": \"Yucat\\u00e1n\", \"DEFUNCIONES_POR_SUICIDIOS\": 160, \"POBLACI\\u00d3N_MEDIA_TOTAL\": 2036694, \"TASA_DE_MORTALIDAD_POR_SUICIDIOS_POR_100000\": 7.86}, {\"A\\u00d1O\": 2013, \"ENTIDAD\": \"Yucat\\u00e1n\", \"DEFUNCIONES_POR_SUICIDIOS\": 167, \"POBLACI\\u00d3N_MEDIA_TOTAL\": 2064151, \"TASA_DE_MORTALIDAD_POR_SUICIDIOS_POR_100000\": 8.09}, {\"A\\u00d1O\": 2014, \"ENTIDAD\": \"Yucat\\u00e1n\", \"DEFUNCIONES_POR_SUICIDIOS\": 181, \"POBLACI\\u00d3N_MEDIA_TOTAL\": 2091513, \"TASA_DE_MORTALIDAD_POR_SUICIDIOS_POR_100000\": 8.65}, {\"A\\u00d1O\": 2015, \"ENTIDAD\": \"Yucat\\u00e1n\", \"DEFUNCIONES_POR_SUICIDIOS\": 190, \"POBLACI\\u00d3N_MEDIA_TOTAL\": 2118762, \"TASA_DE_MORTALIDAD_POR_SUICIDIOS_POR_100000\": 8.97}, {\"A\\u00d1O\": 2016, \"ENTIDAD\": \"Yucat\\u00e1n\", \"DEFUNCIONES_POR_SUICIDIOS\": 224, \"POBLACI\\u00d3N_MEDIA_TOTAL\": 2145878, \"TASA_DE_MORTALIDAD_POR_SUICIDIOS_POR_100000\": 10.44}], \"data-6036782eaa8d876241ca22d64b6589da\": [{\"A\\u00d1O\": 2010, \"ENTIDAD\": \"Nacional\", \"DEFUNCIONES_POR_SUICIDIOS\": 5006, \"POBLACI\\u00d3N_MEDIA_TOTAL\": 114255557, \"TASA_DE_MORTALIDAD_POR_SUICIDIOS_POR_100000\": 4.38}, {\"A\\u00d1O\": 2011, \"ENTIDAD\": \"Nacional\", \"DEFUNCIONES_POR_SUICIDIOS\": 5712, \"POBLACI\\u00d3N_MEDIA_TOTAL\": 115682867, \"TASA_DE_MORTALIDAD_POR_SUICIDIOS_POR_100000\": 4.94}, {\"A\\u00d1O\": 2012, \"ENTIDAD\": \"Nacional\", \"DEFUNCIONES_POR_SUICIDIOS\": 5539, \"POBLACI\\u00d3N_MEDIA_TOTAL\": 117053751, \"TASA_DE_MORTALIDAD_POR_SUICIDIOS_POR_100000\": 4.73}, {\"A\\u00d1O\": 2013, \"ENTIDAD\": \"Nacional\", \"DEFUNCIONES_POR_SUICIDIOS\": 5889, \"POBLACI\\u00d3N_MEDIA_TOTAL\": 118395054, \"TASA_DE_MORTALIDAD_POR_SUICIDIOS_POR_100000\": 4.97}, {\"A\\u00d1O\": 2014, \"ENTIDAD\": \"Nacional\", \"DEFUNCIONES_POR_SUICIDIOS\": 6317, \"POBLACI\\u00d3N_MEDIA_TOTAL\": 119713203, \"TASA_DE_MORTALIDAD_POR_SUICIDIOS_POR_100000\": 5.28}, {\"A\\u00d1O\": 2015, \"ENTIDAD\": \"Nacional\", \"DEFUNCIONES_POR_SUICIDIOS\": 6410, \"POBLACI\\u00d3N_MEDIA_TOTAL\": 121005816, \"TASA_DE_MORTALIDAD_POR_SUICIDIOS_POR_100000\": 5.3}, {\"A\\u00d1O\": 2016, \"ENTIDAD\": \"Nacional\", \"DEFUNCIONES_POR_SUICIDIOS\": 6348, \"POBLACI\\u00d3N_MEDIA_TOTAL\": 122273473, \"TASA_DE_MORTALIDAD_POR_SUICIDIOS_POR_100000\": 5.19}]}}, {\"mode\": \"vega-lite\"});\n",
              "</script>"
            ]
          },
          "metadata": {
            "tags": []
          },
          "execution_count": 85
        }
      ]
    },
    {
      "cell_type": "markdown",
      "metadata": {
        "id": "AsGCT0YumN8P"
      },
      "source": [
        "En Yucatán se comenta que la proporción de fallecimiento por suicidio entre hombres y mujeres es dispar. La gráfica muestra las causas de fallecimiento desde el 2010 hasta el 2018 separado por sexo. Nos permite observar que los casos reportados en hombres es muchísimo mayor que en mujeres."
      ]
    },
    {
      "cell_type": "code",
      "metadata": {
        "id": "ThNiy2yZCgQO",
        "outputId": "1fdb0edb-cd2a-4a83-a6f5-def51a22621c",
        "colab": {
          "base_uri": "https://localhost:8080/",
          "height": 468
        }
      },
      "source": [
        "causas_por_sexo = mental_yuc.groupby(['SEXO', 'CAUSA']).TOTAL.sum().reset_index()\n",
        "causas_por_sexo.columns = causas_por_sexo.columns.str.capitalize()\n",
        "causas_por_sexo['Causa'] = causas_por_sexo['Causa'].str.capitalize()\n",
        "causas_por_sexo['Sexo'] = causas_por_sexo['Sexo'].apply(lambda x: 'Hombre' if x == 'H' else 'Mujer')\n",
        "\n",
        "alt.Chart(causas_por_sexo).mark_bar().encode(\n",
        "    x = alt.X('Causa'),\n",
        "    y = alt.Y('Total', title='Fallecimientos'),\n",
        "    column = alt.Column('Sexo', title=''),\n",
        "    color = alt.Color('Sexo', legend=None)\n",
        ").properties(\n",
        "    width=150,\n",
        "    title='Causas de fallecimiento por suicidio en Yucatán (2010-2018)'\n",
        ")"
      ],
      "execution_count": null,
      "outputs": [
        {
          "output_type": "execute_result",
          "data": {
            "text/plain": [
              "alt.Chart(...)"
            ],
            "text/html": [
              "\n",
              "<div id=\"altair-viz-bbaa4522268148be85d64a74bf5e349e\"></div>\n",
              "<script type=\"text/javascript\">\n",
              "  (function(spec, embedOpt){\n",
              "    let outputDiv = document.currentScript.previousElementSibling;\n",
              "    if (outputDiv.id !== \"altair-viz-bbaa4522268148be85d64a74bf5e349e\") {\n",
              "      outputDiv = document.getElementById(\"altair-viz-bbaa4522268148be85d64a74bf5e349e\");\n",
              "    }\n",
              "    const paths = {\n",
              "      \"vega\": \"https://cdn.jsdelivr.net/npm//vega@5?noext\",\n",
              "      \"vega-lib\": \"https://cdn.jsdelivr.net/npm//vega-lib?noext\",\n",
              "      \"vega-lite\": \"https://cdn.jsdelivr.net/npm//vega-lite@4.8.1?noext\",\n",
              "      \"vega-embed\": \"https://cdn.jsdelivr.net/npm//vega-embed@6?noext\",\n",
              "    };\n",
              "\n",
              "    function loadScript(lib) {\n",
              "      return new Promise(function(resolve, reject) {\n",
              "        var s = document.createElement('script');\n",
              "        s.src = paths[lib];\n",
              "        s.async = true;\n",
              "        s.onload = () => resolve(paths[lib]);\n",
              "        s.onerror = () => reject(`Error loading script: ${paths[lib]}`);\n",
              "        document.getElementsByTagName(\"head\")[0].appendChild(s);\n",
              "      });\n",
              "    }\n",
              "\n",
              "    function showError(err) {\n",
              "      outputDiv.innerHTML = `<div class=\"error\" style=\"color:red;\">${err}</div>`;\n",
              "      throw err;\n",
              "    }\n",
              "\n",
              "    function displayChart(vegaEmbed) {\n",
              "      vegaEmbed(outputDiv, spec, embedOpt)\n",
              "        .catch(err => showError(`Javascript Error: ${err.message}<br>This usually means there's a typo in your chart specification. See the javascript console for the full traceback.`));\n",
              "    }\n",
              "\n",
              "    if(typeof define === \"function\" && define.amd) {\n",
              "      requirejs.config({paths});\n",
              "      require([\"vega-embed\"], displayChart, err => showError(`Error loading script: ${err.message}`));\n",
              "    } else if (typeof vegaEmbed === \"function\") {\n",
              "      displayChart(vegaEmbed);\n",
              "    } else {\n",
              "      loadScript(\"vega\")\n",
              "        .then(() => loadScript(\"vega-lite\"))\n",
              "        .then(() => loadScript(\"vega-embed\"))\n",
              "        .catch(showError)\n",
              "        .then(() => displayChart(vegaEmbed));\n",
              "    }\n",
              "  })({\"config\": {\"view\": {\"continuousWidth\": 400, \"continuousHeight\": 300}}, \"data\": {\"name\": \"data-68bfacecb90447d99cda2374a5b8ca64\"}, \"mark\": \"bar\", \"encoding\": {\"color\": {\"type\": \"nominal\", \"field\": \"Sexo\", \"legend\": null}, \"column\": {\"type\": \"nominal\", \"field\": \"Sexo\", \"title\": \"\"}, \"x\": {\"type\": \"nominal\", \"field\": \"Causa\"}, \"y\": {\"type\": \"quantitative\", \"field\": \"Total\", \"title\": \"Fallecimientos\"}}, \"title\": \"Causas de fallecimiento por suicidio en Yucat\\u00e1n (2010-2018)\", \"width\": 150, \"$schema\": \"https://vega.github.io/schema/vega-lite/v4.8.1.json\", \"datasets\": {\"data-68bfacecb90447d99cda2374a5b8ca64\": [{\"Sexo\": \"Hombre\", \"Causa\": \"Ahorcamiento\", \"Total\": 1278}, {\"Sexo\": \"Hombre\", \"Causa\": \"Disparo\", \"Total\": 38}, {\"Sexo\": \"Hombre\", \"Causa\": \"Envenenamiento\", \"Total\": 126}, {\"Sexo\": \"Hombre\", \"Causa\": \"Otra\", \"Total\": 22}, {\"Sexo\": \"Mujer\", \"Causa\": \"Ahorcamiento\", \"Total\": 247}, {\"Sexo\": \"Mujer\", \"Causa\": \"Disparo\", \"Total\": 3}, {\"Sexo\": \"Mujer\", \"Causa\": \"Envenenamiento\", \"Total\": 58}, {\"Sexo\": \"Mujer\", \"Causa\": \"Otra\", \"Total\": 5}]}}, {\"mode\": \"vega-lite\"});\n",
              "</script>"
            ]
          },
          "metadata": {
            "tags": []
          },
          "execution_count": 86
        }
      ]
    },
    {
      "cell_type": "markdown",
      "metadata": {
        "id": "RkTc9iUGmPaV"
      },
      "source": [
        "Por otra parte, se observa de manera general las causas de fallecimiento por suicidio, es decir, los métodos utilizados. Los datos únicamente reportan tres, agrupando los demás en 'Otra'. \n",
        "\n",
        "Como se había comentado, el estado tiene poca presencia de armas de fuego en comparación al resto del país, por lo que los fallecimientos por esta causa son mucho menores en comparación a los otros dos."
      ]
    },
    {
      "cell_type": "code",
      "metadata": {
        "id": "5gSsGUJQCkid",
        "outputId": "2ff75148-da6a-4312-a74a-6aecf616b89b",
        "colab": {
          "base_uri": "https://localhost:8080/",
          "height": 451
        }
      },
      "source": [
        "alt.Chart(yuc_causas).mark_bar(color='green').encode(\n",
        "    x = alt.X('Causa'),\n",
        "    y = alt.Y('Total', title='Fallecimientos')\n",
        ").properties(\n",
        "    width=200,\n",
        "    title='Causas de fallecimiento por suicidio en Yucatán (2010-2018)'\n",
        ")"
      ],
      "execution_count": null,
      "outputs": [
        {
          "output_type": "execute_result",
          "data": {
            "text/plain": [
              "alt.Chart(...)"
            ],
            "text/html": [
              "\n",
              "<div id=\"altair-viz-8aaef549b97c4c739555237b5ca2d0d6\"></div>\n",
              "<script type=\"text/javascript\">\n",
              "  (function(spec, embedOpt){\n",
              "    let outputDiv = document.currentScript.previousElementSibling;\n",
              "    if (outputDiv.id !== \"altair-viz-8aaef549b97c4c739555237b5ca2d0d6\") {\n",
              "      outputDiv = document.getElementById(\"altair-viz-8aaef549b97c4c739555237b5ca2d0d6\");\n",
              "    }\n",
              "    const paths = {\n",
              "      \"vega\": \"https://cdn.jsdelivr.net/npm//vega@5?noext\",\n",
              "      \"vega-lib\": \"https://cdn.jsdelivr.net/npm//vega-lib?noext\",\n",
              "      \"vega-lite\": \"https://cdn.jsdelivr.net/npm//vega-lite@4.8.1?noext\",\n",
              "      \"vega-embed\": \"https://cdn.jsdelivr.net/npm//vega-embed@6?noext\",\n",
              "    };\n",
              "\n",
              "    function loadScript(lib) {\n",
              "      return new Promise(function(resolve, reject) {\n",
              "        var s = document.createElement('script');\n",
              "        s.src = paths[lib];\n",
              "        s.async = true;\n",
              "        s.onload = () => resolve(paths[lib]);\n",
              "        s.onerror = () => reject(`Error loading script: ${paths[lib]}`);\n",
              "        document.getElementsByTagName(\"head\")[0].appendChild(s);\n",
              "      });\n",
              "    }\n",
              "\n",
              "    function showError(err) {\n",
              "      outputDiv.innerHTML = `<div class=\"error\" style=\"color:red;\">${err}</div>`;\n",
              "      throw err;\n",
              "    }\n",
              "\n",
              "    function displayChart(vegaEmbed) {\n",
              "      vegaEmbed(outputDiv, spec, embedOpt)\n",
              "        .catch(err => showError(`Javascript Error: ${err.message}<br>This usually means there's a typo in your chart specification. See the javascript console for the full traceback.`));\n",
              "    }\n",
              "\n",
              "    if(typeof define === \"function\" && define.amd) {\n",
              "      requirejs.config({paths});\n",
              "      require([\"vega-embed\"], displayChart, err => showError(`Error loading script: ${err.message}`));\n",
              "    } else if (typeof vegaEmbed === \"function\") {\n",
              "      displayChart(vegaEmbed);\n",
              "    } else {\n",
              "      loadScript(\"vega\")\n",
              "        .then(() => loadScript(\"vega-lite\"))\n",
              "        .then(() => loadScript(\"vega-embed\"))\n",
              "        .catch(showError)\n",
              "        .then(() => displayChart(vegaEmbed));\n",
              "    }\n",
              "  })({\"config\": {\"view\": {\"continuousWidth\": 400, \"continuousHeight\": 300}}, \"data\": {\"name\": \"data-61a98a652d8f56a7f528e36745c46598\"}, \"mark\": {\"type\": \"bar\", \"color\": \"green\"}, \"encoding\": {\"x\": {\"type\": \"nominal\", \"field\": \"Causa\"}, \"y\": {\"type\": \"quantitative\", \"field\": \"Total\", \"title\": \"Fallecimientos\"}}, \"title\": \"Causas de fallecimiento por suicidio en Yucat\\u00e1n (2010-2018)\", \"width\": 200, \"$schema\": \"https://vega.github.io/schema/vega-lite/v4.8.1.json\", \"datasets\": {\"data-61a98a652d8f56a7f528e36745c46598\": [{\"Causa\": \"Ahorcamiento\", \"Total\": 1525}, {\"Causa\": \"Disparo\", \"Total\": 41}, {\"Causa\": \"Envenenamiento\", \"Total\": 184}, {\"Causa\": \"Otra\", \"Total\": 27}]}}, {\"mode\": \"vega-lite\"});\n",
              "</script>"
            ]
          },
          "metadata": {
            "tags": []
          },
          "execution_count": 88
        }
      ]
    },
    {
      "cell_type": "markdown",
      "metadata": {
        "id": "K3kKeXHymQfA"
      },
      "source": [
        "Los datos brutos otorgados por la INEGI indican los fallecimientos por suicidio. Filtrados por estado, podemos obtener el número total por año. De 2010 a 2012 hubo un descenso considerable, pero a partir del 2015 este valor comenzó a fluctuar cercano al reportado en 2010, siendo el más alto dentro del periodo analizado."
      ]
    },
    {
      "cell_type": "code",
      "metadata": {
        "id": "Jzn-PXhWColT",
        "outputId": "eac68e21-a884-4ff7-e63d-54eb9e6c31b0",
        "colab": {
          "base_uri": "https://localhost:8080/",
          "height": 393
        }
      },
      "source": [
        "anual_yuc = mental_yuc.groupby(['AÑO']).TOTAL.sum().reset_index()\n",
        "anual_yuc.columns = anual_yuc.columns.str.capitalize()\n",
        "alt.Chart(anual_yuc).mark_line(color='red').encode(\n",
        "    x = alt.X('Año:N'),\n",
        "    y = alt.Y('Total:Q')\n",
        ").properties(\n",
        "    width=250,\n",
        "    title='Suicidios anuales en Yucatán'\n",
        ")"
      ],
      "execution_count": null,
      "outputs": [
        {
          "output_type": "execute_result",
          "data": {
            "text/plain": [
              "alt.Chart(...)"
            ],
            "text/html": [
              "\n",
              "<div id=\"altair-viz-88cd2143f4e44276a6889ea528ed14c5\"></div>\n",
              "<script type=\"text/javascript\">\n",
              "  (function(spec, embedOpt){\n",
              "    let outputDiv = document.currentScript.previousElementSibling;\n",
              "    if (outputDiv.id !== \"altair-viz-88cd2143f4e44276a6889ea528ed14c5\") {\n",
              "      outputDiv = document.getElementById(\"altair-viz-88cd2143f4e44276a6889ea528ed14c5\");\n",
              "    }\n",
              "    const paths = {\n",
              "      \"vega\": \"https://cdn.jsdelivr.net/npm//vega@5?noext\",\n",
              "      \"vega-lib\": \"https://cdn.jsdelivr.net/npm//vega-lib?noext\",\n",
              "      \"vega-lite\": \"https://cdn.jsdelivr.net/npm//vega-lite@4.8.1?noext\",\n",
              "      \"vega-embed\": \"https://cdn.jsdelivr.net/npm//vega-embed@6?noext\",\n",
              "    };\n",
              "\n",
              "    function loadScript(lib) {\n",
              "      return new Promise(function(resolve, reject) {\n",
              "        var s = document.createElement('script');\n",
              "        s.src = paths[lib];\n",
              "        s.async = true;\n",
              "        s.onload = () => resolve(paths[lib]);\n",
              "        s.onerror = () => reject(`Error loading script: ${paths[lib]}`);\n",
              "        document.getElementsByTagName(\"head\")[0].appendChild(s);\n",
              "      });\n",
              "    }\n",
              "\n",
              "    function showError(err) {\n",
              "      outputDiv.innerHTML = `<div class=\"error\" style=\"color:red;\">${err}</div>`;\n",
              "      throw err;\n",
              "    }\n",
              "\n",
              "    function displayChart(vegaEmbed) {\n",
              "      vegaEmbed(outputDiv, spec, embedOpt)\n",
              "        .catch(err => showError(`Javascript Error: ${err.message}<br>This usually means there's a typo in your chart specification. See the javascript console for the full traceback.`));\n",
              "    }\n",
              "\n",
              "    if(typeof define === \"function\" && define.amd) {\n",
              "      requirejs.config({paths});\n",
              "      require([\"vega-embed\"], displayChart, err => showError(`Error loading script: ${err.message}`));\n",
              "    } else if (typeof vegaEmbed === \"function\") {\n",
              "      displayChart(vegaEmbed);\n",
              "    } else {\n",
              "      loadScript(\"vega\")\n",
              "        .then(() => loadScript(\"vega-lite\"))\n",
              "        .then(() => loadScript(\"vega-embed\"))\n",
              "        .catch(showError)\n",
              "        .then(() => displayChart(vegaEmbed));\n",
              "    }\n",
              "  })({\"config\": {\"view\": {\"continuousWidth\": 400, \"continuousHeight\": 300}}, \"data\": {\"name\": \"data-3b5e550b4a51c4649b151c83cf44eb87\"}, \"mark\": {\"type\": \"line\", \"color\": \"red\"}, \"encoding\": {\"x\": {\"type\": \"nominal\", \"field\": \"A\\u00f1o\"}, \"y\": {\"type\": \"quantitative\", \"field\": \"Total\"}}, \"title\": \"Suicidios anuales en Yucat\\u00e1n\", \"width\": 250, \"$schema\": \"https://vega.github.io/schema/vega-lite/v4.8.1.json\", \"datasets\": {\"data-3b5e550b4a51c4649b151c83cf44eb87\": [{\"A\\u00f1o\": 2010, \"Total\": 243}, {\"A\\u00f1o\": 2011, \"Total\": 186}, {\"A\\u00f1o\": 2012, \"Total\": 160}, {\"A\\u00f1o\": 2013, \"Total\": 167}, {\"A\\u00f1o\": 2014, \"Total\": 181}, {\"A\\u00f1o\": 2015, \"Total\": 190}, {\"A\\u00f1o\": 2016, \"Total\": 224}, {\"A\\u00f1o\": 2017, \"Total\": 191}, {\"A\\u00f1o\": 2018, \"Total\": 235}]}}, {\"mode\": \"vega-lite\"});\n",
              "</script>"
            ]
          },
          "metadata": {
            "tags": []
          },
          "execution_count": 89
        }
      ]
    },
    {
      "cell_type": "markdown",
      "metadata": {
        "id": "LtnRjn7_Je4L"
      },
      "source": [
        "Otra manera de ver los casos es a través de un filtro por edad. La mayoría de los casos se registran dentro del rango de 20 a 40 años, tanto en hombres como mujeres. \n",
        "\n",
        "También es importante notar que hay un incremento significativo en personas de la tercera edad, es decir, de 60 años en adelante. "
      ]
    },
    {
      "cell_type": "code",
      "metadata": {
        "id": "eW6VH62mCwEZ",
        "outputId": "8b50dd1f-9770-40dd-be99-5f146f1cda9e",
        "colab": {
          "base_uri": "https://localhost:8080/",
          "height": 401
        }
      },
      "source": [
        "inegi_edad = mortalidad_inegi.groupby(['ENTIDAD', 'AÑO', 'EDAD', 'SEXO']).TOTAL.sum().reset_index()\n",
        "alt.Chart(inegi_edad.query('ENTIDAD == \"YUCATAN\" and AÑO == \"2018\"')).mark_bar().encode(\n",
        "    x = alt.X('EDAD', title='Edad'),\n",
        "    y = alt.Y('TOTAL', title='Total'),\n",
        "    color = alt.Color('SEXO', title='Sexo')\n",
        ").properties(\n",
        "    width=300,\n",
        "    title='Casos de suicidio en 2018 por edad en Yucatán'\n",
        ")"
      ],
      "execution_count": null,
      "outputs": [
        {
          "output_type": "execute_result",
          "data": {
            "text/plain": [
              "alt.Chart(...)"
            ],
            "text/html": [
              "\n",
              "<div id=\"altair-viz-ace5ad81a29a4fa587a2d7e32608a7b2\"></div>\n",
              "<script type=\"text/javascript\">\n",
              "  (function(spec, embedOpt){\n",
              "    let outputDiv = document.currentScript.previousElementSibling;\n",
              "    if (outputDiv.id !== \"altair-viz-ace5ad81a29a4fa587a2d7e32608a7b2\") {\n",
              "      outputDiv = document.getElementById(\"altair-viz-ace5ad81a29a4fa587a2d7e32608a7b2\");\n",
              "    }\n",
              "    const paths = {\n",
              "      \"vega\": \"https://cdn.jsdelivr.net/npm//vega@5?noext\",\n",
              "      \"vega-lib\": \"https://cdn.jsdelivr.net/npm//vega-lib?noext\",\n",
              "      \"vega-lite\": \"https://cdn.jsdelivr.net/npm//vega-lite@4.8.1?noext\",\n",
              "      \"vega-embed\": \"https://cdn.jsdelivr.net/npm//vega-embed@6?noext\",\n",
              "    };\n",
              "\n",
              "    function loadScript(lib) {\n",
              "      return new Promise(function(resolve, reject) {\n",
              "        var s = document.createElement('script');\n",
              "        s.src = paths[lib];\n",
              "        s.async = true;\n",
              "        s.onload = () => resolve(paths[lib]);\n",
              "        s.onerror = () => reject(`Error loading script: ${paths[lib]}`);\n",
              "        document.getElementsByTagName(\"head\")[0].appendChild(s);\n",
              "      });\n",
              "    }\n",
              "\n",
              "    function showError(err) {\n",
              "      outputDiv.innerHTML = `<div class=\"error\" style=\"color:red;\">${err}</div>`;\n",
              "      throw err;\n",
              "    }\n",
              "\n",
              "    function displayChart(vegaEmbed) {\n",
              "      vegaEmbed(outputDiv, spec, embedOpt)\n",
              "        .catch(err => showError(`Javascript Error: ${err.message}<br>This usually means there's a typo in your chart specification. See the javascript console for the full traceback.`));\n",
              "    }\n",
              "\n",
              "    if(typeof define === \"function\" && define.amd) {\n",
              "      requirejs.config({paths});\n",
              "      require([\"vega-embed\"], displayChart, err => showError(`Error loading script: ${err.message}`));\n",
              "    } else if (typeof vegaEmbed === \"function\") {\n",
              "      displayChart(vegaEmbed);\n",
              "    } else {\n",
              "      loadScript(\"vega\")\n",
              "        .then(() => loadScript(\"vega-lite\"))\n",
              "        .then(() => loadScript(\"vega-embed\"))\n",
              "        .catch(showError)\n",
              "        .then(() => displayChart(vegaEmbed));\n",
              "    }\n",
              "  })({\"config\": {\"view\": {\"continuousWidth\": 400, \"continuousHeight\": 300}}, \"data\": {\"name\": \"data-98a2550ca131e7fb05b16455d3833293\"}, \"mark\": \"bar\", \"encoding\": {\"color\": {\"type\": \"nominal\", \"field\": \"SEXO\", \"title\": \"Sexo\"}, \"x\": {\"type\": \"nominal\", \"field\": \"EDAD\", \"title\": \"Edad\"}, \"y\": {\"type\": \"quantitative\", \"field\": \"TOTAL\", \"title\": \"Total\"}}, \"title\": \"Casos de suicidio en 2018 por edad en Yucat\\u00e1n\", \"width\": 300, \"$schema\": \"https://vega.github.io/schema/vega-lite/v4.8.1.json\", \"datasets\": {\"data-98a2550ca131e7fb05b16455d3833293\": [{\"ENTIDAD\": \"YUCATAN\", \"A\\u00d1O\": 2018, \"EDAD\": \"10-14\", \"SEXO\": \"H\", \"TOTAL\": 2}, {\"ENTIDAD\": \"YUCATAN\", \"A\\u00d1O\": 2018, \"EDAD\": \"10-14\", \"SEXO\": \"M\", \"TOTAL\": 1}, {\"ENTIDAD\": \"YUCATAN\", \"A\\u00d1O\": 2018, \"EDAD\": \"15-19\", \"SEXO\": \"H\", \"TOTAL\": 14}, {\"ENTIDAD\": \"YUCATAN\", \"A\\u00d1O\": 2018, \"EDAD\": \"15-19\", \"SEXO\": \"M\", \"TOTAL\": 3}, {\"ENTIDAD\": \"YUCATAN\", \"A\\u00d1O\": 2018, \"EDAD\": \"20-24\", \"SEXO\": \"H\", \"TOTAL\": 27}, {\"ENTIDAD\": \"YUCATAN\", \"A\\u00d1O\": 2018, \"EDAD\": \"20-24\", \"SEXO\": \"M\", \"TOTAL\": 5}, {\"ENTIDAD\": \"YUCATAN\", \"A\\u00d1O\": 2018, \"EDAD\": \"25-29\", \"SEXO\": \"H\", \"TOTAL\": 20}, {\"ENTIDAD\": \"YUCATAN\", \"A\\u00d1O\": 2018, \"EDAD\": \"25-29\", \"SEXO\": \"M\", \"TOTAL\": 6}, {\"ENTIDAD\": \"YUCATAN\", \"A\\u00d1O\": 2018, \"EDAD\": \"30-34\", \"SEXO\": \"H\", \"TOTAL\": 29}, {\"ENTIDAD\": \"YUCATAN\", \"A\\u00d1O\": 2018, \"EDAD\": \"30-34\", \"SEXO\": \"M\", \"TOTAL\": 6}, {\"ENTIDAD\": \"YUCATAN\", \"A\\u00d1O\": 2018, \"EDAD\": \"35-39\", \"SEXO\": \"H\", \"TOTAL\": 18}, {\"ENTIDAD\": \"YUCATAN\", \"A\\u00d1O\": 2018, \"EDAD\": \"35-39\", \"SEXO\": \"M\", \"TOTAL\": 8}, {\"ENTIDAD\": \"YUCATAN\", \"A\\u00d1O\": 2018, \"EDAD\": \"40-44\", \"SEXO\": \"H\", \"TOTAL\": 16}, {\"ENTIDAD\": \"YUCATAN\", \"A\\u00d1O\": 2018, \"EDAD\": \"40-44\", \"SEXO\": \"M\", \"TOTAL\": 4}, {\"ENTIDAD\": \"YUCATAN\", \"A\\u00d1O\": 2018, \"EDAD\": \"45-49\", \"SEXO\": \"H\", \"TOTAL\": 18}, {\"ENTIDAD\": \"YUCATAN\", \"A\\u00d1O\": 2018, \"EDAD\": \"45-49\", \"SEXO\": \"M\", \"TOTAL\": 1}, {\"ENTIDAD\": \"YUCATAN\", \"A\\u00d1O\": 2018, \"EDAD\": \"50-54\", \"SEXO\": \"H\", \"TOTAL\": 10}, {\"ENTIDAD\": \"YUCATAN\", \"A\\u00d1O\": 2018, \"EDAD\": \"50-54\", \"SEXO\": \"M\", \"TOTAL\": 1}, {\"ENTIDAD\": \"YUCATAN\", \"A\\u00d1O\": 2018, \"EDAD\": \"55-59\", \"SEXO\": \"H\", \"TOTAL\": 7}, {\"ENTIDAD\": \"YUCATAN\", \"A\\u00d1O\": 2018, \"EDAD\": \"55-59\", \"SEXO\": \"M\", \"TOTAL\": 2}, {\"ENTIDAD\": \"YUCATAN\", \"A\\u00d1O\": 2018, \"EDAD\": \"60-\", \"SEXO\": \"H\", \"TOTAL\": 33}, {\"ENTIDAD\": \"YUCATAN\", \"A\\u00d1O\": 2018, \"EDAD\": \"60-\", \"SEXO\": \"M\", \"TOTAL\": 3}, {\"ENTIDAD\": \"YUCATAN\", \"A\\u00d1O\": 2018, \"EDAD\": \"N_E\", \"SEXO\": \"H\", \"TOTAL\": 1}, {\"ENTIDAD\": \"YUCATAN\", \"A\\u00d1O\": 2018, \"EDAD\": \"N_E\", \"SEXO\": \"M\", \"TOTAL\": 0}]}}, {\"mode\": \"vega-lite\"});\n",
              "</script>"
            ]
          },
          "metadata": {
            "tags": []
          },
          "execution_count": 91
        }
      ]
    },
    {
      "cell_type": "markdown",
      "metadata": {
        "id": "0nvXYIDSmRRq"
      },
      "source": [
        "El total de personas beneficiadas por el Seguro Popular con alguna discapacidad mental (como es categorizado muchas de las enfermedades o transtornos mentales en esta serie de datos) se mantuvo relativamente estable, a pesar de que más personas se afiliaron a este programa.\n",
        "\n",
        "A manera de comparación se muestra las personas beneficiadas con alguna discapacidad física."
      ]
    },
    {
      "cell_type": "code",
      "metadata": {
        "id": "U7bB5poKCth7",
        "outputId": "b052f486-3715-4b40-a512-57e62ce520f5",
        "colab": {
          "base_uri": "https://localhost:8080/",
          "height": 393
        }
      },
      "source": [
        "ss_dis_yuc = ss_dis.query('ESTADO == \"YUCATAN\"').reset_index().drop(columns='index')\n",
        "ss_dis_yuc.columns = ss_dis_yuc.columns.str.capitalize()\n",
        "\n",
        "sdy_fisica = alt.Chart(ss_dis_yuc).mark_line(color='red').encode(\n",
        "    x = alt.X('Año:N'),\n",
        "    y = alt.Y('Fisica:Q', title='Beneficiarios'),\n",
        ")\n",
        "\n",
        "\n",
        "fisica_txt = alt.Chart({'values':[{'Año': 2018, 'Fisica': 6000}]}).mark_text(text='Fisica', angle=0).encode(\n",
        "    x = alt.X('Año:N'),\n",
        "    y = alt.Y('Fisica:Q')\n",
        ")\n",
        "\n",
        "sdy_mental = alt.Chart(ss_dis_yuc).mark_line(color='green').encode(\n",
        "    x = alt.X('Año:N'),\n",
        "    y = alt.Y('Mental'),\n",
        ")\n",
        "\n",
        "mental_txt = alt.Chart({'values':[{'Año': 2018, 'Mental': 4150}]}).mark_text(text='Mental', angle=0).encode(\n",
        "    x = alt.X('Año:N'),\n",
        "    y = alt.Y('Mental:Q')\n",
        ")\n",
        "\n",
        "bn_ss_yuc = sdy_fisica + fisica_txt + sdy_mental + mental_txt\n",
        "bn_ss_yuc.properties(\n",
        "    width=300,\n",
        "    title='Beneficiarios de Seguro Social con discapacidad en Yucatán'\n",
        ")"
      ],
      "execution_count": null,
      "outputs": [
        {
          "output_type": "execute_result",
          "data": {
            "text/plain": [
              "alt.LayerChart(...)"
            ],
            "text/html": [
              "\n",
              "<div id=\"altair-viz-9269014bb86f4a7f94802a76fa3bbda5\"></div>\n",
              "<script type=\"text/javascript\">\n",
              "  (function(spec, embedOpt){\n",
              "    let outputDiv = document.currentScript.previousElementSibling;\n",
              "    if (outputDiv.id !== \"altair-viz-9269014bb86f4a7f94802a76fa3bbda5\") {\n",
              "      outputDiv = document.getElementById(\"altair-viz-9269014bb86f4a7f94802a76fa3bbda5\");\n",
              "    }\n",
              "    const paths = {\n",
              "      \"vega\": \"https://cdn.jsdelivr.net/npm//vega@5?noext\",\n",
              "      \"vega-lib\": \"https://cdn.jsdelivr.net/npm//vega-lib?noext\",\n",
              "      \"vega-lite\": \"https://cdn.jsdelivr.net/npm//vega-lite@4.8.1?noext\",\n",
              "      \"vega-embed\": \"https://cdn.jsdelivr.net/npm//vega-embed@6?noext\",\n",
              "    };\n",
              "\n",
              "    function loadScript(lib) {\n",
              "      return new Promise(function(resolve, reject) {\n",
              "        var s = document.createElement('script');\n",
              "        s.src = paths[lib];\n",
              "        s.async = true;\n",
              "        s.onload = () => resolve(paths[lib]);\n",
              "        s.onerror = () => reject(`Error loading script: ${paths[lib]}`);\n",
              "        document.getElementsByTagName(\"head\")[0].appendChild(s);\n",
              "      });\n",
              "    }\n",
              "\n",
              "    function showError(err) {\n",
              "      outputDiv.innerHTML = `<div class=\"error\" style=\"color:red;\">${err}</div>`;\n",
              "      throw err;\n",
              "    }\n",
              "\n",
              "    function displayChart(vegaEmbed) {\n",
              "      vegaEmbed(outputDiv, spec, embedOpt)\n",
              "        .catch(err => showError(`Javascript Error: ${err.message}<br>This usually means there's a typo in your chart specification. See the javascript console for the full traceback.`));\n",
              "    }\n",
              "\n",
              "    if(typeof define === \"function\" && define.amd) {\n",
              "      requirejs.config({paths});\n",
              "      require([\"vega-embed\"], displayChart, err => showError(`Error loading script: ${err.message}`));\n",
              "    } else if (typeof vegaEmbed === \"function\") {\n",
              "      displayChart(vegaEmbed);\n",
              "    } else {\n",
              "      loadScript(\"vega\")\n",
              "        .then(() => loadScript(\"vega-lite\"))\n",
              "        .then(() => loadScript(\"vega-embed\"))\n",
              "        .catch(showError)\n",
              "        .then(() => displayChart(vegaEmbed));\n",
              "    }\n",
              "  })({\"config\": {\"view\": {\"continuousWidth\": 400, \"continuousHeight\": 300}}, \"layer\": [{\"data\": {\"name\": \"data-d98503fdec9761b9383b3a6c7b5c3c26\"}, \"mark\": {\"type\": \"line\", \"color\": \"red\"}, \"encoding\": {\"x\": {\"type\": \"nominal\", \"field\": \"A\\u00f1o\"}, \"y\": {\"type\": \"quantitative\", \"field\": \"Fisica\", \"title\": \"Beneficiarios\"}}}, {\"data\": {\"name\": \"data-5442fa51a5527c36f16ceb0599734eb2\"}, \"mark\": {\"type\": \"text\", \"angle\": 0, \"text\": \"Fisica\"}, \"encoding\": {\"x\": {\"type\": \"nominal\", \"field\": \"A\\u00f1o\"}, \"y\": {\"type\": \"quantitative\", \"field\": \"Fisica\"}}}, {\"data\": {\"name\": \"data-d98503fdec9761b9383b3a6c7b5c3c26\"}, \"mark\": {\"type\": \"line\", \"color\": \"green\"}, \"encoding\": {\"x\": {\"type\": \"nominal\", \"field\": \"A\\u00f1o\"}, \"y\": {\"type\": \"quantitative\", \"field\": \"Mental\"}}}, {\"data\": {\"name\": \"data-f0fdcbccee1a56afc30af6a030f2059a\"}, \"mark\": {\"type\": \"text\", \"angle\": 0, \"text\": \"Mental\"}, \"encoding\": {\"x\": {\"type\": \"nominal\", \"field\": \"A\\u00f1o\"}, \"y\": {\"type\": \"quantitative\", \"field\": \"Mental\"}}}], \"title\": \"Beneficiarios de Seguro Social con discapacidad en Yucat\\u00e1n\", \"width\": 300, \"$schema\": \"https://vega.github.io/schema/vega-lite/v4.8.1.json\", \"datasets\": {\"data-d98503fdec9761b9383b3a6c7b5c3c26\": [{\"A\\u00f1o\": 2013, \"Estado\": \"YUCATAN\", \"Fisica\": 6277, \"Mental\": 3500, \"Ambas\": 1558}, {\"A\\u00f1o\": 2014, \"Estado\": \"YUCATAN\", \"Fisica\": 6107, \"Mental\": 3608, \"Ambas\": 1583}, {\"A\\u00f1o\": 2015, \"Estado\": \"YUCATAN\", \"Fisica\": 6102, \"Mental\": 3615, \"Ambas\": 1585}, {\"A\\u00f1o\": 2016, \"Estado\": \"YUCATAN\", \"Fisica\": 6097, \"Mental\": 3604, \"Ambas\": 1510}, {\"A\\u00f1o\": 2017, \"Estado\": \"YUCATAN\", \"Fisica\": 5747, \"Mental\": 3661, \"Ambas\": 1457}, {\"A\\u00f1o\": 2018, \"Estado\": \"YUCATAN\", \"Fisica\": 5741, \"Mental\": 3830, \"Ambas\": 1465}], \"data-5442fa51a5527c36f16ceb0599734eb2\": [{\"A\\u00f1o\": 2018, \"Fisica\": 6000}], \"data-f0fdcbccee1a56afc30af6a030f2059a\": [{\"A\\u00f1o\": 2018, \"Mental\": 4150}]}}, {\"mode\": \"vega-lite\"});\n",
              "</script>"
            ]
          },
          "metadata": {
            "tags": []
          },
          "execution_count": 23
        }
      ]
    },
    {
      "cell_type": "markdown",
      "metadata": {
        "id": "zQ7UW2DpC0J5"
      },
      "source": [
        "## Conclusiones"
      ]
    },
    {
      "cell_type": "markdown",
      "metadata": {
        "id": "M8cZsvyYC3KP"
      },
      "source": [
        "Tratar un tema tan sensible como lo es el suicidio siempre es difícil. Muchas son las causas que orillan a las personas a tomar esta decisión; en ocasiones se atribuye el alto índice de alcoholismo en el estado, mientras que otra veces se atribuye al estigma relacionado con la salud mental que envuelve a Yucatán, un estado predominantemente conservador. \n",
        "\n",
        "Otro punto que siempre se toca es el alto número de suicidios cometidos por hombres, sin importar la edad. Muchos hombres en el estado son educados con la idea de no expresar sus sentimientos, por lo que estas cargas emocionales pueden resultar en un detonante. Esta proporción se pudo observar en una de las gráficas en la sección *Visualización de datos*.\n",
        "\n",
        "Como ciudadano del estado, pude observar con mayor detalle, y con datos como base, varios de los problemas con los que cuenta el estado en relación a la salud mental. El Psiquiátrico de Mérida, por ejemplo, cuenta únicamente con un psiquiatra en todo momento, evidentemente resultando poco para la cantidad de trabajo por realizar en la clínica. \n",
        "\n",
        "En general, espero que este proyecto sirva como una visión general de los problemas latentes en Yucatán en materia de salud mental. Aún hay mucho por delante.\n",
        "\n",
        "\n",
        "---\n",
        "\n",
        "**Línea de la Vida:** 800 911 2000 *(Atención especializada sobre consumo de sustancias, riesgo suicida y violencia)*\n",
        "\n",
        "**Sistema Nacional de Apoyo, Consejo Psicológico e Intervención en Crisis por Teléfono:** (55) 5259-8121\n",
        "\n",
        "**Atención Psicológica a distancia de la UNAM:** (55) 5025-0855 *(lunes a viernes de 8 de la mañana a 6 de la tarde)*"
      ]
    },
    {
      "cell_type": "markdown",
      "metadata": {
        "id": "3hHitg_5C8L5"
      },
      "source": [
        "## Referencias"
      ]
    },
    {
      "cell_type": "markdown",
      "metadata": {
        "id": "T3UxxfYxkGGc"
      },
      "source": [
        "- [INEGI](https://www.inegi.org.mx/datos/)\n",
        "- [Datos abiertos de México](https://datos.gob.mx/)\n",
        "- [Indicadores del Protocolo de San Salvador](https://datos.gob.mx/busca/dataset/a43d783d-0b0c-4df5-81f3-699f8e07fb10)"
      ]
    }
  ]
}