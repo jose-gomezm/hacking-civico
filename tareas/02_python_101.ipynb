{
  "nbformat": 4,
  "nbformat_minor": 0,
  "metadata": {
    "colab": {
      "name": "02-python-101.ipynb",
      "provenance": [],
      "collapsed_sections": [],
      "authorship_tag": "ABX9TyNAm7G6Q4BptI8VhwqjjlPa",
      "include_colab_link": true
    },
    "kernelspec": {
      "name": "python3",
      "display_name": "Python 3"
    }
  },
  "cells": [
    {
      "cell_type": "markdown",
      "metadata": {
        "id": "view-in-github",
        "colab_type": "text"
      },
      "source": [
        "<a href=\"https://colab.research.google.com/github/jose-gomezm/hacking-civico/blob/master/tareas/02_python_101.ipynb\" target=\"_parent\"><img src=\"https://colab.research.google.com/assets/colab-badge.svg\" alt=\"Open In Colab\"/></a>"
      ]
    },
    {
      "cell_type": "markdown",
      "metadata": {
        "id": "MVRCNb9fl71t",
        "colab_type": "text"
      },
      "source": [
        "# Tarea 2"
      ]
    },
    {
      "cell_type": "markdown",
      "metadata": {
        "id": "c0Pgj160mGX3",
        "colab_type": "text"
      },
      "source": [
        "## Densidad poblacional\n",
        "\n",
        "De acuerdo con la información otorgada por la [INEGI](http://cuentame.inegi.org.mx/monografias/informacion/yuc/poblacion/default.aspx?tema), cuya última actualización fue en 2015, la población para mi ciudad, estado y país son:\n",
        "\n",
        "*   **Umán:** 55 261 habitantes\n",
        "*   **Yucatán:** 2 097 175 habitantes\n",
        "*   **México:** 119 530 753 habitantes\n",
        "\n",
        "Por otra parte, las superficies de cada uno de ellos son:\n",
        "\n",
        "* **Umán:** 349.56 km<sup>2</sup>\n",
        "* **Yucatán:** 39 540.5 km<sup>2</sup>\n",
        "* **México:** 1 959 248 km<sup>2</sup>\n",
        "\n",
        "Para encontrar la densidad de población aplicamos la fórmula:\n",
        "\n",
        "<a href=\"https://www.codecogs.com/eqnedit.php?latex=\\dpi{120}&space;Densidad&space;=&space;\\frac{Poblacion}{Superficie}\" target=\"_blank\"><img src=\"https://latex.codecogs.com/png.latex?\\dpi{120}&space;Densidad&space;=&space;\\frac{Poblacion}{Superficie}\" title=\"Densidad = \\frac{Poblacion}{Superficie}\" /></a>\n",
        "\n"
      ]
    },
    {
      "cell_type": "code",
      "metadata": {
        "id": "BfeejxC0oOgn",
        "colab_type": "code",
        "colab": {}
      },
      "source": [
        "def densidad(poblacion, superficie):\n",
        "  return poblacion / superficie"
      ],
      "execution_count": null,
      "outputs": []
    },
    {
      "cell_type": "markdown",
      "metadata": {
        "id": "HD4YJjxi17Sl",
        "colab_type": "text"
      },
      "source": [
        "Entonces para calcular la densidad de México, Yucatán, y Umán, definimos las variables con los valores de población y superficie para cada uno de ellos. Luego, usamos la función densidad"
      ]
    },
    {
      "cell_type": "code",
      "metadata": {
        "id": "SeJ4nKKX2SPK",
        "colab_type": "code",
        "colab": {
          "base_uri": "https://localhost:8080/",
          "height": 67
        },
        "outputId": "0e987c89-b800-4c23-a026-1856e94e6b3a"
      },
      "source": [
        "pob_mexico = 119530753\n",
        "sup_mexico = 1959248\n",
        "pob_yucatan = 2097175\n",
        "sup_yucatan = 39540.5\n",
        "pob_uman = 55261\n",
        "sup_uman = 349.56\n",
        "\n",
        "den_mexico = densidad(pob_mexico, sup_mexico)\n",
        "den_yucatan = densidad(pob_yucatan, sup_yucatan)\n",
        "den_uman = densidad(pob_uman, sup_uman)\n",
        "\n",
        "str_den = \"Mexico: {:.4} hab/km2\\nYucatan: {:.4} hab/km2\\nUman: {:.5} hab/km2\"\n",
        "\n",
        "print(str_den.format(den_mexico, den_yucatan, den_uman))"
      ],
      "execution_count": null,
      "outputs": [
        {
          "output_type": "stream",
          "text": [
            "Mexico: 61.01 hab/km2\n",
            "Yucatan: 53.04 hab/km2\n",
            "Uman: 158.09 hab/km2\n"
          ],
          "name": "stdout"
        }
      ]
    },
    {
      "cell_type": "markdown",
      "metadata": {
        "id": "iFlg1etd3tRG",
        "colab_type": "text"
      },
      "source": [
        "**¿Cuál es la densidad poblacional?**\n",
        "\n",
        "* México: 61.01 hab/km<sup>2</sup>\n",
        "* Yucatán: 53.04 hab/km<sup>2</sup>\n",
        "* Umán: 158.09 hab/km<sup>2</sup>\n",
        "\n",
        "**¿Qué pasa comparar varios estados o ciudades?**\n",
        "\n",
        "Podemos observar la diferencia entre medir una ciudad, un estado y un país. La densidad poblacional del estado de Yucatán y el país no difiere mucho en comparación a la de Umán. Probablemente la densidad poblacional de Mérida, la capital del estado, sea todavía mayor. Es de esperarse que la capital del estado presente una alta densidad, y que en comparación el estado sea menor. Gran parte de Yucatán es rural, con municipios pequeños y de pocos habitantes, lo que hace bajar la densidad en general como estado."
      ]
    },
    {
      "cell_type": "markdown",
      "metadata": {
        "id": "raEM2fNa6fKp",
        "colab_type": "text"
      },
      "source": [
        "# Gasto público"
      ]
    },
    {
      "cell_type": "markdown",
      "metadata": {
        "id": "sZlQwLkG85ot",
        "colab_type": "text"
      },
      "source": [
        "De acuerdo con el sitio [Transparencia Presupuestaria](https://www.transparenciapresupuestaria.gob.mx/), a nivel federal en 2019 se destinó un total de 746,742.8 millones de pesos en el sector educativo, mientras que para 2018 se destinó 737,720.1 millones de pesos.\n",
        "\n",
        "Para encontrar el gasto per cápita es necesario dividir el total de gasto entre el número de habitantes. Para el número de habitantes se utiliza el valor estimado, debido a que el valor de población es contado cada 5 años por la INEGI."
      ]
    },
    {
      "cell_type": "code",
      "metadata": {
        "id": "FAnLZdIv-K9L",
        "colab_type": "code",
        "colab": {}
      },
      "source": [
        "def per_capita(gasto, poblacion):\n",
        "  return gasto / poblacion"
      ],
      "execution_count": 2,
      "outputs": []
    },
    {
      "cell_type": "code",
      "metadata": {
        "id": "LRY_IR2f-yvb",
        "colab_type": "code",
        "colab": {
          "base_uri": "https://localhost:8080/",
          "height": 50
        },
        "outputId": "3e9730a4-6185-4179-9804-16b23a83cc79"
      },
      "source": [
        "ed_2018 = 737720100000\n",
        "ed_2019 = 746742800000\n",
        "pob_2018 = 124700000\n",
        "pob_2019 = \t125930000\n",
        "\n",
        "ed_pc_18 = per_capita(ed_2018, pob_2018)\n",
        "ed_pc_19 = per_capita(ed_2019, pob_2019)\n",
        "\n",
        "print(\"2018: {:.6}\\n2019: {:.6}\".format(ed_pc_18, ed_pc_19))"
      ],
      "execution_count": 3,
      "outputs": [
        {
          "output_type": "stream",
          "text": [
            "2018: 5915.96\n",
            "2019: 5929.82\n"
          ],
          "name": "stdout"
        }
      ]
    },
    {
      "cell_type": "markdown",
      "metadata": {
        "id": "nWFn-b2DAVeB",
        "colab_type": "text"
      },
      "source": [
        "Para calcular el porcentaje, definimos la siguiente función:"
      ]
    },
    {
      "cell_type": "code",
      "metadata": {
        "id": "yPNWd1cEBms7",
        "colab_type": "code",
        "colab": {}
      },
      "source": [
        "def porcentaje(a, b):\n",
        "  return (b - a) / b * 100"
      ],
      "execution_count": 4,
      "outputs": []
    },
    {
      "cell_type": "code",
      "metadata": {
        "id": "VOb774gkB64g",
        "colab_type": "code",
        "colab": {
          "base_uri": "https://localhost:8080/",
          "height": 34
        },
        "outputId": "9b9b7322-3e6c-4466-cd86-ccc0a6bb0d8a"
      },
      "source": [
        "cambio = porcentaje(ed_pc_18, ed_pc_19)\n",
        "\n",
        "print(\"Hubo un aumento del {:.2}%\".format(cambio))"
      ],
      "execution_count": 6,
      "outputs": [
        {
          "output_type": "stream",
          "text": [
            "Hubo un aumento del 0.23%\n"
          ],
          "name": "stdout"
        }
      ]
    },
    {
      "cell_type": "markdown",
      "metadata": {
        "id": "mCPqHseMCI6j",
        "colab_type": "text"
      },
      "source": [
        "**¿En qué porcentaje aumentó o disminuyó?**\n",
        "\n",
        "Aumentó un 0.23%\n",
        "\n",
        "**¿A qué crees que se deba?**\n",
        "\n",
        "El porcentaje de aumento fue mínimo. El Gobierno federal ya había anunciado recortes presupuestarios al sector educativo, por lo que este valor puede ser el reflejo de ello. "
      ]
    },
    {
      "cell_type": "markdown",
      "metadata": {
        "id": "ioaJOJlsCwWl",
        "colab_type": "text"
      },
      "source": [
        "# Preguntas finales"
      ]
    },
    {
      "cell_type": "markdown",
      "metadata": {
        "id": "SoY9JnF3C0mk",
        "colab_type": "text"
      },
      "source": [
        "**¿Para qué crees que nos pueda ser útil esta información?**\n",
        "\n",
        "Como ciudadanos es importante conocer hacia dónde es dirigido el dinero destinado al gasto público. Esto permite desde verificar que las promesas de campaña sean cumplidas, hasta conocer las prioridades del gobierno en turno. \n",
        "\n",
        "**¿Qué decisiones podría tomar el gobierno basado en ésta?**\n",
        "\n",
        "Debido a la condición actual que estamos pasando, el gobierno podría usar la información del gasto para contener los efectos que la contingencia podría tener en la economía."
      ]
    }
  ]
}